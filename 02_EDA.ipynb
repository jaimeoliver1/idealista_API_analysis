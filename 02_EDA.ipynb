{
 "cells": [
  {
   "cell_type": "code",
   "execution_count": 1,
   "metadata": {},
   "outputs": [
    {
     "output_type": "display_data",
     "data": {
      "text/html": "        <script type=\"text/javascript\">\n        window.PlotlyConfig = {MathJaxConfig: 'local'};\n        if (window.MathJax) {MathJax.Hub.Config({SVG: {font: \"STIX-Web\"}});}\n        if (typeof require !== 'undefined') {\n        require.undef(\"plotly\");\n        requirejs.config({\n            paths: {\n                'plotly': ['https://cdn.plot.ly/plotly-latest.min']\n            }\n        });\n        require(['plotly'], function(Plotly) {\n            window._Plotly = Plotly;\n        });\n        }\n        </script>\n        "
     },
     "metadata": {}
    },
    {
     "output_type": "display_data",
     "data": {
      "text/html": "        <script type=\"text/javascript\">\n        window.PlotlyConfig = {MathJaxConfig: 'local'};\n        if (window.MathJax) {MathJax.Hub.Config({SVG: {font: \"STIX-Web\"}});}\n        if (typeof require !== 'undefined') {\n        require.undef(\"plotly\");\n        requirejs.config({\n            paths: {\n                'plotly': ['https://cdn.plot.ly/plotly-latest.min']\n            }\n        });\n        require(['plotly'], function(Plotly) {\n            window._Plotly = Plotly;\n        });\n        }\n        </script>\n        "
     },
     "metadata": {}
    }
   ],
   "source": [
    "import pandas as pd \n",
    "import numpy as np\n",
    "import seaborn as sns \n",
    "import matplotlib.pyplot as plt\n",
    "import ast\n",
    "\n",
    "import cufflinks as cf\n",
    "\n",
    "from plotly.offline import iplot, init_notebook_mode, plot, download_plotlyjs\n",
    "\n",
    "init_notebook_mode(connected=True)\n",
    "\n",
    "cf.go_offline()"
   ]
  },
  {
   "cell_type": "code",
   "execution_count": 2,
   "metadata": {},
   "outputs": [
    {
     "output_type": "execute_result",
     "data": {
      "text/plain": [
       "                              count unique                   top freq  \\\n",
       "bathrooms                       929    NaN                   NaN  NaN   \n",
       "district                        929      8                Centro  266   \n",
       "exterior                        929      2                  True  472   \n",
       "floor                           890     14                    bj  194   \n",
       "has360                          929      2                 False  817   \n",
       "has3DTour                       929      2                 False  858   \n",
       "hasLift                         922      2                  True  621   \n",
       "hasPlan                         929      2                  True  568   \n",
       "hasStaging                      929      2                 False  928   \n",
       "hasVideo                        929      2                 False  680   \n",
       "neighborhood                    929     33  Malasaña-Universidad  106   \n",
       "newDevelopment                  929      2                 False  891   \n",
       "newDevelopmentFinished           38      2                 False   31   \n",
       "numPhotos                       929    NaN                   NaN  NaN   \n",
       "price                           929    NaN                   NaN  NaN   \n",
       "priceByArea                     929    NaN                   NaN  NaN   \n",
       "propertyType                    929      4                  flat  791   \n",
       "rooms                           929    NaN                   NaN  NaN   \n",
       "showAddress                     929      2                 False  708   \n",
       "size                            929    NaN                   NaN  NaN   \n",
       "status                          899      3                  good  675   \n",
       "topNewDevelopment               929      1                 False  929   \n",
       "hasParkingSpace                 929      2                 False  877   \n",
       "isParkingSpaceIncludedInPrice   929      2                 False  892   \n",
       "\n",
       "                                  mean       std     min     25%     50%  \\\n",
       "bathrooms                      1.08288  0.283562       1       1       1   \n",
       "district                           NaN       NaN     NaN     NaN     NaN   \n",
       "exterior                           NaN       NaN     NaN     NaN     NaN   \n",
       "floor                              NaN       NaN     NaN     NaN     NaN   \n",
       "has360                             NaN       NaN     NaN     NaN     NaN   \n",
       "has3DTour                          NaN       NaN     NaN     NaN     NaN   \n",
       "hasLift                            NaN       NaN     NaN     NaN     NaN   \n",
       "hasPlan                            NaN       NaN     NaN     NaN     NaN   \n",
       "hasStaging                         NaN       NaN     NaN     NaN     NaN   \n",
       "hasVideo                           NaN       NaN     NaN     NaN     NaN   \n",
       "neighborhood                       NaN       NaN     NaN     NaN     NaN   \n",
       "newDevelopment                     NaN       NaN     NaN     NaN     NaN   \n",
       "newDevelopmentFinished             NaN       NaN     NaN     NaN     NaN   \n",
       "numPhotos                      24.0355   10.7713       0      17      23   \n",
       "price                           254550   62640.8  104000  199800  260000   \n",
       "priceByArea                    4773.38   1292.14    1312    3836    4672   \n",
       "propertyType                       NaN       NaN     NaN     NaN     NaN   \n",
       "rooms                          1.51991  0.886854       0       1       1   \n",
       "showAddress                        NaN       NaN     NaN     NaN     NaN   \n",
       "size                           56.8751   20.4134      17      42      54   \n",
       "status                             NaN       NaN     NaN     NaN     NaN   \n",
       "topNewDevelopment                  NaN       NaN     NaN     NaN     NaN   \n",
       "hasParkingSpace                    NaN       NaN     NaN     NaN     NaN   \n",
       "isParkingSpaceIncludedInPrice      NaN       NaN     NaN     NaN     NaN   \n",
       "\n",
       "                                  75%     max  \n",
       "bathrooms                           1       3  \n",
       "district                          NaN     NaN  \n",
       "exterior                          NaN     NaN  \n",
       "floor                             NaN     NaN  \n",
       "has360                            NaN     NaN  \n",
       "has3DTour                         NaN     NaN  \n",
       "hasLift                           NaN     NaN  \n",
       "hasPlan                           NaN     NaN  \n",
       "hasStaging                        NaN     NaN  \n",
       "hasVideo                          NaN     NaN  \n",
       "neighborhood                      NaN     NaN  \n",
       "newDevelopment                    NaN     NaN  \n",
       "newDevelopmentFinished            NaN     NaN  \n",
       "numPhotos                          30      91  \n",
       "price                          306000  350000  \n",
       "priceByArea                      5483   10217  \n",
       "propertyType                      NaN     NaN  \n",
       "rooms                               2       5  \n",
       "showAddress                       NaN     NaN  \n",
       "size                               68     215  \n",
       "status                            NaN     NaN  \n",
       "topNewDevelopment                 NaN     NaN  \n",
       "hasParkingSpace                   NaN     NaN  \n",
       "isParkingSpaceIncludedInPrice     NaN     NaN  "
      ],
      "text/html": "<div>\n<style scoped>\n    .dataframe tbody tr th:only-of-type {\n        vertical-align: middle;\n    }\n\n    .dataframe tbody tr th {\n        vertical-align: top;\n    }\n\n    .dataframe thead th {\n        text-align: right;\n    }\n</style>\n<table border=\"1\" class=\"dataframe\">\n  <thead>\n    <tr style=\"text-align: right;\">\n      <th></th>\n      <th>count</th>\n      <th>unique</th>\n      <th>top</th>\n      <th>freq</th>\n      <th>mean</th>\n      <th>std</th>\n      <th>min</th>\n      <th>25%</th>\n      <th>50%</th>\n      <th>75%</th>\n      <th>max</th>\n    </tr>\n  </thead>\n  <tbody>\n    <tr>\n      <td>bathrooms</td>\n      <td>929</td>\n      <td>NaN</td>\n      <td>NaN</td>\n      <td>NaN</td>\n      <td>1.08288</td>\n      <td>0.283562</td>\n      <td>1</td>\n      <td>1</td>\n      <td>1</td>\n      <td>1</td>\n      <td>3</td>\n    </tr>\n    <tr>\n      <td>district</td>\n      <td>929</td>\n      <td>8</td>\n      <td>Centro</td>\n      <td>266</td>\n      <td>NaN</td>\n      <td>NaN</td>\n      <td>NaN</td>\n      <td>NaN</td>\n      <td>NaN</td>\n      <td>NaN</td>\n      <td>NaN</td>\n    </tr>\n    <tr>\n      <td>exterior</td>\n      <td>929</td>\n      <td>2</td>\n      <td>True</td>\n      <td>472</td>\n      <td>NaN</td>\n      <td>NaN</td>\n      <td>NaN</td>\n      <td>NaN</td>\n      <td>NaN</td>\n      <td>NaN</td>\n      <td>NaN</td>\n    </tr>\n    <tr>\n      <td>floor</td>\n      <td>890</td>\n      <td>14</td>\n      <td>bj</td>\n      <td>194</td>\n      <td>NaN</td>\n      <td>NaN</td>\n      <td>NaN</td>\n      <td>NaN</td>\n      <td>NaN</td>\n      <td>NaN</td>\n      <td>NaN</td>\n    </tr>\n    <tr>\n      <td>has360</td>\n      <td>929</td>\n      <td>2</td>\n      <td>False</td>\n      <td>817</td>\n      <td>NaN</td>\n      <td>NaN</td>\n      <td>NaN</td>\n      <td>NaN</td>\n      <td>NaN</td>\n      <td>NaN</td>\n      <td>NaN</td>\n    </tr>\n    <tr>\n      <td>has3DTour</td>\n      <td>929</td>\n      <td>2</td>\n      <td>False</td>\n      <td>858</td>\n      <td>NaN</td>\n      <td>NaN</td>\n      <td>NaN</td>\n      <td>NaN</td>\n      <td>NaN</td>\n      <td>NaN</td>\n      <td>NaN</td>\n    </tr>\n    <tr>\n      <td>hasLift</td>\n      <td>922</td>\n      <td>2</td>\n      <td>True</td>\n      <td>621</td>\n      <td>NaN</td>\n      <td>NaN</td>\n      <td>NaN</td>\n      <td>NaN</td>\n      <td>NaN</td>\n      <td>NaN</td>\n      <td>NaN</td>\n    </tr>\n    <tr>\n      <td>hasPlan</td>\n      <td>929</td>\n      <td>2</td>\n      <td>True</td>\n      <td>568</td>\n      <td>NaN</td>\n      <td>NaN</td>\n      <td>NaN</td>\n      <td>NaN</td>\n      <td>NaN</td>\n      <td>NaN</td>\n      <td>NaN</td>\n    </tr>\n    <tr>\n      <td>hasStaging</td>\n      <td>929</td>\n      <td>2</td>\n      <td>False</td>\n      <td>928</td>\n      <td>NaN</td>\n      <td>NaN</td>\n      <td>NaN</td>\n      <td>NaN</td>\n      <td>NaN</td>\n      <td>NaN</td>\n      <td>NaN</td>\n    </tr>\n    <tr>\n      <td>hasVideo</td>\n      <td>929</td>\n      <td>2</td>\n      <td>False</td>\n      <td>680</td>\n      <td>NaN</td>\n      <td>NaN</td>\n      <td>NaN</td>\n      <td>NaN</td>\n      <td>NaN</td>\n      <td>NaN</td>\n      <td>NaN</td>\n    </tr>\n    <tr>\n      <td>neighborhood</td>\n      <td>929</td>\n      <td>33</td>\n      <td>Malasaña-Universidad</td>\n      <td>106</td>\n      <td>NaN</td>\n      <td>NaN</td>\n      <td>NaN</td>\n      <td>NaN</td>\n      <td>NaN</td>\n      <td>NaN</td>\n      <td>NaN</td>\n    </tr>\n    <tr>\n      <td>newDevelopment</td>\n      <td>929</td>\n      <td>2</td>\n      <td>False</td>\n      <td>891</td>\n      <td>NaN</td>\n      <td>NaN</td>\n      <td>NaN</td>\n      <td>NaN</td>\n      <td>NaN</td>\n      <td>NaN</td>\n      <td>NaN</td>\n    </tr>\n    <tr>\n      <td>newDevelopmentFinished</td>\n      <td>38</td>\n      <td>2</td>\n      <td>False</td>\n      <td>31</td>\n      <td>NaN</td>\n      <td>NaN</td>\n      <td>NaN</td>\n      <td>NaN</td>\n      <td>NaN</td>\n      <td>NaN</td>\n      <td>NaN</td>\n    </tr>\n    <tr>\n      <td>numPhotos</td>\n      <td>929</td>\n      <td>NaN</td>\n      <td>NaN</td>\n      <td>NaN</td>\n      <td>24.0355</td>\n      <td>10.7713</td>\n      <td>0</td>\n      <td>17</td>\n      <td>23</td>\n      <td>30</td>\n      <td>91</td>\n    </tr>\n    <tr>\n      <td>price</td>\n      <td>929</td>\n      <td>NaN</td>\n      <td>NaN</td>\n      <td>NaN</td>\n      <td>254550</td>\n      <td>62640.8</td>\n      <td>104000</td>\n      <td>199800</td>\n      <td>260000</td>\n      <td>306000</td>\n      <td>350000</td>\n    </tr>\n    <tr>\n      <td>priceByArea</td>\n      <td>929</td>\n      <td>NaN</td>\n      <td>NaN</td>\n      <td>NaN</td>\n      <td>4773.38</td>\n      <td>1292.14</td>\n      <td>1312</td>\n      <td>3836</td>\n      <td>4672</td>\n      <td>5483</td>\n      <td>10217</td>\n    </tr>\n    <tr>\n      <td>propertyType</td>\n      <td>929</td>\n      <td>4</td>\n      <td>flat</td>\n      <td>791</td>\n      <td>NaN</td>\n      <td>NaN</td>\n      <td>NaN</td>\n      <td>NaN</td>\n      <td>NaN</td>\n      <td>NaN</td>\n      <td>NaN</td>\n    </tr>\n    <tr>\n      <td>rooms</td>\n      <td>929</td>\n      <td>NaN</td>\n      <td>NaN</td>\n      <td>NaN</td>\n      <td>1.51991</td>\n      <td>0.886854</td>\n      <td>0</td>\n      <td>1</td>\n      <td>1</td>\n      <td>2</td>\n      <td>5</td>\n    </tr>\n    <tr>\n      <td>showAddress</td>\n      <td>929</td>\n      <td>2</td>\n      <td>False</td>\n      <td>708</td>\n      <td>NaN</td>\n      <td>NaN</td>\n      <td>NaN</td>\n      <td>NaN</td>\n      <td>NaN</td>\n      <td>NaN</td>\n      <td>NaN</td>\n    </tr>\n    <tr>\n      <td>size</td>\n      <td>929</td>\n      <td>NaN</td>\n      <td>NaN</td>\n      <td>NaN</td>\n      <td>56.8751</td>\n      <td>20.4134</td>\n      <td>17</td>\n      <td>42</td>\n      <td>54</td>\n      <td>68</td>\n      <td>215</td>\n    </tr>\n    <tr>\n      <td>status</td>\n      <td>899</td>\n      <td>3</td>\n      <td>good</td>\n      <td>675</td>\n      <td>NaN</td>\n      <td>NaN</td>\n      <td>NaN</td>\n      <td>NaN</td>\n      <td>NaN</td>\n      <td>NaN</td>\n      <td>NaN</td>\n    </tr>\n    <tr>\n      <td>topNewDevelopment</td>\n      <td>929</td>\n      <td>1</td>\n      <td>False</td>\n      <td>929</td>\n      <td>NaN</td>\n      <td>NaN</td>\n      <td>NaN</td>\n      <td>NaN</td>\n      <td>NaN</td>\n      <td>NaN</td>\n      <td>NaN</td>\n    </tr>\n    <tr>\n      <td>hasParkingSpace</td>\n      <td>929</td>\n      <td>2</td>\n      <td>False</td>\n      <td>877</td>\n      <td>NaN</td>\n      <td>NaN</td>\n      <td>NaN</td>\n      <td>NaN</td>\n      <td>NaN</td>\n      <td>NaN</td>\n      <td>NaN</td>\n    </tr>\n    <tr>\n      <td>isParkingSpaceIncludedInPrice</td>\n      <td>929</td>\n      <td>2</td>\n      <td>False</td>\n      <td>892</td>\n      <td>NaN</td>\n      <td>NaN</td>\n      <td>NaN</td>\n      <td>NaN</td>\n      <td>NaN</td>\n      <td>NaN</td>\n      <td>NaN</td>\n    </tr>\n  </tbody>\n</table>\n</div>"
     },
     "metadata": {},
     "execution_count": 2
    }
   ],
   "source": [
    "#####################################\n",
    "# Load data \n",
    "#####################################\n",
    "# Read\n",
    "df = pd.read_csv('extractions/extraction_2020-11-03.csv', dtype={'propertyCode':str})\n",
    "# Create desired variables \n",
    "df['type'] = df['detailedType'].map(lambda x: dict(ast.literal_eval(x))['typology'])\n",
    "\n",
    "df['parkingSpace'] = df['parkingSpace'].fillna('''{'hasParkingSpace': False, 'isParkingSpaceIncludedInPrice': False}''')\n",
    "df['hasParkingSpace'] = df['parkingSpace'].map(lambda x: dict(ast.literal_eval(x))['hasParkingSpace'])\n",
    "df['isParkingSpaceIncludedInPrice'] = df['parkingSpace'].map(lambda x: dict(ast.literal_eval(x))['isParkingSpaceIncludedInPrice'])\n",
    "\n",
    "'''\n",
    "TODO: Features that could be computed in the future: \n",
    "- Distance in feature space from nearest neighbours from longitude and latitude\n",
    "\n",
    "'''\n",
    "\n",
    "# Drop unneeded variables\n",
    "drop_cols = ['Unnamed: 0', 'index', 'address', 'country','detailedType','distance','externalReference','latitude','longitude','municipality','province','suggestedTexts','thumbnail','url','operation','parkingSpace','type']\n",
    "df.drop(columns=drop_cols, inplace=True)\n",
    "\n",
    "# Drop duplicate index and keep propertycode as index\n",
    "df.drop_duplicates(inplace=True)\n",
    "df = df.set_index('propertyCode')\n",
    "\n",
    "df.describe(include='all').T"
   ]
  },
  {
   "cell_type": "code",
   "execution_count": 3,
   "metadata": {},
   "outputs": [
    {
     "output_type": "execute_result",
     "data": {
      "text/plain": [
       "              bathrooms             district  exterior floor  has360  \\\n",
       "propertyCode                                                           \n",
       "90760228              1               Tetuán      True     1   False   \n",
       "90247950              1               Centro     False     2   False   \n",
       "91594062              1               Tetuán      True    bj   False   \n",
       "82424324              1               Tetuán      True     1   False   \n",
       "91383026              1               Tetuán     False   NaN   False   \n",
       "91223783              1               Tetuán     False   NaN   False   \n",
       "91165622              1               Tetuán      True    bj   False   \n",
       "90781434              1               Tetuán      True    bj    True   \n",
       "90072233              1               Tetuán     False     2   False   \n",
       "89982378              1               Tetuán     False   NaN   False   \n",
       "90101142              1  Barrio de Salamanca     False    bj    True   \n",
       "91503254              1               Tetuán     False    bj   False   \n",
       "91589953              1               Centro      True    bj   False   \n",
       "88221223              1               Tetuán      True    bj   False   \n",
       "87766105              1               Tetuán     False   NaN   False   \n",
       "91343706              1            Chamartín      True    bj   False   \n",
       "91614435              1               Centro      True    en   False   \n",
       "90019210              1               Tetuán      True     2   False   \n",
       "91493328              1               Tetuán     False    bj   False   \n",
       "89324940              1               Centro     False     1   False   \n",
       "91554750              1               Tetuán     False    bj   False   \n",
       "91542448              1  Barrio de Salamanca      True    bj   False   \n",
       "91292854              1               Tetuán     False     1   False   \n",
       "89913621              1               Centro     False     1   False   \n",
       "89782976              1             Chamberí     False    bj   False   \n",
       "91577434              1             Chamberí     False    ss   False   \n",
       "91379223              1               Tetuán     False     1   False   \n",
       "91190100              1               Tetuán      True     4   False   \n",
       "91594230              1             Chamberí     False    bj   False   \n",
       "90183081              1               Tetuán     False     2   False   \n",
       "90017482              1               Tetuán     False     3   False   \n",
       "89901787              1               Centro     False     1   False   \n",
       "91602262              1               Centro     False     5   False   \n",
       "91412489              1             Chamberí     False     3   False   \n",
       "\n",
       "              has3DTour hasLift  hasPlan  hasStaging  hasVideo  ...     price  \\\n",
       "propertyCode                                                    ...             \n",
       "90760228          False   False    False       False     False  ...  125000.0   \n",
       "90247950          False    True     True       False     False  ...  120000.0   \n",
       "91594062          False   False    False       False     False  ...  115000.0   \n",
       "82424324          False   False    False       False     False  ...  125000.0   \n",
       "91383026          False   False    False       False     False  ...  120000.0   \n",
       "91223783          False   False    False       False     False  ...  104000.0   \n",
       "91165622          False   False     True       False     False  ...  137000.0   \n",
       "90781434          False   False     True       False     False  ...  129900.0   \n",
       "90072233          False   False     True       False      True  ...  130500.0   \n",
       "89982378          False     NaN    False       False     False  ...  130500.0   \n",
       "90101142          False    True     True       False     False  ...  139000.0   \n",
       "91503254          False   False    False       False     False  ...  125000.0   \n",
       "91589953          False   False    False       False     False  ...  130000.0   \n",
       "88221223          False    True    False       False      True  ...  137000.0   \n",
       "87766105          False   False     True       False     False  ...  139500.0   \n",
       "91343706          False    True     True       False      True  ...  135000.0   \n",
       "91614435          False   False     True       False     False  ...  139000.0   \n",
       "90019210          False   False     True       False     False  ...  132000.0   \n",
       "91493328          False   False    False       False     False  ...  132000.0   \n",
       "89324940          False    True    False       False      True  ...  105000.0   \n",
       "91554750          False    True    False       False     False  ...  110000.0   \n",
       "91542448          False   False     True       False     False  ...  129000.0   \n",
       "91292854          False    True     True       False     False  ...  129000.0   \n",
       "89913621          False   False     True       False     False  ...  125000.0   \n",
       "89782976          False   False    False       False     False  ...  135000.0   \n",
       "91577434          False    True     True       False     False  ...  139000.0   \n",
       "91379223          False   False    False       False     False  ...  110000.0   \n",
       "91190100          False   False     True       False     False  ...  130000.0   \n",
       "91594230          False    True    False       False     False  ...  114900.0   \n",
       "90183081          False   False    False       False     False  ...  130000.0   \n",
       "90017482          False   False    False       False     False  ...  115000.0   \n",
       "89901787          False   False    False       False      True  ...  107000.0   \n",
       "91602262          False     NaN    False       False     False  ...  139900.0   \n",
       "91412489          False   False    False       False     False  ...  131900.0   \n",
       "\n",
       "              priceByArea propertyType  rooms  showAddress  size status  \\\n",
       "propertyCode                                                              \n",
       "90760228           2404.0         flat      1         True  52.0   good   \n",
       "90247950           2791.0         flat      2        False  43.0  renew   \n",
       "91594062           2875.0         flat      1        False  40.0   good   \n",
       "82424324           2907.0         flat      2         True  43.0   good   \n",
       "91383026           2927.0         flat      2        False  41.0    NaN   \n",
       "91223783           2971.0         flat      1        False  35.0   good   \n",
       "91165622           2978.0         flat      1        False  46.0   good   \n",
       "90781434           3021.0         flat      1        False  43.0  renew   \n",
       "90072233           3035.0         flat      2        False  43.0   good   \n",
       "89982378           3035.0         flat      2        False  43.0    NaN   \n",
       "90101142           3089.0         flat      1        False  45.0   good   \n",
       "91503254           3205.0         flat      2        False  39.0   good   \n",
       "91589953           3250.0         flat      1        False  40.0  renew   \n",
       "88221223           3262.0       studio      0         True  42.0   good   \n",
       "87766105           3321.0         flat      2        False  42.0   good   \n",
       "91343706           3375.0       studio      0        False  40.0  renew   \n",
       "91614435           3475.0         flat      1        False  40.0   good   \n",
       "90019210           3568.0         flat      1        False  37.0   good   \n",
       "91493328           3568.0         flat      1         True  37.0   good   \n",
       "89324940           3621.0         flat      1        False  29.0  renew   \n",
       "91554750           3667.0         flat      2        False  30.0  renew   \n",
       "91542448           3686.0         flat      1        False  35.0   good   \n",
       "91292854           3686.0         flat      1        False  35.0   good   \n",
       "89913621           3788.0         flat      2        False  33.0   good   \n",
       "89782976           3857.0         flat      1        False  35.0   good   \n",
       "91577434           4212.0         flat      1        False  33.0  renew   \n",
       "91379223           4231.0         flat      1         True  26.0   good   \n",
       "91190100           4333.0         flat      1        False  30.0   good   \n",
       "91594230           4419.0         flat      1        False  26.0  renew   \n",
       "90183081           4815.0       studio      0         True  27.0   good   \n",
       "90017482           5000.0         flat      1        False  23.0   good   \n",
       "89901787           5350.0         flat      1        False  20.0   good   \n",
       "91602262           5596.0       studio      0        False  25.0   good   \n",
       "91412489           7759.0       studio      0        False  17.0   good   \n",
       "\n",
       "              topNewDevelopment  hasParkingSpace  \\\n",
       "propertyCode                                       \n",
       "90760228                  False            False   \n",
       "90247950                  False            False   \n",
       "91594062                  False            False   \n",
       "82424324                  False            False   \n",
       "91383026                  False            False   \n",
       "91223783                  False            False   \n",
       "91165622                  False            False   \n",
       "90781434                  False            False   \n",
       "90072233                  False            False   \n",
       "89982378                  False            False   \n",
       "90101142                  False            False   \n",
       "91503254                  False            False   \n",
       "91589953                  False            False   \n",
       "88221223                  False            False   \n",
       "87766105                  False            False   \n",
       "91343706                  False            False   \n",
       "91614435                  False            False   \n",
       "90019210                  False            False   \n",
       "91493328                  False            False   \n",
       "89324940                  False            False   \n",
       "91554750                  False            False   \n",
       "91542448                  False            False   \n",
       "91292854                  False            False   \n",
       "89913621                  False            False   \n",
       "89782976                  False            False   \n",
       "91577434                  False            False   \n",
       "91379223                  False            False   \n",
       "91190100                  False            False   \n",
       "91594230                  False            False   \n",
       "90183081                  False            False   \n",
       "90017482                  False            False   \n",
       "89901787                  False            False   \n",
       "91602262                  False            False   \n",
       "91412489                  False            False   \n",
       "\n",
       "              isParkingSpaceIncludedInPrice  \n",
       "propertyCode                                 \n",
       "90760228                              False  \n",
       "90247950                              False  \n",
       "91594062                              False  \n",
       "82424324                              False  \n",
       "91383026                              False  \n",
       "91223783                              False  \n",
       "91165622                              False  \n",
       "90781434                              False  \n",
       "90072233                              False  \n",
       "89982378                              False  \n",
       "90101142                              False  \n",
       "91503254                              False  \n",
       "91589953                              False  \n",
       "88221223                              False  \n",
       "87766105                              False  \n",
       "91343706                              False  \n",
       "91614435                              False  \n",
       "90019210                              False  \n",
       "91493328                              False  \n",
       "89324940                              False  \n",
       "91554750                              False  \n",
       "91542448                              False  \n",
       "91292854                              False  \n",
       "89913621                              False  \n",
       "89782976                              False  \n",
       "91577434                              False  \n",
       "91379223                              False  \n",
       "91190100                              False  \n",
       "91594230                              False  \n",
       "90183081                              False  \n",
       "90017482                              False  \n",
       "89901787                              False  \n",
       "91602262                              False  \n",
       "91412489                              False  \n",
       "\n",
       "[34 rows x 24 columns]"
      ],
      "text/html": "<div>\n<style scoped>\n    .dataframe tbody tr th:only-of-type {\n        vertical-align: middle;\n    }\n\n    .dataframe tbody tr th {\n        vertical-align: top;\n    }\n\n    .dataframe thead th {\n        text-align: right;\n    }\n</style>\n<table border=\"1\" class=\"dataframe\">\n  <thead>\n    <tr style=\"text-align: right;\">\n      <th></th>\n      <th>bathrooms</th>\n      <th>district</th>\n      <th>exterior</th>\n      <th>floor</th>\n      <th>has360</th>\n      <th>has3DTour</th>\n      <th>hasLift</th>\n      <th>hasPlan</th>\n      <th>hasStaging</th>\n      <th>hasVideo</th>\n      <th>...</th>\n      <th>price</th>\n      <th>priceByArea</th>\n      <th>propertyType</th>\n      <th>rooms</th>\n      <th>showAddress</th>\n      <th>size</th>\n      <th>status</th>\n      <th>topNewDevelopment</th>\n      <th>hasParkingSpace</th>\n      <th>isParkingSpaceIncludedInPrice</th>\n    </tr>\n    <tr>\n      <th>propertyCode</th>\n      <th></th>\n      <th></th>\n      <th></th>\n      <th></th>\n      <th></th>\n      <th></th>\n      <th></th>\n      <th></th>\n      <th></th>\n      <th></th>\n      <th></th>\n      <th></th>\n      <th></th>\n      <th></th>\n      <th></th>\n      <th></th>\n      <th></th>\n      <th></th>\n      <th></th>\n      <th></th>\n      <th></th>\n    </tr>\n  </thead>\n  <tbody>\n    <tr>\n      <td>90760228</td>\n      <td>1</td>\n      <td>Tetuán</td>\n      <td>True</td>\n      <td>1</td>\n      <td>False</td>\n      <td>False</td>\n      <td>False</td>\n      <td>False</td>\n      <td>False</td>\n      <td>False</td>\n      <td>...</td>\n      <td>125000.0</td>\n      <td>2404.0</td>\n      <td>flat</td>\n      <td>1</td>\n      <td>True</td>\n      <td>52.0</td>\n      <td>good</td>\n      <td>False</td>\n      <td>False</td>\n      <td>False</td>\n    </tr>\n    <tr>\n      <td>90247950</td>\n      <td>1</td>\n      <td>Centro</td>\n      <td>False</td>\n      <td>2</td>\n      <td>False</td>\n      <td>False</td>\n      <td>True</td>\n      <td>True</td>\n      <td>False</td>\n      <td>False</td>\n      <td>...</td>\n      <td>120000.0</td>\n      <td>2791.0</td>\n      <td>flat</td>\n      <td>2</td>\n      <td>False</td>\n      <td>43.0</td>\n      <td>renew</td>\n      <td>False</td>\n      <td>False</td>\n      <td>False</td>\n    </tr>\n    <tr>\n      <td>91594062</td>\n      <td>1</td>\n      <td>Tetuán</td>\n      <td>True</td>\n      <td>bj</td>\n      <td>False</td>\n      <td>False</td>\n      <td>False</td>\n      <td>False</td>\n      <td>False</td>\n      <td>False</td>\n      <td>...</td>\n      <td>115000.0</td>\n      <td>2875.0</td>\n      <td>flat</td>\n      <td>1</td>\n      <td>False</td>\n      <td>40.0</td>\n      <td>good</td>\n      <td>False</td>\n      <td>False</td>\n      <td>False</td>\n    </tr>\n    <tr>\n      <td>82424324</td>\n      <td>1</td>\n      <td>Tetuán</td>\n      <td>True</td>\n      <td>1</td>\n      <td>False</td>\n      <td>False</td>\n      <td>False</td>\n      <td>False</td>\n      <td>False</td>\n      <td>False</td>\n      <td>...</td>\n      <td>125000.0</td>\n      <td>2907.0</td>\n      <td>flat</td>\n      <td>2</td>\n      <td>True</td>\n      <td>43.0</td>\n      <td>good</td>\n      <td>False</td>\n      <td>False</td>\n      <td>False</td>\n    </tr>\n    <tr>\n      <td>91383026</td>\n      <td>1</td>\n      <td>Tetuán</td>\n      <td>False</td>\n      <td>NaN</td>\n      <td>False</td>\n      <td>False</td>\n      <td>False</td>\n      <td>False</td>\n      <td>False</td>\n      <td>False</td>\n      <td>...</td>\n      <td>120000.0</td>\n      <td>2927.0</td>\n      <td>flat</td>\n      <td>2</td>\n      <td>False</td>\n      <td>41.0</td>\n      <td>NaN</td>\n      <td>False</td>\n      <td>False</td>\n      <td>False</td>\n    </tr>\n    <tr>\n      <td>91223783</td>\n      <td>1</td>\n      <td>Tetuán</td>\n      <td>False</td>\n      <td>NaN</td>\n      <td>False</td>\n      <td>False</td>\n      <td>False</td>\n      <td>False</td>\n      <td>False</td>\n      <td>False</td>\n      <td>...</td>\n      <td>104000.0</td>\n      <td>2971.0</td>\n      <td>flat</td>\n      <td>1</td>\n      <td>False</td>\n      <td>35.0</td>\n      <td>good</td>\n      <td>False</td>\n      <td>False</td>\n      <td>False</td>\n    </tr>\n    <tr>\n      <td>91165622</td>\n      <td>1</td>\n      <td>Tetuán</td>\n      <td>True</td>\n      <td>bj</td>\n      <td>False</td>\n      <td>False</td>\n      <td>False</td>\n      <td>True</td>\n      <td>False</td>\n      <td>False</td>\n      <td>...</td>\n      <td>137000.0</td>\n      <td>2978.0</td>\n      <td>flat</td>\n      <td>1</td>\n      <td>False</td>\n      <td>46.0</td>\n      <td>good</td>\n      <td>False</td>\n      <td>False</td>\n      <td>False</td>\n    </tr>\n    <tr>\n      <td>90781434</td>\n      <td>1</td>\n      <td>Tetuán</td>\n      <td>True</td>\n      <td>bj</td>\n      <td>True</td>\n      <td>False</td>\n      <td>False</td>\n      <td>True</td>\n      <td>False</td>\n      <td>False</td>\n      <td>...</td>\n      <td>129900.0</td>\n      <td>3021.0</td>\n      <td>flat</td>\n      <td>1</td>\n      <td>False</td>\n      <td>43.0</td>\n      <td>renew</td>\n      <td>False</td>\n      <td>False</td>\n      <td>False</td>\n    </tr>\n    <tr>\n      <td>90072233</td>\n      <td>1</td>\n      <td>Tetuán</td>\n      <td>False</td>\n      <td>2</td>\n      <td>False</td>\n      <td>False</td>\n      <td>False</td>\n      <td>True</td>\n      <td>False</td>\n      <td>True</td>\n      <td>...</td>\n      <td>130500.0</td>\n      <td>3035.0</td>\n      <td>flat</td>\n      <td>2</td>\n      <td>False</td>\n      <td>43.0</td>\n      <td>good</td>\n      <td>False</td>\n      <td>False</td>\n      <td>False</td>\n    </tr>\n    <tr>\n      <td>89982378</td>\n      <td>1</td>\n      <td>Tetuán</td>\n      <td>False</td>\n      <td>NaN</td>\n      <td>False</td>\n      <td>False</td>\n      <td>NaN</td>\n      <td>False</td>\n      <td>False</td>\n      <td>False</td>\n      <td>...</td>\n      <td>130500.0</td>\n      <td>3035.0</td>\n      <td>flat</td>\n      <td>2</td>\n      <td>False</td>\n      <td>43.0</td>\n      <td>NaN</td>\n      <td>False</td>\n      <td>False</td>\n      <td>False</td>\n    </tr>\n    <tr>\n      <td>90101142</td>\n      <td>1</td>\n      <td>Barrio de Salamanca</td>\n      <td>False</td>\n      <td>bj</td>\n      <td>True</td>\n      <td>False</td>\n      <td>True</td>\n      <td>True</td>\n      <td>False</td>\n      <td>False</td>\n      <td>...</td>\n      <td>139000.0</td>\n      <td>3089.0</td>\n      <td>flat</td>\n      <td>1</td>\n      <td>False</td>\n      <td>45.0</td>\n      <td>good</td>\n      <td>False</td>\n      <td>False</td>\n      <td>False</td>\n    </tr>\n    <tr>\n      <td>91503254</td>\n      <td>1</td>\n      <td>Tetuán</td>\n      <td>False</td>\n      <td>bj</td>\n      <td>False</td>\n      <td>False</td>\n      <td>False</td>\n      <td>False</td>\n      <td>False</td>\n      <td>False</td>\n      <td>...</td>\n      <td>125000.0</td>\n      <td>3205.0</td>\n      <td>flat</td>\n      <td>2</td>\n      <td>False</td>\n      <td>39.0</td>\n      <td>good</td>\n      <td>False</td>\n      <td>False</td>\n      <td>False</td>\n    </tr>\n    <tr>\n      <td>91589953</td>\n      <td>1</td>\n      <td>Centro</td>\n      <td>True</td>\n      <td>bj</td>\n      <td>False</td>\n      <td>False</td>\n      <td>False</td>\n      <td>False</td>\n      <td>False</td>\n      <td>False</td>\n      <td>...</td>\n      <td>130000.0</td>\n      <td>3250.0</td>\n      <td>flat</td>\n      <td>1</td>\n      <td>False</td>\n      <td>40.0</td>\n      <td>renew</td>\n      <td>False</td>\n      <td>False</td>\n      <td>False</td>\n    </tr>\n    <tr>\n      <td>88221223</td>\n      <td>1</td>\n      <td>Tetuán</td>\n      <td>True</td>\n      <td>bj</td>\n      <td>False</td>\n      <td>False</td>\n      <td>True</td>\n      <td>False</td>\n      <td>False</td>\n      <td>True</td>\n      <td>...</td>\n      <td>137000.0</td>\n      <td>3262.0</td>\n      <td>studio</td>\n      <td>0</td>\n      <td>True</td>\n      <td>42.0</td>\n      <td>good</td>\n      <td>False</td>\n      <td>False</td>\n      <td>False</td>\n    </tr>\n    <tr>\n      <td>87766105</td>\n      <td>1</td>\n      <td>Tetuán</td>\n      <td>False</td>\n      <td>NaN</td>\n      <td>False</td>\n      <td>False</td>\n      <td>False</td>\n      <td>True</td>\n      <td>False</td>\n      <td>False</td>\n      <td>...</td>\n      <td>139500.0</td>\n      <td>3321.0</td>\n      <td>flat</td>\n      <td>2</td>\n      <td>False</td>\n      <td>42.0</td>\n      <td>good</td>\n      <td>False</td>\n      <td>False</td>\n      <td>False</td>\n    </tr>\n    <tr>\n      <td>91343706</td>\n      <td>1</td>\n      <td>Chamartín</td>\n      <td>True</td>\n      <td>bj</td>\n      <td>False</td>\n      <td>False</td>\n      <td>True</td>\n      <td>True</td>\n      <td>False</td>\n      <td>True</td>\n      <td>...</td>\n      <td>135000.0</td>\n      <td>3375.0</td>\n      <td>studio</td>\n      <td>0</td>\n      <td>False</td>\n      <td>40.0</td>\n      <td>renew</td>\n      <td>False</td>\n      <td>False</td>\n      <td>False</td>\n    </tr>\n    <tr>\n      <td>91614435</td>\n      <td>1</td>\n      <td>Centro</td>\n      <td>True</td>\n      <td>en</td>\n      <td>False</td>\n      <td>False</td>\n      <td>False</td>\n      <td>True</td>\n      <td>False</td>\n      <td>False</td>\n      <td>...</td>\n      <td>139000.0</td>\n      <td>3475.0</td>\n      <td>flat</td>\n      <td>1</td>\n      <td>False</td>\n      <td>40.0</td>\n      <td>good</td>\n      <td>False</td>\n      <td>False</td>\n      <td>False</td>\n    </tr>\n    <tr>\n      <td>90019210</td>\n      <td>1</td>\n      <td>Tetuán</td>\n      <td>True</td>\n      <td>2</td>\n      <td>False</td>\n      <td>False</td>\n      <td>False</td>\n      <td>True</td>\n      <td>False</td>\n      <td>False</td>\n      <td>...</td>\n      <td>132000.0</td>\n      <td>3568.0</td>\n      <td>flat</td>\n      <td>1</td>\n      <td>False</td>\n      <td>37.0</td>\n      <td>good</td>\n      <td>False</td>\n      <td>False</td>\n      <td>False</td>\n    </tr>\n    <tr>\n      <td>91493328</td>\n      <td>1</td>\n      <td>Tetuán</td>\n      <td>False</td>\n      <td>bj</td>\n      <td>False</td>\n      <td>False</td>\n      <td>False</td>\n      <td>False</td>\n      <td>False</td>\n      <td>False</td>\n      <td>...</td>\n      <td>132000.0</td>\n      <td>3568.0</td>\n      <td>flat</td>\n      <td>1</td>\n      <td>True</td>\n      <td>37.0</td>\n      <td>good</td>\n      <td>False</td>\n      <td>False</td>\n      <td>False</td>\n    </tr>\n    <tr>\n      <td>89324940</td>\n      <td>1</td>\n      <td>Centro</td>\n      <td>False</td>\n      <td>1</td>\n      <td>False</td>\n      <td>False</td>\n      <td>True</td>\n      <td>False</td>\n      <td>False</td>\n      <td>True</td>\n      <td>...</td>\n      <td>105000.0</td>\n      <td>3621.0</td>\n      <td>flat</td>\n      <td>1</td>\n      <td>False</td>\n      <td>29.0</td>\n      <td>renew</td>\n      <td>False</td>\n      <td>False</td>\n      <td>False</td>\n    </tr>\n    <tr>\n      <td>91554750</td>\n      <td>1</td>\n      <td>Tetuán</td>\n      <td>False</td>\n      <td>bj</td>\n      <td>False</td>\n      <td>False</td>\n      <td>True</td>\n      <td>False</td>\n      <td>False</td>\n      <td>False</td>\n      <td>...</td>\n      <td>110000.0</td>\n      <td>3667.0</td>\n      <td>flat</td>\n      <td>2</td>\n      <td>False</td>\n      <td>30.0</td>\n      <td>renew</td>\n      <td>False</td>\n      <td>False</td>\n      <td>False</td>\n    </tr>\n    <tr>\n      <td>91542448</td>\n      <td>1</td>\n      <td>Barrio de Salamanca</td>\n      <td>True</td>\n      <td>bj</td>\n      <td>False</td>\n      <td>False</td>\n      <td>False</td>\n      <td>True</td>\n      <td>False</td>\n      <td>False</td>\n      <td>...</td>\n      <td>129000.0</td>\n      <td>3686.0</td>\n      <td>flat</td>\n      <td>1</td>\n      <td>False</td>\n      <td>35.0</td>\n      <td>good</td>\n      <td>False</td>\n      <td>False</td>\n      <td>False</td>\n    </tr>\n    <tr>\n      <td>91292854</td>\n      <td>1</td>\n      <td>Tetuán</td>\n      <td>False</td>\n      <td>1</td>\n      <td>False</td>\n      <td>False</td>\n      <td>True</td>\n      <td>True</td>\n      <td>False</td>\n      <td>False</td>\n      <td>...</td>\n      <td>129000.0</td>\n      <td>3686.0</td>\n      <td>flat</td>\n      <td>1</td>\n      <td>False</td>\n      <td>35.0</td>\n      <td>good</td>\n      <td>False</td>\n      <td>False</td>\n      <td>False</td>\n    </tr>\n    <tr>\n      <td>89913621</td>\n      <td>1</td>\n      <td>Centro</td>\n      <td>False</td>\n      <td>1</td>\n      <td>False</td>\n      <td>False</td>\n      <td>False</td>\n      <td>True</td>\n      <td>False</td>\n      <td>False</td>\n      <td>...</td>\n      <td>125000.0</td>\n      <td>3788.0</td>\n      <td>flat</td>\n      <td>2</td>\n      <td>False</td>\n      <td>33.0</td>\n      <td>good</td>\n      <td>False</td>\n      <td>False</td>\n      <td>False</td>\n    </tr>\n    <tr>\n      <td>89782976</td>\n      <td>1</td>\n      <td>Chamberí</td>\n      <td>False</td>\n      <td>bj</td>\n      <td>False</td>\n      <td>False</td>\n      <td>False</td>\n      <td>False</td>\n      <td>False</td>\n      <td>False</td>\n      <td>...</td>\n      <td>135000.0</td>\n      <td>3857.0</td>\n      <td>flat</td>\n      <td>1</td>\n      <td>False</td>\n      <td>35.0</td>\n      <td>good</td>\n      <td>False</td>\n      <td>False</td>\n      <td>False</td>\n    </tr>\n    <tr>\n      <td>91577434</td>\n      <td>1</td>\n      <td>Chamberí</td>\n      <td>False</td>\n      <td>ss</td>\n      <td>False</td>\n      <td>False</td>\n      <td>True</td>\n      <td>True</td>\n      <td>False</td>\n      <td>False</td>\n      <td>...</td>\n      <td>139000.0</td>\n      <td>4212.0</td>\n      <td>flat</td>\n      <td>1</td>\n      <td>False</td>\n      <td>33.0</td>\n      <td>renew</td>\n      <td>False</td>\n      <td>False</td>\n      <td>False</td>\n    </tr>\n    <tr>\n      <td>91379223</td>\n      <td>1</td>\n      <td>Tetuán</td>\n      <td>False</td>\n      <td>1</td>\n      <td>False</td>\n      <td>False</td>\n      <td>False</td>\n      <td>False</td>\n      <td>False</td>\n      <td>False</td>\n      <td>...</td>\n      <td>110000.0</td>\n      <td>4231.0</td>\n      <td>flat</td>\n      <td>1</td>\n      <td>True</td>\n      <td>26.0</td>\n      <td>good</td>\n      <td>False</td>\n      <td>False</td>\n      <td>False</td>\n    </tr>\n    <tr>\n      <td>91190100</td>\n      <td>1</td>\n      <td>Tetuán</td>\n      <td>True</td>\n      <td>4</td>\n      <td>False</td>\n      <td>False</td>\n      <td>False</td>\n      <td>True</td>\n      <td>False</td>\n      <td>False</td>\n      <td>...</td>\n      <td>130000.0</td>\n      <td>4333.0</td>\n      <td>flat</td>\n      <td>1</td>\n      <td>False</td>\n      <td>30.0</td>\n      <td>good</td>\n      <td>False</td>\n      <td>False</td>\n      <td>False</td>\n    </tr>\n    <tr>\n      <td>91594230</td>\n      <td>1</td>\n      <td>Chamberí</td>\n      <td>False</td>\n      <td>bj</td>\n      <td>False</td>\n      <td>False</td>\n      <td>True</td>\n      <td>False</td>\n      <td>False</td>\n      <td>False</td>\n      <td>...</td>\n      <td>114900.0</td>\n      <td>4419.0</td>\n      <td>flat</td>\n      <td>1</td>\n      <td>False</td>\n      <td>26.0</td>\n      <td>renew</td>\n      <td>False</td>\n      <td>False</td>\n      <td>False</td>\n    </tr>\n    <tr>\n      <td>90183081</td>\n      <td>1</td>\n      <td>Tetuán</td>\n      <td>False</td>\n      <td>2</td>\n      <td>False</td>\n      <td>False</td>\n      <td>False</td>\n      <td>False</td>\n      <td>False</td>\n      <td>False</td>\n      <td>...</td>\n      <td>130000.0</td>\n      <td>4815.0</td>\n      <td>studio</td>\n      <td>0</td>\n      <td>True</td>\n      <td>27.0</td>\n      <td>good</td>\n      <td>False</td>\n      <td>False</td>\n      <td>False</td>\n    </tr>\n    <tr>\n      <td>90017482</td>\n      <td>1</td>\n      <td>Tetuán</td>\n      <td>False</td>\n      <td>3</td>\n      <td>False</td>\n      <td>False</td>\n      <td>False</td>\n      <td>False</td>\n      <td>False</td>\n      <td>False</td>\n      <td>...</td>\n      <td>115000.0</td>\n      <td>5000.0</td>\n      <td>flat</td>\n      <td>1</td>\n      <td>False</td>\n      <td>23.0</td>\n      <td>good</td>\n      <td>False</td>\n      <td>False</td>\n      <td>False</td>\n    </tr>\n    <tr>\n      <td>89901787</td>\n      <td>1</td>\n      <td>Centro</td>\n      <td>False</td>\n      <td>1</td>\n      <td>False</td>\n      <td>False</td>\n      <td>False</td>\n      <td>False</td>\n      <td>False</td>\n      <td>True</td>\n      <td>...</td>\n      <td>107000.0</td>\n      <td>5350.0</td>\n      <td>flat</td>\n      <td>1</td>\n      <td>False</td>\n      <td>20.0</td>\n      <td>good</td>\n      <td>False</td>\n      <td>False</td>\n      <td>False</td>\n    </tr>\n    <tr>\n      <td>91602262</td>\n      <td>1</td>\n      <td>Centro</td>\n      <td>False</td>\n      <td>5</td>\n      <td>False</td>\n      <td>False</td>\n      <td>NaN</td>\n      <td>False</td>\n      <td>False</td>\n      <td>False</td>\n      <td>...</td>\n      <td>139900.0</td>\n      <td>5596.0</td>\n      <td>studio</td>\n      <td>0</td>\n      <td>False</td>\n      <td>25.0</td>\n      <td>good</td>\n      <td>False</td>\n      <td>False</td>\n      <td>False</td>\n    </tr>\n    <tr>\n      <td>91412489</td>\n      <td>1</td>\n      <td>Chamberí</td>\n      <td>False</td>\n      <td>3</td>\n      <td>False</td>\n      <td>False</td>\n      <td>False</td>\n      <td>False</td>\n      <td>False</td>\n      <td>False</td>\n      <td>...</td>\n      <td>131900.0</td>\n      <td>7759.0</td>\n      <td>studio</td>\n      <td>0</td>\n      <td>False</td>\n      <td>17.0</td>\n      <td>good</td>\n      <td>False</td>\n      <td>False</td>\n      <td>False</td>\n    </tr>\n  </tbody>\n</table>\n<p>34 rows × 24 columns</p>\n</div>"
     },
     "metadata": {},
     "execution_count": 3
    }
   ],
   "source": [
    "df[(df.price < 140000)].sort_values(by='priceByArea')"
   ]
  },
  {
   "cell_type": "code",
   "execution_count": 4,
   "metadata": {},
   "outputs": [
    {
     "output_type": "display_data",
     "data": {
      "application/vnd.plotly.v1+json": {
       "config": {
        "linkText": "Export to plot.ly",
        "plotlyServerURL": "https://plot.ly",
        "showLink": true
       },
       "data": [
        {
         "marker": {
          "color": "rgba(255, 153, 51, 0.6)",
          "line": {
           "color": "rgba(255, 153, 51, 1.0)",
           "width": 1
          }
         },
         "name": "priceByArea",
         "orientation": "v",
         "text": "",
         "type": "bar",
         "x": [
          "Concepción",
          "Ventas",
          "Berruguete",
          "Bellas Vistas",
          "Cuatro Caminos",
          "Prosperidad",
          "Cuzco-Castillejos",
          "Ciudad Universitaria",
          "Lavapiés-Embajadores",
          "Ciudad Jardín",
          "Guindalera",
          "Fuente del Berro",
          "Arapiles",
          "Argüelles",
          "Malasaña-Universidad",
          "Gaztambide",
          "Sol",
          "Huertas-Cortes",
          "Vallehermoso",
          "Nuevos Ministerios-Ríos Rosas",
          "Palacio",
          "Bernabéu-Hispanoamérica",
          "Trafalgar",
          "Ibiza",
          "Almagro",
          "Chueca-Justicia",
          "Goya",
          "El Viso",
          "Lista",
          "Jerónimos",
          "Castellana",
          "Niño Jesús",
          "Recoletos"
         ],
         "y": [
          2349.5,
          2631,
          2994,
          3685,
          3833,
          3889,
          4054,
          4154,
          4172,
          4177,
          4327,
          4574,
          4677.5,
          4710,
          4851.5,
          4875,
          4906,
          4960.5,
          5000,
          5066,
          5089,
          5102,
          5150,
          5227,
          5271,
          5288,
          5357,
          5508,
          5516,
          5600,
          5789,
          6019,
          6950
         ]
        }
       ],
       "layout": {
        "legend": {
         "bgcolor": "#F5F6F9",
         "font": {
          "color": "#4D5663"
         }
        },
        "paper_bgcolor": "#F5F6F9",
        "plot_bgcolor": "#F5F6F9",
        "template": {
         "data": {
          "bar": [
           {
            "error_x": {
             "color": "#2a3f5f"
            },
            "error_y": {
             "color": "#2a3f5f"
            },
            "marker": {
             "line": {
              "color": "#E5ECF6",
              "width": 0.5
             }
            },
            "type": "bar"
           }
          ],
          "barpolar": [
           {
            "marker": {
             "line": {
              "color": "#E5ECF6",
              "width": 0.5
             }
            },
            "type": "barpolar"
           }
          ],
          "carpet": [
           {
            "aaxis": {
             "endlinecolor": "#2a3f5f",
             "gridcolor": "white",
             "linecolor": "white",
             "minorgridcolor": "white",
             "startlinecolor": "#2a3f5f"
            },
            "baxis": {
             "endlinecolor": "#2a3f5f",
             "gridcolor": "white",
             "linecolor": "white",
             "minorgridcolor": "white",
             "startlinecolor": "#2a3f5f"
            },
            "type": "carpet"
           }
          ],
          "choropleth": [
           {
            "colorbar": {
             "outlinewidth": 0,
             "ticks": ""
            },
            "type": "choropleth"
           }
          ],
          "contour": [
           {
            "colorbar": {
             "outlinewidth": 0,
             "ticks": ""
            },
            "colorscale": [
             [
              0,
              "#0d0887"
             ],
             [
              0.1111111111111111,
              "#46039f"
             ],
             [
              0.2222222222222222,
              "#7201a8"
             ],
             [
              0.3333333333333333,
              "#9c179e"
             ],
             [
              0.4444444444444444,
              "#bd3786"
             ],
             [
              0.5555555555555556,
              "#d8576b"
             ],
             [
              0.6666666666666666,
              "#ed7953"
             ],
             [
              0.7777777777777778,
              "#fb9f3a"
             ],
             [
              0.8888888888888888,
              "#fdca26"
             ],
             [
              1,
              "#f0f921"
             ]
            ],
            "type": "contour"
           }
          ],
          "contourcarpet": [
           {
            "colorbar": {
             "outlinewidth": 0,
             "ticks": ""
            },
            "type": "contourcarpet"
           }
          ],
          "heatmap": [
           {
            "colorbar": {
             "outlinewidth": 0,
             "ticks": ""
            },
            "colorscale": [
             [
              0,
              "#0d0887"
             ],
             [
              0.1111111111111111,
              "#46039f"
             ],
             [
              0.2222222222222222,
              "#7201a8"
             ],
             [
              0.3333333333333333,
              "#9c179e"
             ],
             [
              0.4444444444444444,
              "#bd3786"
             ],
             [
              0.5555555555555556,
              "#d8576b"
             ],
             [
              0.6666666666666666,
              "#ed7953"
             ],
             [
              0.7777777777777778,
              "#fb9f3a"
             ],
             [
              0.8888888888888888,
              "#fdca26"
             ],
             [
              1,
              "#f0f921"
             ]
            ],
            "type": "heatmap"
           }
          ],
          "heatmapgl": [
           {
            "colorbar": {
             "outlinewidth": 0,
             "ticks": ""
            },
            "colorscale": [
             [
              0,
              "#0d0887"
             ],
             [
              0.1111111111111111,
              "#46039f"
             ],
             [
              0.2222222222222222,
              "#7201a8"
             ],
             [
              0.3333333333333333,
              "#9c179e"
             ],
             [
              0.4444444444444444,
              "#bd3786"
             ],
             [
              0.5555555555555556,
              "#d8576b"
             ],
             [
              0.6666666666666666,
              "#ed7953"
             ],
             [
              0.7777777777777778,
              "#fb9f3a"
             ],
             [
              0.8888888888888888,
              "#fdca26"
             ],
             [
              1,
              "#f0f921"
             ]
            ],
            "type": "heatmapgl"
           }
          ],
          "histogram": [
           {
            "marker": {
             "colorbar": {
              "outlinewidth": 0,
              "ticks": ""
             }
            },
            "type": "histogram"
           }
          ],
          "histogram2d": [
           {
            "colorbar": {
             "outlinewidth": 0,
             "ticks": ""
            },
            "colorscale": [
             [
              0,
              "#0d0887"
             ],
             [
              0.1111111111111111,
              "#46039f"
             ],
             [
              0.2222222222222222,
              "#7201a8"
             ],
             [
              0.3333333333333333,
              "#9c179e"
             ],
             [
              0.4444444444444444,
              "#bd3786"
             ],
             [
              0.5555555555555556,
              "#d8576b"
             ],
             [
              0.6666666666666666,
              "#ed7953"
             ],
             [
              0.7777777777777778,
              "#fb9f3a"
             ],
             [
              0.8888888888888888,
              "#fdca26"
             ],
             [
              1,
              "#f0f921"
             ]
            ],
            "type": "histogram2d"
           }
          ],
          "histogram2dcontour": [
           {
            "colorbar": {
             "outlinewidth": 0,
             "ticks": ""
            },
            "colorscale": [
             [
              0,
              "#0d0887"
             ],
             [
              0.1111111111111111,
              "#46039f"
             ],
             [
              0.2222222222222222,
              "#7201a8"
             ],
             [
              0.3333333333333333,
              "#9c179e"
             ],
             [
              0.4444444444444444,
              "#bd3786"
             ],
             [
              0.5555555555555556,
              "#d8576b"
             ],
             [
              0.6666666666666666,
              "#ed7953"
             ],
             [
              0.7777777777777778,
              "#fb9f3a"
             ],
             [
              0.8888888888888888,
              "#fdca26"
             ],
             [
              1,
              "#f0f921"
             ]
            ],
            "type": "histogram2dcontour"
           }
          ],
          "mesh3d": [
           {
            "colorbar": {
             "outlinewidth": 0,
             "ticks": ""
            },
            "type": "mesh3d"
           }
          ],
          "parcoords": [
           {
            "line": {
             "colorbar": {
              "outlinewidth": 0,
              "ticks": ""
             }
            },
            "type": "parcoords"
           }
          ],
          "pie": [
           {
            "automargin": true,
            "type": "pie"
           }
          ],
          "scatter": [
           {
            "marker": {
             "colorbar": {
              "outlinewidth": 0,
              "ticks": ""
             }
            },
            "type": "scatter"
           }
          ],
          "scatter3d": [
           {
            "line": {
             "colorbar": {
              "outlinewidth": 0,
              "ticks": ""
             }
            },
            "marker": {
             "colorbar": {
              "outlinewidth": 0,
              "ticks": ""
             }
            },
            "type": "scatter3d"
           }
          ],
          "scattercarpet": [
           {
            "marker": {
             "colorbar": {
              "outlinewidth": 0,
              "ticks": ""
             }
            },
            "type": "scattercarpet"
           }
          ],
          "scattergeo": [
           {
            "marker": {
             "colorbar": {
              "outlinewidth": 0,
              "ticks": ""
             }
            },
            "type": "scattergeo"
           }
          ],
          "scattergl": [
           {
            "marker": {
             "colorbar": {
              "outlinewidth": 0,
              "ticks": ""
             }
            },
            "type": "scattergl"
           }
          ],
          "scattermapbox": [
           {
            "marker": {
             "colorbar": {
              "outlinewidth": 0,
              "ticks": ""
             }
            },
            "type": "scattermapbox"
           }
          ],
          "scatterpolar": [
           {
            "marker": {
             "colorbar": {
              "outlinewidth": 0,
              "ticks": ""
             }
            },
            "type": "scatterpolar"
           }
          ],
          "scatterpolargl": [
           {
            "marker": {
             "colorbar": {
              "outlinewidth": 0,
              "ticks": ""
             }
            },
            "type": "scatterpolargl"
           }
          ],
          "scatterternary": [
           {
            "marker": {
             "colorbar": {
              "outlinewidth": 0,
              "ticks": ""
             }
            },
            "type": "scatterternary"
           }
          ],
          "surface": [
           {
            "colorbar": {
             "outlinewidth": 0,
             "ticks": ""
            },
            "colorscale": [
             [
              0,
              "#0d0887"
             ],
             [
              0.1111111111111111,
              "#46039f"
             ],
             [
              0.2222222222222222,
              "#7201a8"
             ],
             [
              0.3333333333333333,
              "#9c179e"
             ],
             [
              0.4444444444444444,
              "#bd3786"
             ],
             [
              0.5555555555555556,
              "#d8576b"
             ],
             [
              0.6666666666666666,
              "#ed7953"
             ],
             [
              0.7777777777777778,
              "#fb9f3a"
             ],
             [
              0.8888888888888888,
              "#fdca26"
             ],
             [
              1,
              "#f0f921"
             ]
            ],
            "type": "surface"
           }
          ],
          "table": [
           {
            "cells": {
             "fill": {
              "color": "#EBF0F8"
             },
             "line": {
              "color": "white"
             }
            },
            "header": {
             "fill": {
              "color": "#C8D4E3"
             },
             "line": {
              "color": "white"
             }
            },
            "type": "table"
           }
          ]
         },
         "layout": {
          "annotationdefaults": {
           "arrowcolor": "#2a3f5f",
           "arrowhead": 0,
           "arrowwidth": 1
          },
          "coloraxis": {
           "colorbar": {
            "outlinewidth": 0,
            "ticks": ""
           }
          },
          "colorscale": {
           "diverging": [
            [
             0,
             "#8e0152"
            ],
            [
             0.1,
             "#c51b7d"
            ],
            [
             0.2,
             "#de77ae"
            ],
            [
             0.3,
             "#f1b6da"
            ],
            [
             0.4,
             "#fde0ef"
            ],
            [
             0.5,
             "#f7f7f7"
            ],
            [
             0.6,
             "#e6f5d0"
            ],
            [
             0.7,
             "#b8e186"
            ],
            [
             0.8,
             "#7fbc41"
            ],
            [
             0.9,
             "#4d9221"
            ],
            [
             1,
             "#276419"
            ]
           ],
           "sequential": [
            [
             0,
             "#0d0887"
            ],
            [
             0.1111111111111111,
             "#46039f"
            ],
            [
             0.2222222222222222,
             "#7201a8"
            ],
            [
             0.3333333333333333,
             "#9c179e"
            ],
            [
             0.4444444444444444,
             "#bd3786"
            ],
            [
             0.5555555555555556,
             "#d8576b"
            ],
            [
             0.6666666666666666,
             "#ed7953"
            ],
            [
             0.7777777777777778,
             "#fb9f3a"
            ],
            [
             0.8888888888888888,
             "#fdca26"
            ],
            [
             1,
             "#f0f921"
            ]
           ],
           "sequentialminus": [
            [
             0,
             "#0d0887"
            ],
            [
             0.1111111111111111,
             "#46039f"
            ],
            [
             0.2222222222222222,
             "#7201a8"
            ],
            [
             0.3333333333333333,
             "#9c179e"
            ],
            [
             0.4444444444444444,
             "#bd3786"
            ],
            [
             0.5555555555555556,
             "#d8576b"
            ],
            [
             0.6666666666666666,
             "#ed7953"
            ],
            [
             0.7777777777777778,
             "#fb9f3a"
            ],
            [
             0.8888888888888888,
             "#fdca26"
            ],
            [
             1,
             "#f0f921"
            ]
           ]
          },
          "colorway": [
           "#636efa",
           "#EF553B",
           "#00cc96",
           "#ab63fa",
           "#FFA15A",
           "#19d3f3",
           "#FF6692",
           "#B6E880",
           "#FF97FF",
           "#FECB52"
          ],
          "font": {
           "color": "#2a3f5f"
          },
          "geo": {
           "bgcolor": "white",
           "lakecolor": "white",
           "landcolor": "#E5ECF6",
           "showlakes": true,
           "showland": true,
           "subunitcolor": "white"
          },
          "hoverlabel": {
           "align": "left"
          },
          "hovermode": "closest",
          "mapbox": {
           "style": "light"
          },
          "paper_bgcolor": "white",
          "plot_bgcolor": "#E5ECF6",
          "polar": {
           "angularaxis": {
            "gridcolor": "white",
            "linecolor": "white",
            "ticks": ""
           },
           "bgcolor": "#E5ECF6",
           "radialaxis": {
            "gridcolor": "white",
            "linecolor": "white",
            "ticks": ""
           }
          },
          "scene": {
           "xaxis": {
            "backgroundcolor": "#E5ECF6",
            "gridcolor": "white",
            "gridwidth": 2,
            "linecolor": "white",
            "showbackground": true,
            "ticks": "",
            "zerolinecolor": "white"
           },
           "yaxis": {
            "backgroundcolor": "#E5ECF6",
            "gridcolor": "white",
            "gridwidth": 2,
            "linecolor": "white",
            "showbackground": true,
            "ticks": "",
            "zerolinecolor": "white"
           },
           "zaxis": {
            "backgroundcolor": "#E5ECF6",
            "gridcolor": "white",
            "gridwidth": 2,
            "linecolor": "white",
            "showbackground": true,
            "ticks": "",
            "zerolinecolor": "white"
           }
          },
          "shapedefaults": {
           "line": {
            "color": "#2a3f5f"
           }
          },
          "ternary": {
           "aaxis": {
            "gridcolor": "white",
            "linecolor": "white",
            "ticks": ""
           },
           "baxis": {
            "gridcolor": "white",
            "linecolor": "white",
            "ticks": ""
           },
           "bgcolor": "#E5ECF6",
           "caxis": {
            "gridcolor": "white",
            "linecolor": "white",
            "ticks": ""
           }
          },
          "title": {
           "x": 0.05
          },
          "xaxis": {
           "automargin": true,
           "gridcolor": "white",
           "linecolor": "white",
           "ticks": "",
           "title": {
            "standoff": 15
           },
           "zerolinecolor": "white",
           "zerolinewidth": 2
          },
          "yaxis": {
           "automargin": true,
           "gridcolor": "white",
           "linecolor": "white",
           "ticks": "",
           "title": {
            "standoff": 15
           },
           "zerolinecolor": "white",
           "zerolinewidth": 2
          }
         }
        },
        "title": {
         "font": {
          "color": "#4D5663"
         }
        },
        "xaxis": {
         "gridcolor": "#E1E5ED",
         "showgrid": true,
         "tickfont": {
          "color": "#4D5663"
         },
         "title": {
          "font": {
           "color": "#4D5663"
          },
          "text": ""
         },
         "zerolinecolor": "#E1E5ED"
        },
        "yaxis": {
         "gridcolor": "#E1E5ED",
         "showgrid": true,
         "tickfont": {
          "color": "#4D5663"
         },
         "title": {
          "font": {
           "color": "#4D5663"
          },
          "text": ""
         },
         "zerolinecolor": "#E1E5ED"
        }
       }
      },
      "text/html": "<div>\n        \n        \n            <div id=\"2127c7c0-b4fd-49f0-bda6-9b3dc8a8593d\" class=\"plotly-graph-div\" style=\"height:525px; width:100%;\"></div>\n            <script type=\"text/javascript\">\n                require([\"plotly\"], function(Plotly) {\n                    window.PLOTLYENV=window.PLOTLYENV || {};\n                    window.PLOTLYENV.BASE_URL='https://plot.ly';\n                    \n                if (document.getElementById(\"2127c7c0-b4fd-49f0-bda6-9b3dc8a8593d\")) {\n                    Plotly.newPlot(\n                        '2127c7c0-b4fd-49f0-bda6-9b3dc8a8593d',\n                        [{\"marker\": {\"color\": \"rgba(255, 153, 51, 0.6)\", \"line\": {\"color\": \"rgba(255, 153, 51, 1.0)\", \"width\": 1}}, \"name\": \"priceByArea\", \"orientation\": \"v\", \"text\": \"\", \"type\": \"bar\", \"x\": [\"Concepci\\u00f3n\", \"Ventas\", \"Berruguete\", \"Bellas Vistas\", \"Cuatro Caminos\", \"Prosperidad\", \"Cuzco-Castillejos\", \"Ciudad Universitaria\", \"Lavapi\\u00e9s-Embajadores\", \"Ciudad Jard\\u00edn\", \"Guindalera\", \"Fuente del Berro\", \"Arapiles\", \"Arg\\u00fcelles\", \"Malasa\\u00f1a-Universidad\", \"Gaztambide\", \"Sol\", \"Huertas-Cortes\", \"Vallehermoso\", \"Nuevos Ministerios-R\\u00edos Rosas\", \"Palacio\", \"Bernab\\u00e9u-Hispanoam\\u00e9rica\", \"Trafalgar\", \"Ibiza\", \"Almagro\", \"Chueca-Justicia\", \"Goya\", \"El Viso\", \"Lista\", \"Jer\\u00f3nimos\", \"Castellana\", \"Ni\\u00f1o Jes\\u00fas\", \"Recoletos\"], \"y\": [2349.5, 2631.0, 2994.0, 3685.0, 3833.0, 3889.0, 4054.0, 4154.0, 4172.0, 4177.0, 4327.0, 4574.0, 4677.5, 4710.0, 4851.5, 4875.0, 4906.0, 4960.5, 5000.0, 5066.0, 5089.0, 5102.0, 5150.0, 5227.0, 5271.0, 5288.0, 5357.0, 5508.0, 5516.0, 5600.0, 5789.0, 6019.0, 6950.0]}],\n                        {\"legend\": {\"bgcolor\": \"#F5F6F9\", \"font\": {\"color\": \"#4D5663\"}}, \"paper_bgcolor\": \"#F5F6F9\", \"plot_bgcolor\": \"#F5F6F9\", \"template\": {\"data\": {\"bar\": [{\"error_x\": {\"color\": \"#2a3f5f\"}, \"error_y\": {\"color\": \"#2a3f5f\"}, \"marker\": {\"line\": {\"color\": \"#E5ECF6\", \"width\": 0.5}}, \"type\": \"bar\"}], \"barpolar\": [{\"marker\": {\"line\": {\"color\": \"#E5ECF6\", \"width\": 0.5}}, \"type\": \"barpolar\"}], \"carpet\": [{\"aaxis\": {\"endlinecolor\": \"#2a3f5f\", \"gridcolor\": \"white\", \"linecolor\": \"white\", \"minorgridcolor\": \"white\", \"startlinecolor\": \"#2a3f5f\"}, \"baxis\": {\"endlinecolor\": \"#2a3f5f\", \"gridcolor\": \"white\", \"linecolor\": \"white\", \"minorgridcolor\": \"white\", \"startlinecolor\": \"#2a3f5f\"}, \"type\": \"carpet\"}], \"choropleth\": [{\"colorbar\": {\"outlinewidth\": 0, \"ticks\": \"\"}, \"type\": \"choropleth\"}], \"contour\": [{\"colorbar\": {\"outlinewidth\": 0, \"ticks\": \"\"}, \"colorscale\": [[0.0, \"#0d0887\"], [0.1111111111111111, \"#46039f\"], [0.2222222222222222, \"#7201a8\"], [0.3333333333333333, \"#9c179e\"], [0.4444444444444444, \"#bd3786\"], [0.5555555555555556, \"#d8576b\"], [0.6666666666666666, \"#ed7953\"], [0.7777777777777778, \"#fb9f3a\"], [0.8888888888888888, \"#fdca26\"], [1.0, \"#f0f921\"]], \"type\": \"contour\"}], \"contourcarpet\": [{\"colorbar\": {\"outlinewidth\": 0, \"ticks\": \"\"}, \"type\": \"contourcarpet\"}], \"heatmap\": [{\"colorbar\": {\"outlinewidth\": 0, \"ticks\": \"\"}, \"colorscale\": [[0.0, \"#0d0887\"], [0.1111111111111111, \"#46039f\"], [0.2222222222222222, \"#7201a8\"], [0.3333333333333333, \"#9c179e\"], [0.4444444444444444, \"#bd3786\"], [0.5555555555555556, \"#d8576b\"], [0.6666666666666666, \"#ed7953\"], [0.7777777777777778, \"#fb9f3a\"], [0.8888888888888888, \"#fdca26\"], [1.0, \"#f0f921\"]], \"type\": \"heatmap\"}], \"heatmapgl\": [{\"colorbar\": {\"outlinewidth\": 0, \"ticks\": \"\"}, \"colorscale\": [[0.0, \"#0d0887\"], [0.1111111111111111, \"#46039f\"], [0.2222222222222222, \"#7201a8\"], [0.3333333333333333, \"#9c179e\"], [0.4444444444444444, \"#bd3786\"], [0.5555555555555556, \"#d8576b\"], [0.6666666666666666, \"#ed7953\"], [0.7777777777777778, \"#fb9f3a\"], [0.8888888888888888, \"#fdca26\"], [1.0, \"#f0f921\"]], \"type\": \"heatmapgl\"}], \"histogram\": [{\"marker\": {\"colorbar\": {\"outlinewidth\": 0, \"ticks\": \"\"}}, \"type\": \"histogram\"}], \"histogram2d\": [{\"colorbar\": {\"outlinewidth\": 0, \"ticks\": \"\"}, \"colorscale\": [[0.0, \"#0d0887\"], [0.1111111111111111, \"#46039f\"], [0.2222222222222222, \"#7201a8\"], [0.3333333333333333, \"#9c179e\"], [0.4444444444444444, \"#bd3786\"], [0.5555555555555556, \"#d8576b\"], [0.6666666666666666, \"#ed7953\"], [0.7777777777777778, \"#fb9f3a\"], [0.8888888888888888, \"#fdca26\"], [1.0, \"#f0f921\"]], \"type\": \"histogram2d\"}], \"histogram2dcontour\": [{\"colorbar\": {\"outlinewidth\": 0, \"ticks\": \"\"}, \"colorscale\": [[0.0, \"#0d0887\"], [0.1111111111111111, \"#46039f\"], [0.2222222222222222, \"#7201a8\"], [0.3333333333333333, \"#9c179e\"], [0.4444444444444444, \"#bd3786\"], [0.5555555555555556, \"#d8576b\"], [0.6666666666666666, \"#ed7953\"], [0.7777777777777778, \"#fb9f3a\"], [0.8888888888888888, \"#fdca26\"], [1.0, \"#f0f921\"]], \"type\": \"histogram2dcontour\"}], \"mesh3d\": [{\"colorbar\": {\"outlinewidth\": 0, \"ticks\": \"\"}, \"type\": \"mesh3d\"}], \"parcoords\": [{\"line\": {\"colorbar\": {\"outlinewidth\": 0, \"ticks\": \"\"}}, \"type\": \"parcoords\"}], \"pie\": [{\"automargin\": true, \"type\": \"pie\"}], \"scatter\": [{\"marker\": {\"colorbar\": {\"outlinewidth\": 0, \"ticks\": \"\"}}, \"type\": \"scatter\"}], \"scatter3d\": [{\"line\": {\"colorbar\": {\"outlinewidth\": 0, \"ticks\": \"\"}}, \"marker\": {\"colorbar\": {\"outlinewidth\": 0, \"ticks\": \"\"}}, \"type\": \"scatter3d\"}], \"scattercarpet\": [{\"marker\": {\"colorbar\": {\"outlinewidth\": 0, \"ticks\": \"\"}}, \"type\": \"scattercarpet\"}], \"scattergeo\": [{\"marker\": {\"colorbar\": {\"outlinewidth\": 0, \"ticks\": \"\"}}, \"type\": \"scattergeo\"}], \"scattergl\": [{\"marker\": {\"colorbar\": {\"outlinewidth\": 0, \"ticks\": \"\"}}, \"type\": \"scattergl\"}], \"scattermapbox\": [{\"marker\": {\"colorbar\": {\"outlinewidth\": 0, \"ticks\": \"\"}}, \"type\": \"scattermapbox\"}], \"scatterpolar\": [{\"marker\": {\"colorbar\": {\"outlinewidth\": 0, \"ticks\": \"\"}}, \"type\": \"scatterpolar\"}], \"scatterpolargl\": [{\"marker\": {\"colorbar\": {\"outlinewidth\": 0, \"ticks\": \"\"}}, \"type\": \"scatterpolargl\"}], \"scatterternary\": [{\"marker\": {\"colorbar\": {\"outlinewidth\": 0, \"ticks\": \"\"}}, \"type\": \"scatterternary\"}], \"surface\": [{\"colorbar\": {\"outlinewidth\": 0, \"ticks\": \"\"}, \"colorscale\": [[0.0, \"#0d0887\"], [0.1111111111111111, \"#46039f\"], [0.2222222222222222, \"#7201a8\"], [0.3333333333333333, \"#9c179e\"], [0.4444444444444444, \"#bd3786\"], [0.5555555555555556, \"#d8576b\"], [0.6666666666666666, \"#ed7953\"], [0.7777777777777778, \"#fb9f3a\"], [0.8888888888888888, \"#fdca26\"], [1.0, \"#f0f921\"]], \"type\": \"surface\"}], \"table\": [{\"cells\": {\"fill\": {\"color\": \"#EBF0F8\"}, \"line\": {\"color\": \"white\"}}, \"header\": {\"fill\": {\"color\": \"#C8D4E3\"}, \"line\": {\"color\": \"white\"}}, \"type\": \"table\"}]}, \"layout\": {\"annotationdefaults\": {\"arrowcolor\": \"#2a3f5f\", \"arrowhead\": 0, \"arrowwidth\": 1}, \"coloraxis\": {\"colorbar\": {\"outlinewidth\": 0, \"ticks\": \"\"}}, \"colorscale\": {\"diverging\": [[0, \"#8e0152\"], [0.1, \"#c51b7d\"], [0.2, \"#de77ae\"], [0.3, \"#f1b6da\"], [0.4, \"#fde0ef\"], [0.5, \"#f7f7f7\"], [0.6, \"#e6f5d0\"], [0.7, \"#b8e186\"], [0.8, \"#7fbc41\"], [0.9, \"#4d9221\"], [1, \"#276419\"]], \"sequential\": [[0.0, \"#0d0887\"], [0.1111111111111111, \"#46039f\"], [0.2222222222222222, \"#7201a8\"], [0.3333333333333333, \"#9c179e\"], [0.4444444444444444, \"#bd3786\"], [0.5555555555555556, \"#d8576b\"], [0.6666666666666666, \"#ed7953\"], [0.7777777777777778, \"#fb9f3a\"], [0.8888888888888888, \"#fdca26\"], [1.0, \"#f0f921\"]], \"sequentialminus\": [[0.0, \"#0d0887\"], [0.1111111111111111, \"#46039f\"], [0.2222222222222222, \"#7201a8\"], [0.3333333333333333, \"#9c179e\"], [0.4444444444444444, \"#bd3786\"], [0.5555555555555556, \"#d8576b\"], [0.6666666666666666, \"#ed7953\"], [0.7777777777777778, \"#fb9f3a\"], [0.8888888888888888, \"#fdca26\"], [1.0, \"#f0f921\"]]}, \"colorway\": [\"#636efa\", \"#EF553B\", \"#00cc96\", \"#ab63fa\", \"#FFA15A\", \"#19d3f3\", \"#FF6692\", \"#B6E880\", \"#FF97FF\", \"#FECB52\"], \"font\": {\"color\": \"#2a3f5f\"}, \"geo\": {\"bgcolor\": \"white\", \"lakecolor\": \"white\", \"landcolor\": \"#E5ECF6\", \"showlakes\": true, \"showland\": true, \"subunitcolor\": \"white\"}, \"hoverlabel\": {\"align\": \"left\"}, \"hovermode\": \"closest\", \"mapbox\": {\"style\": \"light\"}, \"paper_bgcolor\": \"white\", \"plot_bgcolor\": \"#E5ECF6\", \"polar\": {\"angularaxis\": {\"gridcolor\": \"white\", \"linecolor\": \"white\", \"ticks\": \"\"}, \"bgcolor\": \"#E5ECF6\", \"radialaxis\": {\"gridcolor\": \"white\", \"linecolor\": \"white\", \"ticks\": \"\"}}, \"scene\": {\"xaxis\": {\"backgroundcolor\": \"#E5ECF6\", \"gridcolor\": \"white\", \"gridwidth\": 2, \"linecolor\": \"white\", \"showbackground\": true, \"ticks\": \"\", \"zerolinecolor\": \"white\"}, \"yaxis\": {\"backgroundcolor\": \"#E5ECF6\", \"gridcolor\": \"white\", \"gridwidth\": 2, \"linecolor\": \"white\", \"showbackground\": true, \"ticks\": \"\", \"zerolinecolor\": \"white\"}, \"zaxis\": {\"backgroundcolor\": \"#E5ECF6\", \"gridcolor\": \"white\", \"gridwidth\": 2, \"linecolor\": \"white\", \"showbackground\": true, \"ticks\": \"\", \"zerolinecolor\": \"white\"}}, \"shapedefaults\": {\"line\": {\"color\": \"#2a3f5f\"}}, \"ternary\": {\"aaxis\": {\"gridcolor\": \"white\", \"linecolor\": \"white\", \"ticks\": \"\"}, \"baxis\": {\"gridcolor\": \"white\", \"linecolor\": \"white\", \"ticks\": \"\"}, \"bgcolor\": \"#E5ECF6\", \"caxis\": {\"gridcolor\": \"white\", \"linecolor\": \"white\", \"ticks\": \"\"}}, \"title\": {\"x\": 0.05}, \"xaxis\": {\"automargin\": true, \"gridcolor\": \"white\", \"linecolor\": \"white\", \"ticks\": \"\", \"title\": {\"standoff\": 15}, \"zerolinecolor\": \"white\", \"zerolinewidth\": 2}, \"yaxis\": {\"automargin\": true, \"gridcolor\": \"white\", \"linecolor\": \"white\", \"ticks\": \"\", \"title\": {\"standoff\": 15}, \"zerolinecolor\": \"white\", \"zerolinewidth\": 2}}}, \"title\": {\"font\": {\"color\": \"#4D5663\"}}, \"xaxis\": {\"gridcolor\": \"#E1E5ED\", \"showgrid\": true, \"tickfont\": {\"color\": \"#4D5663\"}, \"title\": {\"font\": {\"color\": \"#4D5663\"}, \"text\": \"\"}, \"zerolinecolor\": \"#E1E5ED\"}, \"yaxis\": {\"gridcolor\": \"#E1E5ED\", \"showgrid\": true, \"tickfont\": {\"color\": \"#4D5663\"}, \"title\": {\"font\": {\"color\": \"#4D5663\"}, \"text\": \"\"}, \"zerolinecolor\": \"#E1E5ED\"}},\n                        {\"showLink\": true, \"linkText\": \"Export to plot.ly\", \"plotlyServerURL\": \"https://plot.ly\", \"responsive\": true}\n                    ).then(function(){\n                            \nvar gd = document.getElementById('2127c7c0-b4fd-49f0-bda6-9b3dc8a8593d');\nvar x = new MutationObserver(function (mutations, observer) {{\n        var display = window.getComputedStyle(gd).display;\n        if (!display || display === 'none') {{\n            console.log([gd, 'removed!']);\n            Plotly.purge(gd);\n            observer.disconnect();\n        }}\n}});\n\n// Listen for the removal of the full notebook cells\nvar notebookContainer = gd.closest('#notebook-container');\nif (notebookContainer) {{\n    x.observe(notebookContainer, {childList: true});\n}}\n\n// Listen for the clearing of the current output cell\nvar outputEl = gd.closest('.output');\nif (outputEl) {{\n    x.observe(outputEl, {childList: true});\n}}\n\n                        })\n                };\n                });\n            </script>\n        </div>"
     },
     "metadata": {}
    }
   ],
   "source": [
    "df.groupby('neighborhood').agg({'priceByArea':'median'}).sort_values(by='priceByArea').iplot(kind='bar')"
   ]
  },
  {
   "cell_type": "code",
   "execution_count": 5,
   "metadata": {},
   "outputs": [
    {
     "output_type": "display_data",
     "data": {
      "application/vnd.plotly.v1+json": {
       "config": {
        "linkText": "Export to plot.ly",
        "plotlyServerURL": "https://plot.ly",
        "showLink": true
       },
       "data": [
        {
         "line": {
          "color": "rgba(255, 153, 51, 1.0)",
          "dash": "solid",
          "shape": "linear",
          "width": 1.3
         },
         "marker": {
          "size": 12,
          "symbol": "circle"
         },
         "mode": "markers",
         "name": "priceByArea",
         "text": "",
         "type": "scatter",
         "x": [
          55,
          56,
          28,
          35,
          52,
          76,
          67,
          58,
          89,
          81,
          82,
          79,
          36,
          60,
          63,
          65,
          58,
          83,
          59,
          69,
          62,
          61,
          42,
          60,
          48,
          54,
          59,
          36,
          37,
          106,
          90,
          60,
          69,
          38,
          49,
          43,
          61,
          53,
          37,
          83,
          50,
          60,
          80,
          27,
          44,
          65,
          43,
          43,
          27,
          38,
          43,
          47,
          78,
          50,
          45,
          95,
          67,
          51,
          35,
          84,
          90,
          48,
          88,
          35,
          37,
          80,
          50,
          60,
          61,
          72,
          73,
          70,
          52,
          36,
          44,
          69,
          62,
          55,
          65,
          28,
          85,
          36,
          76,
          56,
          50,
          65,
          215,
          33,
          49,
          49,
          64,
          52,
          57,
          53,
          38,
          65,
          81,
          45,
          90,
          69,
          58,
          92,
          51,
          40,
          54,
          69,
          32,
          77,
          73,
          50,
          58,
          33,
          79,
          32,
          53,
          55,
          53,
          49,
          115,
          95,
          65,
          48,
          35,
          45,
          42,
          74,
          81,
          57,
          49,
          34,
          89,
          112,
          20,
          60,
          121,
          86,
          65,
          46,
          89,
          71,
          84,
          90,
          98,
          57,
          75,
          40,
          51,
          80,
          64,
          45,
          56,
          48,
          34,
          82,
          60,
          63,
          55,
          73,
          23,
          48,
          39,
          37,
          40,
          104,
          95,
          62,
          75,
          82,
          62,
          44,
          49,
          67,
          63,
          66,
          43,
          45,
          46,
          65,
          74,
          20,
          55,
          49,
          68,
          36,
          73,
          39,
          34,
          90,
          73,
          52,
          42,
          34,
          55,
          45,
          53,
          80,
          60,
          69,
          98,
          80,
          65,
          62,
          64,
          58,
          43,
          49,
          30,
          50,
          43,
          79,
          39,
          79,
          97,
          40,
          50,
          40,
          73,
          26,
          70,
          50,
          72,
          65,
          87,
          37,
          21,
          75,
          42,
          66,
          61,
          60,
          68,
          36,
          46,
          58,
          51,
          40,
          52,
          81,
          81,
          100,
          52,
          65,
          65,
          33,
          43,
          62,
          55,
          76,
          60,
          90,
          61,
          23,
          30,
          78,
          46,
          29,
          24,
          60,
          60,
          50,
          41,
          72,
          28,
          45,
          48,
          30,
          43,
          31,
          40,
          70,
          36,
          58,
          43,
          69,
          65,
          72,
          61,
          40,
          40,
          55,
          31,
          47,
          39,
          27,
          64,
          53,
          60,
          37,
          41,
          47,
          40,
          33,
          89,
          72,
          68,
          69,
          79,
          28,
          40,
          62,
          20,
          42,
          94,
          56,
          70,
          51,
          50,
          59,
          26,
          80,
          41,
          64,
          66,
          44,
          17,
          79,
          77,
          123,
          104,
          73,
          59,
          54,
          58,
          65,
          40,
          30,
          50,
          52,
          67,
          36,
          34,
          43,
          35,
          72,
          50,
          35,
          90,
          42,
          80,
          57,
          37,
          35,
          50,
          46,
          35,
          34,
          40,
          47,
          89,
          63,
          56,
          78,
          33,
          129,
          30,
          50,
          50,
          35,
          38,
          40,
          50,
          82,
          61,
          82,
          59,
          56,
          30,
          43,
          50,
          60,
          43,
          55,
          49,
          52,
          35,
          35,
          57,
          90,
          89,
          95,
          81,
          90,
          35,
          42,
          74,
          62,
          79,
          40,
          35,
          73,
          52,
          50,
          47,
          46,
          47,
          78,
          94,
          116,
          56,
          46,
          42,
          55,
          60,
          70,
          56,
          74,
          70,
          81,
          42,
          35,
          71,
          48,
          42,
          54,
          88,
          37,
          80,
          79,
          46,
          66,
          54,
          65,
          63,
          95,
          100,
          41,
          59,
          30,
          37,
          50,
          35,
          65,
          50,
          45,
          24,
          44,
          61,
          35,
          65,
          54,
          47,
          61,
          69,
          50,
          42,
          41,
          65,
          94,
          70,
          33,
          68,
          57,
          32,
          73,
          33,
          89,
          45,
          61,
          75,
          25,
          55,
          32,
          80,
          50,
          67,
          46,
          35,
          55,
          41,
          82,
          65,
          37,
          76,
          55,
          65,
          65,
          25,
          50,
          46,
          91,
          40,
          36,
          36,
          75,
          51,
          48,
          37,
          40,
          63,
          39,
          54,
          25,
          61,
          72,
          37,
          100,
          48,
          55,
          69,
          37,
          47,
          31,
          51,
          79,
          76,
          67,
          72,
          44,
          40,
          30,
          60,
          36,
          38,
          25,
          49,
          49,
          66,
          36,
          42,
          48,
          40,
          89,
          59,
          64,
          78,
          52,
          25,
          50,
          46,
          50,
          43,
          65,
          44,
          63,
          55,
          67,
          44,
          36,
          58,
          61,
          36,
          35,
          51,
          26,
          40,
          45,
          40,
          81,
          44,
          54,
          54,
          31,
          35,
          44,
          75,
          68,
          57,
          48,
          66,
          50,
          46,
          74,
          30,
          37,
          29,
          43,
          25,
          40,
          48,
          66,
          35,
          61,
          58,
          81,
          50,
          49,
          68,
          65,
          36,
          65,
          44,
          101,
          71,
          57,
          54,
          76,
          65,
          48,
          66,
          75,
          46,
          30,
          75,
          45,
          40,
          33,
          66,
          60,
          35,
          20,
          56,
          79,
          63,
          30,
          41,
          30,
          60,
          74,
          67,
          51,
          70,
          48,
          57,
          76,
          106,
          48,
          60,
          61,
          52,
          67,
          75,
          75,
          54,
          63,
          38,
          40,
          38,
          25,
          44,
          68,
          44,
          79,
          60,
          44,
          73,
          44,
          148,
          44,
          55,
          74,
          88,
          82,
          75,
          35,
          45,
          58,
          30,
          50,
          42,
          36,
          59,
          85,
          50,
          47,
          63,
          50,
          110,
          78,
          33,
          32,
          63,
          117,
          64,
          40,
          40,
          65,
          67,
          90,
          44,
          43,
          104,
          35,
          50,
          66,
          98,
          65,
          70,
          68,
          67,
          41,
          58,
          42,
          73,
          60,
          50,
          29,
          50,
          54,
          36,
          62,
          58,
          72,
          63,
          39,
          80,
          43,
          48,
          85,
          72,
          41,
          30,
          47,
          77,
          58,
          79,
          50,
          41,
          62,
          90,
          72,
          40,
          63,
          35,
          55,
          60,
          54,
          65,
          24,
          54,
          87,
          50,
          118,
          114,
          62,
          53,
          88,
          90,
          42,
          79,
          60,
          40,
          54,
          125,
          55,
          73,
          107,
          41,
          43,
          30,
          46,
          37,
          57,
          35,
          47,
          63,
          53,
          36,
          36,
          58,
          41,
          79,
          57,
          123,
          77,
          71,
          71,
          55,
          94,
          82,
          101,
          54,
          82,
          53,
          38,
          91,
          70,
          32,
          60,
          55,
          67,
          50,
          62,
          55,
          66,
          67,
          110,
          63,
          50,
          45,
          88,
          65,
          52,
          38,
          70,
          81,
          91,
          60,
          118,
          37,
          86,
          62,
          54,
          75,
          52,
          48,
          94,
          34,
          39,
          54,
          64,
          51,
          40,
          58,
          60,
          50,
          45,
          59,
          39,
          67,
          40,
          46,
          39,
          41,
          82,
          50,
          47,
          44,
          44,
          46,
          74,
          35,
          69,
          60,
          70,
          37,
          65,
          45,
          30,
          33,
          32,
          51,
          69,
          65,
          80,
          112,
          29,
          68,
          45,
          48,
          42,
          70,
          46,
          66,
          118,
          50,
          89,
          42,
          42,
          68,
          46,
          31,
          39,
          71,
          32,
          41,
          55,
          39,
          50,
          60,
          56,
          50,
          80,
          33,
          49,
          75,
          45,
          48,
          66,
          92,
          57,
          49,
          39,
          93,
          39,
          33,
          86,
          42,
          60,
          43,
          49,
          29,
          58,
          20,
          40,
          65,
          84,
          70,
          32,
          31,
          43,
          34,
          42,
          51,
          66,
          36,
          52,
          34,
          70,
          31,
          42,
          35,
          52,
          42,
          69,
          56,
          60,
          37,
          85,
          50,
          37,
          69,
          43,
          37,
          78,
          50,
          33,
          35,
          60,
          42,
          30,
          25,
          46,
          44,
          37,
          43,
          63,
          68,
          60,
          42
         ],
         "y": [
          5909,
          6071,
          9464,
          5571,
          6058,
          3684,
          4776,
          4121,
          3843,
          3679,
          3841,
          4051,
          4692,
          4417,
          4048,
          5077,
          4172,
          3614,
          5422,
          4855,
          4355,
          5656,
          4262,
          5750,
          5000,
          6019,
          4407,
          6778,
          4865,
          3198,
          3311,
          4983,
          4043,
          5526,
          3876,
          4628,
          4508,
          5472,
          7838,
          3855,
          6500,
          4833,
          3688,
          6222,
          5452,
          3369,
          3021,
          4628,
          7852,
          8553,
          3953,
          4872,
          4231,
          5200,
          4333,
          3158,
          5209,
          5294,
          7571,
          3798,
          3878,
          5833,
          3966,
          6429,
          6351,
          3437,
          4900,
          4333,
          5738,
          3722,
          3836,
          3429,
          5481,
          5694,
          6568,
          3986,
          4339,
          3618,
          3385,
          5893,
          3647,
          5556,
          4276,
          3929,
          5900,
          4154,
          1312,
          6364,
          4490,
          6224,
          4375,
          6250,
          3684,
          6038,
          6053,
          3938,
          3074,
          5333,
          3778,
          5072,
          3017,
          3641,
          4706,
          4975,
          6019,
          2391,
          5000,
          3883,
          3288,
          5500,
          6034,
          4212,
          3797,
          5313,
          5281,
          3618,
          3585,
          5020,
          2391,
          2737,
          3000,
          6229,
          4571,
          4433,
          8088,
          4054,
          4321,
          4386,
          4388,
          8206,
          3843,
          1777,
          7250,
          3250,
          2231,
          3603,
          3385,
          5261,
          3573,
          4408,
          3512,
          3878,
          3418,
          4333,
          3133,
          4725,
          4627,
          4250,
          3828,
          3978,
          5500,
          7292,
          6176,
          3902,
          5495,
          5397,
          3509,
          4096,
          10217,
          7292,
          7179,
          5108,
          6250,
          3356,
          3463,
          5468,
          3987,
          2415,
          5242,
          4318,
          4367,
          3730,
          5540,
          5000,
          3442,
          5007,
          6065,
          4615,
          4054,
          8750,
          3727,
          5408,
          4632,
          6083,
          4781,
          5462,
          4618,
          3878,
          4315,
          4904,
          3321,
          7059,
          5636,
          5756,
          4906,
          3063,
          4983,
          5071,
          2847,
          3238,
          3692,
          3629,
          4297,
          4741,
          4767,
          7143,
          6167,
          5800,
          5767,
          3481,
          4846,
          3405,
          2371,
          3475,
          5900,
          6125,
          4795,
          4231,
          4857,
          5380,
          4028,
          4923,
          2759,
          8946,
          8333,
          4622,
          4738,
          4424,
          5164,
          5833,
          4853,
          6111,
          4780,
          4655,
          3314,
          4425,
          4962,
          3580,
          3889,
          2700,
          4423,
          4385,
          3692,
          6000,
          4628,
          4710,
          3764,
          4605,
          5167,
          2989,
          2869,
          5000,
          4333,
          4359,
          2978,
          5483,
          6625,
          4167,
          5100,
          4520,
          4878,
          4236,
          5536,
          4111,
          7292,
          6167,
          4651,
          7097,
          7475,
          3686,
          4583,
          4879,
          4186,
          5072,
          4615,
          4722,
          3426,
          8625,
          5750,
          5545,
          5000,
          4255,
          4744,
          4815,
          5141,
          6415,
          5483,
          6892,
          6098,
          4021,
          6625,
          6000,
          3820,
          3736,
          4853,
          4884,
          3278,
          5536,
          3875,
          5161,
          9500,
          3262,
          3681,
          4607,
          3594,
          3814,
          6500,
          5678,
          6885,
          4275,
          2927,
          3906,
          3470,
          6591,
          7759,
          3772,
          3740,
          2602,
          3163,
          4342,
          3636,
          5185,
          5684,
          3385,
          4875,
          6633,
          3700,
          5731,
          5075,
          5167,
          6765,
          4395,
          5086,
          3750,
          4380,
          5286,
          3767,
          6667,
          4306,
          4123,
          6838,
          4429,
          4900,
          5826,
          3857,
          5441,
          4850,
          5532,
          3921,
          4444,
          4464,
          4231,
          6000,
          2558,
          5967,
          3680,
          5300,
          2971,
          5237,
          3375,
          3960,
          2312,
          4508,
          2312,
          4237,
          3607,
          7000,
          3035,
          5320,
          5833,
          4302,
          5091,
          6327,
          5865,
          5286,
          7714,
          4737,
          3389,
          3652,
          3053,
          3679,
          3333,
          6143,
          7119,
          3709,
          5161,
          4430,
          6000,
          5429,
          4370,
          4808,
          6000,
          4883,
          4663,
          4681,
          4449,
          3606,
          2940,
          5089,
          7609,
          5952,
          5818,
          3433,
          4871,
          5089,
          4581,
          4986,
          4309,
          6667,
          4543,
          3873,
          4125,
          6548,
          6278,
          3635,
          4865,
          3438,
          3405,
          5652,
          4697,
          5185,
          5000,
          5397,
          3053,
          2590,
          4439,
          5220,
          5833,
          5216,
          3900,
          4714,
          4585,
          3700,
          3089,
          7000,
          6773,
          4885,
          5371,
          5062,
          5278,
          5638,
          4508,
          5014,
          6400,
          6667,
          5244,
          4600,
          2543,
          4571,
          4818,
          4853,
          4333,
          4969,
          4795,
          4758,
          3933,
          5904,
          4180,
          4133,
          5996,
          6182,
          4406,
          3400,
          5000,
          4925,
          5326,
          4857,
          3635,
          6220,
          3488,
          3998,
          7027,
          4408,
          4818,
          3985,
          2677,
          6520,
          6934,
          7602,
          3791,
          3250,
          5139,
          4667,
          3893,
          4902,
          4146,
          5405,
          5100,
          5397,
          5385,
          5185,
          6760,
          5066,
          4792,
          5811,
          3150,
          7063,
          4727,
          4710,
          4054,
          4574,
          5323,
          4627,
          2785,
          4474,
          4254,
          4028,
          5409,
          6475,
          5000,
          3320,
          5139,
          4868,
          6360,
          5000,
          3265,
          4848,
          6361,
          5476,
          4125,
          2875,
          2910,
          2678,
          4047,
          4103,
          3827,
          6200,
          5500,
          7391,
          4800,
          5488,
          5154,
          7159,
          3095,
          5564,
          4403,
          5341,
          5139,
          4121,
          3508,
          5139,
          5857,
          4627,
          4419,
          6750,
          4156,
          5500,
          3198,
          4205,
          5000,
          5537,
          4839,
          5429,
          7159,
          3587,
          3809,
          3456,
          6146,
          4470,
          3980,
          5435,
          2162,
          6333,
          7027,
          6517,
          5000,
          5596,
          6500,
          5396,
          3939,
          6457,
          4672,
          5000,
          3074,
          5600,
          4796,
          2426,
          4585,
          5139,
          3831,
          5909,
          3386,
          3423,
          4096,
          6278,
          4605,
          4231,
          4979,
          5288,
          3067,
          4304,
          4667,
          2867,
          5331,
          3900,
          6030,
          5136,
          5583,
          5286,
          8450,
          3920,
          3037,
          4921,
          6667,
          6951,
          7917,
          4500,
          4054,
          4836,
          4627,
          4857,
          4542,
          3684,
          2355,
          2547,
          4542,
          3417,
          3918,
          5000,
          4254,
          4533,
          4653,
          5370,
          3206,
          4211,
          5250,
          4447,
          7960,
          5227,
          4853,
          5455,
          4038,
          5817,
          5114,
          4658,
          4159,
          1824,
          6477,
          4527,
          3041,
          3920,
          4207,
          2387,
          4714,
          5311,
          3447,
          6667,
          4690,
          5476,
          8000,
          5508,
          3059,
          5200,
          5213,
          5397,
          4780,
          3082,
          3503,
          4515,
          6156,
          4524,
          2547,
          5000,
          6200,
          4875,
          5385,
          4284,
          2989,
          4295,
          3977,
          2985,
          6286,
          5700,
          4318,
          2653,
          4600,
          3714,
          5000,
          3672,
          4388,
          4293,
          4738,
          3274,
          5417,
          5960,
          6483,
          6100,
          4426,
          5139,
          4355,
          4914,
          4653,
          4095,
          3590,
          3125,
          5233,
          6875,
          3471,
          4653,
          5241,
          5200,
          4447,
          4091,
          4914,
          4177,
          3680,
          5122,
          2887,
          3222,
          2750,
          3625,
          3333,
          4971,
          3618,
          3833,
          3704,
          3615,
          6792,
          5185,
          4023,
          6900,
          2280,
          2631,
          4016,
          5281,
          3625,
          3889,
          7857,
          4051,
          3500,
          7500,
          5185,
          2400,
          4345,
          4656,
          2523,
          6293,
          3035,
          3667,
          7391,
          4865,
          4561,
          3686,
          5213,
          4127,
          5472,
          5275,
          5833,
          5862,
          3634,
          3772,
          5789,
          2602,
          3740,
          4502,
          4437,
          5636,
          3681,
          3963,
          3257,
          6296,
          4012,
          6226,
          4921,
          3165,
          4257,
          5938,
          5483,
          3691,
          2985,
          4940,
          4823,
          6000,
          3939,
          4687,
          3109,
          4587,
          4940,
          4422,
          3807,
          5077,
          5385,
          7237,
          3929,
          4074,
          3165,
          5833,
          2458,
          4838,
          3663,
          4806,
          5167,
          4533,
          6538,
          3958,
          2830,
          4971,
          4487,
          5370,
          5469,
          3920,
          5125,
          5345,
          3500,
          6872,
          7747,
          5076,
          4744,
          4776,
          6250,
          7578,
          7656,
          7905,
          3415,
          5600,
          7417,
          7582,
          7468,
          5217,
          3189,
          3686,
          4275,
          3833,
          3571,
          8081,
          3231,
          6622,
          5033,
          3788,
          7344,
          5863,
          4435,
          4154,
          3000,
          1777,
          5845,
          4412,
          6622,
          5313,
          5357,
          4643,
          4348,
          4773,
          1693,
          6950,
          3365,
          6190,
          4619,
          5147,
          5000,
          7581,
          7667,
          4507,
          7156,
          4366,
          5091,
          3205,
          5200,
          5483,
          6161,
          4380,
          3375,
          4242,
          4898,
          3700,
          6156,
          6979,
          4242,
          3152,
          5351,
          5510,
          4538,
          3763,
          7128,
          6364,
          3779,
          5950,
          4583,
          5814,
          4898,
          3621,
          3172,
          5350,
          3975,
          3569,
          3798,
          3843,
          5781,
          5000,
          2791,
          4912,
          6143,
          6647,
          3924,
          5139,
          3462,
          4912,
          3700,
          5645,
          6310,
          4000,
          2404,
          6310,
          4275,
          5714,
          4317,
          4838,
          3118,
          3500,
          5000,
          3543,
          3372,
          3568,
          2436,
          3800,
          5121,
          5971,
          4583,
          4119,
          6167,
          6360,
          5217,
          6000,
          3568,
          2907,
          2833,
          3897,
          4000,
          7857
         ]
        }
       ],
       "layout": {
        "legend": {
         "bgcolor": "#F5F6F9",
         "font": {
          "color": "#4D5663"
         }
        },
        "paper_bgcolor": "#F5F6F9",
        "plot_bgcolor": "#F5F6F9",
        "template": {
         "data": {
          "bar": [
           {
            "error_x": {
             "color": "#2a3f5f"
            },
            "error_y": {
             "color": "#2a3f5f"
            },
            "marker": {
             "line": {
              "color": "#E5ECF6",
              "width": 0.5
             }
            },
            "type": "bar"
           }
          ],
          "barpolar": [
           {
            "marker": {
             "line": {
              "color": "#E5ECF6",
              "width": 0.5
             }
            },
            "type": "barpolar"
           }
          ],
          "carpet": [
           {
            "aaxis": {
             "endlinecolor": "#2a3f5f",
             "gridcolor": "white",
             "linecolor": "white",
             "minorgridcolor": "white",
             "startlinecolor": "#2a3f5f"
            },
            "baxis": {
             "endlinecolor": "#2a3f5f",
             "gridcolor": "white",
             "linecolor": "white",
             "minorgridcolor": "white",
             "startlinecolor": "#2a3f5f"
            },
            "type": "carpet"
           }
          ],
          "choropleth": [
           {
            "colorbar": {
             "outlinewidth": 0,
             "ticks": ""
            },
            "type": "choropleth"
           }
          ],
          "contour": [
           {
            "colorbar": {
             "outlinewidth": 0,
             "ticks": ""
            },
            "colorscale": [
             [
              0,
              "#0d0887"
             ],
             [
              0.1111111111111111,
              "#46039f"
             ],
             [
              0.2222222222222222,
              "#7201a8"
             ],
             [
              0.3333333333333333,
              "#9c179e"
             ],
             [
              0.4444444444444444,
              "#bd3786"
             ],
             [
              0.5555555555555556,
              "#d8576b"
             ],
             [
              0.6666666666666666,
              "#ed7953"
             ],
             [
              0.7777777777777778,
              "#fb9f3a"
             ],
             [
              0.8888888888888888,
              "#fdca26"
             ],
             [
              1,
              "#f0f921"
             ]
            ],
            "type": "contour"
           }
          ],
          "contourcarpet": [
           {
            "colorbar": {
             "outlinewidth": 0,
             "ticks": ""
            },
            "type": "contourcarpet"
           }
          ],
          "heatmap": [
           {
            "colorbar": {
             "outlinewidth": 0,
             "ticks": ""
            },
            "colorscale": [
             [
              0,
              "#0d0887"
             ],
             [
              0.1111111111111111,
              "#46039f"
             ],
             [
              0.2222222222222222,
              "#7201a8"
             ],
             [
              0.3333333333333333,
              "#9c179e"
             ],
             [
              0.4444444444444444,
              "#bd3786"
             ],
             [
              0.5555555555555556,
              "#d8576b"
             ],
             [
              0.6666666666666666,
              "#ed7953"
             ],
             [
              0.7777777777777778,
              "#fb9f3a"
             ],
             [
              0.8888888888888888,
              "#fdca26"
             ],
             [
              1,
              "#f0f921"
             ]
            ],
            "type": "heatmap"
           }
          ],
          "heatmapgl": [
           {
            "colorbar": {
             "outlinewidth": 0,
             "ticks": ""
            },
            "colorscale": [
             [
              0,
              "#0d0887"
             ],
             [
              0.1111111111111111,
              "#46039f"
             ],
             [
              0.2222222222222222,
              "#7201a8"
             ],
             [
              0.3333333333333333,
              "#9c179e"
             ],
             [
              0.4444444444444444,
              "#bd3786"
             ],
             [
              0.5555555555555556,
              "#d8576b"
             ],
             [
              0.6666666666666666,
              "#ed7953"
             ],
             [
              0.7777777777777778,
              "#fb9f3a"
             ],
             [
              0.8888888888888888,
              "#fdca26"
             ],
             [
              1,
              "#f0f921"
             ]
            ],
            "type": "heatmapgl"
           }
          ],
          "histogram": [
           {
            "marker": {
             "colorbar": {
              "outlinewidth": 0,
              "ticks": ""
             }
            },
            "type": "histogram"
           }
          ],
          "histogram2d": [
           {
            "colorbar": {
             "outlinewidth": 0,
             "ticks": ""
            },
            "colorscale": [
             [
              0,
              "#0d0887"
             ],
             [
              0.1111111111111111,
              "#46039f"
             ],
             [
              0.2222222222222222,
              "#7201a8"
             ],
             [
              0.3333333333333333,
              "#9c179e"
             ],
             [
              0.4444444444444444,
              "#bd3786"
             ],
             [
              0.5555555555555556,
              "#d8576b"
             ],
             [
              0.6666666666666666,
              "#ed7953"
             ],
             [
              0.7777777777777778,
              "#fb9f3a"
             ],
             [
              0.8888888888888888,
              "#fdca26"
             ],
             [
              1,
              "#f0f921"
             ]
            ],
            "type": "histogram2d"
           }
          ],
          "histogram2dcontour": [
           {
            "colorbar": {
             "outlinewidth": 0,
             "ticks": ""
            },
            "colorscale": [
             [
              0,
              "#0d0887"
             ],
             [
              0.1111111111111111,
              "#46039f"
             ],
             [
              0.2222222222222222,
              "#7201a8"
             ],
             [
              0.3333333333333333,
              "#9c179e"
             ],
             [
              0.4444444444444444,
              "#bd3786"
             ],
             [
              0.5555555555555556,
              "#d8576b"
             ],
             [
              0.6666666666666666,
              "#ed7953"
             ],
             [
              0.7777777777777778,
              "#fb9f3a"
             ],
             [
              0.8888888888888888,
              "#fdca26"
             ],
             [
              1,
              "#f0f921"
             ]
            ],
            "type": "histogram2dcontour"
           }
          ],
          "mesh3d": [
           {
            "colorbar": {
             "outlinewidth": 0,
             "ticks": ""
            },
            "type": "mesh3d"
           }
          ],
          "parcoords": [
           {
            "line": {
             "colorbar": {
              "outlinewidth": 0,
              "ticks": ""
             }
            },
            "type": "parcoords"
           }
          ],
          "pie": [
           {
            "automargin": true,
            "type": "pie"
           }
          ],
          "scatter": [
           {
            "marker": {
             "colorbar": {
              "outlinewidth": 0,
              "ticks": ""
             }
            },
            "type": "scatter"
           }
          ],
          "scatter3d": [
           {
            "line": {
             "colorbar": {
              "outlinewidth": 0,
              "ticks": ""
             }
            },
            "marker": {
             "colorbar": {
              "outlinewidth": 0,
              "ticks": ""
             }
            },
            "type": "scatter3d"
           }
          ],
          "scattercarpet": [
           {
            "marker": {
             "colorbar": {
              "outlinewidth": 0,
              "ticks": ""
             }
            },
            "type": "scattercarpet"
           }
          ],
          "scattergeo": [
           {
            "marker": {
             "colorbar": {
              "outlinewidth": 0,
              "ticks": ""
             }
            },
            "type": "scattergeo"
           }
          ],
          "scattergl": [
           {
            "marker": {
             "colorbar": {
              "outlinewidth": 0,
              "ticks": ""
             }
            },
            "type": "scattergl"
           }
          ],
          "scattermapbox": [
           {
            "marker": {
             "colorbar": {
              "outlinewidth": 0,
              "ticks": ""
             }
            },
            "type": "scattermapbox"
           }
          ],
          "scatterpolar": [
           {
            "marker": {
             "colorbar": {
              "outlinewidth": 0,
              "ticks": ""
             }
            },
            "type": "scatterpolar"
           }
          ],
          "scatterpolargl": [
           {
            "marker": {
             "colorbar": {
              "outlinewidth": 0,
              "ticks": ""
             }
            },
            "type": "scatterpolargl"
           }
          ],
          "scatterternary": [
           {
            "marker": {
             "colorbar": {
              "outlinewidth": 0,
              "ticks": ""
             }
            },
            "type": "scatterternary"
           }
          ],
          "surface": [
           {
            "colorbar": {
             "outlinewidth": 0,
             "ticks": ""
            },
            "colorscale": [
             [
              0,
              "#0d0887"
             ],
             [
              0.1111111111111111,
              "#46039f"
             ],
             [
              0.2222222222222222,
              "#7201a8"
             ],
             [
              0.3333333333333333,
              "#9c179e"
             ],
             [
              0.4444444444444444,
              "#bd3786"
             ],
             [
              0.5555555555555556,
              "#d8576b"
             ],
             [
              0.6666666666666666,
              "#ed7953"
             ],
             [
              0.7777777777777778,
              "#fb9f3a"
             ],
             [
              0.8888888888888888,
              "#fdca26"
             ],
             [
              1,
              "#f0f921"
             ]
            ],
            "type": "surface"
           }
          ],
          "table": [
           {
            "cells": {
             "fill": {
              "color": "#EBF0F8"
             },
             "line": {
              "color": "white"
             }
            },
            "header": {
             "fill": {
              "color": "#C8D4E3"
             },
             "line": {
              "color": "white"
             }
            },
            "type": "table"
           }
          ]
         },
         "layout": {
          "annotationdefaults": {
           "arrowcolor": "#2a3f5f",
           "arrowhead": 0,
           "arrowwidth": 1
          },
          "coloraxis": {
           "colorbar": {
            "outlinewidth": 0,
            "ticks": ""
           }
          },
          "colorscale": {
           "diverging": [
            [
             0,
             "#8e0152"
            ],
            [
             0.1,
             "#c51b7d"
            ],
            [
             0.2,
             "#de77ae"
            ],
            [
             0.3,
             "#f1b6da"
            ],
            [
             0.4,
             "#fde0ef"
            ],
            [
             0.5,
             "#f7f7f7"
            ],
            [
             0.6,
             "#e6f5d0"
            ],
            [
             0.7,
             "#b8e186"
            ],
            [
             0.8,
             "#7fbc41"
            ],
            [
             0.9,
             "#4d9221"
            ],
            [
             1,
             "#276419"
            ]
           ],
           "sequential": [
            [
             0,
             "#0d0887"
            ],
            [
             0.1111111111111111,
             "#46039f"
            ],
            [
             0.2222222222222222,
             "#7201a8"
            ],
            [
             0.3333333333333333,
             "#9c179e"
            ],
            [
             0.4444444444444444,
             "#bd3786"
            ],
            [
             0.5555555555555556,
             "#d8576b"
            ],
            [
             0.6666666666666666,
             "#ed7953"
            ],
            [
             0.7777777777777778,
             "#fb9f3a"
            ],
            [
             0.8888888888888888,
             "#fdca26"
            ],
            [
             1,
             "#f0f921"
            ]
           ],
           "sequentialminus": [
            [
             0,
             "#0d0887"
            ],
            [
             0.1111111111111111,
             "#46039f"
            ],
            [
             0.2222222222222222,
             "#7201a8"
            ],
            [
             0.3333333333333333,
             "#9c179e"
            ],
            [
             0.4444444444444444,
             "#bd3786"
            ],
            [
             0.5555555555555556,
             "#d8576b"
            ],
            [
             0.6666666666666666,
             "#ed7953"
            ],
            [
             0.7777777777777778,
             "#fb9f3a"
            ],
            [
             0.8888888888888888,
             "#fdca26"
            ],
            [
             1,
             "#f0f921"
            ]
           ]
          },
          "colorway": [
           "#636efa",
           "#EF553B",
           "#00cc96",
           "#ab63fa",
           "#FFA15A",
           "#19d3f3",
           "#FF6692",
           "#B6E880",
           "#FF97FF",
           "#FECB52"
          ],
          "font": {
           "color": "#2a3f5f"
          },
          "geo": {
           "bgcolor": "white",
           "lakecolor": "white",
           "landcolor": "#E5ECF6",
           "showlakes": true,
           "showland": true,
           "subunitcolor": "white"
          },
          "hoverlabel": {
           "align": "left"
          },
          "hovermode": "closest",
          "mapbox": {
           "style": "light"
          },
          "paper_bgcolor": "white",
          "plot_bgcolor": "#E5ECF6",
          "polar": {
           "angularaxis": {
            "gridcolor": "white",
            "linecolor": "white",
            "ticks": ""
           },
           "bgcolor": "#E5ECF6",
           "radialaxis": {
            "gridcolor": "white",
            "linecolor": "white",
            "ticks": ""
           }
          },
          "scene": {
           "xaxis": {
            "backgroundcolor": "#E5ECF6",
            "gridcolor": "white",
            "gridwidth": 2,
            "linecolor": "white",
            "showbackground": true,
            "ticks": "",
            "zerolinecolor": "white"
           },
           "yaxis": {
            "backgroundcolor": "#E5ECF6",
            "gridcolor": "white",
            "gridwidth": 2,
            "linecolor": "white",
            "showbackground": true,
            "ticks": "",
            "zerolinecolor": "white"
           },
           "zaxis": {
            "backgroundcolor": "#E5ECF6",
            "gridcolor": "white",
            "gridwidth": 2,
            "linecolor": "white",
            "showbackground": true,
            "ticks": "",
            "zerolinecolor": "white"
           }
          },
          "shapedefaults": {
           "line": {
            "color": "#2a3f5f"
           }
          },
          "ternary": {
           "aaxis": {
            "gridcolor": "white",
            "linecolor": "white",
            "ticks": ""
           },
           "baxis": {
            "gridcolor": "white",
            "linecolor": "white",
            "ticks": ""
           },
           "bgcolor": "#E5ECF6",
           "caxis": {
            "gridcolor": "white",
            "linecolor": "white",
            "ticks": ""
           }
          },
          "title": {
           "x": 0.05
          },
          "xaxis": {
           "automargin": true,
           "gridcolor": "white",
           "linecolor": "white",
           "ticks": "",
           "title": {
            "standoff": 15
           },
           "zerolinecolor": "white",
           "zerolinewidth": 2
          },
          "yaxis": {
           "automargin": true,
           "gridcolor": "white",
           "linecolor": "white",
           "ticks": "",
           "title": {
            "standoff": 15
           },
           "zerolinecolor": "white",
           "zerolinewidth": 2
          }
         }
        },
        "title": {
         "font": {
          "color": "#4D5663"
         }
        },
        "xaxis": {
         "gridcolor": "#E1E5ED",
         "showgrid": true,
         "tickfont": {
          "color": "#4D5663"
         },
         "title": {
          "font": {
           "color": "#4D5663"
          },
          "text": ""
         },
         "zerolinecolor": "#E1E5ED"
        },
        "yaxis": {
         "gridcolor": "#E1E5ED",
         "showgrid": true,
         "tickfont": {
          "color": "#4D5663"
         },
         "title": {
          "font": {
           "color": "#4D5663"
          },
          "text": ""
         },
         "zerolinecolor": "#E1E5ED"
        }
       }
      },
      "text/html": "<div>\n        \n        \n            <div id=\"25bb454e-2972-49c1-b7cd-d00cd22137a6\" class=\"plotly-graph-div\" style=\"height:525px; width:100%;\"></div>\n            <script type=\"text/javascript\">\n                require([\"plotly\"], function(Plotly) {\n                    window.PLOTLYENV=window.PLOTLYENV || {};\n                    window.PLOTLYENV.BASE_URL='https://plot.ly';\n                    \n                if (document.getElementById(\"25bb454e-2972-49c1-b7cd-d00cd22137a6\")) {\n                    Plotly.newPlot(\n                        '25bb454e-2972-49c1-b7cd-d00cd22137a6',\n                        [{\"line\": {\"color\": \"rgba(255, 153, 51, 1.0)\", \"dash\": \"solid\", \"shape\": \"linear\", \"width\": 1.3}, \"marker\": {\"size\": 12, \"symbol\": \"circle\"}, \"mode\": \"markers\", \"name\": \"priceByArea\", \"text\": \"\", \"type\": \"scatter\", \"x\": [55.0, 56.0, 28.0, 35.0, 52.0, 76.0, 67.0, 58.0, 89.0, 81.0, 82.0, 79.0, 36.0, 60.0, 63.0, 65.0, 58.0, 83.0, 59.0, 69.0, 62.0, 61.0, 42.0, 60.0, 48.0, 54.0, 59.0, 36.0, 37.0, 106.0, 90.0, 60.0, 69.0, 38.0, 49.0, 43.0, 61.0, 53.0, 37.0, 83.0, 50.0, 60.0, 80.0, 27.0, 44.0, 65.0, 43.0, 43.0, 27.0, 38.0, 43.0, 47.0, 78.0, 50.0, 45.0, 95.0, 67.0, 51.0, 35.0, 84.0, 90.0, 48.0, 88.0, 35.0, 37.0, 80.0, 50.0, 60.0, 61.0, 72.0, 73.0, 70.0, 52.0, 36.0, 44.0, 69.0, 62.0, 55.0, 65.0, 28.0, 85.0, 36.0, 76.0, 56.0, 50.0, 65.0, 215.0, 33.0, 49.0, 49.0, 64.0, 52.0, 57.0, 53.0, 38.0, 65.0, 81.0, 45.0, 90.0, 69.0, 58.0, 92.0, 51.0, 40.0, 54.0, 69.0, 32.0, 77.0, 73.0, 50.0, 58.0, 33.0, 79.0, 32.0, 53.0, 55.0, 53.0, 49.0, 115.0, 95.0, 65.0, 48.0, 35.0, 45.0, 42.0, 74.0, 81.0, 57.0, 49.0, 34.0, 89.0, 112.0, 20.0, 60.0, 121.0, 86.0, 65.0, 46.0, 89.0, 71.0, 84.0, 90.0, 98.0, 57.0, 75.0, 40.0, 51.0, 80.0, 64.0, 45.0, 56.0, 48.0, 34.0, 82.0, 60.0, 63.0, 55.0, 73.0, 23.0, 48.0, 39.0, 37.0, 40.0, 104.0, 95.0, 62.0, 75.0, 82.0, 62.0, 44.0, 49.0, 67.0, 63.0, 66.0, 43.0, 45.0, 46.0, 65.0, 74.0, 20.0, 55.0, 49.0, 68.0, 36.0, 73.0, 39.0, 34.0, 90.0, 73.0, 52.0, 42.0, 34.0, 55.0, 45.0, 53.0, 80.0, 60.0, 69.0, 98.0, 80.0, 65.0, 62.0, 64.0, 58.0, 43.0, 49.0, 30.0, 50.0, 43.0, 79.0, 39.0, 79.0, 97.0, 40.0, 50.0, 40.0, 73.0, 26.0, 70.0, 50.0, 72.0, 65.0, 87.0, 37.0, 21.0, 75.0, 42.0, 66.0, 61.0, 60.0, 68.0, 36.0, 46.0, 58.0, 51.0, 40.0, 52.0, 81.0, 81.0, 100.0, 52.0, 65.0, 65.0, 33.0, 43.0, 62.0, 55.0, 76.0, 60.0, 90.0, 61.0, 23.0, 30.0, 78.0, 46.0, 29.0, 24.0, 60.0, 60.0, 50.0, 41.0, 72.0, 28.0, 45.0, 48.0, 30.0, 43.0, 31.0, 40.0, 70.0, 36.0, 58.0, 43.0, 69.0, 65.0, 72.0, 61.0, 40.0, 40.0, 55.0, 31.0, 47.0, 39.0, 27.0, 64.0, 53.0, 60.0, 37.0, 41.0, 47.0, 40.0, 33.0, 89.0, 72.0, 68.0, 69.0, 79.0, 28.0, 40.0, 62.0, 20.0, 42.0, 94.0, 56.0, 70.0, 51.0, 50.0, 59.0, 26.0, 80.0, 41.0, 64.0, 66.0, 44.0, 17.0, 79.0, 77.0, 123.0, 104.0, 73.0, 59.0, 54.0, 58.0, 65.0, 40.0, 30.0, 50.0, 52.0, 67.0, 36.0, 34.0, 43.0, 35.0, 72.0, 50.0, 35.0, 90.0, 42.0, 80.0, 57.0, 37.0, 35.0, 50.0, 46.0, 35.0, 34.0, 40.0, 47.0, 89.0, 63.0, 56.0, 78.0, 33.0, 129.0, 30.0, 50.0, 50.0, 35.0, 38.0, 40.0, 50.0, 82.0, 61.0, 82.0, 59.0, 56.0, 30.0, 43.0, 50.0, 60.0, 43.0, 55.0, 49.0, 52.0, 35.0, 35.0, 57.0, 90.0, 89.0, 95.0, 81.0, 90.0, 35.0, 42.0, 74.0, 62.0, 79.0, 40.0, 35.0, 73.0, 52.0, 50.0, 47.0, 46.0, 47.0, 78.0, 94.0, 116.0, 56.0, 46.0, 42.0, 55.0, 60.0, 70.0, 56.0, 74.0, 70.0, 81.0, 42.0, 35.0, 71.0, 48.0, 42.0, 54.0, 88.0, 37.0, 80.0, 79.0, 46.0, 66.0, 54.0, 65.0, 63.0, 95.0, 100.0, 41.0, 59.0, 30.0, 37.0, 50.0, 35.0, 65.0, 50.0, 45.0, 24.0, 44.0, 61.0, 35.0, 65.0, 54.0, 47.0, 61.0, 69.0, 50.0, 42.0, 41.0, 65.0, 94.0, 70.0, 33.0, 68.0, 57.0, 32.0, 73.0, 33.0, 89.0, 45.0, 61.0, 75.0, 25.0, 55.0, 32.0, 80.0, 50.0, 67.0, 46.0, 35.0, 55.0, 41.0, 82.0, 65.0, 37.0, 76.0, 55.0, 65.0, 65.0, 25.0, 50.0, 46.0, 91.0, 40.0, 36.0, 36.0, 75.0, 51.0, 48.0, 37.0, 40.0, 63.0, 39.0, 54.0, 25.0, 61.0, 72.0, 37.0, 100.0, 48.0, 55.0, 69.0, 37.0, 47.0, 31.0, 51.0, 79.0, 76.0, 67.0, 72.0, 44.0, 40.0, 30.0, 60.0, 36.0, 38.0, 25.0, 49.0, 49.0, 66.0, 36.0, 42.0, 48.0, 40.0, 89.0, 59.0, 64.0, 78.0, 52.0, 25.0, 50.0, 46.0, 50.0, 43.0, 65.0, 44.0, 63.0, 55.0, 67.0, 44.0, 36.0, 58.0, 61.0, 36.0, 35.0, 51.0, 26.0, 40.0, 45.0, 40.0, 81.0, 44.0, 54.0, 54.0, 31.0, 35.0, 44.0, 75.0, 68.0, 57.0, 48.0, 66.0, 50.0, 46.0, 74.0, 30.0, 37.0, 29.0, 43.0, 25.0, 40.0, 48.0, 66.0, 35.0, 61.0, 58.0, 81.0, 50.0, 49.0, 68.0, 65.0, 36.0, 65.0, 44.0, 101.0, 71.0, 57.0, 54.0, 76.0, 65.0, 48.0, 66.0, 75.0, 46.0, 30.0, 75.0, 45.0, 40.0, 33.0, 66.0, 60.0, 35.0, 20.0, 56.0, 79.0, 63.0, 30.0, 41.0, 30.0, 60.0, 74.0, 67.0, 51.0, 70.0, 48.0, 57.0, 76.0, 106.0, 48.0, 60.0, 61.0, 52.0, 67.0, 75.0, 75.0, 54.0, 63.0, 38.0, 40.0, 38.0, 25.0, 44.0, 68.0, 44.0, 79.0, 60.0, 44.0, 73.0, 44.0, 148.0, 44.0, 55.0, 74.0, 88.0, 82.0, 75.0, 35.0, 45.0, 58.0, 30.0, 50.0, 42.0, 36.0, 59.0, 85.0, 50.0, 47.0, 63.0, 50.0, 110.0, 78.0, 33.0, 32.0, 63.0, 117.0, 64.0, 40.0, 40.0, 65.0, 67.0, 90.0, 44.0, 43.0, 104.0, 35.0, 50.0, 66.0, 98.0, 65.0, 70.0, 68.0, 67.0, 41.0, 58.0, 42.0, 73.0, 60.0, 50.0, 29.0, 50.0, 54.0, 36.0, 62.0, 58.0, 72.0, 63.0, 39.0, 80.0, 43.0, 48.0, 85.0, 72.0, 41.0, 30.0, 47.0, 77.0, 58.0, 79.0, 50.0, 41.0, 62.0, 90.0, 72.0, 40.0, 63.0, 35.0, 55.0, 60.0, 54.0, 65.0, 24.0, 54.0, 87.0, 50.0, 118.0, 114.0, 62.0, 53.0, 88.0, 90.0, 42.0, 79.0, 60.0, 40.0, 54.0, 125.0, 55.0, 73.0, 107.0, 41.0, 43.0, 30.0, 46.0, 37.0, 57.0, 35.0, 47.0, 63.0, 53.0, 36.0, 36.0, 58.0, 41.0, 79.0, 57.0, 123.0, 77.0, 71.0, 71.0, 55.0, 94.0, 82.0, 101.0, 54.0, 82.0, 53.0, 38.0, 91.0, 70.0, 32.0, 60.0, 55.0, 67.0, 50.0, 62.0, 55.0, 66.0, 67.0, 110.0, 63.0, 50.0, 45.0, 88.0, 65.0, 52.0, 38.0, 70.0, 81.0, 91.0, 60.0, 118.0, 37.0, 86.0, 62.0, 54.0, 75.0, 52.0, 48.0, 94.0, 34.0, 39.0, 54.0, 64.0, 51.0, 40.0, 58.0, 60.0, 50.0, 45.0, 59.0, 39.0, 67.0, 40.0, 46.0, 39.0, 41.0, 82.0, 50.0, 47.0, 44.0, 44.0, 46.0, 74.0, 35.0, 69.0, 60.0, 70.0, 37.0, 65.0, 45.0, 30.0, 33.0, 32.0, 51.0, 69.0, 65.0, 80.0, 112.0, 29.0, 68.0, 45.0, 48.0, 42.0, 70.0, 46.0, 66.0, 118.0, 50.0, 89.0, 42.0, 42.0, 68.0, 46.0, 31.0, 39.0, 71.0, 32.0, 41.0, 55.0, 39.0, 50.0, 60.0, 56.0, 50.0, 80.0, 33.0, 49.0, 75.0, 45.0, 48.0, 66.0, 92.0, 57.0, 49.0, 39.0, 93.0, 39.0, 33.0, 86.0, 42.0, 60.0, 43.0, 49.0, 29.0, 58.0, 20.0, 40.0, 65.0, 84.0, 70.0, 32.0, 31.0, 43.0, 34.0, 42.0, 51.0, 66.0, 36.0, 52.0, 34.0, 70.0, 31.0, 42.0, 35.0, 52.0, 42.0, 69.0, 56.0, 60.0, 37.0, 85.0, 50.0, 37.0, 69.0, 43.0, 37.0, 78.0, 50.0, 33.0, 35.0, 60.0, 42.0, 30.0, 25.0, 46.0, 44.0, 37.0, 43.0, 63.0, 68.0, 60.0, 42.0], \"y\": [5909.0, 6071.0, 9464.0, 5571.0, 6058.0, 3684.0, 4776.0, 4121.0, 3843.0, 3679.0, 3841.0, 4051.0, 4692.0, 4417.0, 4048.0, 5077.0, 4172.0, 3614.0, 5422.0, 4855.0, 4355.0, 5656.0, 4262.0, 5750.0, 5000.0, 6019.0, 4407.0, 6778.0, 4865.0, 3198.0, 3311.0, 4983.0, 4043.0, 5526.0, 3876.0, 4628.0, 4508.0, 5472.0, 7838.0, 3855.0, 6500.0, 4833.0, 3688.0, 6222.0, 5452.0, 3369.0, 3021.0, 4628.0, 7852.0, 8553.0, 3953.0, 4872.0, 4231.0, 5200.0, 4333.0, 3158.0, 5209.0, 5294.0, 7571.0, 3798.0, 3878.0, 5833.0, 3966.0, 6429.0, 6351.0, 3437.0, 4900.0, 4333.0, 5738.0, 3722.0, 3836.0, 3429.0, 5481.0, 5694.0, 6568.0, 3986.0, 4339.0, 3618.0, 3385.0, 5893.0, 3647.0, 5556.0, 4276.0, 3929.0, 5900.0, 4154.0, 1312.0, 6364.0, 4490.0, 6224.0, 4375.0, 6250.0, 3684.0, 6038.0, 6053.0, 3938.0, 3074.0, 5333.0, 3778.0, 5072.0, 3017.0, 3641.0, 4706.0, 4975.0, 6019.0, 2391.0, 5000.0, 3883.0, 3288.0, 5500.0, 6034.0, 4212.0, 3797.0, 5313.0, 5281.0, 3618.0, 3585.0, 5020.0, 2391.0, 2737.0, 3000.0, 6229.0, 4571.0, 4433.0, 8088.0, 4054.0, 4321.0, 4386.0, 4388.0, 8206.0, 3843.0, 1777.0, 7250.0, 3250.0, 2231.0, 3603.0, 3385.0, 5261.0, 3573.0, 4408.0, 3512.0, 3878.0, 3418.0, 4333.0, 3133.0, 4725.0, 4627.0, 4250.0, 3828.0, 3978.0, 5500.0, 7292.0, 6176.0, 3902.0, 5495.0, 5397.0, 3509.0, 4096.0, 10217.0, 7292.0, 7179.0, 5108.0, 6250.0, 3356.0, 3463.0, 5468.0, 3987.0, 2415.0, 5242.0, 4318.0, 4367.0, 3730.0, 5540.0, 5000.0, 3442.0, 5007.0, 6065.0, 4615.0, 4054.0, 8750.0, 3727.0, 5408.0, 4632.0, 6083.0, 4781.0, 5462.0, 4618.0, 3878.0, 4315.0, 4904.0, 3321.0, 7059.0, 5636.0, 5756.0, 4906.0, 3063.0, 4983.0, 5071.0, 2847.0, 3238.0, 3692.0, 3629.0, 4297.0, 4741.0, 4767.0, 7143.0, 6167.0, 5800.0, 5767.0, 3481.0, 4846.0, 3405.0, 2371.0, 3475.0, 5900.0, 6125.0, 4795.0, 4231.0, 4857.0, 5380.0, 4028.0, 4923.0, 2759.0, 8946.0, 8333.0, 4622.0, 4738.0, 4424.0, 5164.0, 5833.0, 4853.0, 6111.0, 4780.0, 4655.0, 3314.0, 4425.0, 4962.0, 3580.0, 3889.0, 2700.0, 4423.0, 4385.0, 3692.0, 6000.0, 4628.0, 4710.0, 3764.0, 4605.0, 5167.0, 2989.0, 2869.0, 5000.0, 4333.0, 4359.0, 2978.0, 5483.0, 6625.0, 4167.0, 5100.0, 4520.0, 4878.0, 4236.0, 5536.0, 4111.0, 7292.0, 6167.0, 4651.0, 7097.0, 7475.0, 3686.0, 4583.0, 4879.0, 4186.0, 5072.0, 4615.0, 4722.0, 3426.0, 8625.0, 5750.0, 5545.0, 5000.0, 4255.0, 4744.0, 4815.0, 5141.0, 6415.0, 5483.0, 6892.0, 6098.0, 4021.0, 6625.0, 6000.0, 3820.0, 3736.0, 4853.0, 4884.0, 3278.0, 5536.0, 3875.0, 5161.0, 9500.0, 3262.0, 3681.0, 4607.0, 3594.0, 3814.0, 6500.0, 5678.0, 6885.0, 4275.0, 2927.0, 3906.0, 3470.0, 6591.0, 7759.0, 3772.0, 3740.0, 2602.0, 3163.0, 4342.0, 3636.0, 5185.0, 5684.0, 3385.0, 4875.0, 6633.0, 3700.0, 5731.0, 5075.0, 5167.0, 6765.0, 4395.0, 5086.0, 3750.0, 4380.0, 5286.0, 3767.0, 6667.0, 4306.0, 4123.0, 6838.0, 4429.0, 4900.0, 5826.0, 3857.0, 5441.0, 4850.0, 5532.0, 3921.0, 4444.0, 4464.0, 4231.0, 6000.0, 2558.0, 5967.0, 3680.0, 5300.0, 2971.0, 5237.0, 3375.0, 3960.0, 2312.0, 4508.0, 2312.0, 4237.0, 3607.0, 7000.0, 3035.0, 5320.0, 5833.0, 4302.0, 5091.0, 6327.0, 5865.0, 5286.0, 7714.0, 4737.0, 3389.0, 3652.0, 3053.0, 3679.0, 3333.0, 6143.0, 7119.0, 3709.0, 5161.0, 4430.0, 6000.0, 5429.0, 4370.0, 4808.0, 6000.0, 4883.0, 4663.0, 4681.0, 4449.0, 3606.0, 2940.0, 5089.0, 7609.0, 5952.0, 5818.0, 3433.0, 4871.0, 5089.0, 4581.0, 4986.0, 4309.0, 6667.0, 4543.0, 3873.0, 4125.0, 6548.0, 6278.0, 3635.0, 4865.0, 3438.0, 3405.0, 5652.0, 4697.0, 5185.0, 5000.0, 5397.0, 3053.0, 2590.0, 4439.0, 5220.0, 5833.0, 5216.0, 3900.0, 4714.0, 4585.0, 3700.0, 3089.0, 7000.0, 6773.0, 4885.0, 5371.0, 5062.0, 5278.0, 5638.0, 4508.0, 5014.0, 6400.0, 6667.0, 5244.0, 4600.0, 2543.0, 4571.0, 4818.0, 4853.0, 4333.0, 4969.0, 4795.0, 4758.0, 3933.0, 5904.0, 4180.0, 4133.0, 5996.0, 6182.0, 4406.0, 3400.0, 5000.0, 4925.0, 5326.0, 4857.0, 3635.0, 6220.0, 3488.0, 3998.0, 7027.0, 4408.0, 4818.0, 3985.0, 2677.0, 6520.0, 6934.0, 7602.0, 3791.0, 3250.0, 5139.0, 4667.0, 3893.0, 4902.0, 4146.0, 5405.0, 5100.0, 5397.0, 5385.0, 5185.0, 6760.0, 5066.0, 4792.0, 5811.0, 3150.0, 7063.0, 4727.0, 4710.0, 4054.0, 4574.0, 5323.0, 4627.0, 2785.0, 4474.0, 4254.0, 4028.0, 5409.0, 6475.0, 5000.0, 3320.0, 5139.0, 4868.0, 6360.0, 5000.0, 3265.0, 4848.0, 6361.0, 5476.0, 4125.0, 2875.0, 2910.0, 2678.0, 4047.0, 4103.0, 3827.0, 6200.0, 5500.0, 7391.0, 4800.0, 5488.0, 5154.0, 7159.0, 3095.0, 5564.0, 4403.0, 5341.0, 5139.0, 4121.0, 3508.0, 5139.0, 5857.0, 4627.0, 4419.0, 6750.0, 4156.0, 5500.0, 3198.0, 4205.0, 5000.0, 5537.0, 4839.0, 5429.0, 7159.0, 3587.0, 3809.0, 3456.0, 6146.0, 4470.0, 3980.0, 5435.0, 2162.0, 6333.0, 7027.0, 6517.0, 5000.0, 5596.0, 6500.0, 5396.0, 3939.0, 6457.0, 4672.0, 5000.0, 3074.0, 5600.0, 4796.0, 2426.0, 4585.0, 5139.0, 3831.0, 5909.0, 3386.0, 3423.0, 4096.0, 6278.0, 4605.0, 4231.0, 4979.0, 5288.0, 3067.0, 4304.0, 4667.0, 2867.0, 5331.0, 3900.0, 6030.0, 5136.0, 5583.0, 5286.0, 8450.0, 3920.0, 3037.0, 4921.0, 6667.0, 6951.0, 7917.0, 4500.0, 4054.0, 4836.0, 4627.0, 4857.0, 4542.0, 3684.0, 2355.0, 2547.0, 4542.0, 3417.0, 3918.0, 5000.0, 4254.0, 4533.0, 4653.0, 5370.0, 3206.0, 4211.0, 5250.0, 4447.0, 7960.0, 5227.0, 4853.0, 5455.0, 4038.0, 5817.0, 5114.0, 4658.0, 4159.0, 1824.0, 6477.0, 4527.0, 3041.0, 3920.0, 4207.0, 2387.0, 4714.0, 5311.0, 3447.0, 6667.0, 4690.0, 5476.0, 8000.0, 5508.0, 3059.0, 5200.0, 5213.0, 5397.0, 4780.0, 3082.0, 3503.0, 4515.0, 6156.0, 4524.0, 2547.0, 5000.0, 6200.0, 4875.0, 5385.0, 4284.0, 2989.0, 4295.0, 3977.0, 2985.0, 6286.0, 5700.0, 4318.0, 2653.0, 4600.0, 3714.0, 5000.0, 3672.0, 4388.0, 4293.0, 4738.0, 3274.0, 5417.0, 5960.0, 6483.0, 6100.0, 4426.0, 5139.0, 4355.0, 4914.0, 4653.0, 4095.0, 3590.0, 3125.0, 5233.0, 6875.0, 3471.0, 4653.0, 5241.0, 5200.0, 4447.0, 4091.0, 4914.0, 4177.0, 3680.0, 5122.0, 2887.0, 3222.0, 2750.0, 3625.0, 3333.0, 4971.0, 3618.0, 3833.0, 3704.0, 3615.0, 6792.0, 5185.0, 4023.0, 6900.0, 2280.0, 2631.0, 4016.0, 5281.0, 3625.0, 3889.0, 7857.0, 4051.0, 3500.0, 7500.0, 5185.0, 2400.0, 4345.0, 4656.0, 2523.0, 6293.0, 3035.0, 3667.0, 7391.0, 4865.0, 4561.0, 3686.0, 5213.0, 4127.0, 5472.0, 5275.0, 5833.0, 5862.0, 3634.0, 3772.0, 5789.0, 2602.0, 3740.0, 4502.0, 4437.0, 5636.0, 3681.0, 3963.0, 3257.0, 6296.0, 4012.0, 6226.0, 4921.0, 3165.0, 4257.0, 5938.0, 5483.0, 3691.0, 2985.0, 4940.0, 4823.0, 6000.0, 3939.0, 4687.0, 3109.0, 4587.0, 4940.0, 4422.0, 3807.0, 5077.0, 5385.0, 7237.0, 3929.0, 4074.0, 3165.0, 5833.0, 2458.0, 4838.0, 3663.0, 4806.0, 5167.0, 4533.0, 6538.0, 3958.0, 2830.0, 4971.0, 4487.0, 5370.0, 5469.0, 3920.0, 5125.0, 5345.0, 3500.0, 6872.0, 7747.0, 5076.0, 4744.0, 4776.0, 6250.0, 7578.0, 7656.0, 7905.0, 3415.0, 5600.0, 7417.0, 7582.0, 7468.0, 5217.0, 3189.0, 3686.0, 4275.0, 3833.0, 3571.0, 8081.0, 3231.0, 6622.0, 5033.0, 3788.0, 7344.0, 5863.0, 4435.0, 4154.0, 3000.0, 1777.0, 5845.0, 4412.0, 6622.0, 5313.0, 5357.0, 4643.0, 4348.0, 4773.0, 1693.0, 6950.0, 3365.0, 6190.0, 4619.0, 5147.0, 5000.0, 7581.0, 7667.0, 4507.0, 7156.0, 4366.0, 5091.0, 3205.0, 5200.0, 5483.0, 6161.0, 4380.0, 3375.0, 4242.0, 4898.0, 3700.0, 6156.0, 6979.0, 4242.0, 3152.0, 5351.0, 5510.0, 4538.0, 3763.0, 7128.0, 6364.0, 3779.0, 5950.0, 4583.0, 5814.0, 4898.0, 3621.0, 3172.0, 5350.0, 3975.0, 3569.0, 3798.0, 3843.0, 5781.0, 5000.0, 2791.0, 4912.0, 6143.0, 6647.0, 3924.0, 5139.0, 3462.0, 4912.0, 3700.0, 5645.0, 6310.0, 4000.0, 2404.0, 6310.0, 4275.0, 5714.0, 4317.0, 4838.0, 3118.0, 3500.0, 5000.0, 3543.0, 3372.0, 3568.0, 2436.0, 3800.0, 5121.0, 5971.0, 4583.0, 4119.0, 6167.0, 6360.0, 5217.0, 6000.0, 3568.0, 2907.0, 2833.0, 3897.0, 4000.0, 7857.0]}],\n                        {\"legend\": {\"bgcolor\": \"#F5F6F9\", \"font\": {\"color\": \"#4D5663\"}}, \"paper_bgcolor\": \"#F5F6F9\", \"plot_bgcolor\": \"#F5F6F9\", \"template\": {\"data\": {\"bar\": [{\"error_x\": {\"color\": \"#2a3f5f\"}, \"error_y\": {\"color\": \"#2a3f5f\"}, \"marker\": {\"line\": {\"color\": \"#E5ECF6\", \"width\": 0.5}}, \"type\": \"bar\"}], \"barpolar\": [{\"marker\": {\"line\": {\"color\": \"#E5ECF6\", \"width\": 0.5}}, \"type\": \"barpolar\"}], \"carpet\": [{\"aaxis\": {\"endlinecolor\": \"#2a3f5f\", \"gridcolor\": \"white\", \"linecolor\": \"white\", \"minorgridcolor\": \"white\", \"startlinecolor\": \"#2a3f5f\"}, \"baxis\": {\"endlinecolor\": \"#2a3f5f\", \"gridcolor\": \"white\", \"linecolor\": \"white\", \"minorgridcolor\": \"white\", \"startlinecolor\": \"#2a3f5f\"}, \"type\": \"carpet\"}], \"choropleth\": [{\"colorbar\": {\"outlinewidth\": 0, \"ticks\": \"\"}, \"type\": \"choropleth\"}], \"contour\": [{\"colorbar\": {\"outlinewidth\": 0, \"ticks\": \"\"}, \"colorscale\": [[0.0, \"#0d0887\"], [0.1111111111111111, \"#46039f\"], [0.2222222222222222, \"#7201a8\"], [0.3333333333333333, \"#9c179e\"], [0.4444444444444444, \"#bd3786\"], [0.5555555555555556, \"#d8576b\"], [0.6666666666666666, \"#ed7953\"], [0.7777777777777778, \"#fb9f3a\"], [0.8888888888888888, \"#fdca26\"], [1.0, \"#f0f921\"]], \"type\": \"contour\"}], \"contourcarpet\": [{\"colorbar\": {\"outlinewidth\": 0, \"ticks\": \"\"}, \"type\": \"contourcarpet\"}], \"heatmap\": [{\"colorbar\": {\"outlinewidth\": 0, \"ticks\": \"\"}, \"colorscale\": [[0.0, \"#0d0887\"], [0.1111111111111111, \"#46039f\"], [0.2222222222222222, \"#7201a8\"], [0.3333333333333333, \"#9c179e\"], [0.4444444444444444, \"#bd3786\"], [0.5555555555555556, \"#d8576b\"], [0.6666666666666666, \"#ed7953\"], [0.7777777777777778, \"#fb9f3a\"], [0.8888888888888888, \"#fdca26\"], [1.0, \"#f0f921\"]], \"type\": \"heatmap\"}], \"heatmapgl\": [{\"colorbar\": {\"outlinewidth\": 0, \"ticks\": \"\"}, \"colorscale\": [[0.0, \"#0d0887\"], [0.1111111111111111, \"#46039f\"], [0.2222222222222222, \"#7201a8\"], [0.3333333333333333, \"#9c179e\"], [0.4444444444444444, \"#bd3786\"], [0.5555555555555556, \"#d8576b\"], [0.6666666666666666, \"#ed7953\"], [0.7777777777777778, \"#fb9f3a\"], [0.8888888888888888, \"#fdca26\"], [1.0, \"#f0f921\"]], \"type\": \"heatmapgl\"}], \"histogram\": [{\"marker\": {\"colorbar\": {\"outlinewidth\": 0, \"ticks\": \"\"}}, \"type\": \"histogram\"}], \"histogram2d\": [{\"colorbar\": {\"outlinewidth\": 0, \"ticks\": \"\"}, \"colorscale\": [[0.0, \"#0d0887\"], [0.1111111111111111, \"#46039f\"], [0.2222222222222222, \"#7201a8\"], [0.3333333333333333, \"#9c179e\"], [0.4444444444444444, \"#bd3786\"], [0.5555555555555556, \"#d8576b\"], [0.6666666666666666, \"#ed7953\"], [0.7777777777777778, \"#fb9f3a\"], [0.8888888888888888, \"#fdca26\"], [1.0, \"#f0f921\"]], \"type\": \"histogram2d\"}], \"histogram2dcontour\": [{\"colorbar\": {\"outlinewidth\": 0, \"ticks\": \"\"}, \"colorscale\": [[0.0, \"#0d0887\"], [0.1111111111111111, \"#46039f\"], [0.2222222222222222, \"#7201a8\"], [0.3333333333333333, \"#9c179e\"], [0.4444444444444444, \"#bd3786\"], [0.5555555555555556, \"#d8576b\"], [0.6666666666666666, \"#ed7953\"], [0.7777777777777778, \"#fb9f3a\"], [0.8888888888888888, \"#fdca26\"], [1.0, \"#f0f921\"]], \"type\": \"histogram2dcontour\"}], \"mesh3d\": [{\"colorbar\": {\"outlinewidth\": 0, \"ticks\": \"\"}, \"type\": \"mesh3d\"}], \"parcoords\": [{\"line\": {\"colorbar\": {\"outlinewidth\": 0, \"ticks\": \"\"}}, \"type\": \"parcoords\"}], \"pie\": [{\"automargin\": true, \"type\": \"pie\"}], \"scatter\": [{\"marker\": {\"colorbar\": {\"outlinewidth\": 0, \"ticks\": \"\"}}, \"type\": \"scatter\"}], \"scatter3d\": [{\"line\": {\"colorbar\": {\"outlinewidth\": 0, \"ticks\": \"\"}}, \"marker\": {\"colorbar\": {\"outlinewidth\": 0, \"ticks\": \"\"}}, \"type\": \"scatter3d\"}], \"scattercarpet\": [{\"marker\": {\"colorbar\": {\"outlinewidth\": 0, \"ticks\": \"\"}}, \"type\": \"scattercarpet\"}], \"scattergeo\": [{\"marker\": {\"colorbar\": {\"outlinewidth\": 0, \"ticks\": \"\"}}, \"type\": \"scattergeo\"}], \"scattergl\": [{\"marker\": {\"colorbar\": {\"outlinewidth\": 0, \"ticks\": \"\"}}, \"type\": \"scattergl\"}], \"scattermapbox\": [{\"marker\": {\"colorbar\": {\"outlinewidth\": 0, \"ticks\": \"\"}}, \"type\": \"scattermapbox\"}], \"scatterpolar\": [{\"marker\": {\"colorbar\": {\"outlinewidth\": 0, \"ticks\": \"\"}}, \"type\": \"scatterpolar\"}], \"scatterpolargl\": [{\"marker\": {\"colorbar\": {\"outlinewidth\": 0, \"ticks\": \"\"}}, \"type\": \"scatterpolargl\"}], \"scatterternary\": [{\"marker\": {\"colorbar\": {\"outlinewidth\": 0, \"ticks\": \"\"}}, \"type\": \"scatterternary\"}], \"surface\": [{\"colorbar\": {\"outlinewidth\": 0, \"ticks\": \"\"}, \"colorscale\": [[0.0, \"#0d0887\"], [0.1111111111111111, \"#46039f\"], [0.2222222222222222, \"#7201a8\"], [0.3333333333333333, \"#9c179e\"], [0.4444444444444444, \"#bd3786\"], [0.5555555555555556, \"#d8576b\"], [0.6666666666666666, \"#ed7953\"], [0.7777777777777778, \"#fb9f3a\"], [0.8888888888888888, \"#fdca26\"], [1.0, \"#f0f921\"]], \"type\": \"surface\"}], \"table\": [{\"cells\": {\"fill\": {\"color\": \"#EBF0F8\"}, \"line\": {\"color\": \"white\"}}, \"header\": {\"fill\": {\"color\": \"#C8D4E3\"}, \"line\": {\"color\": \"white\"}}, \"type\": \"table\"}]}, \"layout\": {\"annotationdefaults\": {\"arrowcolor\": \"#2a3f5f\", \"arrowhead\": 0, \"arrowwidth\": 1}, \"coloraxis\": {\"colorbar\": {\"outlinewidth\": 0, \"ticks\": \"\"}}, \"colorscale\": {\"diverging\": [[0, \"#8e0152\"], [0.1, \"#c51b7d\"], [0.2, \"#de77ae\"], [0.3, \"#f1b6da\"], [0.4, \"#fde0ef\"], [0.5, \"#f7f7f7\"], [0.6, \"#e6f5d0\"], [0.7, \"#b8e186\"], [0.8, \"#7fbc41\"], [0.9, \"#4d9221\"], [1, \"#276419\"]], \"sequential\": [[0.0, \"#0d0887\"], [0.1111111111111111, \"#46039f\"], [0.2222222222222222, \"#7201a8\"], [0.3333333333333333, \"#9c179e\"], [0.4444444444444444, \"#bd3786\"], [0.5555555555555556, \"#d8576b\"], [0.6666666666666666, \"#ed7953\"], [0.7777777777777778, \"#fb9f3a\"], [0.8888888888888888, \"#fdca26\"], [1.0, \"#f0f921\"]], \"sequentialminus\": [[0.0, \"#0d0887\"], [0.1111111111111111, \"#46039f\"], [0.2222222222222222, \"#7201a8\"], [0.3333333333333333, \"#9c179e\"], [0.4444444444444444, \"#bd3786\"], [0.5555555555555556, \"#d8576b\"], [0.6666666666666666, \"#ed7953\"], [0.7777777777777778, \"#fb9f3a\"], [0.8888888888888888, \"#fdca26\"], [1.0, \"#f0f921\"]]}, \"colorway\": [\"#636efa\", \"#EF553B\", \"#00cc96\", \"#ab63fa\", \"#FFA15A\", \"#19d3f3\", \"#FF6692\", \"#B6E880\", \"#FF97FF\", \"#FECB52\"], \"font\": {\"color\": \"#2a3f5f\"}, \"geo\": {\"bgcolor\": \"white\", \"lakecolor\": \"white\", \"landcolor\": \"#E5ECF6\", \"showlakes\": true, \"showland\": true, \"subunitcolor\": \"white\"}, \"hoverlabel\": {\"align\": \"left\"}, \"hovermode\": \"closest\", \"mapbox\": {\"style\": \"light\"}, \"paper_bgcolor\": \"white\", \"plot_bgcolor\": \"#E5ECF6\", \"polar\": {\"angularaxis\": {\"gridcolor\": \"white\", \"linecolor\": \"white\", \"ticks\": \"\"}, \"bgcolor\": \"#E5ECF6\", \"radialaxis\": {\"gridcolor\": \"white\", \"linecolor\": \"white\", \"ticks\": \"\"}}, \"scene\": {\"xaxis\": {\"backgroundcolor\": \"#E5ECF6\", \"gridcolor\": \"white\", \"gridwidth\": 2, \"linecolor\": \"white\", \"showbackground\": true, \"ticks\": \"\", \"zerolinecolor\": \"white\"}, \"yaxis\": {\"backgroundcolor\": \"#E5ECF6\", \"gridcolor\": \"white\", \"gridwidth\": 2, \"linecolor\": \"white\", \"showbackground\": true, \"ticks\": \"\", \"zerolinecolor\": \"white\"}, \"zaxis\": {\"backgroundcolor\": \"#E5ECF6\", \"gridcolor\": \"white\", \"gridwidth\": 2, \"linecolor\": \"white\", \"showbackground\": true, \"ticks\": \"\", \"zerolinecolor\": \"white\"}}, \"shapedefaults\": {\"line\": {\"color\": \"#2a3f5f\"}}, \"ternary\": {\"aaxis\": {\"gridcolor\": \"white\", \"linecolor\": \"white\", \"ticks\": \"\"}, \"baxis\": {\"gridcolor\": \"white\", \"linecolor\": \"white\", \"ticks\": \"\"}, \"bgcolor\": \"#E5ECF6\", \"caxis\": {\"gridcolor\": \"white\", \"linecolor\": \"white\", \"ticks\": \"\"}}, \"title\": {\"x\": 0.05}, \"xaxis\": {\"automargin\": true, \"gridcolor\": \"white\", \"linecolor\": \"white\", \"ticks\": \"\", \"title\": {\"standoff\": 15}, \"zerolinecolor\": \"white\", \"zerolinewidth\": 2}, \"yaxis\": {\"automargin\": true, \"gridcolor\": \"white\", \"linecolor\": \"white\", \"ticks\": \"\", \"title\": {\"standoff\": 15}, \"zerolinecolor\": \"white\", \"zerolinewidth\": 2}}}, \"title\": {\"font\": {\"color\": \"#4D5663\"}}, \"xaxis\": {\"gridcolor\": \"#E1E5ED\", \"showgrid\": true, \"tickfont\": {\"color\": \"#4D5663\"}, \"title\": {\"font\": {\"color\": \"#4D5663\"}, \"text\": \"\"}, \"zerolinecolor\": \"#E1E5ED\"}, \"yaxis\": {\"gridcolor\": \"#E1E5ED\", \"showgrid\": true, \"tickfont\": {\"color\": \"#4D5663\"}, \"title\": {\"font\": {\"color\": \"#4D5663\"}, \"text\": \"\"}, \"zerolinecolor\": \"#E1E5ED\"}},\n                        {\"showLink\": true, \"linkText\": \"Export to plot.ly\", \"plotlyServerURL\": \"https://plot.ly\", \"responsive\": true}\n                    ).then(function(){\n                            \nvar gd = document.getElementById('25bb454e-2972-49c1-b7cd-d00cd22137a6');\nvar x = new MutationObserver(function (mutations, observer) {{\n        var display = window.getComputedStyle(gd).display;\n        if (!display || display === 'none') {{\n            console.log([gd, 'removed!']);\n            Plotly.purge(gd);\n            observer.disconnect();\n        }}\n}});\n\n// Listen for the removal of the full notebook cells\nvar notebookContainer = gd.closest('#notebook-container');\nif (notebookContainer) {{\n    x.observe(notebookContainer, {childList: true});\n}}\n\n// Listen for the clearing of the current output cell\nvar outputEl = gd.closest('.output');\nif (outputEl) {{\n    x.observe(outputEl, {childList: true});\n}}\n\n                        })\n                };\n                });\n            </script>\n        </div>"
     },
     "metadata": {}
    }
   ],
   "source": [
    "df[df['size'] < 100000].iplot(x='size', y='priceByArea', mode='markers')"
   ]
  },
  {
   "cell_type": "code",
   "execution_count": 6,
   "metadata": {},
   "outputs": [
    {
     "output_type": "display_data",
     "data": {
      "application/vnd.plotly.v1+json": {
       "config": {
        "linkText": "Export to plot.ly",
        "plotlyServerURL": "https://plot.ly",
        "showLink": true
       },
       "data": [
        {
         "line": {
          "color": "rgba(255, 153, 51, 1.0)",
          "dash": "solid",
          "shape": "linear",
          "width": 1.3
         },
         "marker": {
          "size": 12,
          "symbol": "circle"
         },
         "mode": "markers",
         "name": "price",
         "text": "",
         "type": "scatter",
         "x": [
          55,
          56,
          28,
          35,
          52,
          76,
          67,
          58,
          89,
          81,
          82,
          79,
          36,
          60,
          63,
          65,
          58,
          83,
          59,
          69,
          62,
          61,
          42,
          60,
          48,
          54,
          59,
          36,
          37,
          106,
          90,
          60,
          69,
          38,
          49,
          43,
          61,
          53,
          37,
          83,
          50,
          60,
          80,
          27,
          44,
          65,
          43,
          43,
          27,
          38,
          43,
          47,
          78,
          50,
          45,
          95,
          67,
          51,
          35,
          84,
          90,
          48,
          88,
          35,
          37,
          80,
          50,
          60,
          61,
          72,
          73,
          70,
          52,
          36,
          44,
          69,
          62,
          55,
          65,
          28,
          85,
          36,
          76,
          56,
          50,
          65,
          215,
          33,
          49,
          49,
          64,
          52,
          57,
          53,
          38,
          65,
          81,
          45,
          90,
          69,
          58,
          92,
          51,
          40,
          54,
          69,
          32,
          77,
          73,
          50,
          58,
          33,
          79,
          32,
          53,
          55,
          53,
          49,
          115,
          95,
          65,
          48,
          35,
          45,
          42,
          74,
          81,
          57,
          49,
          34,
          89,
          112,
          20,
          60,
          121,
          86,
          65,
          46,
          89,
          71,
          84,
          90,
          98,
          57,
          75,
          40,
          51,
          80,
          64,
          45,
          56,
          48,
          34,
          82,
          60,
          63,
          55,
          73,
          23,
          48,
          39,
          37,
          40,
          104,
          95,
          62,
          75,
          82,
          62,
          44,
          49,
          67,
          63,
          66,
          43,
          45,
          46,
          65,
          74,
          20,
          55,
          49,
          68,
          36,
          73,
          39,
          34,
          90,
          73,
          52,
          42,
          34,
          55,
          45,
          53,
          80,
          60,
          69,
          98,
          80,
          65,
          62,
          64,
          58,
          43,
          49,
          30,
          50,
          43,
          79,
          39,
          79,
          97,
          40,
          50,
          40,
          73,
          26,
          70,
          50,
          72,
          65,
          87,
          37,
          21,
          75,
          42,
          66,
          61,
          60,
          68,
          36,
          46,
          58,
          51,
          40,
          52,
          81,
          81,
          100,
          52,
          65,
          65,
          33,
          43,
          62,
          55,
          76,
          60,
          90,
          61,
          23,
          30,
          78,
          46,
          29,
          24,
          60,
          60,
          50,
          41,
          72,
          28,
          45,
          48,
          30,
          43,
          31,
          40,
          70,
          36,
          58,
          43,
          69,
          65,
          72,
          61,
          40,
          40,
          55,
          31,
          47,
          39,
          27,
          64,
          53,
          60,
          37,
          41,
          47,
          40,
          33,
          89,
          72,
          68,
          69,
          79,
          28,
          40,
          62,
          20,
          42,
          94,
          56,
          70,
          51,
          50,
          59,
          26,
          80,
          41,
          64,
          66,
          44,
          17,
          79,
          77,
          123,
          104,
          73,
          59,
          54,
          58,
          65,
          40,
          30,
          50,
          52,
          67,
          36,
          34,
          43,
          35,
          72,
          50,
          35,
          90,
          42,
          80,
          57,
          37,
          35,
          50,
          46,
          35,
          34,
          40,
          47,
          89,
          63,
          56,
          78,
          33,
          129,
          30,
          50,
          50,
          35,
          38,
          40,
          50,
          82,
          61,
          82,
          59,
          56,
          30,
          43,
          50,
          60,
          43,
          55,
          49,
          52,
          35,
          35,
          57,
          90,
          89,
          95,
          81,
          90,
          35,
          42,
          74,
          62,
          79,
          40,
          35,
          73,
          52,
          50,
          47,
          46,
          47,
          78,
          94,
          116,
          56,
          46,
          42,
          55,
          60,
          70,
          56,
          74,
          70,
          81,
          42,
          35,
          71,
          48,
          42,
          54,
          88,
          37,
          80,
          79,
          46,
          66,
          54,
          65,
          63,
          95,
          100,
          41,
          59,
          30,
          37,
          50,
          35,
          65,
          50,
          45,
          24,
          44,
          61,
          35,
          65,
          54,
          47,
          61,
          69,
          50,
          42,
          41,
          65,
          94,
          70,
          33,
          68,
          57,
          32,
          73,
          33,
          89,
          45,
          61,
          75,
          25,
          55,
          32,
          80,
          50,
          67,
          46,
          35,
          55,
          41,
          82,
          65,
          37,
          76,
          55,
          65,
          65,
          25,
          50,
          46,
          91,
          40,
          36,
          36,
          75,
          51,
          48,
          37,
          40,
          63,
          39,
          54,
          25,
          61,
          72,
          37,
          100,
          48,
          55,
          69,
          37,
          47,
          31,
          51,
          79,
          76,
          67,
          72,
          44,
          40,
          30,
          60,
          36,
          38,
          25,
          49,
          49,
          66,
          36,
          42,
          48,
          40,
          89,
          59,
          64,
          78,
          52,
          25,
          50,
          46,
          50,
          43,
          65,
          44,
          63,
          55,
          67,
          44,
          36,
          58,
          61,
          36,
          35,
          51,
          26,
          40,
          45,
          40,
          81,
          44,
          54,
          54,
          31,
          35,
          44,
          75,
          68,
          57,
          48,
          66,
          50,
          46,
          74,
          30,
          37,
          29,
          43,
          25,
          40,
          48,
          66,
          35,
          61,
          58,
          81,
          50,
          49,
          68,
          65,
          36,
          65,
          44,
          101,
          71,
          57,
          54,
          76,
          65,
          48,
          66,
          75,
          46,
          30,
          75,
          45,
          40,
          33,
          66,
          60,
          35,
          20,
          56,
          79,
          63,
          30,
          41,
          30,
          60,
          74,
          67,
          51,
          70,
          48,
          57,
          76,
          106,
          48,
          60,
          61,
          52,
          67,
          75,
          75,
          54,
          63,
          38,
          40,
          38,
          25,
          44,
          68,
          44,
          79,
          60,
          44,
          73,
          44,
          148,
          44,
          55,
          74,
          88,
          82,
          75,
          35,
          45,
          58,
          30,
          50,
          42,
          36,
          59,
          85,
          50,
          47,
          63,
          50,
          110,
          78,
          33,
          32,
          63,
          117,
          64,
          40,
          40,
          65,
          67,
          90,
          44,
          43,
          104,
          35,
          50,
          66,
          98,
          65,
          70,
          68,
          67,
          41,
          58,
          42,
          73,
          60,
          50,
          29,
          50,
          54,
          36,
          62,
          58,
          72,
          63,
          39,
          80,
          43,
          48,
          85,
          72,
          41,
          30,
          47,
          77,
          58,
          79,
          50,
          41,
          62,
          90,
          72,
          40,
          63,
          35,
          55,
          60,
          54,
          65,
          24,
          54,
          87,
          50,
          118,
          114,
          62,
          53,
          88,
          90,
          42,
          79,
          60,
          40,
          54,
          125,
          55,
          73,
          107,
          41,
          43,
          30,
          46,
          37,
          57,
          35,
          47,
          63,
          53,
          36,
          36,
          58,
          41,
          79,
          57,
          123,
          77,
          71,
          71,
          55,
          94,
          82,
          101,
          54,
          82,
          53,
          38,
          91,
          70,
          32,
          60,
          55,
          67,
          50,
          62,
          55,
          66,
          67,
          110,
          63,
          50,
          45,
          88,
          65,
          52,
          38,
          70,
          81,
          91,
          60,
          118,
          37,
          86,
          62,
          54,
          75,
          52,
          48,
          94,
          34,
          39,
          54,
          64,
          51,
          40,
          58,
          60,
          50,
          45,
          59,
          39,
          67,
          40,
          46,
          39,
          41,
          82,
          50,
          47,
          44,
          44,
          46,
          74,
          35,
          69,
          60,
          70,
          37,
          65,
          45,
          30,
          33,
          32,
          51,
          69,
          65,
          80,
          112,
          29,
          68,
          45,
          48,
          42,
          70,
          46,
          66,
          118,
          50,
          89,
          42,
          42,
          68,
          46,
          31,
          39,
          71,
          32,
          41,
          55,
          39,
          50,
          60,
          56,
          50,
          80,
          33,
          49,
          75,
          45,
          48,
          66,
          92,
          57,
          49,
          39,
          93,
          39,
          33,
          86,
          42,
          60,
          43,
          49,
          29,
          58,
          20,
          40,
          65,
          84,
          70,
          32,
          31,
          43,
          34,
          42,
          51,
          66,
          36,
          52,
          34,
          70,
          31,
          42,
          35,
          52,
          42,
          69,
          56,
          60,
          37,
          85,
          50,
          37,
          69,
          43,
          37,
          78,
          50,
          33,
          35,
          60,
          42,
          30,
          25,
          46,
          44,
          37,
          43,
          63,
          68,
          60,
          42
         ],
         "y": [
          325000,
          340000,
          265000,
          195000,
          315000,
          280000,
          320000,
          239000,
          342000,
          298000,
          315000,
          320000,
          168900,
          265000,
          255000,
          330000,
          242000,
          299990,
          319900,
          335000,
          270000,
          345000,
          179000,
          345000,
          240000,
          325000,
          260000,
          244000,
          180000,
          339000,
          298000,
          299000,
          279000,
          210000,
          189900,
          199000,
          275000,
          290000,
          290000,
          320000,
          325000,
          290000,
          295000,
          168000,
          239900,
          219000,
          129900,
          199000,
          212000,
          325000,
          170000,
          229000,
          330000,
          260000,
          195000,
          300000,
          349000,
          270000,
          265000,
          319000,
          349000,
          280000,
          349000,
          225000,
          235000,
          274999,
          245000,
          260000,
          350000,
          267990,
          280000,
          240000,
          285000,
          205000,
          289000,
          275000,
          269000,
          199000,
          220000,
          165000,
          310000,
          200000,
          325000,
          220000,
          295000,
          270000,
          282000,
          210000,
          220000,
          305000,
          280000,
          325000,
          210000,
          320000,
          230000,
          256000,
          249000,
          240000,
          340000,
          350000,
          175000,
          335000,
          240000,
          199000,
          325000,
          165000,
          160000,
          299000,
          240000,
          275000,
          350000,
          139000,
          300000,
          170000,
          279900,
          199000,
          190000,
          246000,
          275000,
          260000,
          195000,
          299000,
          160000,
          199500,
          339700,
          300000,
          350000,
          250000,
          215000,
          279000,
          342000,
          199000,
          145000,
          195000,
          270000,
          309900,
          220000,
          242000,
          318000,
          313000,
          295000,
          349000,
          335000,
          247000,
          235000,
          189000,
          236000,
          340000,
          245000,
          179000,
          308000,
          350000,
          210000,
          320000,
          329700,
          340000,
          193000,
          299000,
          235000,
          350000,
          280000,
          189000,
          250000,
          349000,
          329000,
          339000,
          299000,
          198000,
          325000,
          190000,
          214000,
          249900,
          349000,
          330000,
          148000,
          225300,
          279000,
          300000,
          300000,
          175000,
          205000,
          265000,
          315000,
          219000,
          349000,
          213000,
          157000,
          349000,
          315000,
          255000,
          139500,
          240000,
          310000,
          259000,
          260000,
          245000,
          299000,
          349900,
          279000,
          259000,
          240000,
          225000,
          275000,
          274999,
          205000,
          350000,
          184999,
          290000,
          248000,
          275000,
          189000,
          269000,
          230000,
          139000,
          295000,
          245000,
          350000,
          110000,
          340000,
          269000,
          290000,
          320000,
          240000,
          331000,
          175000,
          346618,
          199000,
          292000,
          315000,
          350000,
          330000,
          220000,
          219900,
          270000,
          169000,
          177000,
          258000,
          290000,
          315000,
          270000,
          230000,
          285000,
          240000,
          198000,
          199000,
          292000,
          207000,
          350000,
          310000,
          269000,
          175000,
          115000,
          130000,
          340000,
          137000,
          159000,
          159000,
          250000,
          306000,
          226000,
          200000,
          305000,
          155000,
          185000,
          350000,
          185000,
          200000,
          220000,
          299000,
          258000,
          165000,
          283000,
          180000,
          350000,
          300000,
          340000,
          209000,
          345000,
          230000,
          305000,
          155000,
          200000,
          185000,
          130000,
          329000,
          340000,
          329000,
          255000,
          250000,
          189000,
          265000,
          198000,
          340000,
          269000,
          330000,
          337000,
          259000,
          155000,
          155000,
          320000,
          190000,
          137000,
          346000,
          258000,
          251600,
          194500,
          325000,
          335000,
          179000,
          342000,
          120000,
          250000,
          229000,
          290000,
          131900,
          298000,
          288000,
          320000,
          329000,
          317000,
          214500,
          280000,
          329700,
          220000,
          195000,
          199000,
          185000,
          298000,
          340000,
          186000,
          230000,
          189000,
          178000,
          269999,
          219000,
          185000,
          339000,
          280000,
          344500,
          235000,
          253000,
          155000,
          245000,
          268000,
          135000,
          185000,
          194000,
          260000,
          349000,
          280000,
          250000,
          330000,
          198000,
          330000,
          179000,
          184000,
          265000,
          104000,
          199000,
          135000,
          198000,
          189611,
          275000,
          189611,
          250000,
          202000,
          210000,
          130500,
          266000,
          350000,
          185000,
          280000,
          310000,
          305000,
          185000,
          270000,
          270000,
          305000,
          325000,
          290000,
          298000,
          299999,
          215000,
          299000,
          274500,
          320000,
          350000,
          240000,
          190000,
          319000,
          250000,
          300000,
          229500,
          214520,
          220000,
          347000,
          339000,
          341000,
          285000,
          350000,
          250000,
          320000,
          206000,
          341000,
          285000,
          339000,
          349000,
          349000,
          280000,
          159000,
          275000,
          198000,
          275000,
          339000,
          319900,
          180000,
          275000,
          269000,
          260000,
          310000,
          280000,
          325000,
          340000,
          290000,
          259000,
          182000,
          308000,
          175000,
          193000,
          195000,
          165000,
          298000,
          185000,
          139000,
          168000,
          298000,
          298000,
          188000,
          329000,
          285000,
          265000,
          275000,
          346000,
          320000,
          280000,
          215000,
          299000,
          239000,
          320000,
          159000,
          330000,
          247000,
          159000,
          350000,
          157000,
          350000,
          265700,
          255000,
          310000,
          149900,
          340000,
          141000,
          272000,
          250000,
          330000,
          245000,
          170000,
          199900,
          255000,
          286000,
          259900,
          260000,
          335000,
          265000,
          259000,
          174000,
          163000,
          346700,
          349700,
          345000,
          130000,
          185000,
          168000,
          292000,
          250000,
          199000,
          200000,
          204000,
          340000,
          210000,
          280000,
          169000,
          309000,
          345000,
          215000,
          315000,
          339000,
          260000,
          325000,
          150000,
          215000,
          165000,
          236000,
          220000,
          340000,
          285000,
          290000,
          238000,
          259000,
          150000,
          199195,
          185000,
          185000,
          159000,
          245000,
          160000,
          320000,
          229000,
          230000,
          198000,
          115000,
          259000,
          158000,
          259000,
          320000,
          199000,
          155000,
          275000,
          340000,
          240000,
          236000,
          335000,
          315000,
          195000,
          306000,
          295000,
          235000,
          185000,
          239000,
          214000,
          185000,
          205000,
          236000,
          114900,
          270000,
          187000,
          220000,
          259000,
          185000,
          270000,
          299000,
          150000,
          190000,
          315000,
          269000,
          259000,
          197000,
          295000,
          295000,
          199000,
          250000,
          160000,
          190000,
          260000,
          189000,
          215000,
          139900,
          260000,
          259000,
          260000,
          226000,
          285000,
          290000,
          249000,
          280000,
          235000,
          165000,
          298000,
          185000,
          249000,
          260000,
          342000,
          243000,
          233500,
          339000,
          350000,
          275000,
          239000,
          349000,
          230000,
          198000,
          140000,
          215000,
          239900,
          156000,
          199000,
          339000,
          335000,
          185000,
          169000,
          219500,
          239900,
          310000,
          200000,
          285000,
          237500,
          270000,
          300000,
          324000,
          236000,
          340000,
          218000,
          210000,
          179000,
          269999,
          218000,
          205000,
          239000,
          260000,
          285000,
          340000,
          349000,
          290000,
          202000,
          160000,
          210000,
          169000,
          199000,
          230000,
          330000,
          240000,
          319000,
          349000,
          225000,
          340000,
          183000,
          270000,
          285000,
          249000,
          225000,
          345000,
          345000,
          179000,
          165000,
          239000,
          199900,
          200000,
          234500,
          230000,
          288000,
          325000,
          260000,
          260000,
          245000,
          340000,
          239000,
          339000,
          273225,
          149000,
          197000,
          285000,
          298000,
          320000,
          248000,
          195000,
          350000,
          287000,
          269000,
          189000,
          171000,
          310400,
          220000,
          285000,
          285000,
          260000,
          299000,
          260000,
          340000,
          246000,
          179900,
          249000,
          199000,
          239000,
          325000,
          298000,
          188000,
          305000,
          239000,
          185000,
          270000,
          285000,
          335000,
          258000,
          140000,
          250000,
          225000,
          330000,
          295000,
          335000,
          214900,
          156000,
          209000,
          315000,
          285000,
          330000,
          184000,
          210000,
          179000,
          290000,
          198000,
          145000,
          210000,
          174000,
          199000,
          230000,
          200000,
          235000,
          163000,
          280000,
          350000,
          345000,
          269000,
          299900,
          249000,
          279900,
          319000,
          350000,
          330000,
          320000,
          210000,
          300000,
          280000,
          300000,
          239000,
          339900,
          270000,
          258000,
          130500,
          110000,
          340000,
          180000,
          260000,
          129000,
          245000,
          260000,
          290000,
          189900,
          210000,
          340000,
          149000,
          298000,
          330000,
          320000,
          288000,
          319644,
          315044,
          310000,
          346000,
          325000,
          329000,
          340000,
          329000,
          330000,
          187000,
          288000,
          298000,
          190000,
          329000,
          203000,
          200000,
          247000,
          299000,
          330000,
          260000,
          314000,
          342000,
          289000,
          247000,
          199000,
          335000,
          330000,
          280000,
          275000,
          275000,
          330000,
          288000,
          350000,
          290000,
          179000,
          315000,
          298000,
          279000,
          340000,
          340000,
          190000,
          266000,
          169000,
          175000,
          290000,
          350000,
          199900,
          205000,
          310000,
          210000,
          343600,
          348600,
          299500,
          185000,
          320000,
          250000,
          348600,
          298600,
          324100,
          280000,
          280000,
          348600,
          333600,
          328600,
          240000,
          236000,
          129000,
          295000,
          230000,
          250000,
          299000,
          210000,
          298000,
          151000,
          125000,
          235000,
          299000,
          306000,
          270000,
          240000,
          199000,
          169500,
          300000,
          298000,
          255000,
          225000,
          325000,
          200000,
          315000,
          199800,
          347500,
          299500,
          260000,
          194000,
          350000,
          230000,
          235000,
          299000,
          320000,
          229000,
          179000,
          280000,
          125000,
          260000,
          329000,
          345000,
          219000,
          270000,
          140000,
          240000,
          277500,
          277000,
          335000,
          280000,
          290000,
          305000,
          270000,
          177000,
          350000,
          278000,
          210000,
          325000,
          249900,
          275000,
          250000,
          240000,
          105000,
          184000,
          107000,
          159000,
          232000,
          319000,
          269000,
          185000,
          155000,
          120000,
          167000,
          258000,
          339000,
          259000,
          185000,
          180000,
          167000,
          259000,
          175000,
          265000,
          140000,
          125000,
          265000,
          295000,
          320000,
          259000,
          179000,
          265000,
          175000,
          185000,
          244500,
          145000,
          132000,
          190000,
          190000,
          169000,
          209000,
          275000,
          173000,
          185000,
          159000,
          240000,
          264000,
          132000,
          125000,
          178500,
          265000,
          240000,
          330000
         ]
        }
       ],
       "layout": {
        "legend": {
         "bgcolor": "#F5F6F9",
         "font": {
          "color": "#4D5663"
         }
        },
        "paper_bgcolor": "#F5F6F9",
        "plot_bgcolor": "#F5F6F9",
        "template": {
         "data": {
          "bar": [
           {
            "error_x": {
             "color": "#2a3f5f"
            },
            "error_y": {
             "color": "#2a3f5f"
            },
            "marker": {
             "line": {
              "color": "#E5ECF6",
              "width": 0.5
             }
            },
            "type": "bar"
           }
          ],
          "barpolar": [
           {
            "marker": {
             "line": {
              "color": "#E5ECF6",
              "width": 0.5
             }
            },
            "type": "barpolar"
           }
          ],
          "carpet": [
           {
            "aaxis": {
             "endlinecolor": "#2a3f5f",
             "gridcolor": "white",
             "linecolor": "white",
             "minorgridcolor": "white",
             "startlinecolor": "#2a3f5f"
            },
            "baxis": {
             "endlinecolor": "#2a3f5f",
             "gridcolor": "white",
             "linecolor": "white",
             "minorgridcolor": "white",
             "startlinecolor": "#2a3f5f"
            },
            "type": "carpet"
           }
          ],
          "choropleth": [
           {
            "colorbar": {
             "outlinewidth": 0,
             "ticks": ""
            },
            "type": "choropleth"
           }
          ],
          "contour": [
           {
            "colorbar": {
             "outlinewidth": 0,
             "ticks": ""
            },
            "colorscale": [
             [
              0,
              "#0d0887"
             ],
             [
              0.1111111111111111,
              "#46039f"
             ],
             [
              0.2222222222222222,
              "#7201a8"
             ],
             [
              0.3333333333333333,
              "#9c179e"
             ],
             [
              0.4444444444444444,
              "#bd3786"
             ],
             [
              0.5555555555555556,
              "#d8576b"
             ],
             [
              0.6666666666666666,
              "#ed7953"
             ],
             [
              0.7777777777777778,
              "#fb9f3a"
             ],
             [
              0.8888888888888888,
              "#fdca26"
             ],
             [
              1,
              "#f0f921"
             ]
            ],
            "type": "contour"
           }
          ],
          "contourcarpet": [
           {
            "colorbar": {
             "outlinewidth": 0,
             "ticks": ""
            },
            "type": "contourcarpet"
           }
          ],
          "heatmap": [
           {
            "colorbar": {
             "outlinewidth": 0,
             "ticks": ""
            },
            "colorscale": [
             [
              0,
              "#0d0887"
             ],
             [
              0.1111111111111111,
              "#46039f"
             ],
             [
              0.2222222222222222,
              "#7201a8"
             ],
             [
              0.3333333333333333,
              "#9c179e"
             ],
             [
              0.4444444444444444,
              "#bd3786"
             ],
             [
              0.5555555555555556,
              "#d8576b"
             ],
             [
              0.6666666666666666,
              "#ed7953"
             ],
             [
              0.7777777777777778,
              "#fb9f3a"
             ],
             [
              0.8888888888888888,
              "#fdca26"
             ],
             [
              1,
              "#f0f921"
             ]
            ],
            "type": "heatmap"
           }
          ],
          "heatmapgl": [
           {
            "colorbar": {
             "outlinewidth": 0,
             "ticks": ""
            },
            "colorscale": [
             [
              0,
              "#0d0887"
             ],
             [
              0.1111111111111111,
              "#46039f"
             ],
             [
              0.2222222222222222,
              "#7201a8"
             ],
             [
              0.3333333333333333,
              "#9c179e"
             ],
             [
              0.4444444444444444,
              "#bd3786"
             ],
             [
              0.5555555555555556,
              "#d8576b"
             ],
             [
              0.6666666666666666,
              "#ed7953"
             ],
             [
              0.7777777777777778,
              "#fb9f3a"
             ],
             [
              0.8888888888888888,
              "#fdca26"
             ],
             [
              1,
              "#f0f921"
             ]
            ],
            "type": "heatmapgl"
           }
          ],
          "histogram": [
           {
            "marker": {
             "colorbar": {
              "outlinewidth": 0,
              "ticks": ""
             }
            },
            "type": "histogram"
           }
          ],
          "histogram2d": [
           {
            "colorbar": {
             "outlinewidth": 0,
             "ticks": ""
            },
            "colorscale": [
             [
              0,
              "#0d0887"
             ],
             [
              0.1111111111111111,
              "#46039f"
             ],
             [
              0.2222222222222222,
              "#7201a8"
             ],
             [
              0.3333333333333333,
              "#9c179e"
             ],
             [
              0.4444444444444444,
              "#bd3786"
             ],
             [
              0.5555555555555556,
              "#d8576b"
             ],
             [
              0.6666666666666666,
              "#ed7953"
             ],
             [
              0.7777777777777778,
              "#fb9f3a"
             ],
             [
              0.8888888888888888,
              "#fdca26"
             ],
             [
              1,
              "#f0f921"
             ]
            ],
            "type": "histogram2d"
           }
          ],
          "histogram2dcontour": [
           {
            "colorbar": {
             "outlinewidth": 0,
             "ticks": ""
            },
            "colorscale": [
             [
              0,
              "#0d0887"
             ],
             [
              0.1111111111111111,
              "#46039f"
             ],
             [
              0.2222222222222222,
              "#7201a8"
             ],
             [
              0.3333333333333333,
              "#9c179e"
             ],
             [
              0.4444444444444444,
              "#bd3786"
             ],
             [
              0.5555555555555556,
              "#d8576b"
             ],
             [
              0.6666666666666666,
              "#ed7953"
             ],
             [
              0.7777777777777778,
              "#fb9f3a"
             ],
             [
              0.8888888888888888,
              "#fdca26"
             ],
             [
              1,
              "#f0f921"
             ]
            ],
            "type": "histogram2dcontour"
           }
          ],
          "mesh3d": [
           {
            "colorbar": {
             "outlinewidth": 0,
             "ticks": ""
            },
            "type": "mesh3d"
           }
          ],
          "parcoords": [
           {
            "line": {
             "colorbar": {
              "outlinewidth": 0,
              "ticks": ""
             }
            },
            "type": "parcoords"
           }
          ],
          "pie": [
           {
            "automargin": true,
            "type": "pie"
           }
          ],
          "scatter": [
           {
            "marker": {
             "colorbar": {
              "outlinewidth": 0,
              "ticks": ""
             }
            },
            "type": "scatter"
           }
          ],
          "scatter3d": [
           {
            "line": {
             "colorbar": {
              "outlinewidth": 0,
              "ticks": ""
             }
            },
            "marker": {
             "colorbar": {
              "outlinewidth": 0,
              "ticks": ""
             }
            },
            "type": "scatter3d"
           }
          ],
          "scattercarpet": [
           {
            "marker": {
             "colorbar": {
              "outlinewidth": 0,
              "ticks": ""
             }
            },
            "type": "scattercarpet"
           }
          ],
          "scattergeo": [
           {
            "marker": {
             "colorbar": {
              "outlinewidth": 0,
              "ticks": ""
             }
            },
            "type": "scattergeo"
           }
          ],
          "scattergl": [
           {
            "marker": {
             "colorbar": {
              "outlinewidth": 0,
              "ticks": ""
             }
            },
            "type": "scattergl"
           }
          ],
          "scattermapbox": [
           {
            "marker": {
             "colorbar": {
              "outlinewidth": 0,
              "ticks": ""
             }
            },
            "type": "scattermapbox"
           }
          ],
          "scatterpolar": [
           {
            "marker": {
             "colorbar": {
              "outlinewidth": 0,
              "ticks": ""
             }
            },
            "type": "scatterpolar"
           }
          ],
          "scatterpolargl": [
           {
            "marker": {
             "colorbar": {
              "outlinewidth": 0,
              "ticks": ""
             }
            },
            "type": "scatterpolargl"
           }
          ],
          "scatterternary": [
           {
            "marker": {
             "colorbar": {
              "outlinewidth": 0,
              "ticks": ""
             }
            },
            "type": "scatterternary"
           }
          ],
          "surface": [
           {
            "colorbar": {
             "outlinewidth": 0,
             "ticks": ""
            },
            "colorscale": [
             [
              0,
              "#0d0887"
             ],
             [
              0.1111111111111111,
              "#46039f"
             ],
             [
              0.2222222222222222,
              "#7201a8"
             ],
             [
              0.3333333333333333,
              "#9c179e"
             ],
             [
              0.4444444444444444,
              "#bd3786"
             ],
             [
              0.5555555555555556,
              "#d8576b"
             ],
             [
              0.6666666666666666,
              "#ed7953"
             ],
             [
              0.7777777777777778,
              "#fb9f3a"
             ],
             [
              0.8888888888888888,
              "#fdca26"
             ],
             [
              1,
              "#f0f921"
             ]
            ],
            "type": "surface"
           }
          ],
          "table": [
           {
            "cells": {
             "fill": {
              "color": "#EBF0F8"
             },
             "line": {
              "color": "white"
             }
            },
            "header": {
             "fill": {
              "color": "#C8D4E3"
             },
             "line": {
              "color": "white"
             }
            },
            "type": "table"
           }
          ]
         },
         "layout": {
          "annotationdefaults": {
           "arrowcolor": "#2a3f5f",
           "arrowhead": 0,
           "arrowwidth": 1
          },
          "coloraxis": {
           "colorbar": {
            "outlinewidth": 0,
            "ticks": ""
           }
          },
          "colorscale": {
           "diverging": [
            [
             0,
             "#8e0152"
            ],
            [
             0.1,
             "#c51b7d"
            ],
            [
             0.2,
             "#de77ae"
            ],
            [
             0.3,
             "#f1b6da"
            ],
            [
             0.4,
             "#fde0ef"
            ],
            [
             0.5,
             "#f7f7f7"
            ],
            [
             0.6,
             "#e6f5d0"
            ],
            [
             0.7,
             "#b8e186"
            ],
            [
             0.8,
             "#7fbc41"
            ],
            [
             0.9,
             "#4d9221"
            ],
            [
             1,
             "#276419"
            ]
           ],
           "sequential": [
            [
             0,
             "#0d0887"
            ],
            [
             0.1111111111111111,
             "#46039f"
            ],
            [
             0.2222222222222222,
             "#7201a8"
            ],
            [
             0.3333333333333333,
             "#9c179e"
            ],
            [
             0.4444444444444444,
             "#bd3786"
            ],
            [
             0.5555555555555556,
             "#d8576b"
            ],
            [
             0.6666666666666666,
             "#ed7953"
            ],
            [
             0.7777777777777778,
             "#fb9f3a"
            ],
            [
             0.8888888888888888,
             "#fdca26"
            ],
            [
             1,
             "#f0f921"
            ]
           ],
           "sequentialminus": [
            [
             0,
             "#0d0887"
            ],
            [
             0.1111111111111111,
             "#46039f"
            ],
            [
             0.2222222222222222,
             "#7201a8"
            ],
            [
             0.3333333333333333,
             "#9c179e"
            ],
            [
             0.4444444444444444,
             "#bd3786"
            ],
            [
             0.5555555555555556,
             "#d8576b"
            ],
            [
             0.6666666666666666,
             "#ed7953"
            ],
            [
             0.7777777777777778,
             "#fb9f3a"
            ],
            [
             0.8888888888888888,
             "#fdca26"
            ],
            [
             1,
             "#f0f921"
            ]
           ]
          },
          "colorway": [
           "#636efa",
           "#EF553B",
           "#00cc96",
           "#ab63fa",
           "#FFA15A",
           "#19d3f3",
           "#FF6692",
           "#B6E880",
           "#FF97FF",
           "#FECB52"
          ],
          "font": {
           "color": "#2a3f5f"
          },
          "geo": {
           "bgcolor": "white",
           "lakecolor": "white",
           "landcolor": "#E5ECF6",
           "showlakes": true,
           "showland": true,
           "subunitcolor": "white"
          },
          "hoverlabel": {
           "align": "left"
          },
          "hovermode": "closest",
          "mapbox": {
           "style": "light"
          },
          "paper_bgcolor": "white",
          "plot_bgcolor": "#E5ECF6",
          "polar": {
           "angularaxis": {
            "gridcolor": "white",
            "linecolor": "white",
            "ticks": ""
           },
           "bgcolor": "#E5ECF6",
           "radialaxis": {
            "gridcolor": "white",
            "linecolor": "white",
            "ticks": ""
           }
          },
          "scene": {
           "xaxis": {
            "backgroundcolor": "#E5ECF6",
            "gridcolor": "white",
            "gridwidth": 2,
            "linecolor": "white",
            "showbackground": true,
            "ticks": "",
            "zerolinecolor": "white"
           },
           "yaxis": {
            "backgroundcolor": "#E5ECF6",
            "gridcolor": "white",
            "gridwidth": 2,
            "linecolor": "white",
            "showbackground": true,
            "ticks": "",
            "zerolinecolor": "white"
           },
           "zaxis": {
            "backgroundcolor": "#E5ECF6",
            "gridcolor": "white",
            "gridwidth": 2,
            "linecolor": "white",
            "showbackground": true,
            "ticks": "",
            "zerolinecolor": "white"
           }
          },
          "shapedefaults": {
           "line": {
            "color": "#2a3f5f"
           }
          },
          "ternary": {
           "aaxis": {
            "gridcolor": "white",
            "linecolor": "white",
            "ticks": ""
           },
           "baxis": {
            "gridcolor": "white",
            "linecolor": "white",
            "ticks": ""
           },
           "bgcolor": "#E5ECF6",
           "caxis": {
            "gridcolor": "white",
            "linecolor": "white",
            "ticks": ""
           }
          },
          "title": {
           "x": 0.05
          },
          "xaxis": {
           "automargin": true,
           "gridcolor": "white",
           "linecolor": "white",
           "ticks": "",
           "title": {
            "standoff": 15
           },
           "zerolinecolor": "white",
           "zerolinewidth": 2
          },
          "yaxis": {
           "automargin": true,
           "gridcolor": "white",
           "linecolor": "white",
           "ticks": "",
           "title": {
            "standoff": 15
           },
           "zerolinecolor": "white",
           "zerolinewidth": 2
          }
         }
        },
        "title": {
         "font": {
          "color": "#4D5663"
         }
        },
        "xaxis": {
         "gridcolor": "#E1E5ED",
         "showgrid": true,
         "tickfont": {
          "color": "#4D5663"
         },
         "title": {
          "font": {
           "color": "#4D5663"
          },
          "text": ""
         },
         "zerolinecolor": "#E1E5ED"
        },
        "yaxis": {
         "gridcolor": "#E1E5ED",
         "showgrid": true,
         "tickfont": {
          "color": "#4D5663"
         },
         "title": {
          "font": {
           "color": "#4D5663"
          },
          "text": ""
         },
         "zerolinecolor": "#E1E5ED"
        }
       }
      },
      "text/html": "<div>\n        \n        \n            <div id=\"c50922c9-ed51-4101-a495-3f0d4e954c2c\" class=\"plotly-graph-div\" style=\"height:525px; width:100%;\"></div>\n            <script type=\"text/javascript\">\n                require([\"plotly\"], function(Plotly) {\n                    window.PLOTLYENV=window.PLOTLYENV || {};\n                    window.PLOTLYENV.BASE_URL='https://plot.ly';\n                    \n                if (document.getElementById(\"c50922c9-ed51-4101-a495-3f0d4e954c2c\")) {\n                    Plotly.newPlot(\n                        'c50922c9-ed51-4101-a495-3f0d4e954c2c',\n                        [{\"line\": {\"color\": \"rgba(255, 153, 51, 1.0)\", \"dash\": \"solid\", \"shape\": \"linear\", \"width\": 1.3}, \"marker\": {\"size\": 12, \"symbol\": \"circle\"}, \"mode\": \"markers\", \"name\": \"price\", \"text\": \"\", \"type\": \"scatter\", \"x\": [55.0, 56.0, 28.0, 35.0, 52.0, 76.0, 67.0, 58.0, 89.0, 81.0, 82.0, 79.0, 36.0, 60.0, 63.0, 65.0, 58.0, 83.0, 59.0, 69.0, 62.0, 61.0, 42.0, 60.0, 48.0, 54.0, 59.0, 36.0, 37.0, 106.0, 90.0, 60.0, 69.0, 38.0, 49.0, 43.0, 61.0, 53.0, 37.0, 83.0, 50.0, 60.0, 80.0, 27.0, 44.0, 65.0, 43.0, 43.0, 27.0, 38.0, 43.0, 47.0, 78.0, 50.0, 45.0, 95.0, 67.0, 51.0, 35.0, 84.0, 90.0, 48.0, 88.0, 35.0, 37.0, 80.0, 50.0, 60.0, 61.0, 72.0, 73.0, 70.0, 52.0, 36.0, 44.0, 69.0, 62.0, 55.0, 65.0, 28.0, 85.0, 36.0, 76.0, 56.0, 50.0, 65.0, 215.0, 33.0, 49.0, 49.0, 64.0, 52.0, 57.0, 53.0, 38.0, 65.0, 81.0, 45.0, 90.0, 69.0, 58.0, 92.0, 51.0, 40.0, 54.0, 69.0, 32.0, 77.0, 73.0, 50.0, 58.0, 33.0, 79.0, 32.0, 53.0, 55.0, 53.0, 49.0, 115.0, 95.0, 65.0, 48.0, 35.0, 45.0, 42.0, 74.0, 81.0, 57.0, 49.0, 34.0, 89.0, 112.0, 20.0, 60.0, 121.0, 86.0, 65.0, 46.0, 89.0, 71.0, 84.0, 90.0, 98.0, 57.0, 75.0, 40.0, 51.0, 80.0, 64.0, 45.0, 56.0, 48.0, 34.0, 82.0, 60.0, 63.0, 55.0, 73.0, 23.0, 48.0, 39.0, 37.0, 40.0, 104.0, 95.0, 62.0, 75.0, 82.0, 62.0, 44.0, 49.0, 67.0, 63.0, 66.0, 43.0, 45.0, 46.0, 65.0, 74.0, 20.0, 55.0, 49.0, 68.0, 36.0, 73.0, 39.0, 34.0, 90.0, 73.0, 52.0, 42.0, 34.0, 55.0, 45.0, 53.0, 80.0, 60.0, 69.0, 98.0, 80.0, 65.0, 62.0, 64.0, 58.0, 43.0, 49.0, 30.0, 50.0, 43.0, 79.0, 39.0, 79.0, 97.0, 40.0, 50.0, 40.0, 73.0, 26.0, 70.0, 50.0, 72.0, 65.0, 87.0, 37.0, 21.0, 75.0, 42.0, 66.0, 61.0, 60.0, 68.0, 36.0, 46.0, 58.0, 51.0, 40.0, 52.0, 81.0, 81.0, 100.0, 52.0, 65.0, 65.0, 33.0, 43.0, 62.0, 55.0, 76.0, 60.0, 90.0, 61.0, 23.0, 30.0, 78.0, 46.0, 29.0, 24.0, 60.0, 60.0, 50.0, 41.0, 72.0, 28.0, 45.0, 48.0, 30.0, 43.0, 31.0, 40.0, 70.0, 36.0, 58.0, 43.0, 69.0, 65.0, 72.0, 61.0, 40.0, 40.0, 55.0, 31.0, 47.0, 39.0, 27.0, 64.0, 53.0, 60.0, 37.0, 41.0, 47.0, 40.0, 33.0, 89.0, 72.0, 68.0, 69.0, 79.0, 28.0, 40.0, 62.0, 20.0, 42.0, 94.0, 56.0, 70.0, 51.0, 50.0, 59.0, 26.0, 80.0, 41.0, 64.0, 66.0, 44.0, 17.0, 79.0, 77.0, 123.0, 104.0, 73.0, 59.0, 54.0, 58.0, 65.0, 40.0, 30.0, 50.0, 52.0, 67.0, 36.0, 34.0, 43.0, 35.0, 72.0, 50.0, 35.0, 90.0, 42.0, 80.0, 57.0, 37.0, 35.0, 50.0, 46.0, 35.0, 34.0, 40.0, 47.0, 89.0, 63.0, 56.0, 78.0, 33.0, 129.0, 30.0, 50.0, 50.0, 35.0, 38.0, 40.0, 50.0, 82.0, 61.0, 82.0, 59.0, 56.0, 30.0, 43.0, 50.0, 60.0, 43.0, 55.0, 49.0, 52.0, 35.0, 35.0, 57.0, 90.0, 89.0, 95.0, 81.0, 90.0, 35.0, 42.0, 74.0, 62.0, 79.0, 40.0, 35.0, 73.0, 52.0, 50.0, 47.0, 46.0, 47.0, 78.0, 94.0, 116.0, 56.0, 46.0, 42.0, 55.0, 60.0, 70.0, 56.0, 74.0, 70.0, 81.0, 42.0, 35.0, 71.0, 48.0, 42.0, 54.0, 88.0, 37.0, 80.0, 79.0, 46.0, 66.0, 54.0, 65.0, 63.0, 95.0, 100.0, 41.0, 59.0, 30.0, 37.0, 50.0, 35.0, 65.0, 50.0, 45.0, 24.0, 44.0, 61.0, 35.0, 65.0, 54.0, 47.0, 61.0, 69.0, 50.0, 42.0, 41.0, 65.0, 94.0, 70.0, 33.0, 68.0, 57.0, 32.0, 73.0, 33.0, 89.0, 45.0, 61.0, 75.0, 25.0, 55.0, 32.0, 80.0, 50.0, 67.0, 46.0, 35.0, 55.0, 41.0, 82.0, 65.0, 37.0, 76.0, 55.0, 65.0, 65.0, 25.0, 50.0, 46.0, 91.0, 40.0, 36.0, 36.0, 75.0, 51.0, 48.0, 37.0, 40.0, 63.0, 39.0, 54.0, 25.0, 61.0, 72.0, 37.0, 100.0, 48.0, 55.0, 69.0, 37.0, 47.0, 31.0, 51.0, 79.0, 76.0, 67.0, 72.0, 44.0, 40.0, 30.0, 60.0, 36.0, 38.0, 25.0, 49.0, 49.0, 66.0, 36.0, 42.0, 48.0, 40.0, 89.0, 59.0, 64.0, 78.0, 52.0, 25.0, 50.0, 46.0, 50.0, 43.0, 65.0, 44.0, 63.0, 55.0, 67.0, 44.0, 36.0, 58.0, 61.0, 36.0, 35.0, 51.0, 26.0, 40.0, 45.0, 40.0, 81.0, 44.0, 54.0, 54.0, 31.0, 35.0, 44.0, 75.0, 68.0, 57.0, 48.0, 66.0, 50.0, 46.0, 74.0, 30.0, 37.0, 29.0, 43.0, 25.0, 40.0, 48.0, 66.0, 35.0, 61.0, 58.0, 81.0, 50.0, 49.0, 68.0, 65.0, 36.0, 65.0, 44.0, 101.0, 71.0, 57.0, 54.0, 76.0, 65.0, 48.0, 66.0, 75.0, 46.0, 30.0, 75.0, 45.0, 40.0, 33.0, 66.0, 60.0, 35.0, 20.0, 56.0, 79.0, 63.0, 30.0, 41.0, 30.0, 60.0, 74.0, 67.0, 51.0, 70.0, 48.0, 57.0, 76.0, 106.0, 48.0, 60.0, 61.0, 52.0, 67.0, 75.0, 75.0, 54.0, 63.0, 38.0, 40.0, 38.0, 25.0, 44.0, 68.0, 44.0, 79.0, 60.0, 44.0, 73.0, 44.0, 148.0, 44.0, 55.0, 74.0, 88.0, 82.0, 75.0, 35.0, 45.0, 58.0, 30.0, 50.0, 42.0, 36.0, 59.0, 85.0, 50.0, 47.0, 63.0, 50.0, 110.0, 78.0, 33.0, 32.0, 63.0, 117.0, 64.0, 40.0, 40.0, 65.0, 67.0, 90.0, 44.0, 43.0, 104.0, 35.0, 50.0, 66.0, 98.0, 65.0, 70.0, 68.0, 67.0, 41.0, 58.0, 42.0, 73.0, 60.0, 50.0, 29.0, 50.0, 54.0, 36.0, 62.0, 58.0, 72.0, 63.0, 39.0, 80.0, 43.0, 48.0, 85.0, 72.0, 41.0, 30.0, 47.0, 77.0, 58.0, 79.0, 50.0, 41.0, 62.0, 90.0, 72.0, 40.0, 63.0, 35.0, 55.0, 60.0, 54.0, 65.0, 24.0, 54.0, 87.0, 50.0, 118.0, 114.0, 62.0, 53.0, 88.0, 90.0, 42.0, 79.0, 60.0, 40.0, 54.0, 125.0, 55.0, 73.0, 107.0, 41.0, 43.0, 30.0, 46.0, 37.0, 57.0, 35.0, 47.0, 63.0, 53.0, 36.0, 36.0, 58.0, 41.0, 79.0, 57.0, 123.0, 77.0, 71.0, 71.0, 55.0, 94.0, 82.0, 101.0, 54.0, 82.0, 53.0, 38.0, 91.0, 70.0, 32.0, 60.0, 55.0, 67.0, 50.0, 62.0, 55.0, 66.0, 67.0, 110.0, 63.0, 50.0, 45.0, 88.0, 65.0, 52.0, 38.0, 70.0, 81.0, 91.0, 60.0, 118.0, 37.0, 86.0, 62.0, 54.0, 75.0, 52.0, 48.0, 94.0, 34.0, 39.0, 54.0, 64.0, 51.0, 40.0, 58.0, 60.0, 50.0, 45.0, 59.0, 39.0, 67.0, 40.0, 46.0, 39.0, 41.0, 82.0, 50.0, 47.0, 44.0, 44.0, 46.0, 74.0, 35.0, 69.0, 60.0, 70.0, 37.0, 65.0, 45.0, 30.0, 33.0, 32.0, 51.0, 69.0, 65.0, 80.0, 112.0, 29.0, 68.0, 45.0, 48.0, 42.0, 70.0, 46.0, 66.0, 118.0, 50.0, 89.0, 42.0, 42.0, 68.0, 46.0, 31.0, 39.0, 71.0, 32.0, 41.0, 55.0, 39.0, 50.0, 60.0, 56.0, 50.0, 80.0, 33.0, 49.0, 75.0, 45.0, 48.0, 66.0, 92.0, 57.0, 49.0, 39.0, 93.0, 39.0, 33.0, 86.0, 42.0, 60.0, 43.0, 49.0, 29.0, 58.0, 20.0, 40.0, 65.0, 84.0, 70.0, 32.0, 31.0, 43.0, 34.0, 42.0, 51.0, 66.0, 36.0, 52.0, 34.0, 70.0, 31.0, 42.0, 35.0, 52.0, 42.0, 69.0, 56.0, 60.0, 37.0, 85.0, 50.0, 37.0, 69.0, 43.0, 37.0, 78.0, 50.0, 33.0, 35.0, 60.0, 42.0, 30.0, 25.0, 46.0, 44.0, 37.0, 43.0, 63.0, 68.0, 60.0, 42.0], \"y\": [325000.0, 340000.0, 265000.0, 195000.0, 315000.0, 280000.0, 320000.0, 239000.0, 342000.0, 298000.0, 315000.0, 320000.0, 168900.0, 265000.0, 255000.0, 330000.0, 242000.0, 299990.0, 319900.0, 335000.0, 270000.0, 345000.0, 179000.0, 345000.0, 240000.0, 325000.0, 260000.0, 244000.0, 180000.0, 339000.0, 298000.0, 299000.0, 279000.0, 210000.0, 189900.0, 199000.0, 275000.0, 290000.0, 290000.0, 320000.0, 325000.0, 290000.0, 295000.0, 168000.0, 239900.0, 219000.0, 129900.0, 199000.0, 212000.0, 325000.0, 170000.0, 229000.0, 330000.0, 260000.0, 195000.0, 300000.0, 349000.0, 270000.0, 265000.0, 319000.0, 349000.0, 280000.0, 349000.0, 225000.0, 235000.0, 274999.0, 245000.0, 260000.0, 350000.0, 267990.0, 280000.0, 240000.0, 285000.0, 205000.0, 289000.0, 275000.0, 269000.0, 199000.0, 220000.0, 165000.0, 310000.0, 200000.0, 325000.0, 220000.0, 295000.0, 270000.0, 282000.0, 210000.0, 220000.0, 305000.0, 280000.0, 325000.0, 210000.0, 320000.0, 230000.0, 256000.0, 249000.0, 240000.0, 340000.0, 350000.0, 175000.0, 335000.0, 240000.0, 199000.0, 325000.0, 165000.0, 160000.0, 299000.0, 240000.0, 275000.0, 350000.0, 139000.0, 300000.0, 170000.0, 279900.0, 199000.0, 190000.0, 246000.0, 275000.0, 260000.0, 195000.0, 299000.0, 160000.0, 199500.0, 339700.0, 300000.0, 350000.0, 250000.0, 215000.0, 279000.0, 342000.0, 199000.0, 145000.0, 195000.0, 270000.0, 309900.0, 220000.0, 242000.0, 318000.0, 313000.0, 295000.0, 349000.0, 335000.0, 247000.0, 235000.0, 189000.0, 236000.0, 340000.0, 245000.0, 179000.0, 308000.0, 350000.0, 210000.0, 320000.0, 329700.0, 340000.0, 193000.0, 299000.0, 235000.0, 350000.0, 280000.0, 189000.0, 250000.0, 349000.0, 329000.0, 339000.0, 299000.0, 198000.0, 325000.0, 190000.0, 214000.0, 249900.0, 349000.0, 330000.0, 148000.0, 225300.0, 279000.0, 300000.0, 300000.0, 175000.0, 205000.0, 265000.0, 315000.0, 219000.0, 349000.0, 213000.0, 157000.0, 349000.0, 315000.0, 255000.0, 139500.0, 240000.0, 310000.0, 259000.0, 260000.0, 245000.0, 299000.0, 349900.0, 279000.0, 259000.0, 240000.0, 225000.0, 275000.0, 274999.0, 205000.0, 350000.0, 184999.0, 290000.0, 248000.0, 275000.0, 189000.0, 269000.0, 230000.0, 139000.0, 295000.0, 245000.0, 350000.0, 110000.0, 340000.0, 269000.0, 290000.0, 320000.0, 240000.0, 331000.0, 175000.0, 346618.0, 199000.0, 292000.0, 315000.0, 350000.0, 330000.0, 220000.0, 219900.0, 270000.0, 169000.0, 177000.0, 258000.0, 290000.0, 315000.0, 270000.0, 230000.0, 285000.0, 240000.0, 198000.0, 199000.0, 292000.0, 207000.0, 350000.0, 310000.0, 269000.0, 175000.0, 115000.0, 130000.0, 340000.0, 137000.0, 159000.0, 159000.0, 250000.0, 306000.0, 226000.0, 200000.0, 305000.0, 155000.0, 185000.0, 350000.0, 185000.0, 200000.0, 220000.0, 299000.0, 258000.0, 165000.0, 283000.0, 180000.0, 350000.0, 300000.0, 340000.0, 209000.0, 345000.0, 230000.0, 305000.0, 155000.0, 200000.0, 185000.0, 130000.0, 329000.0, 340000.0, 329000.0, 255000.0, 250000.0, 189000.0, 265000.0, 198000.0, 340000.0, 269000.0, 330000.0, 337000.0, 259000.0, 155000.0, 155000.0, 320000.0, 190000.0, 137000.0, 346000.0, 258000.0, 251600.0, 194500.0, 325000.0, 335000.0, 179000.0, 342000.0, 120000.0, 250000.0, 229000.0, 290000.0, 131900.0, 298000.0, 288000.0, 320000.0, 329000.0, 317000.0, 214500.0, 280000.0, 329700.0, 220000.0, 195000.0, 199000.0, 185000.0, 298000.0, 340000.0, 186000.0, 230000.0, 189000.0, 178000.0, 269999.0, 219000.0, 185000.0, 339000.0, 280000.0, 344500.0, 235000.0, 253000.0, 155000.0, 245000.0, 268000.0, 135000.0, 185000.0, 194000.0, 260000.0, 349000.0, 280000.0, 250000.0, 330000.0, 198000.0, 330000.0, 179000.0, 184000.0, 265000.0, 104000.0, 199000.0, 135000.0, 198000.0, 189611.0, 275000.0, 189611.0, 250000.0, 202000.0, 210000.0, 130500.0, 266000.0, 350000.0, 185000.0, 280000.0, 310000.0, 305000.0, 185000.0, 270000.0, 270000.0, 305000.0, 325000.0, 290000.0, 298000.0, 299999.0, 215000.0, 299000.0, 274500.0, 320000.0, 350000.0, 240000.0, 190000.0, 319000.0, 250000.0, 300000.0, 229500.0, 214520.0, 220000.0, 347000.0, 339000.0, 341000.0, 285000.0, 350000.0, 250000.0, 320000.0, 206000.0, 341000.0, 285000.0, 339000.0, 349000.0, 349000.0, 280000.0, 159000.0, 275000.0, 198000.0, 275000.0, 339000.0, 319900.0, 180000.0, 275000.0, 269000.0, 260000.0, 310000.0, 280000.0, 325000.0, 340000.0, 290000.0, 259000.0, 182000.0, 308000.0, 175000.0, 193000.0, 195000.0, 165000.0, 298000.0, 185000.0, 139000.0, 168000.0, 298000.0, 298000.0, 188000.0, 329000.0, 285000.0, 265000.0, 275000.0, 346000.0, 320000.0, 280000.0, 215000.0, 299000.0, 239000.0, 320000.0, 159000.0, 330000.0, 247000.0, 159000.0, 350000.0, 157000.0, 350000.0, 265700.0, 255000.0, 310000.0, 149900.0, 340000.0, 141000.0, 272000.0, 250000.0, 330000.0, 245000.0, 170000.0, 199900.0, 255000.0, 286000.0, 259900.0, 260000.0, 335000.0, 265000.0, 259000.0, 174000.0, 163000.0, 346700.0, 349700.0, 345000.0, 130000.0, 185000.0, 168000.0, 292000.0, 250000.0, 199000.0, 200000.0, 204000.0, 340000.0, 210000.0, 280000.0, 169000.0, 309000.0, 345000.0, 215000.0, 315000.0, 339000.0, 260000.0, 325000.0, 150000.0, 215000.0, 165000.0, 236000.0, 220000.0, 340000.0, 285000.0, 290000.0, 238000.0, 259000.0, 150000.0, 199195.0, 185000.0, 185000.0, 159000.0, 245000.0, 160000.0, 320000.0, 229000.0, 230000.0, 198000.0, 115000.0, 259000.0, 158000.0, 259000.0, 320000.0, 199000.0, 155000.0, 275000.0, 340000.0, 240000.0, 236000.0, 335000.0, 315000.0, 195000.0, 306000.0, 295000.0, 235000.0, 185000.0, 239000.0, 214000.0, 185000.0, 205000.0, 236000.0, 114900.0, 270000.0, 187000.0, 220000.0, 259000.0, 185000.0, 270000.0, 299000.0, 150000.0, 190000.0, 315000.0, 269000.0, 259000.0, 197000.0, 295000.0, 295000.0, 199000.0, 250000.0, 160000.0, 190000.0, 260000.0, 189000.0, 215000.0, 139900.0, 260000.0, 259000.0, 260000.0, 226000.0, 285000.0, 290000.0, 249000.0, 280000.0, 235000.0, 165000.0, 298000.0, 185000.0, 249000.0, 260000.0, 342000.0, 243000.0, 233500.0, 339000.0, 350000.0, 275000.0, 239000.0, 349000.0, 230000.0, 198000.0, 140000.0, 215000.0, 239900.0, 156000.0, 199000.0, 339000.0, 335000.0, 185000.0, 169000.0, 219500.0, 239900.0, 310000.0, 200000.0, 285000.0, 237500.0, 270000.0, 300000.0, 324000.0, 236000.0, 340000.0, 218000.0, 210000.0, 179000.0, 269999.0, 218000.0, 205000.0, 239000.0, 260000.0, 285000.0, 340000.0, 349000.0, 290000.0, 202000.0, 160000.0, 210000.0, 169000.0, 199000.0, 230000.0, 330000.0, 240000.0, 319000.0, 349000.0, 225000.0, 340000.0, 183000.0, 270000.0, 285000.0, 249000.0, 225000.0, 345000.0, 345000.0, 179000.0, 165000.0, 239000.0, 199900.0, 200000.0, 234500.0, 230000.0, 288000.0, 325000.0, 260000.0, 260000.0, 245000.0, 340000.0, 239000.0, 339000.0, 273225.0, 149000.0, 197000.0, 285000.0, 298000.0, 320000.0, 248000.0, 195000.0, 350000.0, 287000.0, 269000.0, 189000.0, 171000.0, 310400.0, 220000.0, 285000.0, 285000.0, 260000.0, 299000.0, 260000.0, 340000.0, 246000.0, 179900.0, 249000.0, 199000.0, 239000.0, 325000.0, 298000.0, 188000.0, 305000.0, 239000.0, 185000.0, 270000.0, 285000.0, 335000.0, 258000.0, 140000.0, 250000.0, 225000.0, 330000.0, 295000.0, 335000.0, 214900.0, 156000.0, 209000.0, 315000.0, 285000.0, 330000.0, 184000.0, 210000.0, 179000.0, 290000.0, 198000.0, 145000.0, 210000.0, 174000.0, 199000.0, 230000.0, 200000.0, 235000.0, 163000.0, 280000.0, 350000.0, 345000.0, 269000.0, 299900.0, 249000.0, 279900.0, 319000.0, 350000.0, 330000.0, 320000.0, 210000.0, 300000.0, 280000.0, 300000.0, 239000.0, 339900.0, 270000.0, 258000.0, 130500.0, 110000.0, 340000.0, 180000.0, 260000.0, 129000.0, 245000.0, 260000.0, 290000.0, 189900.0, 210000.0, 340000.0, 149000.0, 298000.0, 330000.0, 320000.0, 288000.0, 319644.0, 315044.0, 310000.0, 346000.0, 325000.0, 329000.0, 340000.0, 329000.0, 330000.0, 187000.0, 288000.0, 298000.0, 190000.0, 329000.0, 203000.0, 200000.0, 247000.0, 299000.0, 330000.0, 260000.0, 314000.0, 342000.0, 289000.0, 247000.0, 199000.0, 335000.0, 330000.0, 280000.0, 275000.0, 275000.0, 330000.0, 288000.0, 350000.0, 290000.0, 179000.0, 315000.0, 298000.0, 279000.0, 340000.0, 340000.0, 190000.0, 266000.0, 169000.0, 175000.0, 290000.0, 350000.0, 199900.0, 205000.0, 310000.0, 210000.0, 343600.0, 348600.0, 299500.0, 185000.0, 320000.0, 250000.0, 348600.0, 298600.0, 324100.0, 280000.0, 280000.0, 348600.0, 333600.0, 328600.0, 240000.0, 236000.0, 129000.0, 295000.0, 230000.0, 250000.0, 299000.0, 210000.0, 298000.0, 151000.0, 125000.0, 235000.0, 299000.0, 306000.0, 270000.0, 240000.0, 199000.0, 169500.0, 300000.0, 298000.0, 255000.0, 225000.0, 325000.0, 200000.0, 315000.0, 199800.0, 347500.0, 299500.0, 260000.0, 194000.0, 350000.0, 230000.0, 235000.0, 299000.0, 320000.0, 229000.0, 179000.0, 280000.0, 125000.0, 260000.0, 329000.0, 345000.0, 219000.0, 270000.0, 140000.0, 240000.0, 277500.0, 277000.0, 335000.0, 280000.0, 290000.0, 305000.0, 270000.0, 177000.0, 350000.0, 278000.0, 210000.0, 325000.0, 249900.0, 275000.0, 250000.0, 240000.0, 105000.0, 184000.0, 107000.0, 159000.0, 232000.0, 319000.0, 269000.0, 185000.0, 155000.0, 120000.0, 167000.0, 258000.0, 339000.0, 259000.0, 185000.0, 180000.0, 167000.0, 259000.0, 175000.0, 265000.0, 140000.0, 125000.0, 265000.0, 295000.0, 320000.0, 259000.0, 179000.0, 265000.0, 175000.0, 185000.0, 244500.0, 145000.0, 132000.0, 190000.0, 190000.0, 169000.0, 209000.0, 275000.0, 173000.0, 185000.0, 159000.0, 240000.0, 264000.0, 132000.0, 125000.0, 178500.0, 265000.0, 240000.0, 330000.0]}],\n                        {\"legend\": {\"bgcolor\": \"#F5F6F9\", \"font\": {\"color\": \"#4D5663\"}}, \"paper_bgcolor\": \"#F5F6F9\", \"plot_bgcolor\": \"#F5F6F9\", \"template\": {\"data\": {\"bar\": [{\"error_x\": {\"color\": \"#2a3f5f\"}, \"error_y\": {\"color\": \"#2a3f5f\"}, \"marker\": {\"line\": {\"color\": \"#E5ECF6\", \"width\": 0.5}}, \"type\": \"bar\"}], \"barpolar\": [{\"marker\": {\"line\": {\"color\": \"#E5ECF6\", \"width\": 0.5}}, \"type\": \"barpolar\"}], \"carpet\": [{\"aaxis\": {\"endlinecolor\": \"#2a3f5f\", \"gridcolor\": \"white\", \"linecolor\": \"white\", \"minorgridcolor\": \"white\", \"startlinecolor\": \"#2a3f5f\"}, \"baxis\": {\"endlinecolor\": \"#2a3f5f\", \"gridcolor\": \"white\", \"linecolor\": \"white\", \"minorgridcolor\": \"white\", \"startlinecolor\": \"#2a3f5f\"}, \"type\": \"carpet\"}], \"choropleth\": [{\"colorbar\": {\"outlinewidth\": 0, \"ticks\": \"\"}, \"type\": \"choropleth\"}], \"contour\": [{\"colorbar\": {\"outlinewidth\": 0, \"ticks\": \"\"}, \"colorscale\": [[0.0, \"#0d0887\"], [0.1111111111111111, \"#46039f\"], [0.2222222222222222, \"#7201a8\"], [0.3333333333333333, \"#9c179e\"], [0.4444444444444444, \"#bd3786\"], [0.5555555555555556, \"#d8576b\"], [0.6666666666666666, \"#ed7953\"], [0.7777777777777778, \"#fb9f3a\"], [0.8888888888888888, \"#fdca26\"], [1.0, \"#f0f921\"]], \"type\": \"contour\"}], \"contourcarpet\": [{\"colorbar\": {\"outlinewidth\": 0, \"ticks\": \"\"}, \"type\": \"contourcarpet\"}], \"heatmap\": [{\"colorbar\": {\"outlinewidth\": 0, \"ticks\": \"\"}, \"colorscale\": [[0.0, \"#0d0887\"], [0.1111111111111111, \"#46039f\"], [0.2222222222222222, \"#7201a8\"], [0.3333333333333333, \"#9c179e\"], [0.4444444444444444, \"#bd3786\"], [0.5555555555555556, \"#d8576b\"], [0.6666666666666666, \"#ed7953\"], [0.7777777777777778, \"#fb9f3a\"], [0.8888888888888888, \"#fdca26\"], [1.0, \"#f0f921\"]], \"type\": \"heatmap\"}], \"heatmapgl\": [{\"colorbar\": {\"outlinewidth\": 0, \"ticks\": \"\"}, \"colorscale\": [[0.0, \"#0d0887\"], [0.1111111111111111, \"#46039f\"], [0.2222222222222222, \"#7201a8\"], [0.3333333333333333, \"#9c179e\"], [0.4444444444444444, \"#bd3786\"], [0.5555555555555556, \"#d8576b\"], [0.6666666666666666, \"#ed7953\"], [0.7777777777777778, \"#fb9f3a\"], [0.8888888888888888, \"#fdca26\"], [1.0, \"#f0f921\"]], \"type\": \"heatmapgl\"}], \"histogram\": [{\"marker\": {\"colorbar\": {\"outlinewidth\": 0, \"ticks\": \"\"}}, \"type\": \"histogram\"}], \"histogram2d\": [{\"colorbar\": {\"outlinewidth\": 0, \"ticks\": \"\"}, \"colorscale\": [[0.0, \"#0d0887\"], [0.1111111111111111, \"#46039f\"], [0.2222222222222222, \"#7201a8\"], [0.3333333333333333, \"#9c179e\"], [0.4444444444444444, \"#bd3786\"], [0.5555555555555556, \"#d8576b\"], [0.6666666666666666, \"#ed7953\"], [0.7777777777777778, \"#fb9f3a\"], [0.8888888888888888, \"#fdca26\"], [1.0, \"#f0f921\"]], \"type\": \"histogram2d\"}], \"histogram2dcontour\": [{\"colorbar\": {\"outlinewidth\": 0, \"ticks\": \"\"}, \"colorscale\": [[0.0, \"#0d0887\"], [0.1111111111111111, \"#46039f\"], [0.2222222222222222, \"#7201a8\"], [0.3333333333333333, \"#9c179e\"], [0.4444444444444444, \"#bd3786\"], [0.5555555555555556, \"#d8576b\"], [0.6666666666666666, \"#ed7953\"], [0.7777777777777778, \"#fb9f3a\"], [0.8888888888888888, \"#fdca26\"], [1.0, \"#f0f921\"]], \"type\": \"histogram2dcontour\"}], \"mesh3d\": [{\"colorbar\": {\"outlinewidth\": 0, \"ticks\": \"\"}, \"type\": \"mesh3d\"}], \"parcoords\": [{\"line\": {\"colorbar\": {\"outlinewidth\": 0, \"ticks\": \"\"}}, \"type\": \"parcoords\"}], \"pie\": [{\"automargin\": true, \"type\": \"pie\"}], \"scatter\": [{\"marker\": {\"colorbar\": {\"outlinewidth\": 0, \"ticks\": \"\"}}, \"type\": \"scatter\"}], \"scatter3d\": [{\"line\": {\"colorbar\": {\"outlinewidth\": 0, \"ticks\": \"\"}}, \"marker\": {\"colorbar\": {\"outlinewidth\": 0, \"ticks\": \"\"}}, \"type\": \"scatter3d\"}], \"scattercarpet\": [{\"marker\": {\"colorbar\": {\"outlinewidth\": 0, \"ticks\": \"\"}}, \"type\": \"scattercarpet\"}], \"scattergeo\": [{\"marker\": {\"colorbar\": {\"outlinewidth\": 0, \"ticks\": \"\"}}, \"type\": \"scattergeo\"}], \"scattergl\": [{\"marker\": {\"colorbar\": {\"outlinewidth\": 0, \"ticks\": \"\"}}, \"type\": \"scattergl\"}], \"scattermapbox\": [{\"marker\": {\"colorbar\": {\"outlinewidth\": 0, \"ticks\": \"\"}}, \"type\": \"scattermapbox\"}], \"scatterpolar\": [{\"marker\": {\"colorbar\": {\"outlinewidth\": 0, \"ticks\": \"\"}}, \"type\": \"scatterpolar\"}], \"scatterpolargl\": [{\"marker\": {\"colorbar\": {\"outlinewidth\": 0, \"ticks\": \"\"}}, \"type\": \"scatterpolargl\"}], \"scatterternary\": [{\"marker\": {\"colorbar\": {\"outlinewidth\": 0, \"ticks\": \"\"}}, \"type\": \"scatterternary\"}], \"surface\": [{\"colorbar\": {\"outlinewidth\": 0, \"ticks\": \"\"}, \"colorscale\": [[0.0, \"#0d0887\"], [0.1111111111111111, \"#46039f\"], [0.2222222222222222, \"#7201a8\"], [0.3333333333333333, \"#9c179e\"], [0.4444444444444444, \"#bd3786\"], [0.5555555555555556, \"#d8576b\"], [0.6666666666666666, \"#ed7953\"], [0.7777777777777778, \"#fb9f3a\"], [0.8888888888888888, \"#fdca26\"], [1.0, \"#f0f921\"]], \"type\": \"surface\"}], \"table\": [{\"cells\": {\"fill\": {\"color\": \"#EBF0F8\"}, \"line\": {\"color\": \"white\"}}, \"header\": {\"fill\": {\"color\": \"#C8D4E3\"}, \"line\": {\"color\": \"white\"}}, \"type\": \"table\"}]}, \"layout\": {\"annotationdefaults\": {\"arrowcolor\": \"#2a3f5f\", \"arrowhead\": 0, \"arrowwidth\": 1}, \"coloraxis\": {\"colorbar\": {\"outlinewidth\": 0, \"ticks\": \"\"}}, \"colorscale\": {\"diverging\": [[0, \"#8e0152\"], [0.1, \"#c51b7d\"], [0.2, \"#de77ae\"], [0.3, \"#f1b6da\"], [0.4, \"#fde0ef\"], [0.5, \"#f7f7f7\"], [0.6, \"#e6f5d0\"], [0.7, \"#b8e186\"], [0.8, \"#7fbc41\"], [0.9, \"#4d9221\"], [1, \"#276419\"]], \"sequential\": [[0.0, \"#0d0887\"], [0.1111111111111111, \"#46039f\"], [0.2222222222222222, \"#7201a8\"], [0.3333333333333333, \"#9c179e\"], [0.4444444444444444, \"#bd3786\"], [0.5555555555555556, \"#d8576b\"], [0.6666666666666666, \"#ed7953\"], [0.7777777777777778, \"#fb9f3a\"], [0.8888888888888888, \"#fdca26\"], [1.0, \"#f0f921\"]], \"sequentialminus\": [[0.0, \"#0d0887\"], [0.1111111111111111, \"#46039f\"], [0.2222222222222222, \"#7201a8\"], [0.3333333333333333, \"#9c179e\"], [0.4444444444444444, \"#bd3786\"], [0.5555555555555556, \"#d8576b\"], [0.6666666666666666, \"#ed7953\"], [0.7777777777777778, \"#fb9f3a\"], [0.8888888888888888, \"#fdca26\"], [1.0, \"#f0f921\"]]}, \"colorway\": [\"#636efa\", \"#EF553B\", \"#00cc96\", \"#ab63fa\", \"#FFA15A\", \"#19d3f3\", \"#FF6692\", \"#B6E880\", \"#FF97FF\", \"#FECB52\"], \"font\": {\"color\": \"#2a3f5f\"}, \"geo\": {\"bgcolor\": \"white\", \"lakecolor\": \"white\", \"landcolor\": \"#E5ECF6\", \"showlakes\": true, \"showland\": true, \"subunitcolor\": \"white\"}, \"hoverlabel\": {\"align\": \"left\"}, \"hovermode\": \"closest\", \"mapbox\": {\"style\": \"light\"}, \"paper_bgcolor\": \"white\", \"plot_bgcolor\": \"#E5ECF6\", \"polar\": {\"angularaxis\": {\"gridcolor\": \"white\", \"linecolor\": \"white\", \"ticks\": \"\"}, \"bgcolor\": \"#E5ECF6\", \"radialaxis\": {\"gridcolor\": \"white\", \"linecolor\": \"white\", \"ticks\": \"\"}}, \"scene\": {\"xaxis\": {\"backgroundcolor\": \"#E5ECF6\", \"gridcolor\": \"white\", \"gridwidth\": 2, \"linecolor\": \"white\", \"showbackground\": true, \"ticks\": \"\", \"zerolinecolor\": \"white\"}, \"yaxis\": {\"backgroundcolor\": \"#E5ECF6\", \"gridcolor\": \"white\", \"gridwidth\": 2, \"linecolor\": \"white\", \"showbackground\": true, \"ticks\": \"\", \"zerolinecolor\": \"white\"}, \"zaxis\": {\"backgroundcolor\": \"#E5ECF6\", \"gridcolor\": \"white\", \"gridwidth\": 2, \"linecolor\": \"white\", \"showbackground\": true, \"ticks\": \"\", \"zerolinecolor\": \"white\"}}, \"shapedefaults\": {\"line\": {\"color\": \"#2a3f5f\"}}, \"ternary\": {\"aaxis\": {\"gridcolor\": \"white\", \"linecolor\": \"white\", \"ticks\": \"\"}, \"baxis\": {\"gridcolor\": \"white\", \"linecolor\": \"white\", \"ticks\": \"\"}, \"bgcolor\": \"#E5ECF6\", \"caxis\": {\"gridcolor\": \"white\", \"linecolor\": \"white\", \"ticks\": \"\"}}, \"title\": {\"x\": 0.05}, \"xaxis\": {\"automargin\": true, \"gridcolor\": \"white\", \"linecolor\": \"white\", \"ticks\": \"\", \"title\": {\"standoff\": 15}, \"zerolinecolor\": \"white\", \"zerolinewidth\": 2}, \"yaxis\": {\"automargin\": true, \"gridcolor\": \"white\", \"linecolor\": \"white\", \"ticks\": \"\", \"title\": {\"standoff\": 15}, \"zerolinecolor\": \"white\", \"zerolinewidth\": 2}}}, \"title\": {\"font\": {\"color\": \"#4D5663\"}}, \"xaxis\": {\"gridcolor\": \"#E1E5ED\", \"showgrid\": true, \"tickfont\": {\"color\": \"#4D5663\"}, \"title\": {\"font\": {\"color\": \"#4D5663\"}, \"text\": \"\"}, \"zerolinecolor\": \"#E1E5ED\"}, \"yaxis\": {\"gridcolor\": \"#E1E5ED\", \"showgrid\": true, \"tickfont\": {\"color\": \"#4D5663\"}, \"title\": {\"font\": {\"color\": \"#4D5663\"}, \"text\": \"\"}, \"zerolinecolor\": \"#E1E5ED\"}},\n                        {\"showLink\": true, \"linkText\": \"Export to plot.ly\", \"plotlyServerURL\": \"https://plot.ly\", \"responsive\": true}\n                    ).then(function(){\n                            \nvar gd = document.getElementById('c50922c9-ed51-4101-a495-3f0d4e954c2c');\nvar x = new MutationObserver(function (mutations, observer) {{\n        var display = window.getComputedStyle(gd).display;\n        if (!display || display === 'none') {{\n            console.log([gd, 'removed!']);\n            Plotly.purge(gd);\n            observer.disconnect();\n        }}\n}});\n\n// Listen for the removal of the full notebook cells\nvar notebookContainer = gd.closest('#notebook-container');\nif (notebookContainer) {{\n    x.observe(notebookContainer, {childList: true});\n}}\n\n// Listen for the clearing of the current output cell\nvar outputEl = gd.closest('.output');\nif (outputEl) {{\n    x.observe(outputEl, {childList: true});\n}}\n\n                        })\n                };\n                });\n            </script>\n        </div>"
     },
     "metadata": {}
    }
   ],
   "source": [
    "df[df['size'] < 100000].iplot(x='size', y='price', mode='markers')"
   ]
  },
  {
   "cell_type": "code",
   "execution_count": 7,
   "metadata": {},
   "outputs": [
    {
     "output_type": "execute_result",
     "data": {
      "text/plain": [
       "<matplotlib.axes._subplots.AxesSubplot at 0x126ed2410>"
      ]
     },
     "metadata": {},
     "execution_count": 7
    },
    {
     "output_type": "display_data",
     "data": {
      "text/plain": "<Figure size 432x288 with 2 Axes>",
      "image/svg+xml": "<?xml version=\"1.0\" encoding=\"utf-8\" standalone=\"no\"?>\n<!DOCTYPE svg PUBLIC \"-//W3C//DTD SVG 1.1//EN\"\n  \"http://www.w3.org/Graphics/SVG/1.1/DTD/svg11.dtd\">\n<!-- Created with matplotlib (https://matplotlib.org/) -->\n<svg height=\"395.228281pt\" version=\"1.1\" viewBox=\"0 0 500.723875 395.228281\" width=\"500.723875pt\" xmlns=\"http://www.w3.org/2000/svg\" xmlns:xlink=\"http://www.w3.org/1999/xlink\">\n <defs>\n  <style type=\"text/css\">\n*{stroke-linecap:butt;stroke-linejoin:round;}\n  </style>\n </defs>\n <g id=\"figure_1\">\n  <g id=\"patch_1\">\n   <path d=\"M -0 395.228281 \nL 500.723875 395.228281 \nL 500.723875 0 \nL -0 0 \nz\n\" style=\"fill:none;\"/>\n  </g>\n  <g id=\"axes_1\">\n   <g id=\"patch_2\">\n    <path d=\"M 166.789062 228.439219 \nL 434.629063 228.439219 \nL 434.629063 10.999219 \nL 166.789062 10.999219 \nz\n\" style=\"fill:#ffffff;\"/>\n   </g>\n   <g id=\"QuadMesh_1\">\n    <path clip-path=\"url(#p17df7edf87)\" d=\"M 166.789062 4.204219 \nL 182.544357 4.204219 \nL 182.544357 17.794219 \nL 166.789062 17.794219 \nL 166.789062 4.204219 \n\" style=\"fill:#faebdd;\"/>\n    <path clip-path=\"url(#p17df7edf87)\" d=\"M 182.544357 4.204219 \nL 198.299651 4.204219 \nL 198.299651 17.794219 \nL 182.544357 17.794219 \nL 182.544357 4.204219 \n\" style=\"fill:#b91657;\"/>\n    <path clip-path=\"url(#p17df7edf87)\" d=\"M 198.299651 4.204219 \nL 214.054945 4.204219 \nL 214.054945 17.794219 \nL 198.299651 17.794219 \nL 198.299651 4.204219 \n\" style=\"fill:#9c1b5b;\"/>\n    <path clip-path=\"url(#p17df7edf87)\" d=\"M 214.054945 4.204219 \nL 229.810239 4.204219 \nL 229.810239 17.794219 \nL 214.054945 17.794219 \nL 214.054945 4.204219 \n\" style=\"fill:#9e1a5b;\"/>\n    <path clip-path=\"url(#p17df7edf87)\" d=\"M 229.810239 4.204219 \nL 245.565533 4.204219 \nL 245.565533 17.794219 \nL 229.810239 17.794219 \nL 229.810239 4.204219 \n\" style=\"fill:#9f1a5b;\"/>\n    <path clip-path=\"url(#p17df7edf87)\" d=\"M 245.565533 4.204219 \nL 261.320827 4.204219 \nL 261.320827 17.794219 \nL 245.565533 17.794219 \nL 245.565533 4.204219 \n\" style=\"fill:#9a1b5b;\"/>\n    <path clip-path=\"url(#p17df7edf87)\" d=\"M 261.320827 4.204219 \nL 277.076121 4.204219 \nL 277.076121 17.794219 \nL 261.320827 17.794219 \nL 261.320827 4.204219 \n\" style=\"fill:#a3195b;\"/>\n    <path clip-path=\"url(#p17df7edf87)\" d=\"M 277.076121 4.204219 \nL 292.831415 4.204219 \nL 292.831415 17.794219 \nL 277.076121 17.794219 \nL 277.076121 4.204219 \n\" style=\"fill:#971c5b;\"/>\n    <path clip-path=\"url(#p17df7edf87)\" d=\"M 292.831415 4.204219 \nL 308.58671 4.204219 \nL 308.58671 17.794219 \nL 292.831415 17.794219 \nL 292.831415 4.204219 \n\" style=\"fill:#b41658;\"/>\n    <path clip-path=\"url(#p17df7edf87)\" d=\"M 308.58671 4.204219 \nL 324.342004 4.204219 \nL 324.342004 17.794219 \nL 308.58671 17.794219 \nL 308.58671 4.204219 \n\" style=\"fill:#cd1c4e;\"/>\n    <path clip-path=\"url(#p17df7edf87)\" d=\"M 324.342004 4.204219 \nL 340.097298 4.204219 \nL 340.097298 17.794219 \nL 324.342004 17.794219 \nL 324.342004 4.204219 \n\" style=\"fill:#661f54;\"/>\n    <path clip-path=\"url(#p17df7edf87)\" d=\"M 340.097298 4.204219 \nL 355.852592 4.204219 \nL 355.852592 17.794219 \nL 340.097298 17.794219 \nL 340.097298 4.204219 \n\" style=\"fill:#df2f44;\"/>\n    <path clip-path=\"url(#p17df7edf87)\" d=\"M 355.852592 4.204219 \nL 371.607886 4.204219 \nL 371.607886 17.794219 \nL 355.852592 17.794219 \nL 355.852592 4.204219 \n\" style=\"fill:#a3195b;\"/>\n    <path clip-path=\"url(#p17df7edf87)\" d=\"M 371.607886 4.204219 \nL 387.36318 4.204219 \nL 387.36318 17.794219 \nL 371.607886 17.794219 \nL 371.607886 4.204219 \n\" style=\"fill:#e83f3f;\"/>\n    <path clip-path=\"url(#p17df7edf87)\" d=\"M 387.36318 4.204219 \nL 403.118474 4.204219 \nL 403.118474 17.794219 \nL 387.36318 17.794219 \nL 387.36318 4.204219 \n\" style=\"fill:none;\"/>\n    <path clip-path=\"url(#p17df7edf87)\" d=\"M 403.118474 4.204219 \nL 418.873768 4.204219 \nL 418.873768 17.794219 \nL 403.118474 17.794219 \nL 403.118474 4.204219 \n\" style=\"fill:#9f1a5b;\"/>\n    <path clip-path=\"url(#p17df7edf87)\" d=\"M 418.873768 4.204219 \nL 434.629063 4.204219 \nL 434.629063 17.794219 \nL 418.873768 17.794219 \nL 418.873768 4.204219 \n\" style=\"fill:#a11a5b;\"/>\n    <path clip-path=\"url(#p17df7edf87)\" d=\"M 166.789062 17.794219 \nL 182.544357 17.794219 \nL 182.544357 31.384219 \nL 166.789062 31.384219 \nL 166.789062 17.794219 \n\" style=\"fill:#b91657;\"/>\n    <path clip-path=\"url(#p17df7edf87)\" d=\"M 182.544357 17.794219 \nL 198.299651 17.794219 \nL 198.299651 31.384219 \nL 182.544357 31.384219 \nL 182.544357 17.794219 \n\" style=\"fill:#faebdd;\"/>\n    <path clip-path=\"url(#p17df7edf87)\" d=\"M 198.299651 17.794219 \nL 214.054945 17.794219 \nL 214.054945 31.384219 \nL 198.299651 31.384219 \nL 198.299651 17.794219 \n\" style=\"fill:#921c5b;\"/>\n    <path clip-path=\"url(#p17df7edf87)\" d=\"M 214.054945 17.794219 \nL 229.810239 17.794219 \nL 229.810239 31.384219 \nL 214.054945 31.384219 \nL 214.054945 17.794219 \n\" style=\"fill:#b71657;\"/>\n    <path clip-path=\"url(#p17df7edf87)\" d=\"M 229.810239 17.794219 \nL 245.565533 17.794219 \nL 245.565533 31.384219 \nL 229.810239 31.384219 \nL 229.810239 17.794219 \n\" style=\"fill:#9c1b5b;\"/>\n    <path clip-path=\"url(#p17df7edf87)\" d=\"M 245.565533 17.794219 \nL 261.320827 17.794219 \nL 261.320827 31.384219 \nL 245.565533 31.384219 \nL 245.565533 17.794219 \n\" style=\"fill:#a6195a;\"/>\n    <path clip-path=\"url(#p17df7edf87)\" d=\"M 261.320827 17.794219 \nL 277.076121 17.794219 \nL 277.076121 31.384219 \nL 261.320827 31.384219 \nL 261.320827 17.794219 \n\" style=\"fill:#aa185a;\"/>\n    <path clip-path=\"url(#p17df7edf87)\" d=\"M 277.076121 17.794219 \nL 292.831415 17.794219 \nL 292.831415 31.384219 \nL 277.076121 31.384219 \nL 277.076121 17.794219 \n\" style=\"fill:#cf1e4d;\"/>\n    <path clip-path=\"url(#p17df7edf87)\" d=\"M 292.831415 17.794219 \nL 308.58671 17.794219 \nL 308.58671 31.384219 \nL 292.831415 31.384219 \nL 292.831415 17.794219 \n\" style=\"fill:#aa185a;\"/>\n    <path clip-path=\"url(#p17df7edf87)\" d=\"M 308.58671 17.794219 \nL 324.342004 17.794219 \nL 324.342004 31.384219 \nL 308.58671 31.384219 \nL 308.58671 17.794219 \n\" style=\"fill:#d92847;\"/>\n    <path clip-path=\"url(#p17df7edf87)\" d=\"M 324.342004 17.794219 \nL 340.097298 17.794219 \nL 340.097298 31.384219 \nL 324.342004 31.384219 \nL 324.342004 17.794219 \n\" style=\"fill:#681f55;\"/>\n    <path clip-path=\"url(#p17df7edf87)\" d=\"M 340.097298 17.794219 \nL 355.852592 17.794219 \nL 355.852592 31.384219 \nL 340.097298 31.384219 \nL 340.097298 17.794219 \n\" style=\"fill:#b71657;\"/>\n    <path clip-path=\"url(#p17df7edf87)\" d=\"M 355.852592 17.794219 \nL 371.607886 17.794219 \nL 371.607886 31.384219 \nL 355.852592 31.384219 \nL 355.852592 17.794219 \n\" style=\"fill:#bf1654;\"/>\n    <path clip-path=\"url(#p17df7edf87)\" d=\"M 371.607886 17.794219 \nL 387.36318 17.794219 \nL 387.36318 31.384219 \nL 371.607886 31.384219 \nL 371.607886 17.794219 \n\" style=\"fill:#e8403e;\"/>\n    <path clip-path=\"url(#p17df7edf87)\" d=\"M 387.36318 17.794219 \nL 403.118474 17.794219 \nL 403.118474 31.384219 \nL 387.36318 31.384219 \nL 387.36318 17.794219 \n\" style=\"fill:none;\"/>\n    <path clip-path=\"url(#p17df7edf87)\" d=\"M 403.118474 17.794219 \nL 418.873768 17.794219 \nL 418.873768 31.384219 \nL 403.118474 31.384219 \nL 403.118474 17.794219 \n\" style=\"fill:#c21753;\"/>\n    <path clip-path=\"url(#p17df7edf87)\" d=\"M 418.873768 17.794219 \nL 434.629063 17.794219 \nL 434.629063 31.384219 \nL 418.873768 31.384219 \nL 418.873768 17.794219 \n\" style=\"fill:#ba1656;\"/>\n    <path clip-path=\"url(#p17df7edf87)\" d=\"M 166.789062 31.384219 \nL 182.544357 31.384219 \nL 182.544357 44.974219 \nL 166.789062 44.974219 \nL 166.789062 31.384219 \n\" style=\"fill:#9c1b5b;\"/>\n    <path clip-path=\"url(#p17df7edf87)\" d=\"M 182.544357 31.384219 \nL 198.299651 31.384219 \nL 198.299651 44.974219 \nL 182.544357 44.974219 \nL 182.544357 31.384219 \n\" style=\"fill:#921c5b;\"/>\n    <path clip-path=\"url(#p17df7edf87)\" d=\"M 198.299651 31.384219 \nL 214.054945 31.384219 \nL 214.054945 44.974219 \nL 198.299651 44.974219 \nL 198.299651 31.384219 \n\" style=\"fill:#faebdd;\"/>\n    <path clip-path=\"url(#p17df7edf87)\" d=\"M 214.054945 31.384219 \nL 229.810239 31.384219 \nL 229.810239 44.974219 \nL 214.054945 44.974219 \nL 214.054945 31.384219 \n\" style=\"fill:#921c5b;\"/>\n    <path clip-path=\"url(#p17df7edf87)\" d=\"M 229.810239 31.384219 \nL 245.565533 31.384219 \nL 245.565533 44.974219 \nL 229.810239 44.974219 \nL 229.810239 31.384219 \n\" style=\"fill:#bf1654;\"/>\n    <path clip-path=\"url(#p17df7edf87)\" d=\"M 245.565533 31.384219 \nL 261.320827 31.384219 \nL 261.320827 44.974219 \nL 245.565533 44.974219 \nL 245.565533 31.384219 \n\" style=\"fill:#9a1b5b;\"/>\n    <path clip-path=\"url(#p17df7edf87)\" d=\"M 261.320827 31.384219 \nL 277.076121 31.384219 \nL 277.076121 44.974219 \nL 261.320827 44.974219 \nL 261.320827 31.384219 \n\" style=\"fill:#8c1d5b;\"/>\n    <path clip-path=\"url(#p17df7edf87)\" d=\"M 277.076121 31.384219 \nL 292.831415 31.384219 \nL 292.831415 44.974219 \nL 277.076121 44.974219 \nL 277.076121 31.384219 \n\" style=\"fill:#8c1d5b;\"/>\n    <path clip-path=\"url(#p17df7edf87)\" d=\"M 292.831415 31.384219 \nL 308.58671 31.384219 \nL 308.58671 44.974219 \nL 292.831415 44.974219 \nL 292.831415 31.384219 \n\" style=\"fill:#b01759;\"/>\n    <path clip-path=\"url(#p17df7edf87)\" d=\"M 308.58671 31.384219 \nL 324.342004 31.384219 \nL 324.342004 44.974219 \nL 308.58671 44.974219 \nL 308.58671 31.384219 \n\" style=\"fill:#a11a5b;\"/>\n    <path clip-path=\"url(#p17df7edf87)\" d=\"M 324.342004 31.384219 \nL 340.097298 31.384219 \nL 340.097298 44.974219 \nL 324.342004 44.974219 \nL 324.342004 31.384219 \n\" style=\"fill:#a11a5b;\"/>\n    <path clip-path=\"url(#p17df7edf87)\" d=\"M 340.097298 31.384219 \nL 355.852592 31.384219 \nL 355.852592 44.974219 \nL 340.097298 44.974219 \nL 340.097298 31.384219 \n\" style=\"fill:#a6195a;\"/>\n    <path clip-path=\"url(#p17df7edf87)\" d=\"M 355.852592 31.384219 \nL 371.607886 31.384219 \nL 371.607886 44.974219 \nL 355.852592 44.974219 \nL 355.852592 31.384219 \n\" style=\"fill:#8b1d5b;\"/>\n    <path clip-path=\"url(#p17df7edf87)\" d=\"M 371.607886 31.384219 \nL 387.36318 31.384219 \nL 387.36318 44.974219 \nL 371.607886 44.974219 \nL 371.607886 31.384219 \n\" style=\"fill:#981b5b;\"/>\n    <path clip-path=\"url(#p17df7edf87)\" d=\"M 387.36318 31.384219 \nL 403.118474 31.384219 \nL 403.118474 44.974219 \nL 387.36318 44.974219 \nL 387.36318 31.384219 \n\" style=\"fill:none;\"/>\n    <path clip-path=\"url(#p17df7edf87)\" d=\"M 403.118474 31.384219 \nL 418.873768 31.384219 \nL 418.873768 44.974219 \nL 403.118474 44.974219 \nL 403.118474 31.384219 \n\" style=\"fill:#901d5b;\"/>\n    <path clip-path=\"url(#p17df7edf87)\" d=\"M 418.873768 31.384219 \nL 434.629063 31.384219 \nL 434.629063 44.974219 \nL 418.873768 44.974219 \nL 418.873768 31.384219 \n\" style=\"fill:#8e1d5b;\"/>\n    <path clip-path=\"url(#p17df7edf87)\" d=\"M 166.789062 44.974219 \nL 182.544357 44.974219 \nL 182.544357 58.564219 \nL 166.789062 58.564219 \nL 166.789062 44.974219 \n\" style=\"fill:#9e1a5b;\"/>\n    <path clip-path=\"url(#p17df7edf87)\" d=\"M 182.544357 44.974219 \nL 198.299651 44.974219 \nL 198.299651 58.564219 \nL 182.544357 58.564219 \nL 182.544357 44.974219 \n\" style=\"fill:#b71657;\"/>\n    <path clip-path=\"url(#p17df7edf87)\" d=\"M 198.299651 44.974219 \nL 214.054945 44.974219 \nL 214.054945 58.564219 \nL 198.299651 58.564219 \nL 198.299651 44.974219 \n\" style=\"fill:#921c5b;\"/>\n    <path clip-path=\"url(#p17df7edf87)\" d=\"M 214.054945 44.974219 \nL 229.810239 44.974219 \nL 229.810239 58.564219 \nL 214.054945 58.564219 \nL 214.054945 44.974219 \n\" style=\"fill:#faebdd;\"/>\n    <path clip-path=\"url(#p17df7edf87)\" d=\"M 229.810239 44.974219 \nL 245.565533 44.974219 \nL 245.565533 58.564219 \nL 229.810239 58.564219 \nL 229.810239 44.974219 \n\" style=\"fill:#b41658;\"/>\n    <path clip-path=\"url(#p17df7edf87)\" d=\"M 245.565533 44.974219 \nL 261.320827 44.974219 \nL 261.320827 58.564219 \nL 245.565533 58.564219 \nL 245.565533 44.974219 \n\" style=\"fill:#9a1b5b;\"/>\n    <path clip-path=\"url(#p17df7edf87)\" d=\"M 261.320827 44.974219 \nL 277.076121 44.974219 \nL 277.076121 58.564219 \nL 261.320827 58.564219 \nL 261.320827 44.974219 \n\" style=\"fill:#cb1b4f;\"/>\n    <path clip-path=\"url(#p17df7edf87)\" d=\"M 277.076121 44.974219 \nL 292.831415 44.974219 \nL 292.831415 58.564219 \nL 277.076121 58.564219 \nL 277.076121 44.974219 \n\" style=\"fill:#a8185a;\"/>\n    <path clip-path=\"url(#p17df7edf87)\" d=\"M 292.831415 44.974219 \nL 308.58671 44.974219 \nL 308.58671 58.564219 \nL 292.831415 58.564219 \nL 292.831415 44.974219 \n\" style=\"fill:#b41658;\"/>\n    <path clip-path=\"url(#p17df7edf87)\" d=\"M 308.58671 44.974219 \nL 324.342004 44.974219 \nL 324.342004 58.564219 \nL 308.58671 58.564219 \nL 308.58671 44.974219 \n\" style=\"fill:#b21758;\"/>\n    <path clip-path=\"url(#p17df7edf87)\" d=\"M 324.342004 44.974219 \nL 340.097298 44.974219 \nL 340.097298 58.564219 \nL 324.342004 58.564219 \nL 324.342004 44.974219 \n\" style=\"fill:#a3195b;\"/>\n    <path clip-path=\"url(#p17df7edf87)\" d=\"M 340.097298 44.974219 \nL 355.852592 44.974219 \nL 355.852592 58.564219 \nL 340.097298 58.564219 \nL 340.097298 44.974219 \n\" style=\"fill:#a3195b;\"/>\n    <path clip-path=\"url(#p17df7edf87)\" d=\"M 355.852592 44.974219 \nL 371.607886 44.974219 \nL 371.607886 58.564219 \nL 355.852592 58.564219 \nL 355.852592 44.974219 \n\" style=\"fill:#931c5b;\"/>\n    <path clip-path=\"url(#p17df7edf87)\" d=\"M 371.607886 44.974219 \nL 387.36318 44.974219 \nL 387.36318 58.564219 \nL 371.607886 58.564219 \nL 371.607886 44.974219 \n\" style=\"fill:#af1759;\"/>\n    <path clip-path=\"url(#p17df7edf87)\" d=\"M 387.36318 44.974219 \nL 403.118474 44.974219 \nL 403.118474 58.564219 \nL 387.36318 58.564219 \nL 387.36318 44.974219 \n\" style=\"fill:none;\"/>\n    <path clip-path=\"url(#p17df7edf87)\" d=\"M 403.118474 44.974219 \nL 418.873768 44.974219 \nL 418.873768 58.564219 \nL 403.118474 58.564219 \nL 403.118474 44.974219 \n\" style=\"fill:#931c5b;\"/>\n    <path clip-path=\"url(#p17df7edf87)\" d=\"M 418.873768 44.974219 \nL 434.629063 44.974219 \nL 434.629063 58.564219 \nL 418.873768 58.564219 \nL 418.873768 44.974219 \n\" style=\"fill:#981b5b;\"/>\n    <path clip-path=\"url(#p17df7edf87)\" d=\"M 166.789062 58.564219 \nL 182.544357 58.564219 \nL 182.544357 72.154219 \nL 166.789062 72.154219 \nL 166.789062 58.564219 \n\" style=\"fill:#9f1a5b;\"/>\n    <path clip-path=\"url(#p17df7edf87)\" d=\"M 182.544357 58.564219 \nL 198.299651 58.564219 \nL 198.299651 72.154219 \nL 182.544357 72.154219 \nL 182.544357 58.564219 \n\" style=\"fill:#9c1b5b;\"/>\n    <path clip-path=\"url(#p17df7edf87)\" d=\"M 198.299651 58.564219 \nL 214.054945 58.564219 \nL 214.054945 72.154219 \nL 198.299651 72.154219 \nL 198.299651 58.564219 \n\" style=\"fill:#bf1654;\"/>\n    <path clip-path=\"url(#p17df7edf87)\" d=\"M 214.054945 58.564219 \nL 229.810239 58.564219 \nL 229.810239 72.154219 \nL 214.054945 72.154219 \nL 214.054945 58.564219 \n\" style=\"fill:#b41658;\"/>\n    <path clip-path=\"url(#p17df7edf87)\" d=\"M 229.810239 58.564219 \nL 245.565533 58.564219 \nL 245.565533 72.154219 \nL 229.810239 72.154219 \nL 229.810239 58.564219 \n\" style=\"fill:#faebdd;\"/>\n    <path clip-path=\"url(#p17df7edf87)\" d=\"M 245.565533 58.564219 \nL 261.320827 58.564219 \nL 261.320827 72.154219 \nL 245.565533 72.154219 \nL 245.565533 58.564219 \n\" style=\"fill:#a4195b;\"/>\n    <path clip-path=\"url(#p17df7edf87)\" d=\"M 261.320827 58.564219 \nL 277.076121 58.564219 \nL 277.076121 72.154219 \nL 261.320827 72.154219 \nL 261.320827 58.564219 \n\" style=\"fill:#bf1654;\"/>\n    <path clip-path=\"url(#p17df7edf87)\" d=\"M 277.076121 58.564219 \nL 292.831415 58.564219 \nL 292.831415 72.154219 \nL 277.076121 72.154219 \nL 277.076121 58.564219 \n\" style=\"fill:#bf1654;\"/>\n    <path clip-path=\"url(#p17df7edf87)\" d=\"M 292.831415 58.564219 \nL 308.58671 58.564219 \nL 308.58671 72.154219 \nL 292.831415 72.154219 \nL 292.831415 58.564219 \n\" style=\"fill:#bf1654;\"/>\n    <path clip-path=\"url(#p17df7edf87)\" d=\"M 308.58671 58.564219 \nL 324.342004 58.564219 \nL 324.342004 72.154219 \nL 308.58671 72.154219 \nL 308.58671 58.564219 \n\" style=\"fill:#c41753;\"/>\n    <path clip-path=\"url(#p17df7edf87)\" d=\"M 324.342004 58.564219 \nL 340.097298 58.564219 \nL 340.097298 72.154219 \nL 324.342004 72.154219 \nL 324.342004 58.564219 \n\" style=\"fill:#a4195b;\"/>\n    <path clip-path=\"url(#p17df7edf87)\" d=\"M 340.097298 58.564219 \nL 355.852592 58.564219 \nL 355.852592 72.154219 \nL 340.097298 72.154219 \nL 340.097298 58.564219 \n\" style=\"fill:#ba1656;\"/>\n    <path clip-path=\"url(#p17df7edf87)\" d=\"M 355.852592 58.564219 \nL 371.607886 58.564219 \nL 371.607886 72.154219 \nL 355.852592 72.154219 \nL 355.852592 58.564219 \n\" style=\"fill:#b41658;\"/>\n    <path clip-path=\"url(#p17df7edf87)\" d=\"M 371.607886 58.564219 \nL 387.36318 58.564219 \nL 387.36318 72.154219 \nL 371.607886 72.154219 \nL 371.607886 58.564219 \n\" style=\"fill:#b01759;\"/>\n    <path clip-path=\"url(#p17df7edf87)\" d=\"M 387.36318 58.564219 \nL 403.118474 58.564219 \nL 403.118474 72.154219 \nL 387.36318 72.154219 \nL 387.36318 58.564219 \n\" style=\"fill:none;\"/>\n    <path clip-path=\"url(#p17df7edf87)\" d=\"M 403.118474 58.564219 \nL 418.873768 58.564219 \nL 418.873768 72.154219 \nL 403.118474 72.154219 \nL 403.118474 58.564219 \n\" style=\"fill:#9e1a5b;\"/>\n    <path clip-path=\"url(#p17df7edf87)\" d=\"M 418.873768 58.564219 \nL 434.629063 58.564219 \nL 434.629063 72.154219 \nL 418.873768 72.154219 \nL 418.873768 58.564219 \n\" style=\"fill:#9c1b5b;\"/>\n    <path clip-path=\"url(#p17df7edf87)\" d=\"M 166.789062 72.154219 \nL 182.544357 72.154219 \nL 182.544357 85.744219 \nL 166.789062 85.744219 \nL 166.789062 72.154219 \n\" style=\"fill:#9a1b5b;\"/>\n    <path clip-path=\"url(#p17df7edf87)\" d=\"M 182.544357 72.154219 \nL 198.299651 72.154219 \nL 198.299651 85.744219 \nL 182.544357 85.744219 \nL 182.544357 72.154219 \n\" style=\"fill:#a6195a;\"/>\n    <path clip-path=\"url(#p17df7edf87)\" d=\"M 198.299651 72.154219 \nL 214.054945 72.154219 \nL 214.054945 85.744219 \nL 198.299651 85.744219 \nL 198.299651 72.154219 \n\" style=\"fill:#9a1b5b;\"/>\n    <path clip-path=\"url(#p17df7edf87)\" d=\"M 214.054945 72.154219 \nL 229.810239 72.154219 \nL 229.810239 85.744219 \nL 214.054945 85.744219 \nL 214.054945 72.154219 \n\" style=\"fill:#9a1b5b;\"/>\n    <path clip-path=\"url(#p17df7edf87)\" d=\"M 229.810239 72.154219 \nL 245.565533 72.154219 \nL 245.565533 85.744219 \nL 229.810239 85.744219 \nL 229.810239 72.154219 \n\" style=\"fill:#a4195b;\"/>\n    <path clip-path=\"url(#p17df7edf87)\" d=\"M 245.565533 72.154219 \nL 261.320827 72.154219 \nL 261.320827 85.744219 \nL 245.565533 85.744219 \nL 245.565533 72.154219 \n\" style=\"fill:#faebdd;\"/>\n    <path clip-path=\"url(#p17df7edf87)\" d=\"M 261.320827 72.154219 \nL 277.076121 72.154219 \nL 277.076121 85.744219 \nL 261.320827 85.744219 \nL 261.320827 72.154219 \n\" style=\"fill:#981b5b;\"/>\n    <path clip-path=\"url(#p17df7edf87)\" d=\"M 277.076121 72.154219 \nL 292.831415 72.154219 \nL 292.831415 85.744219 \nL 277.076121 85.744219 \nL 277.076121 72.154219 \n\" style=\"fill:#9c1b5b;\"/>\n    <path clip-path=\"url(#p17df7edf87)\" d=\"M 292.831415 72.154219 \nL 308.58671 72.154219 \nL 308.58671 85.744219 \nL 292.831415 85.744219 \nL 292.831415 72.154219 \n\" style=\"fill:#981b5b;\"/>\n    <path clip-path=\"url(#p17df7edf87)\" d=\"M 308.58671 72.154219 \nL 324.342004 72.154219 \nL 324.342004 85.744219 \nL 308.58671 85.744219 \nL 308.58671 72.154219 \n\" style=\"fill:#aa185a;\"/>\n    <path clip-path=\"url(#p17df7edf87)\" d=\"M 324.342004 72.154219 \nL 340.097298 72.154219 \nL 340.097298 85.744219 \nL 324.342004 85.744219 \nL 324.342004 72.154219 \n\" style=\"fill:#9e1a5b;\"/>\n    <path clip-path=\"url(#p17df7edf87)\" d=\"M 340.097298 72.154219 \nL 355.852592 72.154219 \nL 355.852592 85.744219 \nL 340.097298 85.744219 \nL 340.097298 72.154219 \n\" style=\"fill:#a11a5b;\"/>\n    <path clip-path=\"url(#p17df7edf87)\" d=\"M 355.852592 72.154219 \nL 371.607886 72.154219 \nL 371.607886 85.744219 \nL 355.852592 85.744219 \nL 355.852592 72.154219 \n\" style=\"fill:#981b5b;\"/>\n    <path clip-path=\"url(#p17df7edf87)\" d=\"M 371.607886 72.154219 \nL 387.36318 72.154219 \nL 387.36318 85.744219 \nL 371.607886 85.744219 \nL 371.607886 72.154219 \n\" style=\"fill:#a3195b;\"/>\n    <path clip-path=\"url(#p17df7edf87)\" d=\"M 387.36318 72.154219 \nL 403.118474 72.154219 \nL 403.118474 85.744219 \nL 387.36318 85.744219 \nL 387.36318 72.154219 \n\" style=\"fill:none;\"/>\n    <path clip-path=\"url(#p17df7edf87)\" d=\"M 403.118474 72.154219 \nL 418.873768 72.154219 \nL 418.873768 85.744219 \nL 403.118474 85.744219 \nL 403.118474 72.154219 \n\" style=\"fill:#9a1b5b;\"/>\n    <path clip-path=\"url(#p17df7edf87)\" d=\"M 418.873768 72.154219 \nL 434.629063 72.154219 \nL 434.629063 85.744219 \nL 418.873768 85.744219 \nL 418.873768 72.154219 \n\" style=\"fill:#9c1b5b;\"/>\n    <path clip-path=\"url(#p17df7edf87)\" d=\"M 166.789062 85.744219 \nL 182.544357 85.744219 \nL 182.544357 99.334219 \nL 166.789062 99.334219 \nL 166.789062 85.744219 \n\" style=\"fill:#a3195b;\"/>\n    <path clip-path=\"url(#p17df7edf87)\" d=\"M 182.544357 85.744219 \nL 198.299651 85.744219 \nL 198.299651 99.334219 \nL 182.544357 99.334219 \nL 182.544357 85.744219 \n\" style=\"fill:#aa185a;\"/>\n    <path clip-path=\"url(#p17df7edf87)\" d=\"M 198.299651 85.744219 \nL 214.054945 85.744219 \nL 214.054945 99.334219 \nL 198.299651 99.334219 \nL 198.299651 85.744219 \n\" style=\"fill:#8c1d5b;\"/>\n    <path clip-path=\"url(#p17df7edf87)\" d=\"M 214.054945 85.744219 \nL 229.810239 85.744219 \nL 229.810239 99.334219 \nL 214.054945 99.334219 \nL 214.054945 85.744219 \n\" style=\"fill:#cb1b4f;\"/>\n    <path clip-path=\"url(#p17df7edf87)\" d=\"M 229.810239 85.744219 \nL 245.565533 85.744219 \nL 245.565533 99.334219 \nL 229.810239 99.334219 \nL 229.810239 85.744219 \n\" style=\"fill:#bf1654;\"/>\n    <path clip-path=\"url(#p17df7edf87)\" d=\"M 245.565533 85.744219 \nL 261.320827 85.744219 \nL 261.320827 99.334219 \nL 245.565533 99.334219 \nL 245.565533 85.744219 \n\" style=\"fill:#981b5b;\"/>\n    <path clip-path=\"url(#p17df7edf87)\" d=\"M 261.320827 85.744219 \nL 277.076121 85.744219 \nL 277.076121 99.334219 \nL 261.320827 99.334219 \nL 261.320827 85.744219 \n\" style=\"fill:#faebdd;\"/>\n    <path clip-path=\"url(#p17df7edf87)\" d=\"M 277.076121 85.744219 \nL 292.831415 85.744219 \nL 292.831415 99.334219 \nL 277.076121 99.334219 \nL 277.076121 85.744219 \n\" style=\"fill:#951c5b;\"/>\n    <path clip-path=\"url(#p17df7edf87)\" d=\"M 292.831415 85.744219 \nL 308.58671 85.744219 \nL 308.58671 99.334219 \nL 292.831415 99.334219 \nL 292.831415 85.744219 \n\" style=\"fill:#c71951;\"/>\n    <path clip-path=\"url(#p17df7edf87)\" d=\"M 308.58671 85.744219 \nL 324.342004 85.744219 \nL 324.342004 99.334219 \nL 308.58671 99.334219 \nL 308.58671 85.744219 \n\" style=\"fill:#ab185a;\"/>\n    <path clip-path=\"url(#p17df7edf87)\" d=\"M 324.342004 85.744219 \nL 340.097298 85.744219 \nL 340.097298 99.334219 \nL 324.342004 99.334219 \nL 324.342004 85.744219 \n\" style=\"fill:#b01759;\"/>\n    <path clip-path=\"url(#p17df7edf87)\" d=\"M 340.097298 85.744219 \nL 355.852592 85.744219 \nL 355.852592 99.334219 \nL 340.097298 99.334219 \nL 340.097298 85.744219 \n\" style=\"fill:#8c1d5b;\"/>\n    <path clip-path=\"url(#p17df7edf87)\" d=\"M 355.852592 85.744219 \nL 371.607886 85.744219 \nL 371.607886 99.334219 \nL 355.852592 99.334219 \nL 355.852592 85.744219 \n\" style=\"fill:#ab185a;\"/>\n    <path clip-path=\"url(#p17df7edf87)\" d=\"M 371.607886 85.744219 \nL 387.36318 85.744219 \nL 387.36318 99.334219 \nL 371.607886 99.334219 \nL 371.607886 85.744219 \n\" style=\"fill:#9c1b5b;\"/>\n    <path clip-path=\"url(#p17df7edf87)\" d=\"M 387.36318 85.744219 \nL 403.118474 85.744219 \nL 403.118474 99.334219 \nL 387.36318 99.334219 \nL 387.36318 85.744219 \n\" style=\"fill:none;\"/>\n    <path clip-path=\"url(#p17df7edf87)\" d=\"M 403.118474 85.744219 \nL 418.873768 85.744219 \nL 418.873768 99.334219 \nL 403.118474 99.334219 \nL 403.118474 85.744219 \n\" style=\"fill:#a6195a;\"/>\n    <path clip-path=\"url(#p17df7edf87)\" d=\"M 418.873768 85.744219 \nL 434.629063 85.744219 \nL 434.629063 99.334219 \nL 418.873768 99.334219 \nL 418.873768 85.744219 \n\" style=\"fill:#a8185a;\"/>\n    <path clip-path=\"url(#p17df7edf87)\" d=\"M 166.789062 99.334219 \nL 182.544357 99.334219 \nL 182.544357 112.924219 \nL 166.789062 112.924219 \nL 166.789062 99.334219 \n\" style=\"fill:#971c5b;\"/>\n    <path clip-path=\"url(#p17df7edf87)\" d=\"M 182.544357 99.334219 \nL 198.299651 99.334219 \nL 198.299651 112.924219 \nL 182.544357 112.924219 \nL 182.544357 99.334219 \n\" style=\"fill:#cf1e4d;\"/>\n    <path clip-path=\"url(#p17df7edf87)\" d=\"M 198.299651 99.334219 \nL 214.054945 99.334219 \nL 214.054945 112.924219 \nL 198.299651 112.924219 \nL 198.299651 99.334219 \n\" style=\"fill:#8c1d5b;\"/>\n    <path clip-path=\"url(#p17df7edf87)\" d=\"M 214.054945 99.334219 \nL 229.810239 99.334219 \nL 229.810239 112.924219 \nL 214.054945 112.924219 \nL 214.054945 99.334219 \n\" style=\"fill:#a8185a;\"/>\n    <path clip-path=\"url(#p17df7edf87)\" d=\"M 229.810239 99.334219 \nL 245.565533 99.334219 \nL 245.565533 112.924219 \nL 229.810239 112.924219 \nL 229.810239 99.334219 \n\" style=\"fill:#bf1654;\"/>\n    <path clip-path=\"url(#p17df7edf87)\" d=\"M 245.565533 99.334219 \nL 261.320827 99.334219 \nL 261.320827 112.924219 \nL 245.565533 112.924219 \nL 245.565533 99.334219 \n\" style=\"fill:#9c1b5b;\"/>\n    <path clip-path=\"url(#p17df7edf87)\" d=\"M 261.320827 99.334219 \nL 277.076121 99.334219 \nL 277.076121 112.924219 \nL 261.320827 112.924219 \nL 261.320827 99.334219 \n\" style=\"fill:#951c5b;\"/>\n    <path clip-path=\"url(#p17df7edf87)\" d=\"M 277.076121 99.334219 \nL 292.831415 99.334219 \nL 292.831415 112.924219 \nL 277.076121 112.924219 \nL 277.076121 99.334219 \n\" style=\"fill:#faebdd;\"/>\n    <path clip-path=\"url(#p17df7edf87)\" d=\"M 292.831415 99.334219 \nL 308.58671 99.334219 \nL 308.58671 112.924219 \nL 292.831415 112.924219 \nL 292.831415 99.334219 \n\" style=\"fill:#751f58;\"/>\n    <path clip-path=\"url(#p17df7edf87)\" d=\"M 308.58671 99.334219 \nL 324.342004 99.334219 \nL 324.342004 112.924219 \nL 308.58671 112.924219 \nL 308.58671 99.334219 \n\" style=\"fill:#cb1b4f;\"/>\n    <path clip-path=\"url(#p17df7edf87)\" d=\"M 324.342004 99.334219 \nL 340.097298 99.334219 \nL 340.097298 112.924219 \nL 324.342004 112.924219 \nL 324.342004 99.334219 \n\" style=\"fill:#c11754;\"/>\n    <path clip-path=\"url(#p17df7edf87)\" d=\"M 340.097298 99.334219 \nL 355.852592 99.334219 \nL 355.852592 112.924219 \nL 340.097298 112.924219 \nL 340.097298 99.334219 \n\" style=\"fill:#871e5b;\"/>\n    <path clip-path=\"url(#p17df7edf87)\" d=\"M 355.852592 99.334219 \nL 371.607886 99.334219 \nL 371.607886 112.924219 \nL 355.852592 112.924219 \nL 355.852592 99.334219 \n\" style=\"fill:#eb463e;\"/>\n    <path clip-path=\"url(#p17df7edf87)\" d=\"M 371.607886 99.334219 \nL 387.36318 99.334219 \nL 387.36318 112.924219 \nL 371.607886 112.924219 \nL 371.607886 99.334219 \n\" style=\"fill:#a3195b;\"/>\n    <path clip-path=\"url(#p17df7edf87)\" d=\"M 387.36318 99.334219 \nL 403.118474 99.334219 \nL 403.118474 112.924219 \nL 387.36318 112.924219 \nL 387.36318 99.334219 \n\" style=\"fill:none;\"/>\n    <path clip-path=\"url(#p17df7edf87)\" d=\"M 403.118474 99.334219 \nL 418.873768 99.334219 \nL 418.873768 112.924219 \nL 403.118474 112.924219 \nL 403.118474 99.334219 \n\" style=\"fill:#db2946;\"/>\n    <path clip-path=\"url(#p17df7edf87)\" d=\"M 418.873768 99.334219 \nL 434.629063 99.334219 \nL 434.629063 112.924219 \nL 418.873768 112.924219 \nL 418.873768 99.334219 \n\" style=\"fill:#d62449;\"/>\n    <path clip-path=\"url(#p17df7edf87)\" d=\"M 166.789062 112.924219 \nL 182.544357 112.924219 \nL 182.544357 126.514219 \nL 166.789062 126.514219 \nL 166.789062 112.924219 \n\" style=\"fill:#b41658;\"/>\n    <path clip-path=\"url(#p17df7edf87)\" d=\"M 182.544357 112.924219 \nL 198.299651 112.924219 \nL 198.299651 126.514219 \nL 182.544357 126.514219 \nL 182.544357 112.924219 \n\" style=\"fill:#aa185a;\"/>\n    <path clip-path=\"url(#p17df7edf87)\" d=\"M 198.299651 112.924219 \nL 214.054945 112.924219 \nL 214.054945 126.514219 \nL 198.299651 126.514219 \nL 198.299651 112.924219 \n\" style=\"fill:#b01759;\"/>\n    <path clip-path=\"url(#p17df7edf87)\" d=\"M 214.054945 112.924219 \nL 229.810239 112.924219 \nL 229.810239 126.514219 \nL 214.054945 126.514219 \nL 214.054945 112.924219 \n\" style=\"fill:#b41658;\"/>\n    <path clip-path=\"url(#p17df7edf87)\" d=\"M 229.810239 112.924219 \nL 245.565533 112.924219 \nL 245.565533 126.514219 \nL 229.810239 126.514219 \nL 229.810239 112.924219 \n\" style=\"fill:#bf1654;\"/>\n    <path clip-path=\"url(#p17df7edf87)\" d=\"M 245.565533 112.924219 \nL 261.320827 112.924219 \nL 261.320827 126.514219 \nL 245.565533 126.514219 \nL 245.565533 112.924219 \n\" style=\"fill:#981b5b;\"/>\n    <path clip-path=\"url(#p17df7edf87)\" d=\"M 261.320827 112.924219 \nL 277.076121 112.924219 \nL 277.076121 126.514219 \nL 261.320827 126.514219 \nL 261.320827 112.924219 \n\" style=\"fill:#c71951;\"/>\n    <path clip-path=\"url(#p17df7edf87)\" d=\"M 277.076121 112.924219 \nL 292.831415 112.924219 \nL 292.831415 126.514219 \nL 277.076121 126.514219 \nL 277.076121 112.924219 \n\" style=\"fill:#751f58;\"/>\n    <path clip-path=\"url(#p17df7edf87)\" d=\"M 292.831415 112.924219 \nL 308.58671 112.924219 \nL 308.58671 126.514219 \nL 292.831415 126.514219 \nL 292.831415 112.924219 \n\" style=\"fill:#faebdd;\"/>\n    <path clip-path=\"url(#p17df7edf87)\" d=\"M 308.58671 112.924219 \nL 324.342004 112.924219 \nL 324.342004 126.514219 \nL 308.58671 126.514219 \nL 308.58671 112.924219 \n\" style=\"fill:#c81951;\"/>\n    <path clip-path=\"url(#p17df7edf87)\" d=\"M 324.342004 112.924219 \nL 340.097298 112.924219 \nL 340.097298 126.514219 \nL 324.342004 126.514219 \nL 324.342004 112.924219 \n\" style=\"fill:#a11a5b;\"/>\n    <path clip-path=\"url(#p17df7edf87)\" d=\"M 340.097298 112.924219 \nL 355.852592 112.924219 \nL 355.852592 126.514219 \nL 340.097298 126.514219 \nL 340.097298 112.924219 \n\" style=\"fill:#b41658;\"/>\n    <path clip-path=\"url(#p17df7edf87)\" d=\"M 355.852592 112.924219 \nL 371.607886 112.924219 \nL 371.607886 126.514219 \nL 355.852592 126.514219 \nL 355.852592 112.924219 \n\" style=\"fill:#9a1b5b;\"/>\n    <path clip-path=\"url(#p17df7edf87)\" d=\"M 371.607886 112.924219 \nL 387.36318 112.924219 \nL 387.36318 126.514219 \nL 371.607886 126.514219 \nL 371.607886 112.924219 \n\" style=\"fill:#b91657;\"/>\n    <path clip-path=\"url(#p17df7edf87)\" d=\"M 387.36318 112.924219 \nL 403.118474 112.924219 \nL 403.118474 126.514219 \nL 387.36318 126.514219 \nL 387.36318 112.924219 \n\" style=\"fill:none;\"/>\n    <path clip-path=\"url(#p17df7edf87)\" d=\"M 403.118474 112.924219 \nL 418.873768 112.924219 \nL 418.873768 126.514219 \nL 403.118474 126.514219 \nL 403.118474 112.924219 \n\" style=\"fill:#891e5b;\"/>\n    <path clip-path=\"url(#p17df7edf87)\" d=\"M 418.873768 112.924219 \nL 434.629063 112.924219 \nL 434.629063 126.514219 \nL 418.873768 126.514219 \nL 418.873768 112.924219 \n\" style=\"fill:#921c5b;\"/>\n    <path clip-path=\"url(#p17df7edf87)\" d=\"M 166.789062 126.514219 \nL 182.544357 126.514219 \nL 182.544357 140.104219 \nL 166.789062 140.104219 \nL 166.789062 126.514219 \n\" style=\"fill:#cd1c4e;\"/>\n    <path clip-path=\"url(#p17df7edf87)\" d=\"M 182.544357 126.514219 \nL 198.299651 126.514219 \nL 198.299651 140.104219 \nL 182.544357 140.104219 \nL 182.544357 126.514219 \n\" style=\"fill:#d92847;\"/>\n    <path clip-path=\"url(#p17df7edf87)\" d=\"M 198.299651 126.514219 \nL 214.054945 126.514219 \nL 214.054945 140.104219 \nL 198.299651 140.104219 \nL 198.299651 126.514219 \n\" style=\"fill:#a11a5b;\"/>\n    <path clip-path=\"url(#p17df7edf87)\" d=\"M 214.054945 126.514219 \nL 229.810239 126.514219 \nL 229.810239 140.104219 \nL 214.054945 140.104219 \nL 214.054945 126.514219 \n\" style=\"fill:#b21758;\"/>\n    <path clip-path=\"url(#p17df7edf87)\" d=\"M 229.810239 126.514219 \nL 245.565533 126.514219 \nL 245.565533 140.104219 \nL 229.810239 140.104219 \nL 229.810239 126.514219 \n\" style=\"fill:#c41753;\"/>\n    <path clip-path=\"url(#p17df7edf87)\" d=\"M 245.565533 126.514219 \nL 261.320827 126.514219 \nL 261.320827 140.104219 \nL 245.565533 140.104219 \nL 245.565533 126.514219 \n\" style=\"fill:#aa185a;\"/>\n    <path clip-path=\"url(#p17df7edf87)\" d=\"M 261.320827 126.514219 \nL 277.076121 126.514219 \nL 277.076121 140.104219 \nL 261.320827 140.104219 \nL 261.320827 126.514219 \n\" style=\"fill:#ab185a;\"/>\n    <path clip-path=\"url(#p17df7edf87)\" d=\"M 277.076121 126.514219 \nL 292.831415 126.514219 \nL 292.831415 140.104219 \nL 277.076121 140.104219 \nL 277.076121 126.514219 \n\" style=\"fill:#cb1b4f;\"/>\n    <path clip-path=\"url(#p17df7edf87)\" d=\"M 292.831415 126.514219 \nL 308.58671 126.514219 \nL 308.58671 140.104219 \nL 292.831415 140.104219 \nL 292.831415 126.514219 \n\" style=\"fill:#c81951;\"/>\n    <path clip-path=\"url(#p17df7edf87)\" d=\"M 308.58671 126.514219 \nL 324.342004 126.514219 \nL 324.342004 140.104219 \nL 308.58671 140.104219 \nL 308.58671 126.514219 \n\" style=\"fill:#faebdd;\"/>\n    <path clip-path=\"url(#p17df7edf87)\" d=\"M 324.342004 126.514219 \nL 340.097298 126.514219 \nL 340.097298 140.104219 \nL 324.342004 140.104219 \nL 324.342004 126.514219 \n\" style=\"fill:#c71951;\"/>\n    <path clip-path=\"url(#p17df7edf87)\" d=\"M 340.097298 126.514219 \nL 355.852592 126.514219 \nL 355.852592 140.104219 \nL 340.097298 140.104219 \nL 340.097298 126.514219 \n\" style=\"fill:#e13342;\"/>\n    <path clip-path=\"url(#p17df7edf87)\" d=\"M 355.852592 126.514219 \nL 371.607886 126.514219 \nL 371.607886 140.104219 \nL 355.852592 140.104219 \nL 355.852592 126.514219 \n\" style=\"fill:#b21758;\"/>\n    <path clip-path=\"url(#p17df7edf87)\" d=\"M 371.607886 126.514219 \nL 387.36318 126.514219 \nL 387.36318 140.104219 \nL 371.607886 140.104219 \nL 371.607886 126.514219 \n\" style=\"fill:#f47f58;\"/>\n    <path clip-path=\"url(#p17df7edf87)\" d=\"M 387.36318 126.514219 \nL 403.118474 126.514219 \nL 403.118474 140.104219 \nL 387.36318 140.104219 \nL 387.36318 126.514219 \n\" style=\"fill:none;\"/>\n    <path clip-path=\"url(#p17df7edf87)\" d=\"M 403.118474 126.514219 \nL 418.873768 126.514219 \nL 418.873768 140.104219 \nL 403.118474 140.104219 \nL 403.118474 126.514219 \n\" style=\"fill:#c71951;\"/>\n    <path clip-path=\"url(#p17df7edf87)\" d=\"M 418.873768 126.514219 \nL 434.629063 126.514219 \nL 434.629063 140.104219 \nL 418.873768 140.104219 \nL 418.873768 126.514219 \n\" style=\"fill:#c11754;\"/>\n    <path clip-path=\"url(#p17df7edf87)\" d=\"M 166.789062 140.104219 \nL 182.544357 140.104219 \nL 182.544357 153.694219 \nL 166.789062 153.694219 \nL 166.789062 140.104219 \n\" style=\"fill:#661f54;\"/>\n    <path clip-path=\"url(#p17df7edf87)\" d=\"M 182.544357 140.104219 \nL 198.299651 140.104219 \nL 198.299651 153.694219 \nL 182.544357 153.694219 \nL 182.544357 140.104219 \n\" style=\"fill:#681f55;\"/>\n    <path clip-path=\"url(#p17df7edf87)\" d=\"M 198.299651 140.104219 \nL 214.054945 140.104219 \nL 214.054945 153.694219 \nL 198.299651 153.694219 \nL 198.299651 140.104219 \n\" style=\"fill:#a11a5b;\"/>\n    <path clip-path=\"url(#p17df7edf87)\" d=\"M 214.054945 140.104219 \nL 229.810239 140.104219 \nL 229.810239 153.694219 \nL 214.054945 153.694219 \nL 214.054945 140.104219 \n\" style=\"fill:#a3195b;\"/>\n    <path clip-path=\"url(#p17df7edf87)\" d=\"M 229.810239 140.104219 \nL 245.565533 140.104219 \nL 245.565533 153.694219 \nL 229.810239 153.694219 \nL 229.810239 140.104219 \n\" style=\"fill:#a4195b;\"/>\n    <path clip-path=\"url(#p17df7edf87)\" d=\"M 245.565533 140.104219 \nL 261.320827 140.104219 \nL 261.320827 153.694219 \nL 245.565533 153.694219 \nL 245.565533 140.104219 \n\" style=\"fill:#9e1a5b;\"/>\n    <path clip-path=\"url(#p17df7edf87)\" d=\"M 261.320827 140.104219 \nL 277.076121 140.104219 \nL 277.076121 153.694219 \nL 261.320827 153.694219 \nL 261.320827 140.104219 \n\" style=\"fill:#b01759;\"/>\n    <path clip-path=\"url(#p17df7edf87)\" d=\"M 277.076121 140.104219 \nL 292.831415 140.104219 \nL 292.831415 153.694219 \nL 277.076121 153.694219 \nL 277.076121 140.104219 \n\" style=\"fill:#c11754;\"/>\n    <path clip-path=\"url(#p17df7edf87)\" d=\"M 292.831415 140.104219 \nL 308.58671 140.104219 \nL 308.58671 153.694219 \nL 292.831415 153.694219 \nL 292.831415 140.104219 \n\" style=\"fill:#a11a5b;\"/>\n    <path clip-path=\"url(#p17df7edf87)\" d=\"M 308.58671 140.104219 \nL 324.342004 140.104219 \nL 324.342004 153.694219 \nL 308.58671 153.694219 \nL 308.58671 140.104219 \n\" style=\"fill:#c71951;\"/>\n    <path clip-path=\"url(#p17df7edf87)\" d=\"M 324.342004 140.104219 \nL 340.097298 140.104219 \nL 340.097298 153.694219 \nL 324.342004 153.694219 \nL 324.342004 140.104219 \n\" style=\"fill:#faebdd;\"/>\n    <path clip-path=\"url(#p17df7edf87)\" d=\"M 340.097298 140.104219 \nL 355.852592 140.104219 \nL 355.852592 153.694219 \nL 340.097298 153.694219 \nL 340.097298 140.104219 \n\" style=\"fill:#30173a;\"/>\n    <path clip-path=\"url(#p17df7edf87)\" d=\"M 355.852592 140.104219 \nL 371.607886 140.104219 \nL 371.607886 153.694219 \nL 355.852592 153.694219 \nL 355.852592 140.104219 \n\" style=\"fill:#ad1759;\"/>\n    <path clip-path=\"url(#p17df7edf87)\" d=\"M 371.607886 140.104219 \nL 387.36318 140.104219 \nL 387.36318 153.694219 \nL 371.607886 153.694219 \nL 371.607886 140.104219 \n\" style=\"fill:#03051a;\"/>\n    <path clip-path=\"url(#p17df7edf87)\" d=\"M 387.36318 140.104219 \nL 403.118474 140.104219 \nL 403.118474 153.694219 \nL 387.36318 153.694219 \nL 387.36318 140.104219 \n\" style=\"fill:none;\"/>\n    <path clip-path=\"url(#p17df7edf87)\" d=\"M 403.118474 140.104219 \nL 418.873768 140.104219 \nL 418.873768 153.694219 \nL 403.118474 153.694219 \nL 403.118474 140.104219 \n\" style=\"fill:#901d5b;\"/>\n    <path clip-path=\"url(#p17df7edf87)\" d=\"M 418.873768 140.104219 \nL 434.629063 140.104219 \nL 434.629063 153.694219 \nL 418.873768 153.694219 \nL 418.873768 140.104219 \n\" style=\"fill:#971c5b;\"/>\n    <path clip-path=\"url(#p17df7edf87)\" d=\"M 166.789062 153.694219 \nL 182.544357 153.694219 \nL 182.544357 167.284219 \nL 166.789062 167.284219 \nL 166.789062 153.694219 \n\" style=\"fill:#df2f44;\"/>\n    <path clip-path=\"url(#p17df7edf87)\" d=\"M 182.544357 153.694219 \nL 198.299651 153.694219 \nL 198.299651 167.284219 \nL 182.544357 167.284219 \nL 182.544357 153.694219 \n\" style=\"fill:#b71657;\"/>\n    <path clip-path=\"url(#p17df7edf87)\" d=\"M 198.299651 153.694219 \nL 214.054945 153.694219 \nL 214.054945 167.284219 \nL 198.299651 167.284219 \nL 198.299651 153.694219 \n\" style=\"fill:#a6195a;\"/>\n    <path clip-path=\"url(#p17df7edf87)\" d=\"M 214.054945 153.694219 \nL 229.810239 153.694219 \nL 229.810239 167.284219 \nL 214.054945 167.284219 \nL 214.054945 153.694219 \n\" style=\"fill:#a3195b;\"/>\n    <path clip-path=\"url(#p17df7edf87)\" d=\"M 229.810239 153.694219 \nL 245.565533 153.694219 \nL 245.565533 167.284219 \nL 229.810239 167.284219 \nL 229.810239 153.694219 \n\" style=\"fill:#ba1656;\"/>\n    <path clip-path=\"url(#p17df7edf87)\" d=\"M 245.565533 153.694219 \nL 261.320827 153.694219 \nL 261.320827 167.284219 \nL 245.565533 167.284219 \nL 245.565533 153.694219 \n\" style=\"fill:#a11a5b;\"/>\n    <path clip-path=\"url(#p17df7edf87)\" d=\"M 261.320827 153.694219 \nL 277.076121 153.694219 \nL 277.076121 167.284219 \nL 261.320827 167.284219 \nL 261.320827 153.694219 \n\" style=\"fill:#8c1d5b;\"/>\n    <path clip-path=\"url(#p17df7edf87)\" d=\"M 277.076121 153.694219 \nL 292.831415 153.694219 \nL 292.831415 167.284219 \nL 277.076121 167.284219 \nL 277.076121 153.694219 \n\" style=\"fill:#871e5b;\"/>\n    <path clip-path=\"url(#p17df7edf87)\" d=\"M 292.831415 153.694219 \nL 308.58671 153.694219 \nL 308.58671 167.284219 \nL 292.831415 167.284219 \nL 292.831415 153.694219 \n\" style=\"fill:#b41658;\"/>\n    <path clip-path=\"url(#p17df7edf87)\" d=\"M 308.58671 153.694219 \nL 324.342004 153.694219 \nL 324.342004 167.284219 \nL 308.58671 167.284219 \nL 308.58671 153.694219 \n\" style=\"fill:#e13342;\"/>\n    <path clip-path=\"url(#p17df7edf87)\" d=\"M 324.342004 153.694219 \nL 340.097298 153.694219 \nL 340.097298 167.284219 \nL 324.342004 167.284219 \nL 324.342004 153.694219 \n\" style=\"fill:#30173a;\"/>\n    <path clip-path=\"url(#p17df7edf87)\" d=\"M 340.097298 153.694219 \nL 355.852592 153.694219 \nL 355.852592 167.284219 \nL 340.097298 167.284219 \nL 340.097298 153.694219 \n\" style=\"fill:#faebdd;\"/>\n    <path clip-path=\"url(#p17df7edf87)\" d=\"M 355.852592 153.694219 \nL 371.607886 153.694219 \nL 371.607886 167.284219 \nL 355.852592 167.284219 \nL 355.852592 153.694219 \n\" style=\"fill:#8c1d5b;\"/>\n    <path clip-path=\"url(#p17df7edf87)\" d=\"M 371.607886 153.694219 \nL 387.36318 153.694219 \nL 387.36318 167.284219 \nL 371.607886 167.284219 \nL 371.607886 153.694219 \n\" style=\"fill:#f47c55;\"/>\n    <path clip-path=\"url(#p17df7edf87)\" d=\"M 387.36318 153.694219 \nL 403.118474 153.694219 \nL 403.118474 167.284219 \nL 387.36318 167.284219 \nL 387.36318 153.694219 \n\" style=\"fill:none;\"/>\n    <path clip-path=\"url(#p17df7edf87)\" d=\"M 403.118474 153.694219 \nL 418.873768 153.694219 \nL 418.873768 167.284219 \nL 403.118474 167.284219 \nL 403.118474 153.694219 \n\" style=\"fill:#921c5b;\"/>\n    <path clip-path=\"url(#p17df7edf87)\" d=\"M 418.873768 153.694219 \nL 434.629063 153.694219 \nL 434.629063 167.284219 \nL 418.873768 167.284219 \nL 418.873768 153.694219 \n\" style=\"fill:#951c5b;\"/>\n    <path clip-path=\"url(#p17df7edf87)\" d=\"M 166.789062 167.284219 \nL 182.544357 167.284219 \nL 182.544357 180.874219 \nL 166.789062 180.874219 \nL 166.789062 167.284219 \n\" style=\"fill:#a3195b;\"/>\n    <path clip-path=\"url(#p17df7edf87)\" d=\"M 182.544357 167.284219 \nL 198.299651 167.284219 \nL 198.299651 180.874219 \nL 182.544357 180.874219 \nL 182.544357 167.284219 \n\" style=\"fill:#bf1654;\"/>\n    <path clip-path=\"url(#p17df7edf87)\" d=\"M 198.299651 167.284219 \nL 214.054945 167.284219 \nL 214.054945 180.874219 \nL 198.299651 180.874219 \nL 198.299651 167.284219 \n\" style=\"fill:#8b1d5b;\"/>\n    <path clip-path=\"url(#p17df7edf87)\" d=\"M 214.054945 167.284219 \nL 229.810239 167.284219 \nL 229.810239 180.874219 \nL 214.054945 180.874219 \nL 214.054945 167.284219 \n\" style=\"fill:#931c5b;\"/>\n    <path clip-path=\"url(#p17df7edf87)\" d=\"M 229.810239 167.284219 \nL 245.565533 167.284219 \nL 245.565533 180.874219 \nL 229.810239 180.874219 \nL 229.810239 167.284219 \n\" style=\"fill:#b41658;\"/>\n    <path clip-path=\"url(#p17df7edf87)\" d=\"M 245.565533 167.284219 \nL 261.320827 167.284219 \nL 261.320827 180.874219 \nL 245.565533 180.874219 \nL 245.565533 167.284219 \n\" style=\"fill:#981b5b;\"/>\n    <path clip-path=\"url(#p17df7edf87)\" d=\"M 261.320827 167.284219 \nL 277.076121 167.284219 \nL 277.076121 180.874219 \nL 261.320827 180.874219 \nL 261.320827 167.284219 \n\" style=\"fill:#ab185a;\"/>\n    <path clip-path=\"url(#p17df7edf87)\" d=\"M 277.076121 167.284219 \nL 292.831415 167.284219 \nL 292.831415 180.874219 \nL 277.076121 180.874219 \nL 277.076121 167.284219 \n\" style=\"fill:#eb463e;\"/>\n    <path clip-path=\"url(#p17df7edf87)\" d=\"M 292.831415 167.284219 \nL 308.58671 167.284219 \nL 308.58671 180.874219 \nL 292.831415 180.874219 \nL 292.831415 167.284219 \n\" style=\"fill:#9a1b5b;\"/>\n    <path clip-path=\"url(#p17df7edf87)\" d=\"M 308.58671 167.284219 \nL 324.342004 167.284219 \nL 324.342004 180.874219 \nL 308.58671 180.874219 \nL 308.58671 167.284219 \n\" style=\"fill:#b21758;\"/>\n    <path clip-path=\"url(#p17df7edf87)\" d=\"M 324.342004 167.284219 \nL 340.097298 167.284219 \nL 340.097298 180.874219 \nL 324.342004 180.874219 \nL 324.342004 167.284219 \n\" style=\"fill:#ad1759;\"/>\n    <path clip-path=\"url(#p17df7edf87)\" d=\"M 340.097298 167.284219 \nL 355.852592 167.284219 \nL 355.852592 180.874219 \nL 340.097298 180.874219 \nL 340.097298 167.284219 \n\" style=\"fill:#8c1d5b;\"/>\n    <path clip-path=\"url(#p17df7edf87)\" d=\"M 355.852592 167.284219 \nL 371.607886 167.284219 \nL 371.607886 180.874219 \nL 355.852592 180.874219 \nL 355.852592 167.284219 \n\" style=\"fill:#faebdd;\"/>\n    <path clip-path=\"url(#p17df7edf87)\" d=\"M 371.607886 167.284219 \nL 387.36318 167.284219 \nL 387.36318 180.874219 \nL 371.607886 180.874219 \nL 371.607886 167.284219 \n\" style=\"fill:#9c1b5b;\"/>\n    <path clip-path=\"url(#p17df7edf87)\" d=\"M 387.36318 167.284219 \nL 403.118474 167.284219 \nL 403.118474 180.874219 \nL 387.36318 180.874219 \nL 387.36318 167.284219 \n\" style=\"fill:none;\"/>\n    <path clip-path=\"url(#p17df7edf87)\" d=\"M 403.118474 167.284219 \nL 418.873768 167.284219 \nL 418.873768 180.874219 \nL 403.118474 180.874219 \nL 403.118474 167.284219 \n\" style=\"fill:#c41753;\"/>\n    <path clip-path=\"url(#p17df7edf87)\" d=\"M 418.873768 167.284219 \nL 434.629063 167.284219 \nL 434.629063 180.874219 \nL 418.873768 180.874219 \nL 418.873768 167.284219 \n\" style=\"fill:#bc1656;\"/>\n    <path clip-path=\"url(#p17df7edf87)\" d=\"M 166.789062 180.874219 \nL 182.544357 180.874219 \nL 182.544357 194.464219 \nL 166.789062 194.464219 \nL 166.789062 180.874219 \n\" style=\"fill:#e83f3f;\"/>\n    <path clip-path=\"url(#p17df7edf87)\" d=\"M 182.544357 180.874219 \nL 198.299651 180.874219 \nL 198.299651 194.464219 \nL 182.544357 194.464219 \nL 182.544357 180.874219 \n\" style=\"fill:#e8403e;\"/>\n    <path clip-path=\"url(#p17df7edf87)\" d=\"M 198.299651 180.874219 \nL 214.054945 180.874219 \nL 214.054945 194.464219 \nL 198.299651 194.464219 \nL 198.299651 180.874219 \n\" style=\"fill:#981b5b;\"/>\n    <path clip-path=\"url(#p17df7edf87)\" d=\"M 214.054945 180.874219 \nL 229.810239 180.874219 \nL 229.810239 194.464219 \nL 214.054945 194.464219 \nL 214.054945 180.874219 \n\" style=\"fill:#af1759;\"/>\n    <path clip-path=\"url(#p17df7edf87)\" d=\"M 229.810239 180.874219 \nL 245.565533 180.874219 \nL 245.565533 194.464219 \nL 229.810239 194.464219 \nL 229.810239 180.874219 \n\" style=\"fill:#b01759;\"/>\n    <path clip-path=\"url(#p17df7edf87)\" d=\"M 245.565533 180.874219 \nL 261.320827 180.874219 \nL 261.320827 194.464219 \nL 245.565533 194.464219 \nL 245.565533 180.874219 \n\" style=\"fill:#a3195b;\"/>\n    <path clip-path=\"url(#p17df7edf87)\" d=\"M 261.320827 180.874219 \nL 277.076121 180.874219 \nL 277.076121 194.464219 \nL 261.320827 194.464219 \nL 261.320827 180.874219 \n\" style=\"fill:#9c1b5b;\"/>\n    <path clip-path=\"url(#p17df7edf87)\" d=\"M 277.076121 180.874219 \nL 292.831415 180.874219 \nL 292.831415 194.464219 \nL 277.076121 194.464219 \nL 277.076121 180.874219 \n\" style=\"fill:#a3195b;\"/>\n    <path clip-path=\"url(#p17df7edf87)\" d=\"M 292.831415 180.874219 \nL 308.58671 180.874219 \nL 308.58671 194.464219 \nL 292.831415 194.464219 \nL 292.831415 180.874219 \n\" style=\"fill:#b91657;\"/>\n    <path clip-path=\"url(#p17df7edf87)\" d=\"M 308.58671 180.874219 \nL 324.342004 180.874219 \nL 324.342004 194.464219 \nL 308.58671 194.464219 \nL 308.58671 180.874219 \n\" style=\"fill:#f47f58;\"/>\n    <path clip-path=\"url(#p17df7edf87)\" d=\"M 324.342004 180.874219 \nL 340.097298 180.874219 \nL 340.097298 194.464219 \nL 324.342004 194.464219 \nL 324.342004 180.874219 \n\" style=\"fill:#03051a;\"/>\n    <path clip-path=\"url(#p17df7edf87)\" d=\"M 340.097298 180.874219 \nL 355.852592 180.874219 \nL 355.852592 194.464219 \nL 340.097298 194.464219 \nL 340.097298 180.874219 \n\" style=\"fill:#f47c55;\"/>\n    <path clip-path=\"url(#p17df7edf87)\" d=\"M 355.852592 180.874219 \nL 371.607886 180.874219 \nL 371.607886 194.464219 \nL 355.852592 194.464219 \nL 355.852592 180.874219 \n\" style=\"fill:#9c1b5b;\"/>\n    <path clip-path=\"url(#p17df7edf87)\" d=\"M 371.607886 180.874219 \nL 387.36318 180.874219 \nL 387.36318 194.464219 \nL 371.607886 194.464219 \nL 371.607886 180.874219 \n\" style=\"fill:#faebdd;\"/>\n    <path clip-path=\"url(#p17df7edf87)\" d=\"M 387.36318 180.874219 \nL 403.118474 180.874219 \nL 403.118474 194.464219 \nL 387.36318 194.464219 \nL 387.36318 180.874219 \n\" style=\"fill:none;\"/>\n    <path clip-path=\"url(#p17df7edf87)\" d=\"M 403.118474 180.874219 \nL 418.873768 180.874219 \nL 418.873768 194.464219 \nL 403.118474 194.464219 \nL 403.118474 180.874219 \n\" style=\"fill:#c51852;\"/>\n    <path clip-path=\"url(#p17df7edf87)\" d=\"M 418.873768 180.874219 \nL 434.629063 180.874219 \nL 434.629063 194.464219 \nL 418.873768 194.464219 \nL 418.873768 180.874219 \n\" style=\"fill:#bd1655;\"/>\n    <path clip-path=\"url(#p17df7edf87)\" d=\"M 166.789062 194.464219 \nL 182.544357 194.464219 \nL 182.544357 208.054219 \nL 166.789062 208.054219 \nL 166.789062 194.464219 \n\" style=\"fill:none;\"/>\n    <path clip-path=\"url(#p17df7edf87)\" d=\"M 182.544357 194.464219 \nL 198.299651 194.464219 \nL 198.299651 208.054219 \nL 182.544357 208.054219 \nL 182.544357 194.464219 \n\" style=\"fill:none;\"/>\n    <path clip-path=\"url(#p17df7edf87)\" d=\"M 198.299651 194.464219 \nL 214.054945 194.464219 \nL 214.054945 208.054219 \nL 198.299651 208.054219 \nL 198.299651 194.464219 \n\" style=\"fill:none;\"/>\n    <path clip-path=\"url(#p17df7edf87)\" d=\"M 214.054945 194.464219 \nL 229.810239 194.464219 \nL 229.810239 208.054219 \nL 214.054945 208.054219 \nL 214.054945 194.464219 \n\" style=\"fill:none;\"/>\n    <path clip-path=\"url(#p17df7edf87)\" d=\"M 229.810239 194.464219 \nL 245.565533 194.464219 \nL 245.565533 208.054219 \nL 229.810239 208.054219 \nL 229.810239 194.464219 \n\" style=\"fill:none;\"/>\n    <path clip-path=\"url(#p17df7edf87)\" d=\"M 245.565533 194.464219 \nL 261.320827 194.464219 \nL 261.320827 208.054219 \nL 245.565533 208.054219 \nL 245.565533 194.464219 \n\" style=\"fill:none;\"/>\n    <path clip-path=\"url(#p17df7edf87)\" d=\"M 261.320827 194.464219 \nL 277.076121 194.464219 \nL 277.076121 208.054219 \nL 261.320827 208.054219 \nL 261.320827 194.464219 \n\" style=\"fill:none;\"/>\n    <path clip-path=\"url(#p17df7edf87)\" d=\"M 277.076121 194.464219 \nL 292.831415 194.464219 \nL 292.831415 208.054219 \nL 277.076121 208.054219 \nL 277.076121 194.464219 \n\" style=\"fill:none;\"/>\n    <path clip-path=\"url(#p17df7edf87)\" d=\"M 292.831415 194.464219 \nL 308.58671 194.464219 \nL 308.58671 208.054219 \nL 292.831415 208.054219 \nL 292.831415 194.464219 \n\" style=\"fill:none;\"/>\n    <path clip-path=\"url(#p17df7edf87)\" d=\"M 308.58671 194.464219 \nL 324.342004 194.464219 \nL 324.342004 208.054219 \nL 308.58671 208.054219 \nL 308.58671 194.464219 \n\" style=\"fill:none;\"/>\n    <path clip-path=\"url(#p17df7edf87)\" d=\"M 324.342004 194.464219 \nL 340.097298 194.464219 \nL 340.097298 208.054219 \nL 324.342004 208.054219 \nL 324.342004 194.464219 \n\" style=\"fill:none;\"/>\n    <path clip-path=\"url(#p17df7edf87)\" d=\"M 340.097298 194.464219 \nL 355.852592 194.464219 \nL 355.852592 208.054219 \nL 340.097298 208.054219 \nL 340.097298 194.464219 \n\" style=\"fill:none;\"/>\n    <path clip-path=\"url(#p17df7edf87)\" d=\"M 355.852592 194.464219 \nL 371.607886 194.464219 \nL 371.607886 208.054219 \nL 355.852592 208.054219 \nL 355.852592 194.464219 \n\" style=\"fill:none;\"/>\n    <path clip-path=\"url(#p17df7edf87)\" d=\"M 371.607886 194.464219 \nL 387.36318 194.464219 \nL 387.36318 208.054219 \nL 371.607886 208.054219 \nL 371.607886 194.464219 \n\" style=\"fill:none;\"/>\n    <path clip-path=\"url(#p17df7edf87)\" d=\"M 387.36318 194.464219 \nL 403.118474 194.464219 \nL 403.118474 208.054219 \nL 387.36318 208.054219 \nL 387.36318 194.464219 \n\" style=\"fill:none;\"/>\n    <path clip-path=\"url(#p17df7edf87)\" d=\"M 403.118474 194.464219 \nL 418.873768 194.464219 \nL 418.873768 208.054219 \nL 403.118474 208.054219 \nL 403.118474 194.464219 \n\" style=\"fill:none;\"/>\n    <path clip-path=\"url(#p17df7edf87)\" d=\"M 418.873768 194.464219 \nL 434.629063 194.464219 \nL 434.629063 208.054219 \nL 418.873768 208.054219 \nL 418.873768 194.464219 \n\" style=\"fill:none;\"/>\n    <path clip-path=\"url(#p17df7edf87)\" d=\"M 166.789062 208.054219 \nL 182.544357 208.054219 \nL 182.544357 221.644219 \nL 166.789062 221.644219 \nL 166.789062 208.054219 \n\" style=\"fill:#9f1a5b;\"/>\n    <path clip-path=\"url(#p17df7edf87)\" d=\"M 182.544357 208.054219 \nL 198.299651 208.054219 \nL 198.299651 221.644219 \nL 182.544357 221.644219 \nL 182.544357 208.054219 \n\" style=\"fill:#c21753;\"/>\n    <path clip-path=\"url(#p17df7edf87)\" d=\"M 198.299651 208.054219 \nL 214.054945 208.054219 \nL 214.054945 221.644219 \nL 198.299651 221.644219 \nL 198.299651 208.054219 \n\" style=\"fill:#901d5b;\"/>\n    <path clip-path=\"url(#p17df7edf87)\" d=\"M 214.054945 208.054219 \nL 229.810239 208.054219 \nL 229.810239 221.644219 \nL 214.054945 221.644219 \nL 214.054945 208.054219 \n\" style=\"fill:#931c5b;\"/>\n    <path clip-path=\"url(#p17df7edf87)\" d=\"M 229.810239 208.054219 \nL 245.565533 208.054219 \nL 245.565533 221.644219 \nL 229.810239 221.644219 \nL 229.810239 208.054219 \n\" style=\"fill:#9e1a5b;\"/>\n    <path clip-path=\"url(#p17df7edf87)\" d=\"M 245.565533 208.054219 \nL 261.320827 208.054219 \nL 261.320827 221.644219 \nL 245.565533 221.644219 \nL 245.565533 208.054219 \n\" style=\"fill:#9a1b5b;\"/>\n    <path clip-path=\"url(#p17df7edf87)\" d=\"M 261.320827 208.054219 \nL 277.076121 208.054219 \nL 277.076121 221.644219 \nL 261.320827 221.644219 \nL 261.320827 208.054219 \n\" style=\"fill:#a6195a;\"/>\n    <path clip-path=\"url(#p17df7edf87)\" d=\"M 277.076121 208.054219 \nL 292.831415 208.054219 \nL 292.831415 221.644219 \nL 277.076121 221.644219 \nL 277.076121 208.054219 \n\" style=\"fill:#db2946;\"/>\n    <path clip-path=\"url(#p17df7edf87)\" d=\"M 292.831415 208.054219 \nL 308.58671 208.054219 \nL 308.58671 221.644219 \nL 292.831415 221.644219 \nL 292.831415 208.054219 \n\" style=\"fill:#891e5b;\"/>\n    <path clip-path=\"url(#p17df7edf87)\" d=\"M 308.58671 208.054219 \nL 324.342004 208.054219 \nL 324.342004 221.644219 \nL 308.58671 221.644219 \nL 308.58671 208.054219 \n\" style=\"fill:#c71951;\"/>\n    <path clip-path=\"url(#p17df7edf87)\" d=\"M 324.342004 208.054219 \nL 340.097298 208.054219 \nL 340.097298 221.644219 \nL 324.342004 221.644219 \nL 324.342004 208.054219 \n\" style=\"fill:#901d5b;\"/>\n    <path clip-path=\"url(#p17df7edf87)\" d=\"M 340.097298 208.054219 \nL 355.852592 208.054219 \nL 355.852592 221.644219 \nL 340.097298 221.644219 \nL 340.097298 208.054219 \n\" style=\"fill:#921c5b;\"/>\n    <path clip-path=\"url(#p17df7edf87)\" d=\"M 355.852592 208.054219 \nL 371.607886 208.054219 \nL 371.607886 221.644219 \nL 355.852592 221.644219 \nL 355.852592 208.054219 \n\" style=\"fill:#c41753;\"/>\n    <path clip-path=\"url(#p17df7edf87)\" d=\"M 371.607886 208.054219 \nL 387.36318 208.054219 \nL 387.36318 221.644219 \nL 371.607886 221.644219 \nL 371.607886 208.054219 \n\" style=\"fill:#c51852;\"/>\n    <path clip-path=\"url(#p17df7edf87)\" d=\"M 387.36318 208.054219 \nL 403.118474 208.054219 \nL 403.118474 221.644219 \nL 387.36318 221.644219 \nL 387.36318 208.054219 \n\" style=\"fill:none;\"/>\n    <path clip-path=\"url(#p17df7edf87)\" d=\"M 403.118474 208.054219 \nL 418.873768 208.054219 \nL 418.873768 221.644219 \nL 403.118474 221.644219 \nL 403.118474 208.054219 \n\" style=\"fill:#faebdd;\"/>\n    <path clip-path=\"url(#p17df7edf87)\" d=\"M 418.873768 208.054219 \nL 434.629063 208.054219 \nL 434.629063 221.644219 \nL 418.873768 221.644219 \nL 418.873768 208.054219 \n\" style=\"fill:#f7c6a6;\"/>\n    <path clip-path=\"url(#p17df7edf87)\" d=\"M 166.789062 221.644219 \nL 182.544357 221.644219 \nL 182.544357 235.234219 \nL 166.789062 235.234219 \nL 166.789062 221.644219 \n\" style=\"fill:#a11a5b;\"/>\n    <path clip-path=\"url(#p17df7edf87)\" d=\"M 182.544357 221.644219 \nL 198.299651 221.644219 \nL 198.299651 235.234219 \nL 182.544357 235.234219 \nL 182.544357 221.644219 \n\" style=\"fill:#ba1656;\"/>\n    <path clip-path=\"url(#p17df7edf87)\" d=\"M 198.299651 221.644219 \nL 214.054945 221.644219 \nL 214.054945 235.234219 \nL 198.299651 235.234219 \nL 198.299651 221.644219 \n\" style=\"fill:#8e1d5b;\"/>\n    <path clip-path=\"url(#p17df7edf87)\" d=\"M 214.054945 221.644219 \nL 229.810239 221.644219 \nL 229.810239 235.234219 \nL 214.054945 235.234219 \nL 214.054945 221.644219 \n\" style=\"fill:#981b5b;\"/>\n    <path clip-path=\"url(#p17df7edf87)\" d=\"M 229.810239 221.644219 \nL 245.565533 221.644219 \nL 245.565533 235.234219 \nL 229.810239 235.234219 \nL 229.810239 221.644219 \n\" style=\"fill:#9c1b5b;\"/>\n    <path clip-path=\"url(#p17df7edf87)\" d=\"M 245.565533 221.644219 \nL 261.320827 221.644219 \nL 261.320827 235.234219 \nL 245.565533 235.234219 \nL 245.565533 221.644219 \n\" style=\"fill:#9c1b5b;\"/>\n    <path clip-path=\"url(#p17df7edf87)\" d=\"M 261.320827 221.644219 \nL 277.076121 221.644219 \nL 277.076121 235.234219 \nL 261.320827 235.234219 \nL 261.320827 221.644219 \n\" style=\"fill:#a8185a;\"/>\n    <path clip-path=\"url(#p17df7edf87)\" d=\"M 277.076121 221.644219 \nL 292.831415 221.644219 \nL 292.831415 235.234219 \nL 277.076121 235.234219 \nL 277.076121 221.644219 \n\" style=\"fill:#d62449;\"/>\n    <path clip-path=\"url(#p17df7edf87)\" d=\"M 292.831415 221.644219 \nL 308.58671 221.644219 \nL 308.58671 235.234219 \nL 292.831415 235.234219 \nL 292.831415 221.644219 \n\" style=\"fill:#921c5b;\"/>\n    <path clip-path=\"url(#p17df7edf87)\" d=\"M 308.58671 221.644219 \nL 324.342004 221.644219 \nL 324.342004 235.234219 \nL 308.58671 235.234219 \nL 308.58671 221.644219 \n\" style=\"fill:#c11754;\"/>\n    <path clip-path=\"url(#p17df7edf87)\" d=\"M 324.342004 221.644219 \nL 340.097298 221.644219 \nL 340.097298 235.234219 \nL 324.342004 235.234219 \nL 324.342004 221.644219 \n\" style=\"fill:#971c5b;\"/>\n    <path clip-path=\"url(#p17df7edf87)\" d=\"M 340.097298 221.644219 \nL 355.852592 221.644219 \nL 355.852592 235.234219 \nL 340.097298 235.234219 \nL 340.097298 221.644219 \n\" style=\"fill:#951c5b;\"/>\n    <path clip-path=\"url(#p17df7edf87)\" d=\"M 355.852592 221.644219 \nL 371.607886 221.644219 \nL 371.607886 235.234219 \nL 355.852592 235.234219 \nL 355.852592 221.644219 \n\" style=\"fill:#bc1656;\"/>\n    <path clip-path=\"url(#p17df7edf87)\" d=\"M 371.607886 221.644219 \nL 387.36318 221.644219 \nL 387.36318 235.234219 \nL 371.607886 235.234219 \nL 371.607886 221.644219 \n\" style=\"fill:#bd1655;\"/>\n    <path clip-path=\"url(#p17df7edf87)\" d=\"M 387.36318 221.644219 \nL 403.118474 221.644219 \nL 403.118474 235.234219 \nL 387.36318 235.234219 \nL 387.36318 221.644219 \n\" style=\"fill:none;\"/>\n    <path clip-path=\"url(#p17df7edf87)\" d=\"M 403.118474 221.644219 \nL 418.873768 221.644219 \nL 418.873768 235.234219 \nL 403.118474 235.234219 \nL 403.118474 221.644219 \n\" style=\"fill:#f7c6a6;\"/>\n    <path clip-path=\"url(#p17df7edf87)\" d=\"M 418.873768 221.644219 \nL 434.629063 221.644219 \nL 434.629063 235.234219 \nL 418.873768 235.234219 \nL 418.873768 221.644219 \n\" style=\"fill:#faebdd;\"/>\n   </g>\n   <g id=\"matplotlib.axis_1\">\n    <g id=\"xtick_1\">\n     <g id=\"line2d_1\">\n      <defs>\n       <path d=\"M 0 0 \nL 0 3.5 \n\" id=\"mf6a2cadd6f\" style=\"stroke:#000000;stroke-width:0.8;\"/>\n      </defs>\n      <g>\n       <use style=\"stroke:#000000;stroke-width:0.8;\" x=\"174.66671\" xlink:href=\"#mf6a2cadd6f\" y=\"228.439219\"/>\n      </g>\n     </g>\n     <g id=\"text_1\">\n      <!-- bathrooms -->\n      <defs>\n       <path d=\"M 48.6875 27.296875 \nQ 48.6875 37.203125 44.609375 42.84375 \nQ 40.53125 48.484375 33.40625 48.484375 \nQ 26.265625 48.484375 22.1875 42.84375 \nQ 18.109375 37.203125 18.109375 27.296875 \nQ 18.109375 17.390625 22.1875 11.75 \nQ 26.265625 6.109375 33.40625 6.109375 \nQ 40.53125 6.109375 44.609375 11.75 \nQ 48.6875 17.390625 48.6875 27.296875 \nz\nM 18.109375 46.390625 \nQ 20.953125 51.265625 25.265625 53.625 \nQ 29.59375 56 35.59375 56 \nQ 45.5625 56 51.78125 48.09375 \nQ 58.015625 40.1875 58.015625 27.296875 \nQ 58.015625 14.40625 51.78125 6.484375 \nQ 45.5625 -1.421875 35.59375 -1.421875 \nQ 29.59375 -1.421875 25.265625 0.953125 \nQ 20.953125 3.328125 18.109375 8.203125 \nL 18.109375 0 \nL 9.078125 0 \nL 9.078125 75.984375 \nL 18.109375 75.984375 \nz\n\" id=\"DejaVuSans-98\"/>\n       <path d=\"M 34.28125 27.484375 \nQ 23.390625 27.484375 19.1875 25 \nQ 14.984375 22.515625 14.984375 16.5 \nQ 14.984375 11.71875 18.140625 8.90625 \nQ 21.296875 6.109375 26.703125 6.109375 \nQ 34.1875 6.109375 38.703125 11.40625 \nQ 43.21875 16.703125 43.21875 25.484375 \nL 43.21875 27.484375 \nz\nM 52.203125 31.203125 \nL 52.203125 0 \nL 43.21875 0 \nL 43.21875 8.296875 \nQ 40.140625 3.328125 35.546875 0.953125 \nQ 30.953125 -1.421875 24.3125 -1.421875 \nQ 15.921875 -1.421875 10.953125 3.296875 \nQ 6 8.015625 6 15.921875 \nQ 6 25.140625 12.171875 29.828125 \nQ 18.359375 34.515625 30.609375 34.515625 \nL 43.21875 34.515625 \nL 43.21875 35.40625 \nQ 43.21875 41.609375 39.140625 45 \nQ 35.0625 48.390625 27.6875 48.390625 \nQ 23 48.390625 18.546875 47.265625 \nQ 14.109375 46.140625 10.015625 43.890625 \nL 10.015625 52.203125 \nQ 14.9375 54.109375 19.578125 55.046875 \nQ 24.21875 56 28.609375 56 \nQ 40.484375 56 46.34375 49.84375 \nQ 52.203125 43.703125 52.203125 31.203125 \nz\n\" id=\"DejaVuSans-97\"/>\n       <path d=\"M 18.3125 70.21875 \nL 18.3125 54.6875 \nL 36.8125 54.6875 \nL 36.8125 47.703125 \nL 18.3125 47.703125 \nL 18.3125 18.015625 \nQ 18.3125 11.328125 20.140625 9.421875 \nQ 21.96875 7.515625 27.59375 7.515625 \nL 36.8125 7.515625 \nL 36.8125 0 \nL 27.59375 0 \nQ 17.1875 0 13.234375 3.875 \nQ 9.28125 7.765625 9.28125 18.015625 \nL 9.28125 47.703125 \nL 2.6875 47.703125 \nL 2.6875 54.6875 \nL 9.28125 54.6875 \nL 9.28125 70.21875 \nz\n\" id=\"DejaVuSans-116\"/>\n       <path d=\"M 54.890625 33.015625 \nL 54.890625 0 \nL 45.90625 0 \nL 45.90625 32.71875 \nQ 45.90625 40.484375 42.875 44.328125 \nQ 39.84375 48.1875 33.796875 48.1875 \nQ 26.515625 48.1875 22.3125 43.546875 \nQ 18.109375 38.921875 18.109375 30.90625 \nL 18.109375 0 \nL 9.078125 0 \nL 9.078125 75.984375 \nL 18.109375 75.984375 \nL 18.109375 46.1875 \nQ 21.34375 51.125 25.703125 53.5625 \nQ 30.078125 56 35.796875 56 \nQ 45.21875 56 50.046875 50.171875 \nQ 54.890625 44.34375 54.890625 33.015625 \nz\n\" id=\"DejaVuSans-104\"/>\n       <path d=\"M 41.109375 46.296875 \nQ 39.59375 47.171875 37.8125 47.578125 \nQ 36.03125 48 33.890625 48 \nQ 26.265625 48 22.1875 43.046875 \nQ 18.109375 38.09375 18.109375 28.8125 \nL 18.109375 0 \nL 9.078125 0 \nL 9.078125 54.6875 \nL 18.109375 54.6875 \nL 18.109375 46.1875 \nQ 20.953125 51.171875 25.484375 53.578125 \nQ 30.03125 56 36.53125 56 \nQ 37.453125 56 38.578125 55.875 \nQ 39.703125 55.765625 41.0625 55.515625 \nz\n\" id=\"DejaVuSans-114\"/>\n       <path d=\"M 30.609375 48.390625 \nQ 23.390625 48.390625 19.1875 42.75 \nQ 14.984375 37.109375 14.984375 27.296875 \nQ 14.984375 17.484375 19.15625 11.84375 \nQ 23.34375 6.203125 30.609375 6.203125 \nQ 37.796875 6.203125 41.984375 11.859375 \nQ 46.1875 17.53125 46.1875 27.296875 \nQ 46.1875 37.015625 41.984375 42.703125 \nQ 37.796875 48.390625 30.609375 48.390625 \nz\nM 30.609375 56 \nQ 42.328125 56 49.015625 48.375 \nQ 55.71875 40.765625 55.71875 27.296875 \nQ 55.71875 13.875 49.015625 6.21875 \nQ 42.328125 -1.421875 30.609375 -1.421875 \nQ 18.84375 -1.421875 12.171875 6.21875 \nQ 5.515625 13.875 5.515625 27.296875 \nQ 5.515625 40.765625 12.171875 48.375 \nQ 18.84375 56 30.609375 56 \nz\n\" id=\"DejaVuSans-111\"/>\n       <path d=\"M 52 44.1875 \nQ 55.375 50.25 60.0625 53.125 \nQ 64.75 56 71.09375 56 \nQ 79.640625 56 84.28125 50.015625 \nQ 88.921875 44.046875 88.921875 33.015625 \nL 88.921875 0 \nL 79.890625 0 \nL 79.890625 32.71875 \nQ 79.890625 40.578125 77.09375 44.375 \nQ 74.3125 48.1875 68.609375 48.1875 \nQ 61.625 48.1875 57.5625 43.546875 \nQ 53.515625 38.921875 53.515625 30.90625 \nL 53.515625 0 \nL 44.484375 0 \nL 44.484375 32.71875 \nQ 44.484375 40.625 41.703125 44.40625 \nQ 38.921875 48.1875 33.109375 48.1875 \nQ 26.21875 48.1875 22.15625 43.53125 \nQ 18.109375 38.875 18.109375 30.90625 \nL 18.109375 0 \nL 9.078125 0 \nL 9.078125 54.6875 \nL 18.109375 54.6875 \nL 18.109375 46.1875 \nQ 21.1875 51.21875 25.484375 53.609375 \nQ 29.78125 56 35.6875 56 \nQ 41.65625 56 45.828125 52.96875 \nQ 50 49.953125 52 44.1875 \nz\n\" id=\"DejaVuSans-109\"/>\n       <path d=\"M 44.28125 53.078125 \nL 44.28125 44.578125 \nQ 40.484375 46.53125 36.375 47.5 \nQ 32.28125 48.484375 27.875 48.484375 \nQ 21.1875 48.484375 17.84375 46.4375 \nQ 14.5 44.390625 14.5 40.28125 \nQ 14.5 37.15625 16.890625 35.375 \nQ 19.28125 33.59375 26.515625 31.984375 \nL 29.59375 31.296875 \nQ 39.15625 29.25 43.1875 25.515625 \nQ 47.21875 21.78125 47.21875 15.09375 \nQ 47.21875 7.46875 41.1875 3.015625 \nQ 35.15625 -1.421875 24.609375 -1.421875 \nQ 20.21875 -1.421875 15.453125 -0.5625 \nQ 10.6875 0.296875 5.421875 2 \nL 5.421875 11.28125 \nQ 10.40625 8.6875 15.234375 7.390625 \nQ 20.0625 6.109375 24.8125 6.109375 \nQ 31.15625 6.109375 34.5625 8.28125 \nQ 37.984375 10.453125 37.984375 14.40625 \nQ 37.984375 18.0625 35.515625 20.015625 \nQ 33.0625 21.96875 24.703125 23.78125 \nL 21.578125 24.515625 \nQ 13.234375 26.265625 9.515625 29.90625 \nQ 5.8125 33.546875 5.8125 39.890625 \nQ 5.8125 47.609375 11.28125 51.796875 \nQ 16.75 56 26.8125 56 \nQ 31.78125 56 36.171875 55.265625 \nQ 40.578125 54.546875 44.28125 53.078125 \nz\n\" id=\"DejaVuSans-115\"/>\n      </defs>\n      <g transform=\"translate(177.426085 289.468906)rotate(-90)scale(0.1 -0.1)\">\n       <use xlink:href=\"#DejaVuSans-98\"/>\n       <use x=\"63.476562\" xlink:href=\"#DejaVuSans-97\"/>\n       <use x=\"124.755859\" xlink:href=\"#DejaVuSans-116\"/>\n       <use x=\"163.964844\" xlink:href=\"#DejaVuSans-104\"/>\n       <use x=\"227.34375\" xlink:href=\"#DejaVuSans-114\"/>\n       <use x=\"268.425781\" xlink:href=\"#DejaVuSans-111\"/>\n       <use x=\"329.607422\" xlink:href=\"#DejaVuSans-111\"/>\n       <use x=\"390.789062\" xlink:href=\"#DejaVuSans-109\"/>\n       <use x=\"488.201172\" xlink:href=\"#DejaVuSans-115\"/>\n      </g>\n     </g>\n    </g>\n    <g id=\"xtick_2\">\n     <g id=\"line2d_2\">\n      <g>\n       <use style=\"stroke:#000000;stroke-width:0.8;\" x=\"190.422004\" xlink:href=\"#mf6a2cadd6f\" y=\"228.439219\"/>\n      </g>\n     </g>\n     <g id=\"text_2\">\n      <!-- exterior -->\n      <defs>\n       <path d=\"M 56.203125 29.59375 \nL 56.203125 25.203125 \nL 14.890625 25.203125 \nQ 15.484375 15.921875 20.484375 11.0625 \nQ 25.484375 6.203125 34.421875 6.203125 \nQ 39.59375 6.203125 44.453125 7.46875 \nQ 49.3125 8.734375 54.109375 11.28125 \nL 54.109375 2.78125 \nQ 49.265625 0.734375 44.1875 -0.34375 \nQ 39.109375 -1.421875 33.890625 -1.421875 \nQ 20.796875 -1.421875 13.15625 6.1875 \nQ 5.515625 13.8125 5.515625 26.8125 \nQ 5.515625 40.234375 12.765625 48.109375 \nQ 20.015625 56 32.328125 56 \nQ 43.359375 56 49.78125 48.890625 \nQ 56.203125 41.796875 56.203125 29.59375 \nz\nM 47.21875 32.234375 \nQ 47.125 39.59375 43.09375 43.984375 \nQ 39.0625 48.390625 32.421875 48.390625 \nQ 24.90625 48.390625 20.390625 44.140625 \nQ 15.875 39.890625 15.1875 32.171875 \nz\n\" id=\"DejaVuSans-101\"/>\n       <path d=\"M 54.890625 54.6875 \nL 35.109375 28.078125 \nL 55.90625 0 \nL 45.3125 0 \nL 29.390625 21.484375 \nL 13.484375 0 \nL 2.875 0 \nL 24.125 28.609375 \nL 4.6875 54.6875 \nL 15.28125 54.6875 \nL 29.78125 35.203125 \nL 44.28125 54.6875 \nz\n\" id=\"DejaVuSans-120\"/>\n       <path d=\"M 9.421875 54.6875 \nL 18.40625 54.6875 \nL 18.40625 0 \nL 9.421875 0 \nz\nM 9.421875 75.984375 \nL 18.40625 75.984375 \nL 18.40625 64.59375 \nL 9.421875 64.59375 \nz\n\" id=\"DejaVuSans-105\"/>\n      </defs>\n      <g transform=\"translate(193.181379 274.701719)rotate(-90)scale(0.1 -0.1)\">\n       <use xlink:href=\"#DejaVuSans-101\"/>\n       <use x=\"61.507812\" xlink:href=\"#DejaVuSans-120\"/>\n       <use x=\"120.6875\" xlink:href=\"#DejaVuSans-116\"/>\n       <use x=\"159.896484\" xlink:href=\"#DejaVuSans-101\"/>\n       <use x=\"221.419922\" xlink:href=\"#DejaVuSans-114\"/>\n       <use x=\"262.533203\" xlink:href=\"#DejaVuSans-105\"/>\n       <use x=\"290.316406\" xlink:href=\"#DejaVuSans-111\"/>\n       <use x=\"351.498047\" xlink:href=\"#DejaVuSans-114\"/>\n      </g>\n     </g>\n    </g>\n    <g id=\"xtick_3\">\n     <g id=\"line2d_3\">\n      <g>\n       <use style=\"stroke:#000000;stroke-width:0.8;\" x=\"206.177298\" xlink:href=\"#mf6a2cadd6f\" y=\"228.439219\"/>\n      </g>\n     </g>\n     <g id=\"text_3\">\n      <!-- has360 -->\n      <defs>\n       <path d=\"M 40.578125 39.3125 \nQ 47.65625 37.796875 51.625 33 \nQ 55.609375 28.21875 55.609375 21.1875 \nQ 55.609375 10.40625 48.1875 4.484375 \nQ 40.765625 -1.421875 27.09375 -1.421875 \nQ 22.515625 -1.421875 17.65625 -0.515625 \nQ 12.796875 0.390625 7.625 2.203125 \nL 7.625 11.71875 \nQ 11.71875 9.328125 16.59375 8.109375 \nQ 21.484375 6.890625 26.8125 6.890625 \nQ 36.078125 6.890625 40.9375 10.546875 \nQ 45.796875 14.203125 45.796875 21.1875 \nQ 45.796875 27.640625 41.28125 31.265625 \nQ 36.765625 34.90625 28.71875 34.90625 \nL 20.21875 34.90625 \nL 20.21875 43.015625 \nL 29.109375 43.015625 \nQ 36.375 43.015625 40.234375 45.921875 \nQ 44.09375 48.828125 44.09375 54.296875 \nQ 44.09375 59.90625 40.109375 62.90625 \nQ 36.140625 65.921875 28.71875 65.921875 \nQ 24.65625 65.921875 20.015625 65.03125 \nQ 15.375 64.15625 9.8125 62.3125 \nL 9.8125 71.09375 \nQ 15.4375 72.65625 20.34375 73.4375 \nQ 25.25 74.21875 29.59375 74.21875 \nQ 40.828125 74.21875 47.359375 69.109375 \nQ 53.90625 64.015625 53.90625 55.328125 \nQ 53.90625 49.265625 50.4375 45.09375 \nQ 46.96875 40.921875 40.578125 39.3125 \nz\n\" id=\"DejaVuSans-51\"/>\n       <path d=\"M 33.015625 40.375 \nQ 26.375 40.375 22.484375 35.828125 \nQ 18.609375 31.296875 18.609375 23.390625 \nQ 18.609375 15.53125 22.484375 10.953125 \nQ 26.375 6.390625 33.015625 6.390625 \nQ 39.65625 6.390625 43.53125 10.953125 \nQ 47.40625 15.53125 47.40625 23.390625 \nQ 47.40625 31.296875 43.53125 35.828125 \nQ 39.65625 40.375 33.015625 40.375 \nz\nM 52.59375 71.296875 \nL 52.59375 62.3125 \nQ 48.875 64.0625 45.09375 64.984375 \nQ 41.3125 65.921875 37.59375 65.921875 \nQ 27.828125 65.921875 22.671875 59.328125 \nQ 17.53125 52.734375 16.796875 39.40625 \nQ 19.671875 43.65625 24.015625 45.921875 \nQ 28.375 48.1875 33.59375 48.1875 \nQ 44.578125 48.1875 50.953125 41.515625 \nQ 57.328125 34.859375 57.328125 23.390625 \nQ 57.328125 12.15625 50.6875 5.359375 \nQ 44.046875 -1.421875 33.015625 -1.421875 \nQ 20.359375 -1.421875 13.671875 8.265625 \nQ 6.984375 17.96875 6.984375 36.375 \nQ 6.984375 53.65625 15.1875 63.9375 \nQ 23.390625 74.21875 37.203125 74.21875 \nQ 40.921875 74.21875 44.703125 73.484375 \nQ 48.484375 72.75 52.59375 71.296875 \nz\n\" id=\"DejaVuSans-54\"/>\n       <path d=\"M 31.78125 66.40625 \nQ 24.171875 66.40625 20.328125 58.90625 \nQ 16.5 51.421875 16.5 36.375 \nQ 16.5 21.390625 20.328125 13.890625 \nQ 24.171875 6.390625 31.78125 6.390625 \nQ 39.453125 6.390625 43.28125 13.890625 \nQ 47.125 21.390625 47.125 36.375 \nQ 47.125 51.421875 43.28125 58.90625 \nQ 39.453125 66.40625 31.78125 66.40625 \nz\nM 31.78125 74.21875 \nQ 44.046875 74.21875 50.515625 64.515625 \nQ 56.984375 54.828125 56.984375 36.375 \nQ 56.984375 17.96875 50.515625 8.265625 \nQ 44.046875 -1.421875 31.78125 -1.421875 \nQ 19.53125 -1.421875 13.0625 8.265625 \nQ 6.59375 17.96875 6.59375 36.375 \nQ 6.59375 54.828125 13.0625 64.515625 \nQ 19.53125 74.21875 31.78125 74.21875 \nz\n\" id=\"DejaVuSans-48\"/>\n      </defs>\n      <g transform=\"translate(208.936673 272.201719)rotate(-90)scale(0.1 -0.1)\">\n       <use xlink:href=\"#DejaVuSans-104\"/>\n       <use x=\"63.378906\" xlink:href=\"#DejaVuSans-97\"/>\n       <use x=\"124.658203\" xlink:href=\"#DejaVuSans-115\"/>\n       <use x=\"176.757812\" xlink:href=\"#DejaVuSans-51\"/>\n       <use x=\"240.380859\" xlink:href=\"#DejaVuSans-54\"/>\n       <use x=\"304.003906\" xlink:href=\"#DejaVuSans-48\"/>\n      </g>\n     </g>\n    </g>\n    <g id=\"xtick_4\">\n     <g id=\"line2d_4\">\n      <g>\n       <use style=\"stroke:#000000;stroke-width:0.8;\" x=\"221.932592\" xlink:href=\"#mf6a2cadd6f\" y=\"228.439219\"/>\n      </g>\n     </g>\n     <g id=\"text_4\">\n      <!-- has3DTour -->\n      <defs>\n       <path d=\"M 19.671875 64.796875 \nL 19.671875 8.109375 \nL 31.59375 8.109375 \nQ 46.6875 8.109375 53.6875 14.9375 \nQ 60.6875 21.78125 60.6875 36.53125 \nQ 60.6875 51.171875 53.6875 57.984375 \nQ 46.6875 64.796875 31.59375 64.796875 \nz\nM 9.8125 72.90625 \nL 30.078125 72.90625 \nQ 51.265625 72.90625 61.171875 64.09375 \nQ 71.09375 55.28125 71.09375 36.53125 \nQ 71.09375 17.671875 61.125 8.828125 \nQ 51.171875 0 30.078125 0 \nL 9.8125 0 \nz\n\" id=\"DejaVuSans-68\"/>\n       <path d=\"M -0.296875 72.90625 \nL 61.375 72.90625 \nL 61.375 64.59375 \nL 35.5 64.59375 \nL 35.5 0 \nL 25.59375 0 \nL 25.59375 64.59375 \nL -0.296875 64.59375 \nz\n\" id=\"DejaVuSans-84\"/>\n       <path d=\"M 8.5 21.578125 \nL 8.5 54.6875 \nL 17.484375 54.6875 \nL 17.484375 21.921875 \nQ 17.484375 14.15625 20.5 10.265625 \nQ 23.53125 6.390625 29.59375 6.390625 \nQ 36.859375 6.390625 41.078125 11.03125 \nQ 45.3125 15.671875 45.3125 23.6875 \nL 45.3125 54.6875 \nL 54.296875 54.6875 \nL 54.296875 0 \nL 45.3125 0 \nL 45.3125 8.40625 \nQ 42.046875 3.421875 37.71875 1 \nQ 33.40625 -1.421875 27.6875 -1.421875 \nQ 18.265625 -1.421875 13.375 4.4375 \nQ 8.5 10.296875 8.5 21.578125 \nz\nM 31.109375 56 \nz\n\" id=\"DejaVuSans-117\"/>\n      </defs>\n      <g transform=\"translate(224.691967 289.825156)rotate(-90)scale(0.1 -0.1)\">\n       <use xlink:href=\"#DejaVuSans-104\"/>\n       <use x=\"63.378906\" xlink:href=\"#DejaVuSans-97\"/>\n       <use x=\"124.658203\" xlink:href=\"#DejaVuSans-115\"/>\n       <use x=\"176.757812\" xlink:href=\"#DejaVuSans-51\"/>\n       <use x=\"240.380859\" xlink:href=\"#DejaVuSans-68\"/>\n       <use x=\"317.382812\" xlink:href=\"#DejaVuSans-84\"/>\n       <use x=\"378.201172\" xlink:href=\"#DejaVuSans-111\"/>\n       <use x=\"439.382812\" xlink:href=\"#DejaVuSans-117\"/>\n       <use x=\"502.761719\" xlink:href=\"#DejaVuSans-114\"/>\n      </g>\n     </g>\n    </g>\n    <g id=\"xtick_5\">\n     <g id=\"line2d_5\">\n      <g>\n       <use style=\"stroke:#000000;stroke-width:0.8;\" x=\"237.687886\" xlink:href=\"#mf6a2cadd6f\" y=\"228.439219\"/>\n      </g>\n     </g>\n     <g id=\"text_5\">\n      <!-- hasPlan -->\n      <defs>\n       <path d=\"M 19.671875 64.796875 \nL 19.671875 37.40625 \nL 32.078125 37.40625 \nQ 38.96875 37.40625 42.71875 40.96875 \nQ 46.484375 44.53125 46.484375 51.125 \nQ 46.484375 57.671875 42.71875 61.234375 \nQ 38.96875 64.796875 32.078125 64.796875 \nz\nM 9.8125 72.90625 \nL 32.078125 72.90625 \nQ 44.34375 72.90625 50.609375 67.359375 \nQ 56.890625 61.8125 56.890625 51.125 \nQ 56.890625 40.328125 50.609375 34.8125 \nQ 44.34375 29.296875 32.078125 29.296875 \nL 19.671875 29.296875 \nL 19.671875 0 \nL 9.8125 0 \nz\n\" id=\"DejaVuSans-80\"/>\n       <path d=\"M 9.421875 75.984375 \nL 18.40625 75.984375 \nL 18.40625 0 \nL 9.421875 0 \nz\n\" id=\"DejaVuSans-108\"/>\n       <path d=\"M 54.890625 33.015625 \nL 54.890625 0 \nL 45.90625 0 \nL 45.90625 32.71875 \nQ 45.90625 40.484375 42.875 44.328125 \nQ 39.84375 48.1875 33.796875 48.1875 \nQ 26.515625 48.1875 22.3125 43.546875 \nQ 18.109375 38.921875 18.109375 30.90625 \nL 18.109375 0 \nL 9.078125 0 \nL 9.078125 54.6875 \nL 18.109375 54.6875 \nL 18.109375 46.1875 \nQ 21.34375 51.125 25.703125 53.5625 \nQ 30.078125 56 35.796875 56 \nQ 45.21875 56 50.046875 50.171875 \nQ 54.890625 44.34375 54.890625 33.015625 \nz\n\" id=\"DejaVuSans-110\"/>\n      </defs>\n      <g transform=\"translate(240.447261 274.387656)rotate(-90)scale(0.1 -0.1)\">\n       <use xlink:href=\"#DejaVuSans-104\"/>\n       <use x=\"63.378906\" xlink:href=\"#DejaVuSans-97\"/>\n       <use x=\"124.658203\" xlink:href=\"#DejaVuSans-115\"/>\n       <use x=\"176.757812\" xlink:href=\"#DejaVuSans-80\"/>\n       <use x=\"237.060547\" xlink:href=\"#DejaVuSans-108\"/>\n       <use x=\"264.84375\" xlink:href=\"#DejaVuSans-97\"/>\n       <use x=\"326.123047\" xlink:href=\"#DejaVuSans-110\"/>\n      </g>\n     </g>\n    </g>\n    <g id=\"xtick_6\">\n     <g id=\"line2d_6\">\n      <g>\n       <use style=\"stroke:#000000;stroke-width:0.8;\" x=\"253.44318\" xlink:href=\"#mf6a2cadd6f\" y=\"228.439219\"/>\n      </g>\n     </g>\n     <g id=\"text_6\">\n      <!-- hasStaging -->\n      <defs>\n       <path d=\"M 53.515625 70.515625 \nL 53.515625 60.890625 \nQ 47.90625 63.578125 42.921875 64.890625 \nQ 37.9375 66.21875 33.296875 66.21875 \nQ 25.25 66.21875 20.875 63.09375 \nQ 16.5 59.96875 16.5 54.203125 \nQ 16.5 49.359375 19.40625 46.890625 \nQ 22.3125 44.4375 30.421875 42.921875 \nL 36.375 41.703125 \nQ 47.40625 39.59375 52.65625 34.296875 \nQ 57.90625 29 57.90625 20.125 \nQ 57.90625 9.515625 50.796875 4.046875 \nQ 43.703125 -1.421875 29.984375 -1.421875 \nQ 24.8125 -1.421875 18.96875 -0.25 \nQ 13.140625 0.921875 6.890625 3.21875 \nL 6.890625 13.375 \nQ 12.890625 10.015625 18.65625 8.296875 \nQ 24.421875 6.59375 29.984375 6.59375 \nQ 38.421875 6.59375 43.015625 9.90625 \nQ 47.609375 13.234375 47.609375 19.390625 \nQ 47.609375 24.75 44.3125 27.78125 \nQ 41.015625 30.8125 33.5 32.328125 \nL 27.484375 33.5 \nQ 16.453125 35.6875 11.515625 40.375 \nQ 6.59375 45.0625 6.59375 53.421875 \nQ 6.59375 63.09375 13.40625 68.65625 \nQ 20.21875 74.21875 32.171875 74.21875 \nQ 37.3125 74.21875 42.625 73.28125 \nQ 47.953125 72.359375 53.515625 70.515625 \nz\n\" id=\"DejaVuSans-83\"/>\n       <path d=\"M 45.40625 27.984375 \nQ 45.40625 37.75 41.375 43.109375 \nQ 37.359375 48.484375 30.078125 48.484375 \nQ 22.859375 48.484375 18.828125 43.109375 \nQ 14.796875 37.75 14.796875 27.984375 \nQ 14.796875 18.265625 18.828125 12.890625 \nQ 22.859375 7.515625 30.078125 7.515625 \nQ 37.359375 7.515625 41.375 12.890625 \nQ 45.40625 18.265625 45.40625 27.984375 \nz\nM 54.390625 6.78125 \nQ 54.390625 -7.171875 48.1875 -13.984375 \nQ 42 -20.796875 29.203125 -20.796875 \nQ 24.46875 -20.796875 20.265625 -20.09375 \nQ 16.0625 -19.390625 12.109375 -17.921875 \nL 12.109375 -9.1875 \nQ 16.0625 -11.328125 19.921875 -12.34375 \nQ 23.78125 -13.375 27.78125 -13.375 \nQ 36.625 -13.375 41.015625 -8.765625 \nQ 45.40625 -4.15625 45.40625 5.171875 \nL 45.40625 9.625 \nQ 42.625 4.78125 38.28125 2.390625 \nQ 33.9375 0 27.875 0 \nQ 17.828125 0 11.671875 7.65625 \nQ 5.515625 15.328125 5.515625 27.984375 \nQ 5.515625 40.671875 11.671875 48.328125 \nQ 17.828125 56 27.875 56 \nQ 33.9375 56 38.28125 53.609375 \nQ 42.625 51.21875 45.40625 46.390625 \nL 45.40625 54.6875 \nL 54.390625 54.6875 \nz\n\" id=\"DejaVuSans-103\"/>\n      </defs>\n      <g transform=\"translate(256.202555 291.323594)rotate(-90)scale(0.1 -0.1)\">\n       <use xlink:href=\"#DejaVuSans-104\"/>\n       <use x=\"63.378906\" xlink:href=\"#DejaVuSans-97\"/>\n       <use x=\"124.658203\" xlink:href=\"#DejaVuSans-115\"/>\n       <use x=\"176.757812\" xlink:href=\"#DejaVuSans-83\"/>\n       <use x=\"240.234375\" xlink:href=\"#DejaVuSans-116\"/>\n       <use x=\"279.443359\" xlink:href=\"#DejaVuSans-97\"/>\n       <use x=\"340.722656\" xlink:href=\"#DejaVuSans-103\"/>\n       <use x=\"404.199219\" xlink:href=\"#DejaVuSans-105\"/>\n       <use x=\"431.982422\" xlink:href=\"#DejaVuSans-110\"/>\n       <use x=\"495.361328\" xlink:href=\"#DejaVuSans-103\"/>\n      </g>\n     </g>\n    </g>\n    <g id=\"xtick_7\">\n     <g id=\"line2d_7\">\n      <g>\n       <use style=\"stroke:#000000;stroke-width:0.8;\" x=\"269.198474\" xlink:href=\"#mf6a2cadd6f\" y=\"228.439219\"/>\n      </g>\n     </g>\n     <g id=\"text_7\">\n      <!-- hasVideo -->\n      <defs>\n       <path d=\"M 28.609375 0 \nL 0.78125 72.90625 \nL 11.078125 72.90625 \nL 34.1875 11.53125 \nL 57.328125 72.90625 \nL 67.578125 72.90625 \nL 39.796875 0 \nz\n\" id=\"DejaVuSans-86\"/>\n       <path d=\"M 45.40625 46.390625 \nL 45.40625 75.984375 \nL 54.390625 75.984375 \nL 54.390625 0 \nL 45.40625 0 \nL 45.40625 8.203125 \nQ 42.578125 3.328125 38.25 0.953125 \nQ 33.9375 -1.421875 27.875 -1.421875 \nQ 17.96875 -1.421875 11.734375 6.484375 \nQ 5.515625 14.40625 5.515625 27.296875 \nQ 5.515625 40.1875 11.734375 48.09375 \nQ 17.96875 56 27.875 56 \nQ 33.9375 56 38.25 53.625 \nQ 42.578125 51.265625 45.40625 46.390625 \nz\nM 14.796875 27.296875 \nQ 14.796875 17.390625 18.875 11.75 \nQ 22.953125 6.109375 30.078125 6.109375 \nQ 37.203125 6.109375 41.296875 11.75 \nQ 45.40625 17.390625 45.40625 27.296875 \nQ 45.40625 37.203125 41.296875 42.84375 \nQ 37.203125 48.484375 30.078125 48.484375 \nQ 22.953125 48.484375 18.875 42.84375 \nQ 14.796875 37.203125 14.796875 27.296875 \nz\n\" id=\"DejaVuSans-100\"/>\n      </defs>\n      <g transform=\"translate(271.957849 281.350156)rotate(-90)scale(0.1 -0.1)\">\n       <use xlink:href=\"#DejaVuSans-104\"/>\n       <use x=\"63.378906\" xlink:href=\"#DejaVuSans-97\"/>\n       <use x=\"124.658203\" xlink:href=\"#DejaVuSans-115\"/>\n       <use x=\"176.757812\" xlink:href=\"#DejaVuSans-86\"/>\n       <use x=\"245.134766\" xlink:href=\"#DejaVuSans-105\"/>\n       <use x=\"272.917969\" xlink:href=\"#DejaVuSans-100\"/>\n       <use x=\"336.394531\" xlink:href=\"#DejaVuSans-101\"/>\n       <use x=\"397.917969\" xlink:href=\"#DejaVuSans-111\"/>\n      </g>\n     </g>\n    </g>\n    <g id=\"xtick_8\">\n     <g id=\"line2d_8\">\n      <g>\n       <use style=\"stroke:#000000;stroke-width:0.8;\" x=\"284.953768\" xlink:href=\"#mf6a2cadd6f\" y=\"228.439219\"/>\n      </g>\n     </g>\n     <g id=\"text_8\">\n      <!-- newDevelopment -->\n      <defs>\n       <path d=\"M 4.203125 54.6875 \nL 13.1875 54.6875 \nL 24.421875 12.015625 \nL 35.59375 54.6875 \nL 46.1875 54.6875 \nL 57.421875 12.015625 \nL 68.609375 54.6875 \nL 77.59375 54.6875 \nL 63.28125 0 \nL 52.6875 0 \nL 40.921875 44.828125 \nL 29.109375 0 \nL 18.5 0 \nz\n\" id=\"DejaVuSans-119\"/>\n       <path d=\"M 2.984375 54.6875 \nL 12.5 54.6875 \nL 29.59375 8.796875 \nL 46.6875 54.6875 \nL 56.203125 54.6875 \nL 35.6875 0 \nL 23.484375 0 \nz\n\" id=\"DejaVuSans-118\"/>\n       <path d=\"M 18.109375 8.203125 \nL 18.109375 -20.796875 \nL 9.078125 -20.796875 \nL 9.078125 54.6875 \nL 18.109375 54.6875 \nL 18.109375 46.390625 \nQ 20.953125 51.265625 25.265625 53.625 \nQ 29.59375 56 35.59375 56 \nQ 45.5625 56 51.78125 48.09375 \nQ 58.015625 40.1875 58.015625 27.296875 \nQ 58.015625 14.40625 51.78125 6.484375 \nQ 45.5625 -1.421875 35.59375 -1.421875 \nQ 29.59375 -1.421875 25.265625 0.953125 \nQ 20.953125 3.328125 18.109375 8.203125 \nz\nM 48.6875 27.296875 \nQ 48.6875 37.203125 44.609375 42.84375 \nQ 40.53125 48.484375 33.40625 48.484375 \nQ 26.265625 48.484375 22.1875 42.84375 \nQ 18.109375 37.203125 18.109375 27.296875 \nQ 18.109375 17.390625 22.1875 11.75 \nQ 26.265625 6.109375 33.40625 6.109375 \nQ 40.53125 6.109375 44.609375 11.75 \nQ 48.6875 17.390625 48.6875 27.296875 \nz\n\" id=\"DejaVuSans-112\"/>\n      </defs>\n      <g transform=\"translate(287.713143 323.429844)rotate(-90)scale(0.1 -0.1)\">\n       <use xlink:href=\"#DejaVuSans-110\"/>\n       <use x=\"63.378906\" xlink:href=\"#DejaVuSans-101\"/>\n       <use x=\"124.902344\" xlink:href=\"#DejaVuSans-119\"/>\n       <use x=\"206.689453\" xlink:href=\"#DejaVuSans-68\"/>\n       <use x=\"283.691406\" xlink:href=\"#DejaVuSans-101\"/>\n       <use x=\"345.214844\" xlink:href=\"#DejaVuSans-118\"/>\n       <use x=\"404.394531\" xlink:href=\"#DejaVuSans-101\"/>\n       <use x=\"465.917969\" xlink:href=\"#DejaVuSans-108\"/>\n       <use x=\"493.701172\" xlink:href=\"#DejaVuSans-111\"/>\n       <use x=\"554.882812\" xlink:href=\"#DejaVuSans-112\"/>\n       <use x=\"618.359375\" xlink:href=\"#DejaVuSans-109\"/>\n       <use x=\"715.771484\" xlink:href=\"#DejaVuSans-101\"/>\n       <use x=\"777.294922\" xlink:href=\"#DejaVuSans-110\"/>\n       <use x=\"840.673828\" xlink:href=\"#DejaVuSans-116\"/>\n      </g>\n     </g>\n    </g>\n    <g id=\"xtick_9\">\n     <g id=\"line2d_9\">\n      <g>\n       <use style=\"stroke:#000000;stroke-width:0.8;\" x=\"300.709063\" xlink:href=\"#mf6a2cadd6f\" y=\"228.439219\"/>\n      </g>\n     </g>\n     <g id=\"text_9\">\n      <!-- numPhotos -->\n      <g transform=\"translate(303.468437 291.589219)rotate(-90)scale(0.1 -0.1)\">\n       <use xlink:href=\"#DejaVuSans-110\"/>\n       <use x=\"63.378906\" xlink:href=\"#DejaVuSans-117\"/>\n       <use x=\"126.757812\" xlink:href=\"#DejaVuSans-109\"/>\n       <use x=\"224.169922\" xlink:href=\"#DejaVuSans-80\"/>\n       <use x=\"284.472656\" xlink:href=\"#DejaVuSans-104\"/>\n       <use x=\"347.851562\" xlink:href=\"#DejaVuSans-111\"/>\n       <use x=\"409.033203\" xlink:href=\"#DejaVuSans-116\"/>\n       <use x=\"448.242188\" xlink:href=\"#DejaVuSans-111\"/>\n       <use x=\"509.423828\" xlink:href=\"#DejaVuSans-115\"/>\n      </g>\n     </g>\n    </g>\n    <g id=\"xtick_10\">\n     <g id=\"line2d_10\">\n      <g>\n       <use style=\"stroke:#000000;stroke-width:0.8;\" x=\"316.464357\" xlink:href=\"#mf6a2cadd6f\" y=\"228.439219\"/>\n      </g>\n     </g>\n     <g id=\"text_10\">\n      <!-- price -->\n      <defs>\n       <path d=\"M 48.78125 52.59375 \nL 48.78125 44.1875 \nQ 44.96875 46.296875 41.140625 47.34375 \nQ 37.3125 48.390625 33.40625 48.390625 \nQ 24.65625 48.390625 19.8125 42.84375 \nQ 14.984375 37.3125 14.984375 27.296875 \nQ 14.984375 17.28125 19.8125 11.734375 \nQ 24.65625 6.203125 33.40625 6.203125 \nQ 37.3125 6.203125 41.140625 7.25 \nQ 44.96875 8.296875 48.78125 10.40625 \nL 48.78125 2.09375 \nQ 45.015625 0.34375 40.984375 -0.53125 \nQ 36.96875 -1.421875 32.421875 -1.421875 \nQ 20.0625 -1.421875 12.78125 6.34375 \nQ 5.515625 14.109375 5.515625 27.296875 \nQ 5.515625 40.671875 12.859375 48.328125 \nQ 20.21875 56 33.015625 56 \nQ 37.15625 56 41.109375 55.140625 \nQ 45.0625 54.296875 48.78125 52.59375 \nz\n\" id=\"DejaVuSans-99\"/>\n      </defs>\n      <g transform=\"translate(319.223732 260.328281)rotate(-90)scale(0.1 -0.1)\">\n       <use xlink:href=\"#DejaVuSans-112\"/>\n       <use x=\"63.476562\" xlink:href=\"#DejaVuSans-114\"/>\n       <use x=\"104.589844\" xlink:href=\"#DejaVuSans-105\"/>\n       <use x=\"132.373047\" xlink:href=\"#DejaVuSans-99\"/>\n       <use x=\"187.353516\" xlink:href=\"#DejaVuSans-101\"/>\n      </g>\n     </g>\n    </g>\n    <g id=\"xtick_11\">\n     <g id=\"line2d_11\">\n      <g>\n       <use style=\"stroke:#000000;stroke-width:0.8;\" x=\"332.219651\" xlink:href=\"#mf6a2cadd6f\" y=\"228.439219\"/>\n      </g>\n     </g>\n     <g id=\"text_11\">\n      <!-- priceByArea -->\n      <defs>\n       <path d=\"M 19.671875 34.8125 \nL 19.671875 8.109375 \nL 35.5 8.109375 \nQ 43.453125 8.109375 47.28125 11.40625 \nQ 51.125 14.703125 51.125 21.484375 \nQ 51.125 28.328125 47.28125 31.5625 \nQ 43.453125 34.8125 35.5 34.8125 \nz\nM 19.671875 64.796875 \nL 19.671875 42.828125 \nL 34.28125 42.828125 \nQ 41.5 42.828125 45.03125 45.53125 \nQ 48.578125 48.25 48.578125 53.8125 \nQ 48.578125 59.328125 45.03125 62.0625 \nQ 41.5 64.796875 34.28125 64.796875 \nz\nM 9.8125 72.90625 \nL 35.015625 72.90625 \nQ 46.296875 72.90625 52.390625 68.21875 \nQ 58.5 63.53125 58.5 54.890625 \nQ 58.5 48.1875 55.375 44.234375 \nQ 52.25 40.28125 46.1875 39.3125 \nQ 53.46875 37.75 57.5 32.78125 \nQ 61.53125 27.828125 61.53125 20.40625 \nQ 61.53125 10.640625 54.890625 5.3125 \nQ 48.25 0 35.984375 0 \nL 9.8125 0 \nz\n\" id=\"DejaVuSans-66\"/>\n       <path d=\"M 32.171875 -5.078125 \nQ 28.375 -14.84375 24.75 -17.8125 \nQ 21.140625 -20.796875 15.09375 -20.796875 \nL 7.90625 -20.796875 \nL 7.90625 -13.28125 \nL 13.1875 -13.28125 \nQ 16.890625 -13.28125 18.9375 -11.515625 \nQ 21 -9.765625 23.484375 -3.21875 \nL 25.09375 0.875 \nL 2.984375 54.6875 \nL 12.5 54.6875 \nL 29.59375 11.921875 \nL 46.6875 54.6875 \nL 56.203125 54.6875 \nz\n\" id=\"DejaVuSans-121\"/>\n       <path d=\"M 34.1875 63.1875 \nL 20.796875 26.90625 \nL 47.609375 26.90625 \nz\nM 28.609375 72.90625 \nL 39.796875 72.90625 \nL 67.578125 0 \nL 57.328125 0 \nL 50.6875 18.703125 \nL 17.828125 18.703125 \nL 11.1875 0 \nL 0.78125 0 \nz\n\" id=\"DejaVuSans-65\"/>\n      </defs>\n      <g transform=\"translate(334.979026 296.337656)rotate(-90)scale(0.1 -0.1)\">\n       <use xlink:href=\"#DejaVuSans-112\"/>\n       <use x=\"63.476562\" xlink:href=\"#DejaVuSans-114\"/>\n       <use x=\"104.589844\" xlink:href=\"#DejaVuSans-105\"/>\n       <use x=\"132.373047\" xlink:href=\"#DejaVuSans-99\"/>\n       <use x=\"187.353516\" xlink:href=\"#DejaVuSans-101\"/>\n       <use x=\"248.876953\" xlink:href=\"#DejaVuSans-66\"/>\n       <use x=\"317.480469\" xlink:href=\"#DejaVuSans-121\"/>\n       <use x=\"376.660156\" xlink:href=\"#DejaVuSans-65\"/>\n       <use x=\"445.068359\" xlink:href=\"#DejaVuSans-114\"/>\n       <use x=\"486.150391\" xlink:href=\"#DejaVuSans-101\"/>\n       <use x=\"547.673828\" xlink:href=\"#DejaVuSans-97\"/>\n      </g>\n     </g>\n    </g>\n    <g id=\"xtick_12\">\n     <g id=\"line2d_12\">\n      <g>\n       <use style=\"stroke:#000000;stroke-width:0.8;\" x=\"347.974945\" xlink:href=\"#mf6a2cadd6f\" y=\"228.439219\"/>\n      </g>\n     </g>\n     <g id=\"text_12\">\n      <!-- rooms -->\n      <g transform=\"translate(350.73432 266.734531)rotate(-90)scale(0.1 -0.1)\">\n       <use xlink:href=\"#DejaVuSans-114\"/>\n       <use x=\"41.082031\" xlink:href=\"#DejaVuSans-111\"/>\n       <use x=\"102.263672\" xlink:href=\"#DejaVuSans-111\"/>\n       <use x=\"163.445312\" xlink:href=\"#DejaVuSans-109\"/>\n       <use x=\"260.857422\" xlink:href=\"#DejaVuSans-115\"/>\n      </g>\n     </g>\n    </g>\n    <g id=\"xtick_13\">\n     <g id=\"line2d_13\">\n      <g>\n       <use style=\"stroke:#000000;stroke-width:0.8;\" x=\"363.730239\" xlink:href=\"#mf6a2cadd6f\" y=\"228.439219\"/>\n      </g>\n     </g>\n     <g id=\"text_13\">\n      <!-- showAddress -->\n      <g transform=\"translate(366.489614 301.498594)rotate(-90)scale(0.1 -0.1)\">\n       <use xlink:href=\"#DejaVuSans-115\"/>\n       <use x=\"52.099609\" xlink:href=\"#DejaVuSans-104\"/>\n       <use x=\"115.478516\" xlink:href=\"#DejaVuSans-111\"/>\n       <use x=\"176.660156\" xlink:href=\"#DejaVuSans-119\"/>\n       <use x=\"258.447266\" xlink:href=\"#DejaVuSans-65\"/>\n       <use x=\"326.839844\" xlink:href=\"#DejaVuSans-100\"/>\n       <use x=\"390.316406\" xlink:href=\"#DejaVuSans-100\"/>\n       <use x=\"453.792969\" xlink:href=\"#DejaVuSans-114\"/>\n       <use x=\"494.875\" xlink:href=\"#DejaVuSans-101\"/>\n       <use x=\"556.398438\" xlink:href=\"#DejaVuSans-115\"/>\n       <use x=\"608.498047\" xlink:href=\"#DejaVuSans-115\"/>\n      </g>\n     </g>\n    </g>\n    <g id=\"xtick_14\">\n     <g id=\"line2d_14\">\n      <g>\n       <use style=\"stroke:#000000;stroke-width:0.8;\" x=\"379.485533\" xlink:href=\"#mf6a2cadd6f\" y=\"228.439219\"/>\n      </g>\n     </g>\n     <g id=\"text_14\">\n      <!-- size -->\n      <defs>\n       <path d=\"M 5.515625 54.6875 \nL 48.1875 54.6875 \nL 48.1875 46.484375 \nL 14.40625 7.171875 \nL 48.1875 7.171875 \nL 48.1875 0 \nL 4.296875 0 \nL 4.296875 8.203125 \nL 38.09375 47.515625 \nL 5.515625 47.515625 \nz\n\" id=\"DejaVuSans-122\"/>\n      </defs>\n      <g transform=\"translate(382.244908 254.828281)rotate(-90)scale(0.1 -0.1)\">\n       <use xlink:href=\"#DejaVuSans-115\"/>\n       <use x=\"52.099609\" xlink:href=\"#DejaVuSans-105\"/>\n       <use x=\"79.882812\" xlink:href=\"#DejaVuSans-122\"/>\n       <use x=\"132.373047\" xlink:href=\"#DejaVuSans-101\"/>\n      </g>\n     </g>\n    </g>\n    <g id=\"xtick_15\">\n     <g id=\"line2d_15\">\n      <g>\n       <use style=\"stroke:#000000;stroke-width:0.8;\" x=\"395.240827\" xlink:href=\"#mf6a2cadd6f\" y=\"228.439219\"/>\n      </g>\n     </g>\n     <g id=\"text_15\">\n      <!-- topNewDevelopment -->\n      <defs>\n       <path d=\"M 9.8125 72.90625 \nL 23.09375 72.90625 \nL 55.421875 11.921875 \nL 55.421875 72.90625 \nL 64.984375 72.90625 \nL 64.984375 0 \nL 51.703125 0 \nL 19.390625 60.984375 \nL 19.390625 0 \nL 9.8125 0 \nz\n\" id=\"DejaVuSans-78\"/>\n      </defs>\n      <g transform=\"translate(398.000202 340.961094)rotate(-90)scale(0.1 -0.1)\">\n       <use xlink:href=\"#DejaVuSans-116\"/>\n       <use x=\"39.208984\" xlink:href=\"#DejaVuSans-111\"/>\n       <use x=\"100.390625\" xlink:href=\"#DejaVuSans-112\"/>\n       <use x=\"163.867188\" xlink:href=\"#DejaVuSans-78\"/>\n       <use x=\"238.671875\" xlink:href=\"#DejaVuSans-101\"/>\n       <use x=\"300.195312\" xlink:href=\"#DejaVuSans-119\"/>\n       <use x=\"381.982422\" xlink:href=\"#DejaVuSans-68\"/>\n       <use x=\"458.984375\" xlink:href=\"#DejaVuSans-101\"/>\n       <use x=\"520.507812\" xlink:href=\"#DejaVuSans-118\"/>\n       <use x=\"579.6875\" xlink:href=\"#DejaVuSans-101\"/>\n       <use x=\"641.210938\" xlink:href=\"#DejaVuSans-108\"/>\n       <use x=\"668.994141\" xlink:href=\"#DejaVuSans-111\"/>\n       <use x=\"730.175781\" xlink:href=\"#DejaVuSans-112\"/>\n       <use x=\"793.652344\" xlink:href=\"#DejaVuSans-109\"/>\n       <use x=\"891.064453\" xlink:href=\"#DejaVuSans-101\"/>\n       <use x=\"952.587891\" xlink:href=\"#DejaVuSans-110\"/>\n       <use x=\"1015.966797\" xlink:href=\"#DejaVuSans-116\"/>\n      </g>\n     </g>\n    </g>\n    <g id=\"xtick_16\">\n     <g id=\"line2d_16\">\n      <g>\n       <use style=\"stroke:#000000;stroke-width:0.8;\" x=\"410.996121\" xlink:href=\"#mf6a2cadd6f\" y=\"228.439219\"/>\n      </g>\n     </g>\n     <g id=\"text_16\">\n      <!-- hasParkingSpace -->\n      <defs>\n       <path d=\"M 9.078125 75.984375 \nL 18.109375 75.984375 \nL 18.109375 31.109375 \nL 44.921875 54.6875 \nL 56.390625 54.6875 \nL 27.390625 29.109375 \nL 57.625 0 \nL 45.90625 0 \nL 18.109375 26.703125 \nL 18.109375 0 \nL 9.078125 0 \nz\n\" id=\"DejaVuSans-107\"/>\n      </defs>\n      <g transform=\"translate(413.755496 321.107969)rotate(-90)scale(0.1 -0.1)\">\n       <use xlink:href=\"#DejaVuSans-104\"/>\n       <use x=\"63.378906\" xlink:href=\"#DejaVuSans-97\"/>\n       <use x=\"124.658203\" xlink:href=\"#DejaVuSans-115\"/>\n       <use x=\"176.757812\" xlink:href=\"#DejaVuSans-80\"/>\n       <use x=\"236.998047\" xlink:href=\"#DejaVuSans-97\"/>\n       <use x=\"298.277344\" xlink:href=\"#DejaVuSans-114\"/>\n       <use x=\"339.390625\" xlink:href=\"#DejaVuSans-107\"/>\n       <use x=\"397.300781\" xlink:href=\"#DejaVuSans-105\"/>\n       <use x=\"425.083984\" xlink:href=\"#DejaVuSans-110\"/>\n       <use x=\"488.462891\" xlink:href=\"#DejaVuSans-103\"/>\n       <use x=\"551.939453\" xlink:href=\"#DejaVuSans-83\"/>\n       <use x=\"615.416016\" xlink:href=\"#DejaVuSans-112\"/>\n       <use x=\"678.892578\" xlink:href=\"#DejaVuSans-97\"/>\n       <use x=\"740.171875\" xlink:href=\"#DejaVuSans-99\"/>\n       <use x=\"795.152344\" xlink:href=\"#DejaVuSans-101\"/>\n      </g>\n     </g>\n    </g>\n    <g id=\"xtick_17\">\n     <g id=\"line2d_17\">\n      <g>\n       <use style=\"stroke:#000000;stroke-width:0.8;\" x=\"426.751415\" xlink:href=\"#mf6a2cadd6f\" y=\"228.439219\"/>\n      </g>\n     </g>\n     <g id=\"text_17\">\n      <!-- isParkingSpaceIncludedInPrice -->\n      <defs>\n       <path d=\"M 9.8125 72.90625 \nL 19.671875 72.90625 \nL 19.671875 0 \nL 9.8125 0 \nz\n\" id=\"DejaVuSans-73\"/>\n      </defs>\n      <g transform=\"translate(429.51079 388.028281)rotate(-90)scale(0.1 -0.1)\">\n       <use xlink:href=\"#DejaVuSans-105\"/>\n       <use x=\"27.783203\" xlink:href=\"#DejaVuSans-115\"/>\n       <use x=\"79.882812\" xlink:href=\"#DejaVuSans-80\"/>\n       <use x=\"140.123047\" xlink:href=\"#DejaVuSans-97\"/>\n       <use x=\"201.402344\" xlink:href=\"#DejaVuSans-114\"/>\n       <use x=\"242.515625\" xlink:href=\"#DejaVuSans-107\"/>\n       <use x=\"300.425781\" xlink:href=\"#DejaVuSans-105\"/>\n       <use x=\"328.208984\" xlink:href=\"#DejaVuSans-110\"/>\n       <use x=\"391.587891\" xlink:href=\"#DejaVuSans-103\"/>\n       <use x=\"455.064453\" xlink:href=\"#DejaVuSans-83\"/>\n       <use x=\"518.541016\" xlink:href=\"#DejaVuSans-112\"/>\n       <use x=\"582.017578\" xlink:href=\"#DejaVuSans-97\"/>\n       <use x=\"643.296875\" xlink:href=\"#DejaVuSans-99\"/>\n       <use x=\"698.277344\" xlink:href=\"#DejaVuSans-101\"/>\n       <use x=\"759.800781\" xlink:href=\"#DejaVuSans-73\"/>\n       <use x=\"789.292969\" xlink:href=\"#DejaVuSans-110\"/>\n       <use x=\"852.671875\" xlink:href=\"#DejaVuSans-99\"/>\n       <use x=\"907.652344\" xlink:href=\"#DejaVuSans-108\"/>\n       <use x=\"935.435547\" xlink:href=\"#DejaVuSans-117\"/>\n       <use x=\"998.814453\" xlink:href=\"#DejaVuSans-100\"/>\n       <use x=\"1062.291016\" xlink:href=\"#DejaVuSans-101\"/>\n       <use x=\"1123.814453\" xlink:href=\"#DejaVuSans-100\"/>\n       <use x=\"1187.291016\" xlink:href=\"#DejaVuSans-73\"/>\n       <use x=\"1216.783203\" xlink:href=\"#DejaVuSans-110\"/>\n       <use x=\"1280.162109\" xlink:href=\"#DejaVuSans-80\"/>\n       <use x=\"1340.449219\" xlink:href=\"#DejaVuSans-114\"/>\n       <use x=\"1381.5625\" xlink:href=\"#DejaVuSans-105\"/>\n       <use x=\"1409.345703\" xlink:href=\"#DejaVuSans-99\"/>\n       <use x=\"1464.326172\" xlink:href=\"#DejaVuSans-101\"/>\n      </g>\n     </g>\n    </g>\n   </g>\n   <g id=\"matplotlib.axis_2\">\n    <g id=\"ytick_1\">\n     <g id=\"line2d_18\">\n      <defs>\n       <path d=\"M 0 0 \nL -3.5 0 \n\" id=\"mc825e1814d\" style=\"stroke:#000000;stroke-width:0.8;\"/>\n      </defs>\n      <g>\n       <use style=\"stroke:#000000;stroke-width:0.8;\" x=\"166.789062\" xlink:href=\"#mc825e1814d\" y=\"10.999219\"/>\n      </g>\n     </g>\n     <g id=\"text_18\">\n      <!-- bathrooms -->\n      <g transform=\"translate(105.759375 14.798438)scale(0.1 -0.1)\">\n       <use xlink:href=\"#DejaVuSans-98\"/>\n       <use x=\"63.476562\" xlink:href=\"#DejaVuSans-97\"/>\n       <use x=\"124.755859\" xlink:href=\"#DejaVuSans-116\"/>\n       <use x=\"163.964844\" xlink:href=\"#DejaVuSans-104\"/>\n       <use x=\"227.34375\" xlink:href=\"#DejaVuSans-114\"/>\n       <use x=\"268.425781\" xlink:href=\"#DejaVuSans-111\"/>\n       <use x=\"329.607422\" xlink:href=\"#DejaVuSans-111\"/>\n       <use x=\"390.789062\" xlink:href=\"#DejaVuSans-109\"/>\n       <use x=\"488.201172\" xlink:href=\"#DejaVuSans-115\"/>\n      </g>\n     </g>\n    </g>\n    <g id=\"ytick_2\">\n     <g id=\"line2d_19\">\n      <g>\n       <use style=\"stroke:#000000;stroke-width:0.8;\" x=\"166.789062\" xlink:href=\"#mc825e1814d\" y=\"24.589219\"/>\n      </g>\n     </g>\n     <g id=\"text_19\">\n      <!-- exterior -->\n      <g transform=\"translate(120.526562 28.388438)scale(0.1 -0.1)\">\n       <use xlink:href=\"#DejaVuSans-101\"/>\n       <use x=\"61.507812\" xlink:href=\"#DejaVuSans-120\"/>\n       <use x=\"120.6875\" xlink:href=\"#DejaVuSans-116\"/>\n       <use x=\"159.896484\" xlink:href=\"#DejaVuSans-101\"/>\n       <use x=\"221.419922\" xlink:href=\"#DejaVuSans-114\"/>\n       <use x=\"262.533203\" xlink:href=\"#DejaVuSans-105\"/>\n       <use x=\"290.316406\" xlink:href=\"#DejaVuSans-111\"/>\n       <use x=\"351.498047\" xlink:href=\"#DejaVuSans-114\"/>\n      </g>\n     </g>\n    </g>\n    <g id=\"ytick_3\">\n     <g id=\"line2d_20\">\n      <g>\n       <use style=\"stroke:#000000;stroke-width:0.8;\" x=\"166.789062\" xlink:href=\"#mc825e1814d\" y=\"38.179219\"/>\n      </g>\n     </g>\n     <g id=\"text_20\">\n      <!-- has360 -->\n      <g transform=\"translate(123.026562 41.978438)scale(0.1 -0.1)\">\n       <use xlink:href=\"#DejaVuSans-104\"/>\n       <use x=\"63.378906\" xlink:href=\"#DejaVuSans-97\"/>\n       <use x=\"124.658203\" xlink:href=\"#DejaVuSans-115\"/>\n       <use x=\"176.757812\" xlink:href=\"#DejaVuSans-51\"/>\n       <use x=\"240.380859\" xlink:href=\"#DejaVuSans-54\"/>\n       <use x=\"304.003906\" xlink:href=\"#DejaVuSans-48\"/>\n      </g>\n     </g>\n    </g>\n    <g id=\"ytick_4\">\n     <g id=\"line2d_21\">\n      <g>\n       <use style=\"stroke:#000000;stroke-width:0.8;\" x=\"166.789062\" xlink:href=\"#mc825e1814d\" y=\"51.769219\"/>\n      </g>\n     </g>\n     <g id=\"text_21\">\n      <!-- has3DTour -->\n      <g transform=\"translate(105.403125 55.568438)scale(0.1 -0.1)\">\n       <use xlink:href=\"#DejaVuSans-104\"/>\n       <use x=\"63.378906\" xlink:href=\"#DejaVuSans-97\"/>\n       <use x=\"124.658203\" xlink:href=\"#DejaVuSans-115\"/>\n       <use x=\"176.757812\" xlink:href=\"#DejaVuSans-51\"/>\n       <use x=\"240.380859\" xlink:href=\"#DejaVuSans-68\"/>\n       <use x=\"317.382812\" xlink:href=\"#DejaVuSans-84\"/>\n       <use x=\"378.201172\" xlink:href=\"#DejaVuSans-111\"/>\n       <use x=\"439.382812\" xlink:href=\"#DejaVuSans-117\"/>\n       <use x=\"502.761719\" xlink:href=\"#DejaVuSans-114\"/>\n      </g>\n     </g>\n    </g>\n    <g id=\"ytick_5\">\n     <g id=\"line2d_22\">\n      <g>\n       <use style=\"stroke:#000000;stroke-width:0.8;\" x=\"166.789062\" xlink:href=\"#mc825e1814d\" y=\"65.359219\"/>\n      </g>\n     </g>\n     <g id=\"text_22\">\n      <!-- hasPlan -->\n      <g transform=\"translate(120.840625 69.158438)scale(0.1 -0.1)\">\n       <use xlink:href=\"#DejaVuSans-104\"/>\n       <use x=\"63.378906\" xlink:href=\"#DejaVuSans-97\"/>\n       <use x=\"124.658203\" xlink:href=\"#DejaVuSans-115\"/>\n       <use x=\"176.757812\" xlink:href=\"#DejaVuSans-80\"/>\n       <use x=\"237.060547\" xlink:href=\"#DejaVuSans-108\"/>\n       <use x=\"264.84375\" xlink:href=\"#DejaVuSans-97\"/>\n       <use x=\"326.123047\" xlink:href=\"#DejaVuSans-110\"/>\n      </g>\n     </g>\n    </g>\n    <g id=\"ytick_6\">\n     <g id=\"line2d_23\">\n      <g>\n       <use style=\"stroke:#000000;stroke-width:0.8;\" x=\"166.789062\" xlink:href=\"#mc825e1814d\" y=\"78.949219\"/>\n      </g>\n     </g>\n     <g id=\"text_23\">\n      <!-- hasStaging -->\n      <g transform=\"translate(103.904687 82.748438)scale(0.1 -0.1)\">\n       <use xlink:href=\"#DejaVuSans-104\"/>\n       <use x=\"63.378906\" xlink:href=\"#DejaVuSans-97\"/>\n       <use x=\"124.658203\" xlink:href=\"#DejaVuSans-115\"/>\n       <use x=\"176.757812\" xlink:href=\"#DejaVuSans-83\"/>\n       <use x=\"240.234375\" xlink:href=\"#DejaVuSans-116\"/>\n       <use x=\"279.443359\" xlink:href=\"#DejaVuSans-97\"/>\n       <use x=\"340.722656\" xlink:href=\"#DejaVuSans-103\"/>\n       <use x=\"404.199219\" xlink:href=\"#DejaVuSans-105\"/>\n       <use x=\"431.982422\" xlink:href=\"#DejaVuSans-110\"/>\n       <use x=\"495.361328\" xlink:href=\"#DejaVuSans-103\"/>\n      </g>\n     </g>\n    </g>\n    <g id=\"ytick_7\">\n     <g id=\"line2d_24\">\n      <g>\n       <use style=\"stroke:#000000;stroke-width:0.8;\" x=\"166.789062\" xlink:href=\"#mc825e1814d\" y=\"92.539219\"/>\n      </g>\n     </g>\n     <g id=\"text_24\">\n      <!-- hasVideo -->\n      <g transform=\"translate(113.878125 96.338438)scale(0.1 -0.1)\">\n       <use xlink:href=\"#DejaVuSans-104\"/>\n       <use x=\"63.378906\" xlink:href=\"#DejaVuSans-97\"/>\n       <use x=\"124.658203\" xlink:href=\"#DejaVuSans-115\"/>\n       <use x=\"176.757812\" xlink:href=\"#DejaVuSans-86\"/>\n       <use x=\"245.134766\" xlink:href=\"#DejaVuSans-105\"/>\n       <use x=\"272.917969\" xlink:href=\"#DejaVuSans-100\"/>\n       <use x=\"336.394531\" xlink:href=\"#DejaVuSans-101\"/>\n       <use x=\"397.917969\" xlink:href=\"#DejaVuSans-111\"/>\n      </g>\n     </g>\n    </g>\n    <g id=\"ytick_8\">\n     <g id=\"line2d_25\">\n      <g>\n       <use style=\"stroke:#000000;stroke-width:0.8;\" x=\"166.789062\" xlink:href=\"#mc825e1814d\" y=\"106.129219\"/>\n      </g>\n     </g>\n     <g id=\"text_25\">\n      <!-- newDevelopment -->\n      <g transform=\"translate(71.798437 109.928438)scale(0.1 -0.1)\">\n       <use xlink:href=\"#DejaVuSans-110\"/>\n       <use x=\"63.378906\" xlink:href=\"#DejaVuSans-101\"/>\n       <use x=\"124.902344\" xlink:href=\"#DejaVuSans-119\"/>\n       <use x=\"206.689453\" xlink:href=\"#DejaVuSans-68\"/>\n       <use x=\"283.691406\" xlink:href=\"#DejaVuSans-101\"/>\n       <use x=\"345.214844\" xlink:href=\"#DejaVuSans-118\"/>\n       <use x=\"404.394531\" xlink:href=\"#DejaVuSans-101\"/>\n       <use x=\"465.917969\" xlink:href=\"#DejaVuSans-108\"/>\n       <use x=\"493.701172\" xlink:href=\"#DejaVuSans-111\"/>\n       <use x=\"554.882812\" xlink:href=\"#DejaVuSans-112\"/>\n       <use x=\"618.359375\" xlink:href=\"#DejaVuSans-109\"/>\n       <use x=\"715.771484\" xlink:href=\"#DejaVuSans-101\"/>\n       <use x=\"777.294922\" xlink:href=\"#DejaVuSans-110\"/>\n       <use x=\"840.673828\" xlink:href=\"#DejaVuSans-116\"/>\n      </g>\n     </g>\n    </g>\n    <g id=\"ytick_9\">\n     <g id=\"line2d_26\">\n      <g>\n       <use style=\"stroke:#000000;stroke-width:0.8;\" x=\"166.789062\" xlink:href=\"#mc825e1814d\" y=\"119.719219\"/>\n      </g>\n     </g>\n     <g id=\"text_26\">\n      <!-- numPhotos -->\n      <g transform=\"translate(103.639062 123.518438)scale(0.1 -0.1)\">\n       <use xlink:href=\"#DejaVuSans-110\"/>\n       <use x=\"63.378906\" xlink:href=\"#DejaVuSans-117\"/>\n       <use x=\"126.757812\" xlink:href=\"#DejaVuSans-109\"/>\n       <use x=\"224.169922\" xlink:href=\"#DejaVuSans-80\"/>\n       <use x=\"284.472656\" xlink:href=\"#DejaVuSans-104\"/>\n       <use x=\"347.851562\" xlink:href=\"#DejaVuSans-111\"/>\n       <use x=\"409.033203\" xlink:href=\"#DejaVuSans-116\"/>\n       <use x=\"448.242188\" xlink:href=\"#DejaVuSans-111\"/>\n       <use x=\"509.423828\" xlink:href=\"#DejaVuSans-115\"/>\n      </g>\n     </g>\n    </g>\n    <g id=\"ytick_10\">\n     <g id=\"line2d_27\">\n      <g>\n       <use style=\"stroke:#000000;stroke-width:0.8;\" x=\"166.789062\" xlink:href=\"#mc825e1814d\" y=\"133.309219\"/>\n      </g>\n     </g>\n     <g id=\"text_27\">\n      <!-- price -->\n      <g transform=\"translate(134.9 137.108438)scale(0.1 -0.1)\">\n       <use xlink:href=\"#DejaVuSans-112\"/>\n       <use x=\"63.476562\" xlink:href=\"#DejaVuSans-114\"/>\n       <use x=\"104.589844\" xlink:href=\"#DejaVuSans-105\"/>\n       <use x=\"132.373047\" xlink:href=\"#DejaVuSans-99\"/>\n       <use x=\"187.353516\" xlink:href=\"#DejaVuSans-101\"/>\n      </g>\n     </g>\n    </g>\n    <g id=\"ytick_11\">\n     <g id=\"line2d_28\">\n      <g>\n       <use style=\"stroke:#000000;stroke-width:0.8;\" x=\"166.789062\" xlink:href=\"#mc825e1814d\" y=\"146.899219\"/>\n      </g>\n     </g>\n     <g id=\"text_28\">\n      <!-- priceByArea -->\n      <g transform=\"translate(98.890625 150.698438)scale(0.1 -0.1)\">\n       <use xlink:href=\"#DejaVuSans-112\"/>\n       <use x=\"63.476562\" xlink:href=\"#DejaVuSans-114\"/>\n       <use x=\"104.589844\" xlink:href=\"#DejaVuSans-105\"/>\n       <use x=\"132.373047\" xlink:href=\"#DejaVuSans-99\"/>\n       <use x=\"187.353516\" xlink:href=\"#DejaVuSans-101\"/>\n       <use x=\"248.876953\" xlink:href=\"#DejaVuSans-66\"/>\n       <use x=\"317.480469\" xlink:href=\"#DejaVuSans-121\"/>\n       <use x=\"376.660156\" xlink:href=\"#DejaVuSans-65\"/>\n       <use x=\"445.068359\" xlink:href=\"#DejaVuSans-114\"/>\n       <use x=\"486.150391\" xlink:href=\"#DejaVuSans-101\"/>\n       <use x=\"547.673828\" xlink:href=\"#DejaVuSans-97\"/>\n      </g>\n     </g>\n    </g>\n    <g id=\"ytick_12\">\n     <g id=\"line2d_29\">\n      <g>\n       <use style=\"stroke:#000000;stroke-width:0.8;\" x=\"166.789062\" xlink:href=\"#mc825e1814d\" y=\"160.489219\"/>\n      </g>\n     </g>\n     <g id=\"text_29\">\n      <!-- rooms -->\n      <g transform=\"translate(128.49375 164.288438)scale(0.1 -0.1)\">\n       <use xlink:href=\"#DejaVuSans-114\"/>\n       <use x=\"41.082031\" xlink:href=\"#DejaVuSans-111\"/>\n       <use x=\"102.263672\" xlink:href=\"#DejaVuSans-111\"/>\n       <use x=\"163.445312\" xlink:href=\"#DejaVuSans-109\"/>\n       <use x=\"260.857422\" xlink:href=\"#DejaVuSans-115\"/>\n      </g>\n     </g>\n    </g>\n    <g id=\"ytick_13\">\n     <g id=\"line2d_30\">\n      <g>\n       <use style=\"stroke:#000000;stroke-width:0.8;\" x=\"166.789062\" xlink:href=\"#mc825e1814d\" y=\"174.079219\"/>\n      </g>\n     </g>\n     <g id=\"text_30\">\n      <!-- showAddress -->\n      <g transform=\"translate(93.729687 177.878438)scale(0.1 -0.1)\">\n       <use xlink:href=\"#DejaVuSans-115\"/>\n       <use x=\"52.099609\" xlink:href=\"#DejaVuSans-104\"/>\n       <use x=\"115.478516\" xlink:href=\"#DejaVuSans-111\"/>\n       <use x=\"176.660156\" xlink:href=\"#DejaVuSans-119\"/>\n       <use x=\"258.447266\" xlink:href=\"#DejaVuSans-65\"/>\n       <use x=\"326.839844\" xlink:href=\"#DejaVuSans-100\"/>\n       <use x=\"390.316406\" xlink:href=\"#DejaVuSans-100\"/>\n       <use x=\"453.792969\" xlink:href=\"#DejaVuSans-114\"/>\n       <use x=\"494.875\" xlink:href=\"#DejaVuSans-101\"/>\n       <use x=\"556.398438\" xlink:href=\"#DejaVuSans-115\"/>\n       <use x=\"608.498047\" xlink:href=\"#DejaVuSans-115\"/>\n      </g>\n     </g>\n    </g>\n    <g id=\"ytick_14\">\n     <g id=\"line2d_31\">\n      <g>\n       <use style=\"stroke:#000000;stroke-width:0.8;\" x=\"166.789062\" xlink:href=\"#mc825e1814d\" y=\"187.669219\"/>\n      </g>\n     </g>\n     <g id=\"text_31\">\n      <!-- size -->\n      <g transform=\"translate(140.4 191.468438)scale(0.1 -0.1)\">\n       <use xlink:href=\"#DejaVuSans-115\"/>\n       <use x=\"52.099609\" xlink:href=\"#DejaVuSans-105\"/>\n       <use x=\"79.882812\" xlink:href=\"#DejaVuSans-122\"/>\n       <use x=\"132.373047\" xlink:href=\"#DejaVuSans-101\"/>\n      </g>\n     </g>\n    </g>\n    <g id=\"ytick_15\">\n     <g id=\"line2d_32\">\n      <g>\n       <use style=\"stroke:#000000;stroke-width:0.8;\" x=\"166.789062\" xlink:href=\"#mc825e1814d\" y=\"201.259219\"/>\n      </g>\n     </g>\n     <g id=\"text_32\">\n      <!-- topNewDevelopment -->\n      <g transform=\"translate(54.267187 205.058438)scale(0.1 -0.1)\">\n       <use xlink:href=\"#DejaVuSans-116\"/>\n       <use x=\"39.208984\" xlink:href=\"#DejaVuSans-111\"/>\n       <use x=\"100.390625\" xlink:href=\"#DejaVuSans-112\"/>\n       <use x=\"163.867188\" xlink:href=\"#DejaVuSans-78\"/>\n       <use x=\"238.671875\" xlink:href=\"#DejaVuSans-101\"/>\n       <use x=\"300.195312\" xlink:href=\"#DejaVuSans-119\"/>\n       <use x=\"381.982422\" xlink:href=\"#DejaVuSans-68\"/>\n       <use x=\"458.984375\" xlink:href=\"#DejaVuSans-101\"/>\n       <use x=\"520.507812\" xlink:href=\"#DejaVuSans-118\"/>\n       <use x=\"579.6875\" xlink:href=\"#DejaVuSans-101\"/>\n       <use x=\"641.210938\" xlink:href=\"#DejaVuSans-108\"/>\n       <use x=\"668.994141\" xlink:href=\"#DejaVuSans-111\"/>\n       <use x=\"730.175781\" xlink:href=\"#DejaVuSans-112\"/>\n       <use x=\"793.652344\" xlink:href=\"#DejaVuSans-109\"/>\n       <use x=\"891.064453\" xlink:href=\"#DejaVuSans-101\"/>\n       <use x=\"952.587891\" xlink:href=\"#DejaVuSans-110\"/>\n       <use x=\"1015.966797\" xlink:href=\"#DejaVuSans-116\"/>\n      </g>\n     </g>\n    </g>\n    <g id=\"ytick_16\">\n     <g id=\"line2d_33\">\n      <g>\n       <use style=\"stroke:#000000;stroke-width:0.8;\" x=\"166.789062\" xlink:href=\"#mc825e1814d\" y=\"214.849219\"/>\n      </g>\n     </g>\n     <g id=\"text_33\">\n      <!-- hasParkingSpace -->\n      <g transform=\"translate(74.120312 218.648438)scale(0.1 -0.1)\">\n       <use xlink:href=\"#DejaVuSans-104\"/>\n       <use x=\"63.378906\" xlink:href=\"#DejaVuSans-97\"/>\n       <use x=\"124.658203\" xlink:href=\"#DejaVuSans-115\"/>\n       <use x=\"176.757812\" xlink:href=\"#DejaVuSans-80\"/>\n       <use x=\"236.998047\" xlink:href=\"#DejaVuSans-97\"/>\n       <use x=\"298.277344\" xlink:href=\"#DejaVuSans-114\"/>\n       <use x=\"339.390625\" xlink:href=\"#DejaVuSans-107\"/>\n       <use x=\"397.300781\" xlink:href=\"#DejaVuSans-105\"/>\n       <use x=\"425.083984\" xlink:href=\"#DejaVuSans-110\"/>\n       <use x=\"488.462891\" xlink:href=\"#DejaVuSans-103\"/>\n       <use x=\"551.939453\" xlink:href=\"#DejaVuSans-83\"/>\n       <use x=\"615.416016\" xlink:href=\"#DejaVuSans-112\"/>\n       <use x=\"678.892578\" xlink:href=\"#DejaVuSans-97\"/>\n       <use x=\"740.171875\" xlink:href=\"#DejaVuSans-99\"/>\n       <use x=\"795.152344\" xlink:href=\"#DejaVuSans-101\"/>\n      </g>\n     </g>\n    </g>\n    <g id=\"ytick_17\">\n     <g id=\"line2d_34\">\n      <g>\n       <use style=\"stroke:#000000;stroke-width:0.8;\" x=\"166.789062\" xlink:href=\"#mc825e1814d\" y=\"228.439219\"/>\n      </g>\n     </g>\n     <g id=\"text_34\">\n      <!-- isParkingSpaceIncludedInPrice -->\n      <g transform=\"translate(7.2 232.238438)scale(0.1 -0.1)\">\n       <use xlink:href=\"#DejaVuSans-105\"/>\n       <use x=\"27.783203\" xlink:href=\"#DejaVuSans-115\"/>\n       <use x=\"79.882812\" xlink:href=\"#DejaVuSans-80\"/>\n       <use x=\"140.123047\" xlink:href=\"#DejaVuSans-97\"/>\n       <use x=\"201.402344\" xlink:href=\"#DejaVuSans-114\"/>\n       <use x=\"242.515625\" xlink:href=\"#DejaVuSans-107\"/>\n       <use x=\"300.425781\" xlink:href=\"#DejaVuSans-105\"/>\n       <use x=\"328.208984\" xlink:href=\"#DejaVuSans-110\"/>\n       <use x=\"391.587891\" xlink:href=\"#DejaVuSans-103\"/>\n       <use x=\"455.064453\" xlink:href=\"#DejaVuSans-83\"/>\n       <use x=\"518.541016\" xlink:href=\"#DejaVuSans-112\"/>\n       <use x=\"582.017578\" xlink:href=\"#DejaVuSans-97\"/>\n       <use x=\"643.296875\" xlink:href=\"#DejaVuSans-99\"/>\n       <use x=\"698.277344\" xlink:href=\"#DejaVuSans-101\"/>\n       <use x=\"759.800781\" xlink:href=\"#DejaVuSans-73\"/>\n       <use x=\"789.292969\" xlink:href=\"#DejaVuSans-110\"/>\n       <use x=\"852.671875\" xlink:href=\"#DejaVuSans-99\"/>\n       <use x=\"907.652344\" xlink:href=\"#DejaVuSans-108\"/>\n       <use x=\"935.435547\" xlink:href=\"#DejaVuSans-117\"/>\n       <use x=\"998.814453\" xlink:href=\"#DejaVuSans-100\"/>\n       <use x=\"1062.291016\" xlink:href=\"#DejaVuSans-101\"/>\n       <use x=\"1123.814453\" xlink:href=\"#DejaVuSans-100\"/>\n       <use x=\"1187.291016\" xlink:href=\"#DejaVuSans-73\"/>\n       <use x=\"1216.783203\" xlink:href=\"#DejaVuSans-110\"/>\n       <use x=\"1280.162109\" xlink:href=\"#DejaVuSans-80\"/>\n       <use x=\"1340.449219\" xlink:href=\"#DejaVuSans-114\"/>\n       <use x=\"1381.5625\" xlink:href=\"#DejaVuSans-105\"/>\n       <use x=\"1409.345703\" xlink:href=\"#DejaVuSans-99\"/>\n       <use x=\"1464.326172\" xlink:href=\"#DejaVuSans-101\"/>\n      </g>\n     </g>\n    </g>\n   </g>\n  </g>\n  <g id=\"axes_2\">\n   <g id=\"patch_3\">\n    <path clip-path=\"url(#p3f2d5727a0)\" d=\"M 451.369063 228.439219 \nL 451.369063 227.589844 \nL 451.369063 11.848594 \nL 451.369063 10.999219 \nL 462.241063 10.999219 \nL 462.241063 11.848594 \nL 462.241063 227.589844 \nL 462.241063 228.439219 \nz\n\" style=\"fill:#ffffff;stroke:#ffffff;stroke-linejoin:miter;stroke-width:0.01;\"/>\n   </g>\n   <image height=\"217\" id=\"image3686150e80\" transform=\"scale(1 -1)translate(0 -217)\" width=\"11\" x=\"451\" xlink:href=\"data:image/png;base64,\niVBORw0KGgoAAAANSUhEUgAAAAsAAADZCAYAAAD2WsoCAAAABHNCSVQICAgIfAhkiAAAAV1JREFUaIHt2jtuxEAMg+GRxnuJ3P+c2bRJp68goADrmiCoXxr5Adfz+nqf4fVU1VSr4gPi2x1y7liBnSswFiPXQeJ8awmNFVNnNHLDnyvwLGl3jAatAmm3FTiWZmcjRgNjzK/k5o+hw8zzK9nuHI2xVIc/hw5pQIwguh0F5jLnYjw7mtLj1wOlcUWcHFERCw1s94oYuDckhmT+lzQkxj1zdfAMGo23ZBbnHI0i57kxc4YYRoPE0O8gutvfEgOcG7bMUyJG57FWaVAHcwXCIbTMfYEGZoYYhI5o9F3B2Zxj6PpJxTi52SAxPMpggbHM6CxP5rDOLcahGCIOxoDbJjrLJwtyNjG85GlTRCyfDXM0SmgkM8ec6fMs0djSbnG+VOCKplAMO7B3fiNEGrbryDmFLjkbSwqUdudifGj8ElfFpi54uolG7g5Li/EVcg6OaI6zzAb9ZfEp8I84VeAP+V4qI1oKKCcAAAAASUVORK5CYII=\" y=\"-11\"/>\n   <g id=\"matplotlib.axis_3\"/>\n   <g id=\"matplotlib.axis_4\">\n    <g id=\"ytick_18\">\n     <g id=\"line2d_35\">\n      <defs>\n       <path d=\"M 0 0 \nL 3.5 0 \n\" id=\"m0c154f38b6\" style=\"stroke:#000000;stroke-width:0.8;\"/>\n      </defs>\n      <g>\n       <use style=\"stroke:#000000;stroke-width:0.8;\" x=\"462.241063\" xlink:href=\"#m0c154f38b6\" y=\"222.776517\"/>\n      </g>\n     </g>\n     <g id=\"text_35\">\n      <!-- −0.6 -->\n      <defs>\n       <path d=\"M 10.59375 35.5 \nL 73.1875 35.5 \nL 73.1875 27.203125 \nL 10.59375 27.203125 \nz\n\" id=\"DejaVuSans-8722\"/>\n       <path d=\"M 10.6875 12.40625 \nL 21 12.40625 \nL 21 0 \nL 10.6875 0 \nz\n\" id=\"DejaVuSans-46\"/>\n      </defs>\n      <g transform=\"translate(469.241063 226.575736)scale(0.1 -0.1)\">\n       <use xlink:href=\"#DejaVuSans-8722\"/>\n       <use x=\"83.789062\" xlink:href=\"#DejaVuSans-48\"/>\n       <use x=\"147.412109\" xlink:href=\"#DejaVuSans-46\"/>\n       <use x=\"179.199219\" xlink:href=\"#DejaVuSans-54\"/>\n      </g>\n     </g>\n    </g>\n    <g id=\"ytick_19\">\n     <g id=\"line2d_36\">\n      <g>\n       <use style=\"stroke:#000000;stroke-width:0.8;\" x=\"462.241063\" xlink:href=\"#m0c154f38b6\" y=\"183.068274\"/>\n      </g>\n     </g>\n     <g id=\"text_36\">\n      <!-- −0.3 -->\n      <g transform=\"translate(469.241063 186.867492)scale(0.1 -0.1)\">\n       <use xlink:href=\"#DejaVuSans-8722\"/>\n       <use x=\"83.789062\" xlink:href=\"#DejaVuSans-48\"/>\n       <use x=\"147.412109\" xlink:href=\"#DejaVuSans-46\"/>\n       <use x=\"179.199219\" xlink:href=\"#DejaVuSans-51\"/>\n      </g>\n     </g>\n    </g>\n    <g id=\"ytick_20\">\n     <g id=\"line2d_37\">\n      <g>\n       <use style=\"stroke:#000000;stroke-width:0.8;\" x=\"462.241063\" xlink:href=\"#m0c154f38b6\" y=\"143.36003\"/>\n      </g>\n     </g>\n     <g id=\"text_37\">\n      <!-- 0.0 -->\n      <g transform=\"translate(469.241063 147.159249)scale(0.1 -0.1)\">\n       <use xlink:href=\"#DejaVuSans-48\"/>\n       <use x=\"63.623047\" xlink:href=\"#DejaVuSans-46\"/>\n       <use x=\"95.410156\" xlink:href=\"#DejaVuSans-48\"/>\n      </g>\n     </g>\n    </g>\n    <g id=\"ytick_21\">\n     <g id=\"line2d_38\">\n      <g>\n       <use style=\"stroke:#000000;stroke-width:0.8;\" x=\"462.241063\" xlink:href=\"#m0c154f38b6\" y=\"103.651787\"/>\n      </g>\n     </g>\n     <g id=\"text_38\">\n      <!-- 0.3 -->\n      <g transform=\"translate(469.241063 107.451006)scale(0.1 -0.1)\">\n       <use xlink:href=\"#DejaVuSans-48\"/>\n       <use x=\"63.623047\" xlink:href=\"#DejaVuSans-46\"/>\n       <use x=\"95.410156\" xlink:href=\"#DejaVuSans-51\"/>\n      </g>\n     </g>\n    </g>\n    <g id=\"ytick_22\">\n     <g id=\"line2d_39\">\n      <g>\n       <use style=\"stroke:#000000;stroke-width:0.8;\" x=\"462.241063\" xlink:href=\"#m0c154f38b6\" y=\"63.943543\"/>\n      </g>\n     </g>\n     <g id=\"text_39\">\n      <!-- 0.6 -->\n      <g transform=\"translate(469.241063 67.742762)scale(0.1 -0.1)\">\n       <use xlink:href=\"#DejaVuSans-48\"/>\n       <use x=\"63.623047\" xlink:href=\"#DejaVuSans-46\"/>\n       <use x=\"95.410156\" xlink:href=\"#DejaVuSans-54\"/>\n      </g>\n     </g>\n    </g>\n    <g id=\"ytick_23\">\n     <g id=\"line2d_40\">\n      <g>\n       <use style=\"stroke:#000000;stroke-width:0.8;\" x=\"462.241063\" xlink:href=\"#m0c154f38b6\" y=\"24.2353\"/>\n      </g>\n     </g>\n     <g id=\"text_40\">\n      <!-- 0.9 -->\n      <defs>\n       <path d=\"M 10.984375 1.515625 \nL 10.984375 10.5 \nQ 14.703125 8.734375 18.5 7.8125 \nQ 22.3125 6.890625 25.984375 6.890625 \nQ 35.75 6.890625 40.890625 13.453125 \nQ 46.046875 20.015625 46.78125 33.40625 \nQ 43.953125 29.203125 39.59375 26.953125 \nQ 35.25 24.703125 29.984375 24.703125 \nQ 19.046875 24.703125 12.671875 31.3125 \nQ 6.296875 37.9375 6.296875 49.421875 \nQ 6.296875 60.640625 12.9375 67.421875 \nQ 19.578125 74.21875 30.609375 74.21875 \nQ 43.265625 74.21875 49.921875 64.515625 \nQ 56.59375 54.828125 56.59375 36.375 \nQ 56.59375 19.140625 48.40625 8.859375 \nQ 40.234375 -1.421875 26.421875 -1.421875 \nQ 22.703125 -1.421875 18.890625 -0.6875 \nQ 15.09375 0.046875 10.984375 1.515625 \nz\nM 30.609375 32.421875 \nQ 37.25 32.421875 41.125 36.953125 \nQ 45.015625 41.5 45.015625 49.421875 \nQ 45.015625 57.28125 41.125 61.84375 \nQ 37.25 66.40625 30.609375 66.40625 \nQ 23.96875 66.40625 20.09375 61.84375 \nQ 16.21875 57.28125 16.21875 49.421875 \nQ 16.21875 41.5 20.09375 36.953125 \nQ 23.96875 32.421875 30.609375 32.421875 \nz\n\" id=\"DejaVuSans-57\"/>\n      </defs>\n      <g transform=\"translate(469.241063 28.034519)scale(0.1 -0.1)\">\n       <use xlink:href=\"#DejaVuSans-48\"/>\n       <use x=\"63.623047\" xlink:href=\"#DejaVuSans-46\"/>\n       <use x=\"95.410156\" xlink:href=\"#DejaVuSans-57\"/>\n      </g>\n     </g>\n    </g>\n   </g>\n   <g id=\"patch_4\">\n    <path d=\"M 451.369063 228.439219 \nL 451.369063 227.589844 \nL 451.369063 11.848594 \nL 451.369063 10.999219 \nL 462.241063 10.999219 \nL 462.241063 11.848594 \nL 462.241063 227.589844 \nL 462.241063 228.439219 \nz\n\" style=\"fill:none;\"/>\n   </g>\n  </g>\n </g>\n <defs>\n  <clipPath id=\"p17df7edf87\">\n   <rect height=\"217.44\" width=\"267.84\" x=\"166.789062\" y=\"10.999219\"/>\n  </clipPath>\n  <clipPath id=\"p3f2d5727a0\">\n   <rect height=\"217.44\" width=\"10.872\" x=\"451.369063\" y=\"10.999219\"/>\n  </clipPath>\n </defs>\n</svg>\n",
      "image/png": "[encoded data removed]"
     },
     "metadata": {
      "needs_background": "light"
     }
    }
   ],
   "source": [
    "corr = df.corr()\n",
    "\n",
    "sns.heatmap(corr)"
   ]
  },
  {
   "cell_type": "code",
   "execution_count": 8,
   "metadata": {},
   "outputs": [
    {
     "output_type": "display_data",
     "data": {
      "text/plain": "<Figure size 432x288 with 1 Axes>",
      "image/svg+xml": "<?xml version=\"1.0\" encoding=\"utf-8\" standalone=\"no\"?>\n<!DOCTYPE svg PUBLIC \"-//W3C//DTD SVG 1.1//EN\"\n  \"http://www.w3.org/Graphics/SVG/1.1/DTD/svg11.dtd\">\n<!-- Created with matplotlib (https://matplotlib.org/) -->\n<svg height=\"263.63625pt\" version=\"1.1\" viewBox=\"0 0 409.674206 263.63625\" width=\"409.674206pt\" xmlns=\"http://www.w3.org/2000/svg\" xmlns:xlink=\"http://www.w3.org/1999/xlink\">\n <defs>\n  <style type=\"text/css\">\n*{stroke-linecap:butt;stroke-linejoin:round;}\n  </style>\n </defs>\n <g id=\"figure_1\">\n  <g id=\"patch_1\">\n   <path d=\"M 0 263.63625 \nL 409.674206 263.63625 \nL 409.674206 0 \nL 0 0 \nz\n\" style=\"fill:none;\"/>\n  </g>\n  <g id=\"axes_1\">\n   <g id=\"patch_2\">\n    <path d=\"M 61.915625 239.758125 \nL 396.715625 239.758125 \nL 396.715625 22.318125 \nL 61.915625 22.318125 \nz\n\" style=\"fill:#ffffff;\"/>\n   </g>\n   <g id=\"patch_3\">\n    <path clip-path=\"url(#p327cfd14da)\" d=\"M 119.773758 239.758125 \nL 138.030736 239.758125 \nL 138.030736 225.174624 \nL 119.773758 225.174624 \nz\n\" style=\"fill:#1f77b4;opacity:0.4;\"/>\n   </g>\n   <g id=\"patch_4\">\n    <path clip-path=\"url(#p327cfd14da)\" d=\"M 138.030736 239.758125 \nL 156.287714 239.758125 \nL 156.287714 197.465972 \nL 138.030736 197.465972 \nz\n\" style=\"fill:#1f77b4;opacity:0.4;\"/>\n   </g>\n   <g id=\"patch_5\">\n    <path clip-path=\"url(#p327cfd14da)\" d=\"M 156.287714 239.758125 \nL 174.544692 239.758125 \nL 174.544692 174.13237 \nL 156.287714 174.13237 \nz\n\" style=\"fill:#1f77b4;opacity:0.4;\"/>\n   </g>\n   <g id=\"patch_6\">\n    <path clip-path=\"url(#p327cfd14da)\" d=\"M 174.544692 239.758125 \nL 192.801669 239.758125 \nL 192.801669 127.465167 \nL 174.544692 127.465167 \nz\n\" style=\"fill:#1f77b4;opacity:0.4;\"/>\n   </g>\n   <g id=\"patch_7\">\n    <path clip-path=\"url(#p327cfd14da)\" d=\"M 192.801669 239.758125 \nL 211.058647 239.758125 \nL 211.058647 99.756515 \nL 192.801669 99.756515 \nz\n\" style=\"fill:#1f77b4;opacity:0.4;\"/>\n   </g>\n   <g id=\"patch_8\">\n    <path clip-path=\"url(#p327cfd14da)\" d=\"M 211.058647 239.758125 \nL 229.315625 239.758125 \nL 229.315625 150.798769 \nL 211.058647 150.798769 \nz\n\" style=\"fill:#1f77b4;opacity:0.4;\"/>\n   </g>\n   <g id=\"patch_9\">\n    <path clip-path=\"url(#p327cfd14da)\" d=\"M 229.315625 239.758125 \nL 247.572603 239.758125 \nL 247.572603 111.423316 \nL 229.315625 111.423316 \nz\n\" style=\"fill:#1f77b4;opacity:0.4;\"/>\n   </g>\n   <g id=\"patch_10\">\n    <path clip-path=\"url(#p327cfd14da)\" d=\"M 247.572603 239.758125 \nL 265.829581 239.758125 \nL 265.829581 99.756515 \nL 247.572603 99.756515 \nz\n\" style=\"fill:#1f77b4;opacity:0.4;\"/>\n   </g>\n   <g id=\"patch_11\">\n    <path clip-path=\"url(#p327cfd14da)\" d=\"M 265.829581 239.758125 \nL 284.086558 239.758125 \nL 284.086558 83.714664 \nL 265.829581 83.714664 \nz\n\" style=\"fill:#1f77b4;opacity:0.4;\"/>\n   </g>\n   <g id=\"patch_12\">\n    <path clip-path=\"url(#p327cfd14da)\" d=\"M 284.086558 239.758125 \nL 302.343536 239.758125 \nL 302.343536 105.589916 \nL 284.086558 105.589916 \nz\n\" style=\"fill:#1f77b4;opacity:0.4;\"/>\n   </g>\n   <g id=\"patch_13\">\n    <path clip-path=\"url(#p327cfd14da)\" d=\"M 302.343536 239.758125 \nL 320.600514 239.758125 \nL 320.600514 114.340016 \nL 302.343536 114.340016 \nz\n\" style=\"fill:#1f77b4;opacity:0.4;\"/>\n   </g>\n   <g id=\"patch_14\">\n    <path clip-path=\"url(#p327cfd14da)\" d=\"M 320.600514 239.758125 \nL 338.857492 239.758125 \nL 338.857492 32.672411 \nL 320.600514 32.672411 \nz\n\" style=\"fill:#1f77b4;opacity:0.4;\"/>\n   </g>\n   <g id=\"matplotlib.axis_1\">\n    <g id=\"xtick_1\">\n     <g id=\"line2d_1\">\n      <defs>\n       <path d=\"M 0 0 \nL 0 3.5 \n\" id=\"m6d839fdf25\" style=\"stroke:#000000;stroke-width:0.8;\"/>\n      </defs>\n      <g>\n       <use style=\"stroke:#000000;stroke-width:0.8;\" x=\"71.682207\" xlink:href=\"#m6d839fdf25\" y=\"239.758125\"/>\n      </g>\n     </g>\n     <g id=\"text_1\">\n      <!-- 50000 -->\n      <defs>\n       <path d=\"M 10.796875 72.90625 \nL 49.515625 72.90625 \nL 49.515625 64.59375 \nL 19.828125 64.59375 \nL 19.828125 46.734375 \nQ 21.96875 47.46875 24.109375 47.828125 \nQ 26.265625 48.1875 28.421875 48.1875 \nQ 40.625 48.1875 47.75 41.5 \nQ 54.890625 34.8125 54.890625 23.390625 \nQ 54.890625 11.625 47.5625 5.09375 \nQ 40.234375 -1.421875 26.90625 -1.421875 \nQ 22.3125 -1.421875 17.546875 -0.640625 \nQ 12.796875 0.140625 7.71875 1.703125 \nL 7.71875 11.625 \nQ 12.109375 9.234375 16.796875 8.0625 \nQ 21.484375 6.890625 26.703125 6.890625 \nQ 35.15625 6.890625 40.078125 11.328125 \nQ 45.015625 15.765625 45.015625 23.390625 \nQ 45.015625 31 40.078125 35.4375 \nQ 35.15625 39.890625 26.703125 39.890625 \nQ 22.75 39.890625 18.8125 39.015625 \nQ 14.890625 38.140625 10.796875 36.28125 \nz\n\" id=\"DejaVuSans-53\"/>\n       <path d=\"M 31.78125 66.40625 \nQ 24.171875 66.40625 20.328125 58.90625 \nQ 16.5 51.421875 16.5 36.375 \nQ 16.5 21.390625 20.328125 13.890625 \nQ 24.171875 6.390625 31.78125 6.390625 \nQ 39.453125 6.390625 43.28125 13.890625 \nQ 47.125 21.390625 47.125 36.375 \nQ 47.125 51.421875 43.28125 58.90625 \nQ 39.453125 66.40625 31.78125 66.40625 \nz\nM 31.78125 74.21875 \nQ 44.046875 74.21875 50.515625 64.515625 \nQ 56.984375 54.828125 56.984375 36.375 \nQ 56.984375 17.96875 50.515625 8.265625 \nQ 44.046875 -1.421875 31.78125 -1.421875 \nQ 19.53125 -1.421875 13.0625 8.265625 \nQ 6.59375 17.96875 6.59375 36.375 \nQ 6.59375 54.828125 13.0625 64.515625 \nQ 19.53125 74.21875 31.78125 74.21875 \nz\n\" id=\"DejaVuSans-48\"/>\n      </defs>\n      <g transform=\"translate(55.775957 254.356563)scale(0.1 -0.1)\">\n       <use xlink:href=\"#DejaVuSans-53\"/>\n       <use x=\"63.623047\" xlink:href=\"#DejaVuSans-48\"/>\n       <use x=\"127.246094\" xlink:href=\"#DejaVuSans-48\"/>\n       <use x=\"190.869141\" xlink:href=\"#DejaVuSans-48\"/>\n       <use x=\"254.492188\" xlink:href=\"#DejaVuSans-48\"/>\n      </g>\n     </g>\n    </g>\n    <g id=\"xtick_2\">\n     <g id=\"line2d_2\">\n      <g>\n       <use style=\"stroke:#000000;stroke-width:0.8;\" x=\"116.211421\" xlink:href=\"#m6d839fdf25\" y=\"239.758125\"/>\n      </g>\n     </g>\n     <g id=\"text_2\">\n      <!-- 100000 -->\n      <defs>\n       <path d=\"M 12.40625 8.296875 \nL 28.515625 8.296875 \nL 28.515625 63.921875 \nL 10.984375 60.40625 \nL 10.984375 69.390625 \nL 28.421875 72.90625 \nL 38.28125 72.90625 \nL 38.28125 8.296875 \nL 54.390625 8.296875 \nL 54.390625 0 \nL 12.40625 0 \nz\n\" id=\"DejaVuSans-49\"/>\n      </defs>\n      <g transform=\"translate(97.123921 254.356563)scale(0.1 -0.1)\">\n       <use xlink:href=\"#DejaVuSans-49\"/>\n       <use x=\"63.623047\" xlink:href=\"#DejaVuSans-48\"/>\n       <use x=\"127.246094\" xlink:href=\"#DejaVuSans-48\"/>\n       <use x=\"190.869141\" xlink:href=\"#DejaVuSans-48\"/>\n       <use x=\"254.492188\" xlink:href=\"#DejaVuSans-48\"/>\n       <use x=\"318.115234\" xlink:href=\"#DejaVuSans-48\"/>\n      </g>\n     </g>\n    </g>\n    <g id=\"xtick_3\">\n     <g id=\"line2d_3\">\n      <g>\n       <use style=\"stroke:#000000;stroke-width:0.8;\" x=\"160.740635\" xlink:href=\"#m6d839fdf25\" y=\"239.758125\"/>\n      </g>\n     </g>\n     <g id=\"text_3\">\n      <!-- 150000 -->\n      <g transform=\"translate(141.653135 254.356563)scale(0.1 -0.1)\">\n       <use xlink:href=\"#DejaVuSans-49\"/>\n       <use x=\"63.623047\" xlink:href=\"#DejaVuSans-53\"/>\n       <use x=\"127.246094\" xlink:href=\"#DejaVuSans-48\"/>\n       <use x=\"190.869141\" xlink:href=\"#DejaVuSans-48\"/>\n       <use x=\"254.492188\" xlink:href=\"#DejaVuSans-48\"/>\n       <use x=\"318.115234\" xlink:href=\"#DejaVuSans-48\"/>\n      </g>\n     </g>\n    </g>\n    <g id=\"xtick_4\">\n     <g id=\"line2d_4\">\n      <g>\n       <use style=\"stroke:#000000;stroke-width:0.8;\" x=\"205.269849\" xlink:href=\"#m6d839fdf25\" y=\"239.758125\"/>\n      </g>\n     </g>\n     <g id=\"text_4\">\n      <!-- 200000 -->\n      <defs>\n       <path d=\"M 19.1875 8.296875 \nL 53.609375 8.296875 \nL 53.609375 0 \nL 7.328125 0 \nL 7.328125 8.296875 \nQ 12.9375 14.109375 22.625 23.890625 \nQ 32.328125 33.6875 34.8125 36.53125 \nQ 39.546875 41.84375 41.421875 45.53125 \nQ 43.3125 49.21875 43.3125 52.78125 \nQ 43.3125 58.59375 39.234375 62.25 \nQ 35.15625 65.921875 28.609375 65.921875 \nQ 23.96875 65.921875 18.8125 64.3125 \nQ 13.671875 62.703125 7.8125 59.421875 \nL 7.8125 69.390625 \nQ 13.765625 71.78125 18.9375 73 \nQ 24.125 74.21875 28.421875 74.21875 \nQ 39.75 74.21875 46.484375 68.546875 \nQ 53.21875 62.890625 53.21875 53.421875 \nQ 53.21875 48.921875 51.53125 44.890625 \nQ 49.859375 40.875 45.40625 35.40625 \nQ 44.1875 33.984375 37.640625 27.21875 \nQ 31.109375 20.453125 19.1875 8.296875 \nz\n\" id=\"DejaVuSans-50\"/>\n      </defs>\n      <g transform=\"translate(186.182349 254.356563)scale(0.1 -0.1)\">\n       <use xlink:href=\"#DejaVuSans-50\"/>\n       <use x=\"63.623047\" xlink:href=\"#DejaVuSans-48\"/>\n       <use x=\"127.246094\" xlink:href=\"#DejaVuSans-48\"/>\n       <use x=\"190.869141\" xlink:href=\"#DejaVuSans-48\"/>\n       <use x=\"254.492188\" xlink:href=\"#DejaVuSans-48\"/>\n       <use x=\"318.115234\" xlink:href=\"#DejaVuSans-48\"/>\n      </g>\n     </g>\n    </g>\n    <g id=\"xtick_5\">\n     <g id=\"line2d_5\">\n      <g>\n       <use style=\"stroke:#000000;stroke-width:0.8;\" x=\"249.799063\" xlink:href=\"#m6d839fdf25\" y=\"239.758125\"/>\n      </g>\n     </g>\n     <g id=\"text_5\">\n      <!-- 250000 -->\n      <g transform=\"translate(230.711563 254.356563)scale(0.1 -0.1)\">\n       <use xlink:href=\"#DejaVuSans-50\"/>\n       <use x=\"63.623047\" xlink:href=\"#DejaVuSans-53\"/>\n       <use x=\"127.246094\" xlink:href=\"#DejaVuSans-48\"/>\n       <use x=\"190.869141\" xlink:href=\"#DejaVuSans-48\"/>\n       <use x=\"254.492188\" xlink:href=\"#DejaVuSans-48\"/>\n       <use x=\"318.115234\" xlink:href=\"#DejaVuSans-48\"/>\n      </g>\n     </g>\n    </g>\n    <g id=\"xtick_6\">\n     <g id=\"line2d_6\">\n      <g>\n       <use style=\"stroke:#000000;stroke-width:0.8;\" x=\"294.328278\" xlink:href=\"#m6d839fdf25\" y=\"239.758125\"/>\n      </g>\n     </g>\n     <g id=\"text_6\">\n      <!-- 300000 -->\n      <defs>\n       <path d=\"M 40.578125 39.3125 \nQ 47.65625 37.796875 51.625 33 \nQ 55.609375 28.21875 55.609375 21.1875 \nQ 55.609375 10.40625 48.1875 4.484375 \nQ 40.765625 -1.421875 27.09375 -1.421875 \nQ 22.515625 -1.421875 17.65625 -0.515625 \nQ 12.796875 0.390625 7.625 2.203125 \nL 7.625 11.71875 \nQ 11.71875 9.328125 16.59375 8.109375 \nQ 21.484375 6.890625 26.8125 6.890625 \nQ 36.078125 6.890625 40.9375 10.546875 \nQ 45.796875 14.203125 45.796875 21.1875 \nQ 45.796875 27.640625 41.28125 31.265625 \nQ 36.765625 34.90625 28.71875 34.90625 \nL 20.21875 34.90625 \nL 20.21875 43.015625 \nL 29.109375 43.015625 \nQ 36.375 43.015625 40.234375 45.921875 \nQ 44.09375 48.828125 44.09375 54.296875 \nQ 44.09375 59.90625 40.109375 62.90625 \nQ 36.140625 65.921875 28.71875 65.921875 \nQ 24.65625 65.921875 20.015625 65.03125 \nQ 15.375 64.15625 9.8125 62.3125 \nL 9.8125 71.09375 \nQ 15.4375 72.65625 20.34375 73.4375 \nQ 25.25 74.21875 29.59375 74.21875 \nQ 40.828125 74.21875 47.359375 69.109375 \nQ 53.90625 64.015625 53.90625 55.328125 \nQ 53.90625 49.265625 50.4375 45.09375 \nQ 46.96875 40.921875 40.578125 39.3125 \nz\n\" id=\"DejaVuSans-51\"/>\n      </defs>\n      <g transform=\"translate(275.240778 254.356563)scale(0.1 -0.1)\">\n       <use xlink:href=\"#DejaVuSans-51\"/>\n       <use x=\"63.623047\" xlink:href=\"#DejaVuSans-48\"/>\n       <use x=\"127.246094\" xlink:href=\"#DejaVuSans-48\"/>\n       <use x=\"190.869141\" xlink:href=\"#DejaVuSans-48\"/>\n       <use x=\"254.492188\" xlink:href=\"#DejaVuSans-48\"/>\n       <use x=\"318.115234\" xlink:href=\"#DejaVuSans-48\"/>\n      </g>\n     </g>\n    </g>\n    <g id=\"xtick_7\">\n     <g id=\"line2d_7\">\n      <g>\n       <use style=\"stroke:#000000;stroke-width:0.8;\" x=\"338.857492\" xlink:href=\"#m6d839fdf25\" y=\"239.758125\"/>\n      </g>\n     </g>\n     <g id=\"text_7\">\n      <!-- 350000 -->\n      <g transform=\"translate(319.769992 254.356563)scale(0.1 -0.1)\">\n       <use xlink:href=\"#DejaVuSans-51\"/>\n       <use x=\"63.623047\" xlink:href=\"#DejaVuSans-53\"/>\n       <use x=\"127.246094\" xlink:href=\"#DejaVuSans-48\"/>\n       <use x=\"190.869141\" xlink:href=\"#DejaVuSans-48\"/>\n       <use x=\"254.492188\" xlink:href=\"#DejaVuSans-48\"/>\n       <use x=\"318.115234\" xlink:href=\"#DejaVuSans-48\"/>\n      </g>\n     </g>\n    </g>\n    <g id=\"xtick_8\">\n     <g id=\"line2d_8\">\n      <g>\n       <use style=\"stroke:#000000;stroke-width:0.8;\" x=\"383.386706\" xlink:href=\"#m6d839fdf25\" y=\"239.758125\"/>\n      </g>\n     </g>\n     <g id=\"text_8\">\n      <!-- 400000 -->\n      <defs>\n       <path d=\"M 37.796875 64.3125 \nL 12.890625 25.390625 \nL 37.796875 25.390625 \nz\nM 35.203125 72.90625 \nL 47.609375 72.90625 \nL 47.609375 25.390625 \nL 58.015625 25.390625 \nL 58.015625 17.1875 \nL 47.609375 17.1875 \nL 47.609375 0 \nL 37.796875 0 \nL 37.796875 17.1875 \nL 4.890625 17.1875 \nL 4.890625 26.703125 \nz\n\" id=\"DejaVuSans-52\"/>\n      </defs>\n      <g transform=\"translate(364.299206 254.356563)scale(0.1 -0.1)\">\n       <use xlink:href=\"#DejaVuSans-52\"/>\n       <use x=\"63.623047\" xlink:href=\"#DejaVuSans-48\"/>\n       <use x=\"127.246094\" xlink:href=\"#DejaVuSans-48\"/>\n       <use x=\"190.869141\" xlink:href=\"#DejaVuSans-48\"/>\n       <use x=\"254.492188\" xlink:href=\"#DejaVuSans-48\"/>\n       <use x=\"318.115234\" xlink:href=\"#DejaVuSans-48\"/>\n      </g>\n     </g>\n    </g>\n   </g>\n   <g id=\"matplotlib.axis_2\">\n    <g id=\"ytick_1\">\n     <g id=\"line2d_9\">\n      <defs>\n       <path d=\"M 0 0 \nL -3.5 0 \n\" id=\"m8dbe0ee0b2\" style=\"stroke:#000000;stroke-width:0.8;\"/>\n      </defs>\n      <g>\n       <use style=\"stroke:#000000;stroke-width:0.8;\" x=\"61.915625\" xlink:href=\"#m8dbe0ee0b2\" y=\"239.758125\"/>\n      </g>\n     </g>\n     <g id=\"text_9\">\n      <!-- 0.000000 -->\n      <defs>\n       <path d=\"M 10.6875 12.40625 \nL 21 12.40625 \nL 21 0 \nL 10.6875 0 \nz\n\" id=\"DejaVuSans-46\"/>\n      </defs>\n      <g transform=\"translate(7.2 243.557344)scale(0.1 -0.1)\">\n       <use xlink:href=\"#DejaVuSans-48\"/>\n       <use x=\"63.623047\" xlink:href=\"#DejaVuSans-46\"/>\n       <use x=\"95.410156\" xlink:href=\"#DejaVuSans-48\"/>\n       <use x=\"159.033203\" xlink:href=\"#DejaVuSans-48\"/>\n       <use x=\"222.65625\" xlink:href=\"#DejaVuSans-48\"/>\n       <use x=\"286.279297\" xlink:href=\"#DejaVuSans-48\"/>\n       <use x=\"349.902344\" xlink:href=\"#DejaVuSans-48\"/>\n       <use x=\"413.525391\" xlink:href=\"#DejaVuSans-48\"/>\n      </g>\n     </g>\n    </g>\n    <g id=\"ytick_2\">\n     <g id=\"line2d_10\">\n      <g>\n       <use style=\"stroke:#000000;stroke-width:0.8;\" x=\"61.915625\" xlink:href=\"#m8dbe0ee0b2\" y=\"211.984577\"/>\n      </g>\n     </g>\n     <g id=\"text_10\">\n      <!-- 0.000001 -->\n      <g transform=\"translate(7.2 215.783795)scale(0.1 -0.1)\">\n       <use xlink:href=\"#DejaVuSans-48\"/>\n       <use x=\"63.623047\" xlink:href=\"#DejaVuSans-46\"/>\n       <use x=\"95.410156\" xlink:href=\"#DejaVuSans-48\"/>\n       <use x=\"159.033203\" xlink:href=\"#DejaVuSans-48\"/>\n       <use x=\"222.65625\" xlink:href=\"#DejaVuSans-48\"/>\n       <use x=\"286.279297\" xlink:href=\"#DejaVuSans-48\"/>\n       <use x=\"349.902344\" xlink:href=\"#DejaVuSans-48\"/>\n       <use x=\"413.525391\" xlink:href=\"#DejaVuSans-49\"/>\n      </g>\n     </g>\n    </g>\n    <g id=\"ytick_3\">\n     <g id=\"line2d_11\">\n      <g>\n       <use style=\"stroke:#000000;stroke-width:0.8;\" x=\"61.915625\" xlink:href=\"#m8dbe0ee0b2\" y=\"184.211028\"/>\n      </g>\n     </g>\n     <g id=\"text_11\">\n      <!-- 0.000002 -->\n      <g transform=\"translate(7.2 188.010247)scale(0.1 -0.1)\">\n       <use xlink:href=\"#DejaVuSans-48\"/>\n       <use x=\"63.623047\" xlink:href=\"#DejaVuSans-46\"/>\n       <use x=\"95.410156\" xlink:href=\"#DejaVuSans-48\"/>\n       <use x=\"159.033203\" xlink:href=\"#DejaVuSans-48\"/>\n       <use x=\"222.65625\" xlink:href=\"#DejaVuSans-48\"/>\n       <use x=\"286.279297\" xlink:href=\"#DejaVuSans-48\"/>\n       <use x=\"349.902344\" xlink:href=\"#DejaVuSans-48\"/>\n       <use x=\"413.525391\" xlink:href=\"#DejaVuSans-50\"/>\n      </g>\n     </g>\n    </g>\n    <g id=\"ytick_4\">\n     <g id=\"line2d_12\">\n      <g>\n       <use style=\"stroke:#000000;stroke-width:0.8;\" x=\"61.915625\" xlink:href=\"#m8dbe0ee0b2\" y=\"156.43748\"/>\n      </g>\n     </g>\n     <g id=\"text_12\">\n      <!-- 0.000003 -->\n      <g transform=\"translate(7.2 160.236698)scale(0.1 -0.1)\">\n       <use xlink:href=\"#DejaVuSans-48\"/>\n       <use x=\"63.623047\" xlink:href=\"#DejaVuSans-46\"/>\n       <use x=\"95.410156\" xlink:href=\"#DejaVuSans-48\"/>\n       <use x=\"159.033203\" xlink:href=\"#DejaVuSans-48\"/>\n       <use x=\"222.65625\" xlink:href=\"#DejaVuSans-48\"/>\n       <use x=\"286.279297\" xlink:href=\"#DejaVuSans-48\"/>\n       <use x=\"349.902344\" xlink:href=\"#DejaVuSans-48\"/>\n       <use x=\"413.525391\" xlink:href=\"#DejaVuSans-51\"/>\n      </g>\n     </g>\n    </g>\n    <g id=\"ytick_5\">\n     <g id=\"line2d_13\">\n      <g>\n       <use style=\"stroke:#000000;stroke-width:0.8;\" x=\"61.915625\" xlink:href=\"#m8dbe0ee0b2\" y=\"128.663931\"/>\n      </g>\n     </g>\n     <g id=\"text_13\">\n      <!-- 0.000004 -->\n      <g transform=\"translate(7.2 132.46315)scale(0.1 -0.1)\">\n       <use xlink:href=\"#DejaVuSans-48\"/>\n       <use x=\"63.623047\" xlink:href=\"#DejaVuSans-46\"/>\n       <use x=\"95.410156\" xlink:href=\"#DejaVuSans-48\"/>\n       <use x=\"159.033203\" xlink:href=\"#DejaVuSans-48\"/>\n       <use x=\"222.65625\" xlink:href=\"#DejaVuSans-48\"/>\n       <use x=\"286.279297\" xlink:href=\"#DejaVuSans-48\"/>\n       <use x=\"349.902344\" xlink:href=\"#DejaVuSans-48\"/>\n       <use x=\"413.525391\" xlink:href=\"#DejaVuSans-52\"/>\n      </g>\n     </g>\n    </g>\n    <g id=\"ytick_6\">\n     <g id=\"line2d_14\">\n      <g>\n       <use style=\"stroke:#000000;stroke-width:0.8;\" x=\"61.915625\" xlink:href=\"#m8dbe0ee0b2\" y=\"100.890383\"/>\n      </g>\n     </g>\n     <g id=\"text_14\">\n      <!-- 0.000005 -->\n      <g transform=\"translate(7.2 104.689601)scale(0.1 -0.1)\">\n       <use xlink:href=\"#DejaVuSans-48\"/>\n       <use x=\"63.623047\" xlink:href=\"#DejaVuSans-46\"/>\n       <use x=\"95.410156\" xlink:href=\"#DejaVuSans-48\"/>\n       <use x=\"159.033203\" xlink:href=\"#DejaVuSans-48\"/>\n       <use x=\"222.65625\" xlink:href=\"#DejaVuSans-48\"/>\n       <use x=\"286.279297\" xlink:href=\"#DejaVuSans-48\"/>\n       <use x=\"349.902344\" xlink:href=\"#DejaVuSans-48\"/>\n       <use x=\"413.525391\" xlink:href=\"#DejaVuSans-53\"/>\n      </g>\n     </g>\n    </g>\n    <g id=\"ytick_7\">\n     <g id=\"line2d_15\">\n      <g>\n       <use style=\"stroke:#000000;stroke-width:0.8;\" x=\"61.915625\" xlink:href=\"#m8dbe0ee0b2\" y=\"73.116834\"/>\n      </g>\n     </g>\n     <g id=\"text_15\">\n      <!-- 0.000006 -->\n      <defs>\n       <path d=\"M 33.015625 40.375 \nQ 26.375 40.375 22.484375 35.828125 \nQ 18.609375 31.296875 18.609375 23.390625 \nQ 18.609375 15.53125 22.484375 10.953125 \nQ 26.375 6.390625 33.015625 6.390625 \nQ 39.65625 6.390625 43.53125 10.953125 \nQ 47.40625 15.53125 47.40625 23.390625 \nQ 47.40625 31.296875 43.53125 35.828125 \nQ 39.65625 40.375 33.015625 40.375 \nz\nM 52.59375 71.296875 \nL 52.59375 62.3125 \nQ 48.875 64.0625 45.09375 64.984375 \nQ 41.3125 65.921875 37.59375 65.921875 \nQ 27.828125 65.921875 22.671875 59.328125 \nQ 17.53125 52.734375 16.796875 39.40625 \nQ 19.671875 43.65625 24.015625 45.921875 \nQ 28.375 48.1875 33.59375 48.1875 \nQ 44.578125 48.1875 50.953125 41.515625 \nQ 57.328125 34.859375 57.328125 23.390625 \nQ 57.328125 12.15625 50.6875 5.359375 \nQ 44.046875 -1.421875 33.015625 -1.421875 \nQ 20.359375 -1.421875 13.671875 8.265625 \nQ 6.984375 17.96875 6.984375 36.375 \nQ 6.984375 53.65625 15.1875 63.9375 \nQ 23.390625 74.21875 37.203125 74.21875 \nQ 40.921875 74.21875 44.703125 73.484375 \nQ 48.484375 72.75 52.59375 71.296875 \nz\n\" id=\"DejaVuSans-54\"/>\n      </defs>\n      <g transform=\"translate(7.2 76.916053)scale(0.1 -0.1)\">\n       <use xlink:href=\"#DejaVuSans-48\"/>\n       <use x=\"63.623047\" xlink:href=\"#DejaVuSans-46\"/>\n       <use x=\"95.410156\" xlink:href=\"#DejaVuSans-48\"/>\n       <use x=\"159.033203\" xlink:href=\"#DejaVuSans-48\"/>\n       <use x=\"222.65625\" xlink:href=\"#DejaVuSans-48\"/>\n       <use x=\"286.279297\" xlink:href=\"#DejaVuSans-48\"/>\n       <use x=\"349.902344\" xlink:href=\"#DejaVuSans-48\"/>\n       <use x=\"413.525391\" xlink:href=\"#DejaVuSans-54\"/>\n      </g>\n     </g>\n    </g>\n    <g id=\"ytick_8\">\n     <g id=\"line2d_16\">\n      <g>\n       <use style=\"stroke:#000000;stroke-width:0.8;\" x=\"61.915625\" xlink:href=\"#m8dbe0ee0b2\" y=\"45.343286\"/>\n      </g>\n     </g>\n     <g id=\"text_16\">\n      <!-- 0.000007 -->\n      <defs>\n       <path d=\"M 8.203125 72.90625 \nL 55.078125 72.90625 \nL 55.078125 68.703125 \nL 28.609375 0 \nL 18.3125 0 \nL 43.21875 64.59375 \nL 8.203125 64.59375 \nz\n\" id=\"DejaVuSans-55\"/>\n      </defs>\n      <g transform=\"translate(7.2 49.142504)scale(0.1 -0.1)\">\n       <use xlink:href=\"#DejaVuSans-48\"/>\n       <use x=\"63.623047\" xlink:href=\"#DejaVuSans-46\"/>\n       <use x=\"95.410156\" xlink:href=\"#DejaVuSans-48\"/>\n       <use x=\"159.033203\" xlink:href=\"#DejaVuSans-48\"/>\n       <use x=\"222.65625\" xlink:href=\"#DejaVuSans-48\"/>\n       <use x=\"286.279297\" xlink:href=\"#DejaVuSans-48\"/>\n       <use x=\"349.902344\" xlink:href=\"#DejaVuSans-48\"/>\n       <use x=\"413.525391\" xlink:href=\"#DejaVuSans-55\"/>\n      </g>\n     </g>\n    </g>\n   </g>\n   <g id=\"line2d_17\">\n    <path clip-path=\"url(#p327cfd14da)\" d=\"M 77.133807 239.729707 \nL 80.208187 239.702404 \nL 83.282567 239.653407 \nL 86.356947 239.569368 \nL 89.431327 239.431533 \nL 92.505708 239.215199 \nL 95.580088 238.889965 \nL 98.654468 238.42103 \nL 101.728848 237.771555 \nL 104.803228 236.90579 \nL 107.877608 235.7924 \nL 110.951989 234.407301 \nL 114.026369 232.73553 \nL 117.100749 230.772042 \nL 120.175129 228.521758 \nL 123.249509 225.999348 \nL 126.323889 223.228957 \nL 129.39827 220.243491 \nL 132.47265 217.08249 \nL 135.54703 213.787594 \nL 138.62141 210.395312 \nL 141.69579 206.928173 \nL 144.77017 203.38664 \nL 147.844551 199.744656 \nL 150.918931 195.9509 \nL 153.993311 191.935871 \nL 157.067691 187.622932 \nL 160.142071 182.940222 \nL 163.216451 177.830881 \nL 166.290832 172.260847 \nL 169.365212 166.225602 \nL 172.439592 159.758162 \nL 175.513972 152.939627 \nL 178.588352 145.91085 \nL 181.662732 138.880689 \nL 184.737113 132.124544 \nL 187.811493 125.967734 \nL 190.885873 120.751755 \nL 193.960253 116.786645 \nL 197.034633 114.297625 \nL 200.109013 113.377239 \nL 203.183394 113.954345 \nL 206.257774 115.788335 \nL 209.332154 118.491846 \nL 212.406534 121.579164 \nL 215.480914 124.532157 \nL 218.555294 126.871961 \nL 221.629675 128.22349 \nL 224.704055 128.361286 \nL 227.778435 127.22897 \nL 230.852815 124.92985 \nL 233.927195 121.692261 \nL 237.001575 117.818559 \nL 240.075956 113.629922 \nL 243.150336 109.419207 \nL 246.224716 105.420658 \nL 249.299096 101.799537 \nL 252.373476 98.65853 \nL 255.447856 96.05364 \nL 258.522237 94.011349 \nL 261.596617 92.541189 \nL 264.670997 91.641849 \nL 267.745377 91.302503 \nL 270.819757 91.502488 \nL 273.894137 92.211501 \nL 276.968518 93.390069 \nL 280.042898 94.988003 \nL 283.117278 96.938427 \nL 286.191658 99.147259 \nL 289.266038 101.481799 \nL 292.340418 103.765206 \nL 295.414799 105.784165 \nL 298.489179 107.31392 \nL 301.563559 108.15909 \nL 304.637939 108.202562 \nL 307.712319 107.451067 \nL 310.786699 106.066 \nL 313.86108 104.371305 \nL 316.93546 102.834934 \nL 320.00984 102.024569 \nL 323.08422 102.54146 \nL 326.1586 104.938851 \nL 329.23298 109.634843 \nL 332.307361 116.833373 \nL 335.381741 126.469797 \nL 338.456121 138.196526 \nL 341.530501 151.417648 \nL 344.604881 165.370017 \nL 347.679261 179.235568 \nL 350.753642 192.260323 \nL 353.828022 203.853713 \nL 356.902402 213.648176 \nL 359.976782 221.511102 \nL 363.051162 227.514315 \nL 366.125542 231.875926 \nL 369.199923 234.892932 \nL 372.274303 236.880521 \nL 375.348683 238.127964 \nL 378.423063 238.873992 \nL 381.497443 239.299206 \n\" style=\"fill:none;stroke:#1f77b4;stroke-linecap:square;stroke-width:1.5;\"/>\n   </g>\n   <g id=\"patch_15\">\n    <path d=\"M 61.915625 239.758125 \nL 61.915625 22.318125 \n\" style=\"fill:none;stroke:#000000;stroke-linecap:square;stroke-linejoin:miter;stroke-width:0.8;\"/>\n   </g>\n   <g id=\"patch_16\">\n    <path d=\"M 396.715625 239.758125 \nL 396.715625 22.318125 \n\" style=\"fill:none;stroke:#000000;stroke-linecap:square;stroke-linejoin:miter;stroke-width:0.8;\"/>\n   </g>\n   <g id=\"patch_17\">\n    <path d=\"M 61.915625 239.758125 \nL 396.715625 239.758125 \n\" style=\"fill:none;stroke:#000000;stroke-linecap:square;stroke-linejoin:miter;stroke-width:0.8;\"/>\n   </g>\n   <g id=\"patch_18\">\n    <path d=\"M 61.915625 22.318125 \nL 396.715625 22.318125 \n\" style=\"fill:none;stroke:#000000;stroke-linecap:square;stroke-linejoin:miter;stroke-width:0.8;\"/>\n   </g>\n   <g id=\"text_17\">\n    <!-- price -->\n    <defs>\n     <path d=\"M 18.109375 8.203125 \nL 18.109375 -20.796875 \nL 9.078125 -20.796875 \nL 9.078125 54.6875 \nL 18.109375 54.6875 \nL 18.109375 46.390625 \nQ 20.953125 51.265625 25.265625 53.625 \nQ 29.59375 56 35.59375 56 \nQ 45.5625 56 51.78125 48.09375 \nQ 58.015625 40.1875 58.015625 27.296875 \nQ 58.015625 14.40625 51.78125 6.484375 \nQ 45.5625 -1.421875 35.59375 -1.421875 \nQ 29.59375 -1.421875 25.265625 0.953125 \nQ 20.953125 3.328125 18.109375 8.203125 \nz\nM 48.6875 27.296875 \nQ 48.6875 37.203125 44.609375 42.84375 \nQ 40.53125 48.484375 33.40625 48.484375 \nQ 26.265625 48.484375 22.1875 42.84375 \nQ 18.109375 37.203125 18.109375 27.296875 \nQ 18.109375 17.390625 22.1875 11.75 \nQ 26.265625 6.109375 33.40625 6.109375 \nQ 40.53125 6.109375 44.609375 11.75 \nQ 48.6875 17.390625 48.6875 27.296875 \nz\n\" id=\"DejaVuSans-112\"/>\n     <path d=\"M 41.109375 46.296875 \nQ 39.59375 47.171875 37.8125 47.578125 \nQ 36.03125 48 33.890625 48 \nQ 26.265625 48 22.1875 43.046875 \nQ 18.109375 38.09375 18.109375 28.8125 \nL 18.109375 0 \nL 9.078125 0 \nL 9.078125 54.6875 \nL 18.109375 54.6875 \nL 18.109375 46.1875 \nQ 20.953125 51.171875 25.484375 53.578125 \nQ 30.03125 56 36.53125 56 \nQ 37.453125 56 38.578125 55.875 \nQ 39.703125 55.765625 41.0625 55.515625 \nz\n\" id=\"DejaVuSans-114\"/>\n     <path d=\"M 9.421875 54.6875 \nL 18.40625 54.6875 \nL 18.40625 0 \nL 9.421875 0 \nz\nM 9.421875 75.984375 \nL 18.40625 75.984375 \nL 18.40625 64.59375 \nL 9.421875 64.59375 \nz\n\" id=\"DejaVuSans-105\"/>\n     <path d=\"M 48.78125 52.59375 \nL 48.78125 44.1875 \nQ 44.96875 46.296875 41.140625 47.34375 \nQ 37.3125 48.390625 33.40625 48.390625 \nQ 24.65625 48.390625 19.8125 42.84375 \nQ 14.984375 37.3125 14.984375 27.296875 \nQ 14.984375 17.28125 19.8125 11.734375 \nQ 24.65625 6.203125 33.40625 6.203125 \nQ 37.3125 6.203125 41.140625 7.25 \nQ 44.96875 8.296875 48.78125 10.40625 \nL 48.78125 2.09375 \nQ 45.015625 0.34375 40.984375 -0.53125 \nQ 36.96875 -1.421875 32.421875 -1.421875 \nQ 20.0625 -1.421875 12.78125 6.34375 \nQ 5.515625 14.109375 5.515625 27.296875 \nQ 5.515625 40.671875 12.859375 48.328125 \nQ 20.21875 56 33.015625 56 \nQ 37.15625 56 41.109375 55.140625 \nQ 45.0625 54.296875 48.78125 52.59375 \nz\n\" id=\"DejaVuSans-99\"/>\n     <path d=\"M 56.203125 29.59375 \nL 56.203125 25.203125 \nL 14.890625 25.203125 \nQ 15.484375 15.921875 20.484375 11.0625 \nQ 25.484375 6.203125 34.421875 6.203125 \nQ 39.59375 6.203125 44.453125 7.46875 \nQ 49.3125 8.734375 54.109375 11.28125 \nL 54.109375 2.78125 \nQ 49.265625 0.734375 44.1875 -0.34375 \nQ 39.109375 -1.421875 33.890625 -1.421875 \nQ 20.796875 -1.421875 13.15625 6.1875 \nQ 5.515625 13.8125 5.515625 26.8125 \nQ 5.515625 40.234375 12.765625 48.109375 \nQ 20.015625 56 32.328125 56 \nQ 43.359375 56 49.78125 48.890625 \nQ 56.203125 41.796875 56.203125 29.59375 \nz\nM 47.21875 32.234375 \nQ 47.125 39.59375 43.09375 43.984375 \nQ 39.0625 48.390625 32.421875 48.390625 \nQ 24.90625 48.390625 20.390625 44.140625 \nQ 15.875 39.890625 15.1875 32.171875 \nz\n\" id=\"DejaVuSans-101\"/>\n    </defs>\n    <g transform=\"translate(214.382187 16.318125)scale(0.12 -0.12)\">\n     <use xlink:href=\"#DejaVuSans-112\"/>\n     <use x=\"63.476562\" xlink:href=\"#DejaVuSans-114\"/>\n     <use x=\"104.589844\" xlink:href=\"#DejaVuSans-105\"/>\n     <use x=\"132.373047\" xlink:href=\"#DejaVuSans-99\"/>\n     <use x=\"187.353516\" xlink:href=\"#DejaVuSans-101\"/>\n    </g>\n   </g>\n  </g>\n </g>\n <defs>\n  <clipPath id=\"p327cfd14da\">\n   <rect height=\"217.44\" width=\"334.8\" x=\"61.915625\" y=\"22.318125\"/>\n  </clipPath>\n </defs>\n</svg>\n",
      "image/png": "[encoded data removed]"
     },
     "metadata": {
      "needs_background": "light"
     }
    },
    {
     "output_type": "display_data",
     "data": {
      "text/plain": "<Figure size 432x288 with 1 Axes>",
      "image/svg+xml": "<?xml version=\"1.0\" encoding=\"utf-8\" standalone=\"no\"?>\n<!DOCTYPE svg PUBLIC \"-//W3C//DTD SVG 1.1//EN\"\n  \"http://www.w3.org/Graphics/SVG/1.1/DTD/svg11.dtd\">\n<!-- Created with matplotlib (https://matplotlib.org/) -->\n<svg height=\"263.63625pt\" version=\"1.1\" viewBox=\"0 0 397.553125 263.63625\" width=\"397.553125pt\" xmlns=\"http://www.w3.org/2000/svg\" xmlns:xlink=\"http://www.w3.org/1999/xlink\">\n <defs>\n  <style type=\"text/css\">\n*{stroke-linecap:butt;stroke-linejoin:round;}\n  </style>\n </defs>\n <g id=\"figure_1\">\n  <g id=\"patch_1\">\n   <path d=\"M 0 263.63625 \nL 397.553125 263.63625 \nL 397.553125 0 \nL 0 0 \nz\n\" style=\"fill:none;\"/>\n  </g>\n  <g id=\"axes_1\">\n   <g id=\"patch_2\">\n    <path d=\"M 55.553125 239.758125 \nL 390.353125 239.758125 \nL 390.353125 22.318125 \nL 55.553125 22.318125 \nz\n\" style=\"fill:#ffffff;\"/>\n   </g>\n   <g id=\"patch_3\">\n    <path clip-path=\"url(#ped10dcb87a)\" d=\"M 98.399155 239.758125 \nL 107.625375 239.758125 \nL 107.625375 237.822744 \nL 98.399155 237.822744 \nz\n\" style=\"fill:#1f77b4;opacity:0.4;\"/>\n   </g>\n   <g id=\"patch_4\">\n    <path clip-path=\"url(#ped10dcb87a)\" d=\"M 107.625375 239.758125 \nL 116.851595 239.758125 \nL 116.851595 232.016603 \nL 107.625375 232.016603 \nz\n\" style=\"fill:#1f77b4;opacity:0.4;\"/>\n   </g>\n   <g id=\"patch_5\">\n    <path clip-path=\"url(#ped10dcb87a)\" d=\"M 116.851595 239.758125 \nL 126.077815 239.758125 \nL 126.077815 233.951983 \nL 116.851595 233.951983 \nz\n\" style=\"fill:#1f77b4;opacity:0.4;\"/>\n   </g>\n   <g id=\"patch_6\">\n    <path clip-path=\"url(#ped10dcb87a)\" d=\"M 126.077815 239.758125 \nL 135.304035 239.758125 \nL 135.304035 197.179754 \nL 126.077815 197.179754 \nz\n\" style=\"fill:#1f77b4;opacity:0.4;\"/>\n   </g>\n   <g id=\"patch_7\">\n    <path clip-path=\"url(#ped10dcb87a)\" d=\"M 135.304035 239.758125 \nL 144.530255 239.758125 \nL 144.530255 201.050515 \nL 135.304035 201.050515 \nz\n\" style=\"fill:#1f77b4;opacity:0.4;\"/>\n   </g>\n   <g id=\"patch_8\">\n    <path clip-path=\"url(#ped10dcb87a)\" d=\"M 144.530255 239.758125 \nL 153.756475 239.758125 \nL 153.756475 141.053719 \nL 144.530255 141.053719 \nz\n\" style=\"fill:#1f77b4;opacity:0.4;\"/>\n   </g>\n   <g id=\"patch_9\">\n    <path clip-path=\"url(#ped10dcb87a)\" d=\"M 153.756475 239.758125 \nL 162.982695 239.758125 \nL 162.982695 113.958392 \nL 153.756475 113.958392 \nz\n\" style=\"fill:#1f77b4;opacity:0.4;\"/>\n   </g>\n   <g id=\"patch_10\">\n    <path clip-path=\"url(#ped10dcb87a)\" d=\"M 162.982695 239.758125 \nL 172.208915 239.758125 \nL 172.208915 46.220074 \nL 162.982695 46.220074 \nz\n\" style=\"fill:#1f77b4;opacity:0.4;\"/>\n   </g>\n   <g id=\"patch_11\">\n    <path clip-path=\"url(#ped10dcb87a)\" d=\"M 172.208915 239.758125 \nL 181.435135 239.758125 \nL 181.435135 88.798445 \nL 172.208915 88.798445 \nz\n\" style=\"fill:#1f77b4;opacity:0.4;\"/>\n   </g>\n   <g id=\"patch_12\">\n    <path clip-path=\"url(#ped10dcb87a)\" d=\"M 181.435135 239.758125 \nL 190.661355 239.758125 \nL 190.661355 53.961596 \nL 181.435135 53.961596 \nz\n\" style=\"fill:#1f77b4;opacity:0.4;\"/>\n   </g>\n   <g id=\"patch_13\">\n    <path clip-path=\"url(#ped10dcb87a)\" d=\"M 190.661355 239.758125 \nL 199.887575 239.758125 \nL 199.887575 32.672411 \nL 190.661355 32.672411 \nz\n\" style=\"fill:#1f77b4;opacity:0.4;\"/>\n   </g>\n   <g id=\"patch_14\">\n    <path clip-path=\"url(#ped10dcb87a)\" d=\"M 199.887575 239.758125 \nL 209.113795 239.758125 \nL 209.113795 55.896977 \nL 199.887575 55.896977 \nz\n\" style=\"fill:#1f77b4;opacity:0.4;\"/>\n   </g>\n   <g id=\"patch_15\">\n    <path clip-path=\"url(#ped10dcb87a)\" d=\"M 209.113795 239.758125 \nL 218.340015 239.758125 \nL 218.340015 88.798445 \nL 209.113795 88.798445 \nz\n\" style=\"fill:#1f77b4;opacity:0.4;\"/>\n   </g>\n   <g id=\"patch_16\">\n    <path clip-path=\"url(#ped10dcb87a)\" d=\"M 218.340015 239.758125 \nL 227.566235 239.758125 \nL 227.566235 154.601383 \nL 218.340015 154.601383 \nz\n\" style=\"fill:#1f77b4;opacity:0.4;\"/>\n   </g>\n   <g id=\"patch_17\">\n    <path clip-path=\"url(#ped10dcb87a)\" d=\"M 227.566235 239.758125 \nL 236.792455 239.758125 \nL 236.792455 142.9891 \nL 227.566235 142.9891 \nz\n\" style=\"fill:#1f77b4;opacity:0.4;\"/>\n   </g>\n   <g id=\"patch_18\">\n    <path clip-path=\"url(#ped10dcb87a)\" d=\"M 236.792455 239.758125 \nL 246.018675 239.758125 \nL 246.018675 181.69671 \nL 236.792455 181.69671 \nz\n\" style=\"fill:#1f77b4;opacity:0.4;\"/>\n   </g>\n   <g id=\"patch_19\">\n    <path clip-path=\"url(#ped10dcb87a)\" d=\"M 246.018675 239.758125 \nL 255.244895 239.758125 \nL 255.244895 193.308993 \nL 246.018675 193.308993 \nz\n\" style=\"fill:#1f77b4;opacity:0.4;\"/>\n   </g>\n   <g id=\"patch_20\">\n    <path clip-path=\"url(#ped10dcb87a)\" d=\"M 255.244895 239.758125 \nL 264.471115 239.758125 \nL 264.471115 202.985895 \nL 255.244895 202.985895 \nz\n\" style=\"fill:#1f77b4;opacity:0.4;\"/>\n   </g>\n   <g id=\"patch_21\">\n    <path clip-path=\"url(#ped10dcb87a)\" d=\"M 264.471115 239.758125 \nL 273.697335 239.758125 \nL 273.697335 214.598178 \nL 264.471115 214.598178 \nz\n\" style=\"fill:#1f77b4;opacity:0.4;\"/>\n   </g>\n   <g id=\"patch_22\">\n    <path clip-path=\"url(#ped10dcb87a)\" d=\"M 273.697335 239.758125 \nL 282.923555 239.758125 \nL 282.923555 212.662798 \nL 273.697335 212.662798 \nz\n\" style=\"fill:#1f77b4;opacity:0.4;\"/>\n   </g>\n   <g id=\"patch_23\">\n    <path clip-path=\"url(#ped10dcb87a)\" d=\"M 282.923555 239.758125 \nL 292.149775 239.758125 \nL 292.149775 228.145842 \nL 282.923555 228.145842 \nz\n\" style=\"fill:#1f77b4;opacity:0.4;\"/>\n   </g>\n   <g id=\"patch_24\">\n    <path clip-path=\"url(#ped10dcb87a)\" d=\"M 292.149775 239.758125 \nL 301.375995 239.758125 \nL 301.375995 233.951983 \nL 292.149775 233.951983 \nz\n\" style=\"fill:#1f77b4;opacity:0.4;\"/>\n   </g>\n   <g id=\"patch_25\">\n    <path clip-path=\"url(#ped10dcb87a)\" d=\"M 301.375995 239.758125 \nL 310.602215 239.758125 \nL 310.602215 235.887364 \nL 301.375995 235.887364 \nz\n\" style=\"fill:#1f77b4;opacity:0.4;\"/>\n   </g>\n   <g id=\"patch_26\">\n    <path clip-path=\"url(#ped10dcb87a)\" d=\"M 310.602215 239.758125 \nL 319.828435 239.758125 \nL 319.828435 237.822744 \nL 310.602215 237.822744 \nz\n\" style=\"fill:#1f77b4;opacity:0.4;\"/>\n   </g>\n   <g id=\"patch_27\">\n    <path clip-path=\"url(#ped10dcb87a)\" d=\"M 319.828435 239.758125 \nL 329.054655 239.758125 \nL 329.054655 235.887364 \nL 319.828435 235.887364 \nz\n\" style=\"fill:#1f77b4;opacity:0.4;\"/>\n   </g>\n   <g id=\"patch_28\">\n    <path clip-path=\"url(#ped10dcb87a)\" d=\"M 329.054655 239.758125 \nL 338.280875 239.758125 \nL 338.280875 239.758125 \nL 329.054655 239.758125 \nz\n\" style=\"fill:#1f77b4;opacity:0.4;\"/>\n   </g>\n   <g id=\"patch_29\">\n    <path clip-path=\"url(#ped10dcb87a)\" d=\"M 338.280875 239.758125 \nL 347.507095 239.758125 \nL 347.507095 237.822744 \nL 338.280875 237.822744 \nz\n\" style=\"fill:#1f77b4;opacity:0.4;\"/>\n   </g>\n   <g id=\"matplotlib.axis_1\">\n    <g id=\"xtick_1\">\n     <g id=\"line2d_1\">\n      <defs>\n       <path d=\"M 0 0 \nL 0 3.5 \n\" id=\"md90106a94c\" style=\"stroke:#000000;stroke-width:0.8;\"/>\n      </defs>\n      <g>\n       <use style=\"stroke:#000000;stroke-width:0.8;\" x=\"61.697345\" xlink:href=\"#md90106a94c\" y=\"239.758125\"/>\n      </g>\n     </g>\n     <g id=\"text_1\">\n      <!-- 0 -->\n      <defs>\n       <path d=\"M 31.78125 66.40625 \nQ 24.171875 66.40625 20.328125 58.90625 \nQ 16.5 51.421875 16.5 36.375 \nQ 16.5 21.390625 20.328125 13.890625 \nQ 24.171875 6.390625 31.78125 6.390625 \nQ 39.453125 6.390625 43.28125 13.890625 \nQ 47.125 21.390625 47.125 36.375 \nQ 47.125 51.421875 43.28125 58.90625 \nQ 39.453125 66.40625 31.78125 66.40625 \nz\nM 31.78125 74.21875 \nQ 44.046875 74.21875 50.515625 64.515625 \nQ 56.984375 54.828125 56.984375 36.375 \nQ 56.984375 17.96875 50.515625 8.265625 \nQ 44.046875 -1.421875 31.78125 -1.421875 \nQ 19.53125 -1.421875 13.0625 8.265625 \nQ 6.59375 17.96875 6.59375 36.375 \nQ 6.59375 54.828125 13.0625 64.515625 \nQ 19.53125 74.21875 31.78125 74.21875 \nz\n\" id=\"DejaVuSans-48\"/>\n      </defs>\n      <g transform=\"translate(58.516095 254.356563)scale(0.1 -0.1)\">\n       <use xlink:href=\"#DejaVuSans-48\"/>\n      </g>\n     </g>\n    </g>\n    <g id=\"xtick_2\">\n     <g id=\"line2d_2\">\n      <g>\n       <use style=\"stroke:#000000;stroke-width:0.8;\" x=\"117.645226\" xlink:href=\"#md90106a94c\" y=\"239.758125\"/>\n      </g>\n     </g>\n     <g id=\"text_2\">\n      <!-- 2000 -->\n      <defs>\n       <path d=\"M 19.1875 8.296875 \nL 53.609375 8.296875 \nL 53.609375 0 \nL 7.328125 0 \nL 7.328125 8.296875 \nQ 12.9375 14.109375 22.625 23.890625 \nQ 32.328125 33.6875 34.8125 36.53125 \nQ 39.546875 41.84375 41.421875 45.53125 \nQ 43.3125 49.21875 43.3125 52.78125 \nQ 43.3125 58.59375 39.234375 62.25 \nQ 35.15625 65.921875 28.609375 65.921875 \nQ 23.96875 65.921875 18.8125 64.3125 \nQ 13.671875 62.703125 7.8125 59.421875 \nL 7.8125 69.390625 \nQ 13.765625 71.78125 18.9375 73 \nQ 24.125 74.21875 28.421875 74.21875 \nQ 39.75 74.21875 46.484375 68.546875 \nQ 53.21875 62.890625 53.21875 53.421875 \nQ 53.21875 48.921875 51.53125 44.890625 \nQ 49.859375 40.875 45.40625 35.40625 \nQ 44.1875 33.984375 37.640625 27.21875 \nQ 31.109375 20.453125 19.1875 8.296875 \nz\n\" id=\"DejaVuSans-50\"/>\n      </defs>\n      <g transform=\"translate(104.920226 254.356563)scale(0.1 -0.1)\">\n       <use xlink:href=\"#DejaVuSans-50\"/>\n       <use x=\"63.623047\" xlink:href=\"#DejaVuSans-48\"/>\n       <use x=\"127.246094\" xlink:href=\"#DejaVuSans-48\"/>\n       <use x=\"190.869141\" xlink:href=\"#DejaVuSans-48\"/>\n      </g>\n     </g>\n    </g>\n    <g id=\"xtick_3\">\n     <g id=\"line2d_3\">\n      <g>\n       <use style=\"stroke:#000000;stroke-width:0.8;\" x=\"173.593107\" xlink:href=\"#md90106a94c\" y=\"239.758125\"/>\n      </g>\n     </g>\n     <g id=\"text_3\">\n      <!-- 4000 -->\n      <defs>\n       <path d=\"M 37.796875 64.3125 \nL 12.890625 25.390625 \nL 37.796875 25.390625 \nz\nM 35.203125 72.90625 \nL 47.609375 72.90625 \nL 47.609375 25.390625 \nL 58.015625 25.390625 \nL 58.015625 17.1875 \nL 47.609375 17.1875 \nL 47.609375 0 \nL 37.796875 0 \nL 37.796875 17.1875 \nL 4.890625 17.1875 \nL 4.890625 26.703125 \nz\n\" id=\"DejaVuSans-52\"/>\n      </defs>\n      <g transform=\"translate(160.868107 254.356563)scale(0.1 -0.1)\">\n       <use xlink:href=\"#DejaVuSans-52\"/>\n       <use x=\"63.623047\" xlink:href=\"#DejaVuSans-48\"/>\n       <use x=\"127.246094\" xlink:href=\"#DejaVuSans-48\"/>\n       <use x=\"190.869141\" xlink:href=\"#DejaVuSans-48\"/>\n      </g>\n     </g>\n    </g>\n    <g id=\"xtick_4\">\n     <g id=\"line2d_4\">\n      <g>\n       <use style=\"stroke:#000000;stroke-width:0.8;\" x=\"229.540988\" xlink:href=\"#md90106a94c\" y=\"239.758125\"/>\n      </g>\n     </g>\n     <g id=\"text_4\">\n      <!-- 6000 -->\n      <defs>\n       <path d=\"M 33.015625 40.375 \nQ 26.375 40.375 22.484375 35.828125 \nQ 18.609375 31.296875 18.609375 23.390625 \nQ 18.609375 15.53125 22.484375 10.953125 \nQ 26.375 6.390625 33.015625 6.390625 \nQ 39.65625 6.390625 43.53125 10.953125 \nQ 47.40625 15.53125 47.40625 23.390625 \nQ 47.40625 31.296875 43.53125 35.828125 \nQ 39.65625 40.375 33.015625 40.375 \nz\nM 52.59375 71.296875 \nL 52.59375 62.3125 \nQ 48.875 64.0625 45.09375 64.984375 \nQ 41.3125 65.921875 37.59375 65.921875 \nQ 27.828125 65.921875 22.671875 59.328125 \nQ 17.53125 52.734375 16.796875 39.40625 \nQ 19.671875 43.65625 24.015625 45.921875 \nQ 28.375 48.1875 33.59375 48.1875 \nQ 44.578125 48.1875 50.953125 41.515625 \nQ 57.328125 34.859375 57.328125 23.390625 \nQ 57.328125 12.15625 50.6875 5.359375 \nQ 44.046875 -1.421875 33.015625 -1.421875 \nQ 20.359375 -1.421875 13.671875 8.265625 \nQ 6.984375 17.96875 6.984375 36.375 \nQ 6.984375 53.65625 15.1875 63.9375 \nQ 23.390625 74.21875 37.203125 74.21875 \nQ 40.921875 74.21875 44.703125 73.484375 \nQ 48.484375 72.75 52.59375 71.296875 \nz\n\" id=\"DejaVuSans-54\"/>\n      </defs>\n      <g transform=\"translate(216.815988 254.356563)scale(0.1 -0.1)\">\n       <use xlink:href=\"#DejaVuSans-54\"/>\n       <use x=\"63.623047\" xlink:href=\"#DejaVuSans-48\"/>\n       <use x=\"127.246094\" xlink:href=\"#DejaVuSans-48\"/>\n       <use x=\"190.869141\" xlink:href=\"#DejaVuSans-48\"/>\n      </g>\n     </g>\n    </g>\n    <g id=\"xtick_5\">\n     <g id=\"line2d_5\">\n      <g>\n       <use style=\"stroke:#000000;stroke-width:0.8;\" x=\"285.488869\" xlink:href=\"#md90106a94c\" y=\"239.758125\"/>\n      </g>\n     </g>\n     <g id=\"text_5\">\n      <!-- 8000 -->\n      <defs>\n       <path d=\"M 31.78125 34.625 \nQ 24.75 34.625 20.71875 30.859375 \nQ 16.703125 27.09375 16.703125 20.515625 \nQ 16.703125 13.921875 20.71875 10.15625 \nQ 24.75 6.390625 31.78125 6.390625 \nQ 38.8125 6.390625 42.859375 10.171875 \nQ 46.921875 13.96875 46.921875 20.515625 \nQ 46.921875 27.09375 42.890625 30.859375 \nQ 38.875 34.625 31.78125 34.625 \nz\nM 21.921875 38.8125 \nQ 15.578125 40.375 12.03125 44.71875 \nQ 8.5 49.078125 8.5 55.328125 \nQ 8.5 64.0625 14.71875 69.140625 \nQ 20.953125 74.21875 31.78125 74.21875 \nQ 42.671875 74.21875 48.875 69.140625 \nQ 55.078125 64.0625 55.078125 55.328125 \nQ 55.078125 49.078125 51.53125 44.71875 \nQ 48 40.375 41.703125 38.8125 \nQ 48.828125 37.15625 52.796875 32.3125 \nQ 56.78125 27.484375 56.78125 20.515625 \nQ 56.78125 9.90625 50.3125 4.234375 \nQ 43.84375 -1.421875 31.78125 -1.421875 \nQ 19.734375 -1.421875 13.25 4.234375 \nQ 6.78125 9.90625 6.78125 20.515625 \nQ 6.78125 27.484375 10.78125 32.3125 \nQ 14.796875 37.15625 21.921875 38.8125 \nz\nM 18.3125 54.390625 \nQ 18.3125 48.734375 21.84375 45.5625 \nQ 25.390625 42.390625 31.78125 42.390625 \nQ 38.140625 42.390625 41.71875 45.5625 \nQ 45.3125 48.734375 45.3125 54.390625 \nQ 45.3125 60.0625 41.71875 63.234375 \nQ 38.140625 66.40625 31.78125 66.40625 \nQ 25.390625 66.40625 21.84375 63.234375 \nQ 18.3125 60.0625 18.3125 54.390625 \nz\n\" id=\"DejaVuSans-56\"/>\n      </defs>\n      <g transform=\"translate(272.763869 254.356563)scale(0.1 -0.1)\">\n       <use xlink:href=\"#DejaVuSans-56\"/>\n       <use x=\"63.623047\" xlink:href=\"#DejaVuSans-48\"/>\n       <use x=\"127.246094\" xlink:href=\"#DejaVuSans-48\"/>\n       <use x=\"190.869141\" xlink:href=\"#DejaVuSans-48\"/>\n      </g>\n     </g>\n    </g>\n    <g id=\"xtick_6\">\n     <g id=\"line2d_6\">\n      <g>\n       <use style=\"stroke:#000000;stroke-width:0.8;\" x=\"341.43675\" xlink:href=\"#md90106a94c\" y=\"239.758125\"/>\n      </g>\n     </g>\n     <g id=\"text_6\">\n      <!-- 10000 -->\n      <defs>\n       <path d=\"M 12.40625 8.296875 \nL 28.515625 8.296875 \nL 28.515625 63.921875 \nL 10.984375 60.40625 \nL 10.984375 69.390625 \nL 28.421875 72.90625 \nL 38.28125 72.90625 \nL 38.28125 8.296875 \nL 54.390625 8.296875 \nL 54.390625 0 \nL 12.40625 0 \nz\n\" id=\"DejaVuSans-49\"/>\n      </defs>\n      <g transform=\"translate(325.5305 254.356563)scale(0.1 -0.1)\">\n       <use xlink:href=\"#DejaVuSans-49\"/>\n       <use x=\"63.623047\" xlink:href=\"#DejaVuSans-48\"/>\n       <use x=\"127.246094\" xlink:href=\"#DejaVuSans-48\"/>\n       <use x=\"190.869141\" xlink:href=\"#DejaVuSans-48\"/>\n       <use x=\"254.492188\" xlink:href=\"#DejaVuSans-48\"/>\n      </g>\n     </g>\n    </g>\n   </g>\n   <g id=\"matplotlib.axis_2\">\n    <g id=\"ytick_1\">\n     <g id=\"line2d_7\">\n      <defs>\n       <path d=\"M 0 0 \nL -3.5 0 \n\" id=\"m47f79c47b4\" style=\"stroke:#000000;stroke-width:0.8;\"/>\n      </defs>\n      <g>\n       <use style=\"stroke:#000000;stroke-width:0.8;\" x=\"55.553125\" xlink:href=\"#m47f79c47b4\" y=\"239.758125\"/>\n      </g>\n     </g>\n     <g id=\"text_7\">\n      <!-- 0.00000 -->\n      <defs>\n       <path d=\"M 10.6875 12.40625 \nL 21 12.40625 \nL 21 0 \nL 10.6875 0 \nz\n\" id=\"DejaVuSans-46\"/>\n      </defs>\n      <g transform=\"translate(7.2 243.557344)scale(0.1 -0.1)\">\n       <use xlink:href=\"#DejaVuSans-48\"/>\n       <use x=\"63.623047\" xlink:href=\"#DejaVuSans-46\"/>\n       <use x=\"95.410156\" xlink:href=\"#DejaVuSans-48\"/>\n       <use x=\"159.033203\" xlink:href=\"#DejaVuSans-48\"/>\n       <use x=\"222.65625\" xlink:href=\"#DejaVuSans-48\"/>\n       <use x=\"286.279297\" xlink:href=\"#DejaVuSans-48\"/>\n       <use x=\"349.902344\" xlink:href=\"#DejaVuSans-48\"/>\n      </g>\n     </g>\n    </g>\n    <g id=\"ytick_2\">\n     <g id=\"line2d_8\">\n      <g>\n       <use style=\"stroke:#000000;stroke-width:0.8;\" x=\"55.553125\" xlink:href=\"#m47f79c47b4\" y=\"210.108293\"/>\n      </g>\n     </g>\n     <g id=\"text_8\">\n      <!-- 0.00005 -->\n      <defs>\n       <path d=\"M 10.796875 72.90625 \nL 49.515625 72.90625 \nL 49.515625 64.59375 \nL 19.828125 64.59375 \nL 19.828125 46.734375 \nQ 21.96875 47.46875 24.109375 47.828125 \nQ 26.265625 48.1875 28.421875 48.1875 \nQ 40.625 48.1875 47.75 41.5 \nQ 54.890625 34.8125 54.890625 23.390625 \nQ 54.890625 11.625 47.5625 5.09375 \nQ 40.234375 -1.421875 26.90625 -1.421875 \nQ 22.3125 -1.421875 17.546875 -0.640625 \nQ 12.796875 0.140625 7.71875 1.703125 \nL 7.71875 11.625 \nQ 12.109375 9.234375 16.796875 8.0625 \nQ 21.484375 6.890625 26.703125 6.890625 \nQ 35.15625 6.890625 40.078125 11.328125 \nQ 45.015625 15.765625 45.015625 23.390625 \nQ 45.015625 31 40.078125 35.4375 \nQ 35.15625 39.890625 26.703125 39.890625 \nQ 22.75 39.890625 18.8125 39.015625 \nQ 14.890625 38.140625 10.796875 36.28125 \nz\n\" id=\"DejaVuSans-53\"/>\n      </defs>\n      <g transform=\"translate(7.2 213.907511)scale(0.1 -0.1)\">\n       <use xlink:href=\"#DejaVuSans-48\"/>\n       <use x=\"63.623047\" xlink:href=\"#DejaVuSans-46\"/>\n       <use x=\"95.410156\" xlink:href=\"#DejaVuSans-48\"/>\n       <use x=\"159.033203\" xlink:href=\"#DejaVuSans-48\"/>\n       <use x=\"222.65625\" xlink:href=\"#DejaVuSans-48\"/>\n       <use x=\"286.279297\" xlink:href=\"#DejaVuSans-48\"/>\n       <use x=\"349.902344\" xlink:href=\"#DejaVuSans-53\"/>\n      </g>\n     </g>\n    </g>\n    <g id=\"ytick_3\">\n     <g id=\"line2d_9\">\n      <g>\n       <use style=\"stroke:#000000;stroke-width:0.8;\" x=\"55.553125\" xlink:href=\"#m47f79c47b4\" y=\"180.45846\"/>\n      </g>\n     </g>\n     <g id=\"text_9\">\n      <!-- 0.00010 -->\n      <g transform=\"translate(7.2 184.257679)scale(0.1 -0.1)\">\n       <use xlink:href=\"#DejaVuSans-48\"/>\n       <use x=\"63.623047\" xlink:href=\"#DejaVuSans-46\"/>\n       <use x=\"95.410156\" xlink:href=\"#DejaVuSans-48\"/>\n       <use x=\"159.033203\" xlink:href=\"#DejaVuSans-48\"/>\n       <use x=\"222.65625\" xlink:href=\"#DejaVuSans-48\"/>\n       <use x=\"286.279297\" xlink:href=\"#DejaVuSans-49\"/>\n       <use x=\"349.902344\" xlink:href=\"#DejaVuSans-48\"/>\n      </g>\n     </g>\n    </g>\n    <g id=\"ytick_4\">\n     <g id=\"line2d_10\">\n      <g>\n       <use style=\"stroke:#000000;stroke-width:0.8;\" x=\"55.553125\" xlink:href=\"#m47f79c47b4\" y=\"150.808628\"/>\n      </g>\n     </g>\n     <g id=\"text_10\">\n      <!-- 0.00015 -->\n      <g transform=\"translate(7.2 154.607847)scale(0.1 -0.1)\">\n       <use xlink:href=\"#DejaVuSans-48\"/>\n       <use x=\"63.623047\" xlink:href=\"#DejaVuSans-46\"/>\n       <use x=\"95.410156\" xlink:href=\"#DejaVuSans-48\"/>\n       <use x=\"159.033203\" xlink:href=\"#DejaVuSans-48\"/>\n       <use x=\"222.65625\" xlink:href=\"#DejaVuSans-48\"/>\n       <use x=\"286.279297\" xlink:href=\"#DejaVuSans-49\"/>\n       <use x=\"349.902344\" xlink:href=\"#DejaVuSans-53\"/>\n      </g>\n     </g>\n    </g>\n    <g id=\"ytick_5\">\n     <g id=\"line2d_11\">\n      <g>\n       <use style=\"stroke:#000000;stroke-width:0.8;\" x=\"55.553125\" xlink:href=\"#m47f79c47b4\" y=\"121.158796\"/>\n      </g>\n     </g>\n     <g id=\"text_11\">\n      <!-- 0.00020 -->\n      <g transform=\"translate(7.2 124.958015)scale(0.1 -0.1)\">\n       <use xlink:href=\"#DejaVuSans-48\"/>\n       <use x=\"63.623047\" xlink:href=\"#DejaVuSans-46\"/>\n       <use x=\"95.410156\" xlink:href=\"#DejaVuSans-48\"/>\n       <use x=\"159.033203\" xlink:href=\"#DejaVuSans-48\"/>\n       <use x=\"222.65625\" xlink:href=\"#DejaVuSans-48\"/>\n       <use x=\"286.279297\" xlink:href=\"#DejaVuSans-50\"/>\n       <use x=\"349.902344\" xlink:href=\"#DejaVuSans-48\"/>\n      </g>\n     </g>\n    </g>\n    <g id=\"ytick_6\">\n     <g id=\"line2d_12\">\n      <g>\n       <use style=\"stroke:#000000;stroke-width:0.8;\" x=\"55.553125\" xlink:href=\"#m47f79c47b4\" y=\"91.508964\"/>\n      </g>\n     </g>\n     <g id=\"text_12\">\n      <!-- 0.00025 -->\n      <g transform=\"translate(7.2 95.308182)scale(0.1 -0.1)\">\n       <use xlink:href=\"#DejaVuSans-48\"/>\n       <use x=\"63.623047\" xlink:href=\"#DejaVuSans-46\"/>\n       <use x=\"95.410156\" xlink:href=\"#DejaVuSans-48\"/>\n       <use x=\"159.033203\" xlink:href=\"#DejaVuSans-48\"/>\n       <use x=\"222.65625\" xlink:href=\"#DejaVuSans-48\"/>\n       <use x=\"286.279297\" xlink:href=\"#DejaVuSans-50\"/>\n       <use x=\"349.902344\" xlink:href=\"#DejaVuSans-53\"/>\n      </g>\n     </g>\n    </g>\n    <g id=\"ytick_7\">\n     <g id=\"line2d_13\">\n      <g>\n       <use style=\"stroke:#000000;stroke-width:0.8;\" x=\"55.553125\" xlink:href=\"#m47f79c47b4\" y=\"61.859131\"/>\n      </g>\n     </g>\n     <g id=\"text_13\">\n      <!-- 0.00030 -->\n      <defs>\n       <path d=\"M 40.578125 39.3125 \nQ 47.65625 37.796875 51.625 33 \nQ 55.609375 28.21875 55.609375 21.1875 \nQ 55.609375 10.40625 48.1875 4.484375 \nQ 40.765625 -1.421875 27.09375 -1.421875 \nQ 22.515625 -1.421875 17.65625 -0.515625 \nQ 12.796875 0.390625 7.625 2.203125 \nL 7.625 11.71875 \nQ 11.71875 9.328125 16.59375 8.109375 \nQ 21.484375 6.890625 26.8125 6.890625 \nQ 36.078125 6.890625 40.9375 10.546875 \nQ 45.796875 14.203125 45.796875 21.1875 \nQ 45.796875 27.640625 41.28125 31.265625 \nQ 36.765625 34.90625 28.71875 34.90625 \nL 20.21875 34.90625 \nL 20.21875 43.015625 \nL 29.109375 43.015625 \nQ 36.375 43.015625 40.234375 45.921875 \nQ 44.09375 48.828125 44.09375 54.296875 \nQ 44.09375 59.90625 40.109375 62.90625 \nQ 36.140625 65.921875 28.71875 65.921875 \nQ 24.65625 65.921875 20.015625 65.03125 \nQ 15.375 64.15625 9.8125 62.3125 \nL 9.8125 71.09375 \nQ 15.4375 72.65625 20.34375 73.4375 \nQ 25.25 74.21875 29.59375 74.21875 \nQ 40.828125 74.21875 47.359375 69.109375 \nQ 53.90625 64.015625 53.90625 55.328125 \nQ 53.90625 49.265625 50.4375 45.09375 \nQ 46.96875 40.921875 40.578125 39.3125 \nz\n\" id=\"DejaVuSans-51\"/>\n      </defs>\n      <g transform=\"translate(7.2 65.65835)scale(0.1 -0.1)\">\n       <use xlink:href=\"#DejaVuSans-48\"/>\n       <use x=\"63.623047\" xlink:href=\"#DejaVuSans-46\"/>\n       <use x=\"95.410156\" xlink:href=\"#DejaVuSans-48\"/>\n       <use x=\"159.033203\" xlink:href=\"#DejaVuSans-48\"/>\n       <use x=\"222.65625\" xlink:href=\"#DejaVuSans-48\"/>\n       <use x=\"286.279297\" xlink:href=\"#DejaVuSans-51\"/>\n       <use x=\"349.902344\" xlink:href=\"#DejaVuSans-48\"/>\n      </g>\n     </g>\n    </g>\n    <g id=\"ytick_8\">\n     <g id=\"line2d_14\">\n      <g>\n       <use style=\"stroke:#000000;stroke-width:0.8;\" x=\"55.553125\" xlink:href=\"#m47f79c47b4\" y=\"32.209299\"/>\n      </g>\n     </g>\n     <g id=\"text_14\">\n      <!-- 0.00035 -->\n      <g transform=\"translate(7.2 36.008518)scale(0.1 -0.1)\">\n       <use xlink:href=\"#DejaVuSans-48\"/>\n       <use x=\"63.623047\" xlink:href=\"#DejaVuSans-46\"/>\n       <use x=\"95.410156\" xlink:href=\"#DejaVuSans-48\"/>\n       <use x=\"159.033203\" xlink:href=\"#DejaVuSans-48\"/>\n       <use x=\"222.65625\" xlink:href=\"#DejaVuSans-48\"/>\n       <use x=\"286.279297\" xlink:href=\"#DejaVuSans-51\"/>\n       <use x=\"349.902344\" xlink:href=\"#DejaVuSans-53\"/>\n      </g>\n     </g>\n    </g>\n   </g>\n   <g id=\"line2d_15\">\n    <path clip-path=\"url(#ped10dcb87a)\" d=\"M 70.771307 239.74924 \nL 73.845687 239.734917 \nL 76.920067 239.703456 \nL 79.994447 239.641525 \nL 83.068827 239.531698 \nL 86.143208 239.354778 \nL 89.217588 239.092846 \nL 92.291968 238.731281 \nL 95.366348 238.25892 \nL 98.440728 237.666726 \nL 101.515108 236.943468 \nL 104.589489 236.062651 \nL 107.663869 234.95661 \nL 110.738249 233.488777 \nL 113.812629 231.454106 \nL 116.887009 228.634008 \nL 119.961389 224.891366 \nL 123.03577 220.240949 \nL 126.11015 214.825516 \nL 129.18453 208.792647 \nL 132.25891 202.155094 \nL 135.33329 194.744367 \nL 138.40767 186.297411 \nL 141.482051 176.608026 \nL 144.556431 165.630932 \nL 147.630811 153.48942 \nL 150.705191 140.440693 \nL 153.779571 126.884807 \nL 156.853951 113.42497 \nL 159.928332 100.879385 \nL 163.002712 90.130658 \nL 166.077092 81.817209 \nL 169.151472 76.029127 \nL 172.225852 72.221909 \nL 175.300232 69.440494 \nL 178.374613 66.738603 \nL 181.448993 63.553451 \nL 184.523373 59.853231 \nL 187.597753 56.051513 \nL 190.672133 52.817419 \nL 193.746513 50.905299 \nL 196.820894 51.033397 \nL 199.895274 53.776443 \nL 202.969654 59.450885 \nL 206.044034 68.013868 \nL 209.118414 79.010999 \nL 212.192794 91.599136 \nL 215.267175 104.667984 \nL 218.341555 117.074213 \nL 221.415935 127.947125 \nL 224.490315 136.944475 \nL 227.564695 144.314395 \nL 230.639075 150.70893 \nL 233.713456 156.843027 \nL 236.787836 163.182533 \nL 239.862216 169.809047 \nL 242.936596 176.488143 \nL 246.010976 182.856538 \nL 249.085356 188.608721 \nL 252.159737 193.600944 \nL 255.234117 197.85456 \nL 258.308497 201.490614 \nL 261.382877 204.648991 \nL 264.457257 207.439438 \nL 267.531637 209.943521 \nL 270.606018 212.249015 \nL 273.680398 214.475375 \nL 276.754778 216.758567 \nL 279.829158 219.198362 \nL 282.903538 221.803023 \nL 285.977918 224.471332 \nL 289.052299 227.028595 \nL 292.126679 229.299441 \nL 295.201059 231.178111 \nL 298.275439 232.659612 \nL 301.349819 233.819761 \nL 304.424199 234.761791 \nL 307.49858 235.562978 \nL 310.57296 236.249215 \nL 313.64734 236.805756 \nL 316.72172 237.211767 \nL 319.7961 237.474594 \nL 322.87048 237.641415 \nL 325.944861 237.780645 \nL 329.019241 237.946099 \nL 332.093621 238.149821 \nL 335.168001 238.363414 \nL 338.242381 238.545905 \nL 341.316761 238.676354 \nL 344.391142 238.767617 \nL 347.465522 238.854208 \nL 350.539902 238.966882 \nL 353.614282 239.113725 \nL 356.688662 239.278974 \nL 359.763042 239.436152 \nL 362.837423 239.563613 \nL 365.911803 239.652748 \nL 368.986183 239.706993 \nL 372.060563 239.735916 \nL 375.134943 239.749493 \n\" style=\"fill:none;stroke:#1f77b4;stroke-linecap:square;stroke-width:1.5;\"/>\n   </g>\n   <g id=\"patch_30\">\n    <path d=\"M 55.553125 239.758125 \nL 55.553125 22.318125 \n\" style=\"fill:none;stroke:#000000;stroke-linecap:square;stroke-linejoin:miter;stroke-width:0.8;\"/>\n   </g>\n   <g id=\"patch_31\">\n    <path d=\"M 390.353125 239.758125 \nL 390.353125 22.318125 \n\" style=\"fill:none;stroke:#000000;stroke-linecap:square;stroke-linejoin:miter;stroke-width:0.8;\"/>\n   </g>\n   <g id=\"patch_32\">\n    <path d=\"M 55.553125 239.758125 \nL 390.353125 239.758125 \n\" style=\"fill:none;stroke:#000000;stroke-linecap:square;stroke-linejoin:miter;stroke-width:0.8;\"/>\n   </g>\n   <g id=\"patch_33\">\n    <path d=\"M 55.553125 22.318125 \nL 390.353125 22.318125 \n\" style=\"fill:none;stroke:#000000;stroke-linecap:square;stroke-linejoin:miter;stroke-width:0.8;\"/>\n   </g>\n   <g id=\"text_15\">\n    <!-- priceByArea -->\n    <defs>\n     <path d=\"M 18.109375 8.203125 \nL 18.109375 -20.796875 \nL 9.078125 -20.796875 \nL 9.078125 54.6875 \nL 18.109375 54.6875 \nL 18.109375 46.390625 \nQ 20.953125 51.265625 25.265625 53.625 \nQ 29.59375 56 35.59375 56 \nQ 45.5625 56 51.78125 48.09375 \nQ 58.015625 40.1875 58.015625 27.296875 \nQ 58.015625 14.40625 51.78125 6.484375 \nQ 45.5625 -1.421875 35.59375 -1.421875 \nQ 29.59375 -1.421875 25.265625 0.953125 \nQ 20.953125 3.328125 18.109375 8.203125 \nz\nM 48.6875 27.296875 \nQ 48.6875 37.203125 44.609375 42.84375 \nQ 40.53125 48.484375 33.40625 48.484375 \nQ 26.265625 48.484375 22.1875 42.84375 \nQ 18.109375 37.203125 18.109375 27.296875 \nQ 18.109375 17.390625 22.1875 11.75 \nQ 26.265625 6.109375 33.40625 6.109375 \nQ 40.53125 6.109375 44.609375 11.75 \nQ 48.6875 17.390625 48.6875 27.296875 \nz\n\" id=\"DejaVuSans-112\"/>\n     <path d=\"M 41.109375 46.296875 \nQ 39.59375 47.171875 37.8125 47.578125 \nQ 36.03125 48 33.890625 48 \nQ 26.265625 48 22.1875 43.046875 \nQ 18.109375 38.09375 18.109375 28.8125 \nL 18.109375 0 \nL 9.078125 0 \nL 9.078125 54.6875 \nL 18.109375 54.6875 \nL 18.109375 46.1875 \nQ 20.953125 51.171875 25.484375 53.578125 \nQ 30.03125 56 36.53125 56 \nQ 37.453125 56 38.578125 55.875 \nQ 39.703125 55.765625 41.0625 55.515625 \nz\n\" id=\"DejaVuSans-114\"/>\n     <path d=\"M 9.421875 54.6875 \nL 18.40625 54.6875 \nL 18.40625 0 \nL 9.421875 0 \nz\nM 9.421875 75.984375 \nL 18.40625 75.984375 \nL 18.40625 64.59375 \nL 9.421875 64.59375 \nz\n\" id=\"DejaVuSans-105\"/>\n     <path d=\"M 48.78125 52.59375 \nL 48.78125 44.1875 \nQ 44.96875 46.296875 41.140625 47.34375 \nQ 37.3125 48.390625 33.40625 48.390625 \nQ 24.65625 48.390625 19.8125 42.84375 \nQ 14.984375 37.3125 14.984375 27.296875 \nQ 14.984375 17.28125 19.8125 11.734375 \nQ 24.65625 6.203125 33.40625 6.203125 \nQ 37.3125 6.203125 41.140625 7.25 \nQ 44.96875 8.296875 48.78125 10.40625 \nL 48.78125 2.09375 \nQ 45.015625 0.34375 40.984375 -0.53125 \nQ 36.96875 -1.421875 32.421875 -1.421875 \nQ 20.0625 -1.421875 12.78125 6.34375 \nQ 5.515625 14.109375 5.515625 27.296875 \nQ 5.515625 40.671875 12.859375 48.328125 \nQ 20.21875 56 33.015625 56 \nQ 37.15625 56 41.109375 55.140625 \nQ 45.0625 54.296875 48.78125 52.59375 \nz\n\" id=\"DejaVuSans-99\"/>\n     <path d=\"M 56.203125 29.59375 \nL 56.203125 25.203125 \nL 14.890625 25.203125 \nQ 15.484375 15.921875 20.484375 11.0625 \nQ 25.484375 6.203125 34.421875 6.203125 \nQ 39.59375 6.203125 44.453125 7.46875 \nQ 49.3125 8.734375 54.109375 11.28125 \nL 54.109375 2.78125 \nQ 49.265625 0.734375 44.1875 -0.34375 \nQ 39.109375 -1.421875 33.890625 -1.421875 \nQ 20.796875 -1.421875 13.15625 6.1875 \nQ 5.515625 13.8125 5.515625 26.8125 \nQ 5.515625 40.234375 12.765625 48.109375 \nQ 20.015625 56 32.328125 56 \nQ 43.359375 56 49.78125 48.890625 \nQ 56.203125 41.796875 56.203125 29.59375 \nz\nM 47.21875 32.234375 \nQ 47.125 39.59375 43.09375 43.984375 \nQ 39.0625 48.390625 32.421875 48.390625 \nQ 24.90625 48.390625 20.390625 44.140625 \nQ 15.875 39.890625 15.1875 32.171875 \nz\n\" id=\"DejaVuSans-101\"/>\n     <path d=\"M 19.671875 34.8125 \nL 19.671875 8.109375 \nL 35.5 8.109375 \nQ 43.453125 8.109375 47.28125 11.40625 \nQ 51.125 14.703125 51.125 21.484375 \nQ 51.125 28.328125 47.28125 31.5625 \nQ 43.453125 34.8125 35.5 34.8125 \nz\nM 19.671875 64.796875 \nL 19.671875 42.828125 \nL 34.28125 42.828125 \nQ 41.5 42.828125 45.03125 45.53125 \nQ 48.578125 48.25 48.578125 53.8125 \nQ 48.578125 59.328125 45.03125 62.0625 \nQ 41.5 64.796875 34.28125 64.796875 \nz\nM 9.8125 72.90625 \nL 35.015625 72.90625 \nQ 46.296875 72.90625 52.390625 68.21875 \nQ 58.5 63.53125 58.5 54.890625 \nQ 58.5 48.1875 55.375 44.234375 \nQ 52.25 40.28125 46.1875 39.3125 \nQ 53.46875 37.75 57.5 32.78125 \nQ 61.53125 27.828125 61.53125 20.40625 \nQ 61.53125 10.640625 54.890625 5.3125 \nQ 48.25 0 35.984375 0 \nL 9.8125 0 \nz\n\" id=\"DejaVuSans-66\"/>\n     <path d=\"M 32.171875 -5.078125 \nQ 28.375 -14.84375 24.75 -17.8125 \nQ 21.140625 -20.796875 15.09375 -20.796875 \nL 7.90625 -20.796875 \nL 7.90625 -13.28125 \nL 13.1875 -13.28125 \nQ 16.890625 -13.28125 18.9375 -11.515625 \nQ 21 -9.765625 23.484375 -3.21875 \nL 25.09375 0.875 \nL 2.984375 54.6875 \nL 12.5 54.6875 \nL 29.59375 11.921875 \nL 46.6875 54.6875 \nL 56.203125 54.6875 \nz\n\" id=\"DejaVuSans-121\"/>\n     <path d=\"M 34.1875 63.1875 \nL 20.796875 26.90625 \nL 47.609375 26.90625 \nz\nM 28.609375 72.90625 \nL 39.796875 72.90625 \nL 67.578125 0 \nL 57.328125 0 \nL 50.6875 18.703125 \nL 17.828125 18.703125 \nL 11.1875 0 \nL 0.78125 0 \nz\n\" id=\"DejaVuSans-65\"/>\n     <path d=\"M 34.28125 27.484375 \nQ 23.390625 27.484375 19.1875 25 \nQ 14.984375 22.515625 14.984375 16.5 \nQ 14.984375 11.71875 18.140625 8.90625 \nQ 21.296875 6.109375 26.703125 6.109375 \nQ 34.1875 6.109375 38.703125 11.40625 \nQ 43.21875 16.703125 43.21875 25.484375 \nL 43.21875 27.484375 \nz\nM 52.203125 31.203125 \nL 52.203125 0 \nL 43.21875 0 \nL 43.21875 8.296875 \nQ 40.140625 3.328125 35.546875 0.953125 \nQ 30.953125 -1.421875 24.3125 -1.421875 \nQ 15.921875 -1.421875 10.953125 3.296875 \nQ 6 8.015625 6 15.921875 \nQ 6 25.140625 12.171875 29.828125 \nQ 18.359375 34.515625 30.609375 34.515625 \nL 43.21875 34.515625 \nL 43.21875 35.40625 \nQ 43.21875 41.609375 39.140625 45 \nQ 35.0625 48.390625 27.6875 48.390625 \nQ 23 48.390625 18.546875 47.265625 \nQ 14.109375 46.140625 10.015625 43.890625 \nL 10.015625 52.203125 \nQ 14.9375 54.109375 19.578125 55.046875 \nQ 24.21875 56 28.609375 56 \nQ 40.484375 56 46.34375 49.84375 \nQ 52.203125 43.703125 52.203125 31.203125 \nz\n\" id=\"DejaVuSans-97\"/>\n    </defs>\n    <g transform=\"translate(186.414062 16.318125)scale(0.12 -0.12)\">\n     <use xlink:href=\"#DejaVuSans-112\"/>\n     <use x=\"63.476562\" xlink:href=\"#DejaVuSans-114\"/>\n     <use x=\"104.589844\" xlink:href=\"#DejaVuSans-105\"/>\n     <use x=\"132.373047\" xlink:href=\"#DejaVuSans-99\"/>\n     <use x=\"187.353516\" xlink:href=\"#DejaVuSans-101\"/>\n     <use x=\"248.876953\" xlink:href=\"#DejaVuSans-66\"/>\n     <use x=\"317.480469\" xlink:href=\"#DejaVuSans-121\"/>\n     <use x=\"376.660156\" xlink:href=\"#DejaVuSans-65\"/>\n     <use x=\"445.068359\" xlink:href=\"#DejaVuSans-114\"/>\n     <use x=\"486.150391\" xlink:href=\"#DejaVuSans-101\"/>\n     <use x=\"547.673828\" xlink:href=\"#DejaVuSans-97\"/>\n    </g>\n   </g>\n  </g>\n </g>\n <defs>\n  <clipPath id=\"ped10dcb87a\">\n   <rect height=\"217.44\" width=\"334.8\" x=\"55.553125\" y=\"22.318125\"/>\n  </clipPath>\n </defs>\n</svg>\n",
      "image/png": "[encoded data removed]"
     },
     "metadata": {
      "needs_background": "light"
     }
    },
    {
     "output_type": "display_data",
     "data": {
      "text/plain": "<Figure size 432x288 with 1 Axes>",
      "image/svg+xml": "<?xml version=\"1.0\" encoding=\"utf-8\" standalone=\"no\"?>\n<!DOCTYPE svg PUBLIC \"-//W3C//DTD SVG 1.1//EN\"\n  \"http://www.w3.org/Graphics/SVG/1.1/DTD/svg11.dtd\">\n<!-- Created with matplotlib (https://matplotlib.org/) -->\n<svg height=\"263.63625pt\" version=\"1.1\" viewBox=\"0 0 384.828125 263.63625\" width=\"384.828125pt\" xmlns=\"http://www.w3.org/2000/svg\" xmlns:xlink=\"http://www.w3.org/1999/xlink\">\n <defs>\n  <style type=\"text/css\">\n*{stroke-linecap:butt;stroke-linejoin:round;}\n  </style>\n </defs>\n <g id=\"figure_1\">\n  <g id=\"patch_1\">\n   <path d=\"M 0 263.63625 \nL 384.828125 263.63625 \nL 384.828125 0 \nL 0 0 \nz\n\" style=\"fill:none;\"/>\n  </g>\n  <g id=\"axes_1\">\n   <g id=\"patch_2\">\n    <path d=\"M 42.828125 239.758125 \nL 377.628125 239.758125 \nL 377.628125 22.318125 \nL 42.828125 22.318125 \nz\n\" style=\"fill:#ffffff;\"/>\n   </g>\n   <g id=\"patch_3\">\n    <path clip-path=\"url(#p124dcaff97)\" d=\"M 78.765282 239.758125 \nL 85.684379 239.758125 \nL 85.684379 226.929806 \nL 78.765282 226.929806 \nz\n\" style=\"fill:#1f77b4;opacity:0.4;\"/>\n   </g>\n   <g id=\"patch_4\">\n    <path clip-path=\"url(#p124dcaff97)\" d=\"M 85.684379 239.758125 \nL 92.603476 239.758125 \nL 92.603476 204.938403 \nL 85.684379 204.938403 \nz\n\" style=\"fill:#1f77b4;opacity:0.4;\"/>\n   </g>\n   <g id=\"patch_5\">\n    <path clip-path=\"url(#p124dcaff97)\" d=\"M 92.603476 239.758125 \nL 99.522573 239.758125 \nL 99.522573 162.788213 \nL 92.603476 162.788213 \nz\n\" style=\"fill:#1f77b4;opacity:0.4;\"/>\n   </g>\n   <g id=\"patch_6\">\n    <path clip-path=\"url(#p124dcaff97)\" d=\"M 99.522573 239.758125 \nL 106.44167 239.758125 \nL 106.44167 72.989983 \nL 99.522573 72.989983 \nz\n\" style=\"fill:#1f77b4;opacity:0.4;\"/>\n   </g>\n   <g id=\"patch_7\">\n    <path clip-path=\"url(#p124dcaff97)\" d=\"M 106.44167 239.758125 \nL 113.360767 239.758125 \nL 113.360767 32.672411 \nL 106.44167 32.672411 \nz\n\" style=\"fill:#1f77b4;opacity:0.4;\"/>\n   </g>\n   <g id=\"patch_8\">\n    <path clip-path=\"url(#p124dcaff97)\" d=\"M 113.360767 239.758125 \nL 120.279864 239.758125 \nL 120.279864 80.320451 \nL 113.360767 80.320451 \nz\n\" style=\"fill:#1f77b4;opacity:0.4;\"/>\n   </g>\n   <g id=\"patch_9\">\n    <path clip-path=\"url(#p124dcaff97)\" d=\"M 120.279864 239.758125 \nL 127.198961 239.758125 \nL 127.198961 65.659516 \nL 120.279864 65.659516 \nz\n\" style=\"fill:#1f77b4;opacity:0.4;\"/>\n   </g>\n   <g id=\"patch_10\">\n    <path clip-path=\"url(#p124dcaff97)\" d=\"M 127.198961 239.758125 \nL 134.118058 239.758125 \nL 134.118058 93.14877 \nL 127.198961 93.14877 \nz\n\" style=\"fill:#1f77b4;opacity:0.4;\"/>\n   </g>\n   <g id=\"patch_11\">\n    <path clip-path=\"url(#p124dcaff97)\" d=\"M 134.118058 239.758125 \nL 141.037155 239.758125 \nL 141.037155 85.818302 \nL 134.118058 85.818302 \nz\n\" style=\"fill:#1f77b4;opacity:0.4;\"/>\n   </g>\n   <g id=\"patch_12\">\n    <path clip-path=\"url(#p124dcaff97)\" d=\"M 141.037155 239.758125 \nL 147.956252 239.758125 \nL 147.956252 69.32475 \nL 141.037155 69.32475 \nz\n\" style=\"fill:#1f77b4;opacity:0.4;\"/>\n   </g>\n   <g id=\"patch_13\">\n    <path clip-path=\"url(#p124dcaff97)\" d=\"M 147.956252 239.758125 \nL 154.875349 239.758125 \nL 154.875349 144.462044 \nL 147.956252 144.462044 \nz\n\" style=\"fill:#1f77b4;opacity:0.4;\"/>\n   </g>\n   <g id=\"patch_14\">\n    <path clip-path=\"url(#p124dcaff97)\" d=\"M 154.875349 239.758125 \nL 161.794446 239.758125 \nL 161.794446 157.290363 \nL 154.875349 157.290363 \nz\n\" style=\"fill:#1f77b4;opacity:0.4;\"/>\n   </g>\n   <g id=\"patch_15\">\n    <path clip-path=\"url(#p124dcaff97)\" d=\"M 161.794446 239.758125 \nL 168.713543 239.758125 \nL 168.713543 171.951298 \nL 161.794446 171.951298 \nz\n\" style=\"fill:#1f77b4;opacity:0.4;\"/>\n   </g>\n   <g id=\"patch_16\">\n    <path clip-path=\"url(#p124dcaff97)\" d=\"M 168.713543 239.758125 \nL 175.63264 239.758125 \nL 175.63264 197.607935 \nL 168.713543 197.607935 \nz\n\" style=\"fill:#1f77b4;opacity:0.4;\"/>\n   </g>\n   <g id=\"patch_17\">\n    <path clip-path=\"url(#p124dcaff97)\" d=\"M 175.63264 239.758125 \nL 182.551737 239.758125 \nL 182.551737 188.444851 \nL 175.63264 188.444851 \nz\n\" style=\"fill:#1f77b4;opacity:0.4;\"/>\n   </g>\n   <g id=\"patch_18\">\n    <path clip-path=\"url(#p124dcaff97)\" d=\"M 182.551737 239.758125 \nL 189.470834 239.758125 \nL 189.470834 226.929806 \nL 182.551737 226.929806 \nz\n\" style=\"fill:#1f77b4;opacity:0.4;\"/>\n   </g>\n   <g id=\"patch_19\">\n    <path clip-path=\"url(#p124dcaff97)\" d=\"M 189.470834 239.758125 \nL 196.389931 239.758125 \nL 196.389931 230.59504 \nL 189.470834 230.59504 \nz\n\" style=\"fill:#1f77b4;opacity:0.4;\"/>\n   </g>\n   <g id=\"patch_20\">\n    <path clip-path=\"url(#p124dcaff97)\" d=\"M 196.389931 239.758125 \nL 203.309028 239.758125 \nL 203.309028 230.59504 \nL 196.389931 230.59504 \nz\n\" style=\"fill:#1f77b4;opacity:0.4;\"/>\n   </g>\n   <g id=\"patch_21\">\n    <path clip-path=\"url(#p124dcaff97)\" d=\"M 203.309028 239.758125 \nL 210.228125 239.758125 \nL 210.228125 232.427657 \nL 203.309028 232.427657 \nz\n\" style=\"fill:#1f77b4;opacity:0.4;\"/>\n   </g>\n   <g id=\"patch_22\">\n    <path clip-path=\"url(#p124dcaff97)\" d=\"M 210.228125 239.758125 \nL 217.147222 239.758125 \nL 217.147222 228.762423 \nL 210.228125 228.762423 \nz\n\" style=\"fill:#1f77b4;opacity:0.4;\"/>\n   </g>\n   <g id=\"patch_23\">\n    <path clip-path=\"url(#p124dcaff97)\" d=\"M 217.147222 239.758125 \nL 224.066319 239.758125 \nL 224.066319 234.260274 \nL 217.147222 234.260274 \nz\n\" style=\"fill:#1f77b4;opacity:0.4;\"/>\n   </g>\n   <g id=\"patch_24\">\n    <path clip-path=\"url(#p124dcaff97)\" d=\"M 224.066319 239.758125 \nL 230.985416 239.758125 \nL 230.985416 237.925508 \nL 224.066319 237.925508 \nz\n\" style=\"fill:#1f77b4;opacity:0.4;\"/>\n   </g>\n   <g id=\"patch_25\">\n    <path clip-path=\"url(#p124dcaff97)\" d=\"M 230.985416 239.758125 \nL 237.904513 239.758125 \nL 237.904513 239.758125 \nL 230.985416 239.758125 \nz\n\" style=\"fill:#1f77b4;opacity:0.4;\"/>\n   </g>\n   <g id=\"patch_26\">\n    <path clip-path=\"url(#p124dcaff97)\" d=\"M 237.904513 239.758125 \nL 244.82361 239.758125 \nL 244.82361 239.758125 \nL 237.904513 239.758125 \nz\n\" style=\"fill:#1f77b4;opacity:0.4;\"/>\n   </g>\n   <g id=\"patch_27\">\n    <path clip-path=\"url(#p124dcaff97)\" d=\"M 244.82361 239.758125 \nL 251.742707 239.758125 \nL 251.742707 239.758125 \nL 244.82361 239.758125 \nz\n\" style=\"fill:#1f77b4;opacity:0.4;\"/>\n   </g>\n   <g id=\"patch_28\">\n    <path clip-path=\"url(#p124dcaff97)\" d=\"M 251.742707 239.758125 \nL 258.661804 239.758125 \nL 258.661804 237.925508 \nL 251.742707 237.925508 \nz\n\" style=\"fill:#1f77b4;opacity:0.4;\"/>\n   </g>\n   <g id=\"patch_29\">\n    <path clip-path=\"url(#p124dcaff97)\" d=\"M 258.661804 239.758125 \nL 265.580901 239.758125 \nL 265.580901 239.758125 \nL 258.661804 239.758125 \nz\n\" style=\"fill:#1f77b4;opacity:0.4;\"/>\n   </g>\n   <g id=\"patch_30\">\n    <path clip-path=\"url(#p124dcaff97)\" d=\"M 265.580901 239.758125 \nL 272.499998 239.758125 \nL 272.499998 239.758125 \nL 265.580901 239.758125 \nz\n\" style=\"fill:#1f77b4;opacity:0.4;\"/>\n   </g>\n   <g id=\"patch_31\">\n    <path clip-path=\"url(#p124dcaff97)\" d=\"M 272.499998 239.758125 \nL 279.419095 239.758125 \nL 279.419095 239.758125 \nL 272.499998 239.758125 \nz\n\" style=\"fill:#1f77b4;opacity:0.4;\"/>\n   </g>\n   <g id=\"patch_32\">\n    <path clip-path=\"url(#p124dcaff97)\" d=\"M 279.419095 239.758125 \nL 286.338192 239.758125 \nL 286.338192 239.758125 \nL 279.419095 239.758125 \nz\n\" style=\"fill:#1f77b4;opacity:0.4;\"/>\n   </g>\n   <g id=\"patch_33\">\n    <path clip-path=\"url(#p124dcaff97)\" d=\"M 286.338192 239.758125 \nL 293.257289 239.758125 \nL 293.257289 239.758125 \nL 286.338192 239.758125 \nz\n\" style=\"fill:#1f77b4;opacity:0.4;\"/>\n   </g>\n   <g id=\"patch_34\">\n    <path clip-path=\"url(#p124dcaff97)\" d=\"M 293.257289 239.758125 \nL 300.176386 239.758125 \nL 300.176386 239.758125 \nL 293.257289 239.758125 \nz\n\" style=\"fill:#1f77b4;opacity:0.4;\"/>\n   </g>\n   <g id=\"patch_35\">\n    <path clip-path=\"url(#p124dcaff97)\" d=\"M 300.176386 239.758125 \nL 307.095483 239.758125 \nL 307.095483 239.758125 \nL 300.176386 239.758125 \nz\n\" style=\"fill:#1f77b4;opacity:0.4;\"/>\n   </g>\n   <g id=\"patch_36\">\n    <path clip-path=\"url(#p124dcaff97)\" d=\"M 307.095483 239.758125 \nL 314.01458 239.758125 \nL 314.01458 239.758125 \nL 307.095483 239.758125 \nz\n\" style=\"fill:#1f77b4;opacity:0.4;\"/>\n   </g>\n   <g id=\"patch_37\">\n    <path clip-path=\"url(#p124dcaff97)\" d=\"M 314.01458 239.758125 \nL 320.933677 239.758125 \nL 320.933677 239.758125 \nL 314.01458 239.758125 \nz\n\" style=\"fill:#1f77b4;opacity:0.4;\"/>\n   </g>\n   <g id=\"patch_38\">\n    <path clip-path=\"url(#p124dcaff97)\" d=\"M 320.933677 239.758125 \nL 327.852774 239.758125 \nL 327.852774 239.758125 \nL 320.933677 239.758125 \nz\n\" style=\"fill:#1f77b4;opacity:0.4;\"/>\n   </g>\n   <g id=\"patch_39\">\n    <path clip-path=\"url(#p124dcaff97)\" d=\"M 327.852774 239.758125 \nL 334.771871 239.758125 \nL 334.771871 239.758125 \nL 327.852774 239.758125 \nz\n\" style=\"fill:#1f77b4;opacity:0.4;\"/>\n   </g>\n   <g id=\"patch_40\">\n    <path clip-path=\"url(#p124dcaff97)\" d=\"M 334.771871 239.758125 \nL 341.690968 239.758125 \nL 341.690968 237.925508 \nL 334.771871 237.925508 \nz\n\" style=\"fill:#1f77b4;opacity:0.4;\"/>\n   </g>\n   <g id=\"matplotlib.axis_1\">\n    <g id=\"xtick_1\">\n     <g id=\"line2d_1\">\n      <defs>\n       <path d=\"M 0 0 \nL 0 3.5 \n\" id=\"m9add8f811c\" style=\"stroke:#000000;stroke-width:0.8;\"/>\n      </defs>\n      <g>\n       <use style=\"stroke:#000000;stroke-width:0.8;\" x=\"56.190854\" xlink:href=\"#m9add8f811c\" y=\"239.758125\"/>\n      </g>\n     </g>\n     <g id=\"text_1\">\n      <!-- 0 -->\n      <defs>\n       <path d=\"M 31.78125 66.40625 \nQ 24.171875 66.40625 20.328125 58.90625 \nQ 16.5 51.421875 16.5 36.375 \nQ 16.5 21.390625 20.328125 13.890625 \nQ 24.171875 6.390625 31.78125 6.390625 \nQ 39.453125 6.390625 43.28125 13.890625 \nQ 47.125 21.390625 47.125 36.375 \nQ 47.125 51.421875 43.28125 58.90625 \nQ 39.453125 66.40625 31.78125 66.40625 \nz\nM 31.78125 74.21875 \nQ 44.046875 74.21875 50.515625 64.515625 \nQ 56.984375 54.828125 56.984375 36.375 \nQ 56.984375 17.96875 50.515625 8.265625 \nQ 44.046875 -1.421875 31.78125 -1.421875 \nQ 19.53125 -1.421875 13.0625 8.265625 \nQ 6.59375 17.96875 6.59375 36.375 \nQ 6.59375 54.828125 13.0625 64.515625 \nQ 19.53125 74.21875 31.78125 74.21875 \nz\n\" id=\"DejaVuSans-48\"/>\n      </defs>\n      <g transform=\"translate(53.009604 254.356563)scale(0.1 -0.1)\">\n       <use xlink:href=\"#DejaVuSans-48\"/>\n      </g>\n     </g>\n    </g>\n    <g id=\"xtick_2\">\n     <g id=\"line2d_2\">\n      <g>\n       <use style=\"stroke:#000000;stroke-width:0.8;\" x=\"122.586229\" xlink:href=\"#m9add8f811c\" y=\"239.758125\"/>\n      </g>\n     </g>\n     <g id=\"text_2\">\n      <!-- 50 -->\n      <defs>\n       <path d=\"M 10.796875 72.90625 \nL 49.515625 72.90625 \nL 49.515625 64.59375 \nL 19.828125 64.59375 \nL 19.828125 46.734375 \nQ 21.96875 47.46875 24.109375 47.828125 \nQ 26.265625 48.1875 28.421875 48.1875 \nQ 40.625 48.1875 47.75 41.5 \nQ 54.890625 34.8125 54.890625 23.390625 \nQ 54.890625 11.625 47.5625 5.09375 \nQ 40.234375 -1.421875 26.90625 -1.421875 \nQ 22.3125 -1.421875 17.546875 -0.640625 \nQ 12.796875 0.140625 7.71875 1.703125 \nL 7.71875 11.625 \nQ 12.109375 9.234375 16.796875 8.0625 \nQ 21.484375 6.890625 26.703125 6.890625 \nQ 35.15625 6.890625 40.078125 11.328125 \nQ 45.015625 15.765625 45.015625 23.390625 \nQ 45.015625 31 40.078125 35.4375 \nQ 35.15625 39.890625 26.703125 39.890625 \nQ 22.75 39.890625 18.8125 39.015625 \nQ 14.890625 38.140625 10.796875 36.28125 \nz\n\" id=\"DejaVuSans-53\"/>\n      </defs>\n      <g transform=\"translate(116.223729 254.356563)scale(0.1 -0.1)\">\n       <use xlink:href=\"#DejaVuSans-53\"/>\n       <use x=\"63.623047\" xlink:href=\"#DejaVuSans-48\"/>\n      </g>\n     </g>\n    </g>\n    <g id=\"xtick_3\">\n     <g id=\"line2d_3\">\n      <g>\n       <use style=\"stroke:#000000;stroke-width:0.8;\" x=\"188.981605\" xlink:href=\"#m9add8f811c\" y=\"239.758125\"/>\n      </g>\n     </g>\n     <g id=\"text_3\">\n      <!-- 100 -->\n      <defs>\n       <path d=\"M 12.40625 8.296875 \nL 28.515625 8.296875 \nL 28.515625 63.921875 \nL 10.984375 60.40625 \nL 10.984375 69.390625 \nL 28.421875 72.90625 \nL 38.28125 72.90625 \nL 38.28125 8.296875 \nL 54.390625 8.296875 \nL 54.390625 0 \nL 12.40625 0 \nz\n\" id=\"DejaVuSans-49\"/>\n      </defs>\n      <g transform=\"translate(179.437855 254.356563)scale(0.1 -0.1)\">\n       <use xlink:href=\"#DejaVuSans-49\"/>\n       <use x=\"63.623047\" xlink:href=\"#DejaVuSans-48\"/>\n       <use x=\"127.246094\" xlink:href=\"#DejaVuSans-48\"/>\n      </g>\n     </g>\n    </g>\n    <g id=\"xtick_4\">\n     <g id=\"line2d_4\">\n      <g>\n       <use style=\"stroke:#000000;stroke-width:0.8;\" x=\"255.37698\" xlink:href=\"#m9add8f811c\" y=\"239.758125\"/>\n      </g>\n     </g>\n     <g id=\"text_4\">\n      <!-- 150 -->\n      <g transform=\"translate(245.83323 254.356563)scale(0.1 -0.1)\">\n       <use xlink:href=\"#DejaVuSans-49\"/>\n       <use x=\"63.623047\" xlink:href=\"#DejaVuSans-53\"/>\n       <use x=\"127.246094\" xlink:href=\"#DejaVuSans-48\"/>\n      </g>\n     </g>\n    </g>\n    <g id=\"xtick_5\">\n     <g id=\"line2d_5\">\n      <g>\n       <use style=\"stroke:#000000;stroke-width:0.8;\" x=\"321.772356\" xlink:href=\"#m9add8f811c\" y=\"239.758125\"/>\n      </g>\n     </g>\n     <g id=\"text_5\">\n      <!-- 200 -->\n      <defs>\n       <path d=\"M 19.1875 8.296875 \nL 53.609375 8.296875 \nL 53.609375 0 \nL 7.328125 0 \nL 7.328125 8.296875 \nQ 12.9375 14.109375 22.625 23.890625 \nQ 32.328125 33.6875 34.8125 36.53125 \nQ 39.546875 41.84375 41.421875 45.53125 \nQ 43.3125 49.21875 43.3125 52.78125 \nQ 43.3125 58.59375 39.234375 62.25 \nQ 35.15625 65.921875 28.609375 65.921875 \nQ 23.96875 65.921875 18.8125 64.3125 \nQ 13.671875 62.703125 7.8125 59.421875 \nL 7.8125 69.390625 \nQ 13.765625 71.78125 18.9375 73 \nQ 24.125 74.21875 28.421875 74.21875 \nQ 39.75 74.21875 46.484375 68.546875 \nQ 53.21875 62.890625 53.21875 53.421875 \nQ 53.21875 48.921875 51.53125 44.890625 \nQ 49.859375 40.875 45.40625 35.40625 \nQ 44.1875 33.984375 37.640625 27.21875 \nQ 31.109375 20.453125 19.1875 8.296875 \nz\n\" id=\"DejaVuSans-50\"/>\n      </defs>\n      <g transform=\"translate(312.228606 254.356563)scale(0.1 -0.1)\">\n       <use xlink:href=\"#DejaVuSans-50\"/>\n       <use x=\"63.623047\" xlink:href=\"#DejaVuSans-48\"/>\n       <use x=\"127.246094\" xlink:href=\"#DejaVuSans-48\"/>\n      </g>\n     </g>\n    </g>\n   </g>\n   <g id=\"matplotlib.axis_2\">\n    <g id=\"ytick_1\">\n     <g id=\"line2d_6\">\n      <defs>\n       <path d=\"M 0 0 \nL -3.5 0 \n\" id=\"mfe5c2b4c9a\" style=\"stroke:#000000;stroke-width:0.8;\"/>\n      </defs>\n      <g>\n       <use style=\"stroke:#000000;stroke-width:0.8;\" x=\"42.828125\" xlink:href=\"#mfe5c2b4c9a\" y=\"239.758125\"/>\n      </g>\n     </g>\n     <g id=\"text_6\">\n      <!-- 0.000 -->\n      <defs>\n       <path d=\"M 10.6875 12.40625 \nL 21 12.40625 \nL 21 0 \nL 10.6875 0 \nz\n\" id=\"DejaVuSans-46\"/>\n      </defs>\n      <g transform=\"translate(7.2 243.557344)scale(0.1 -0.1)\">\n       <use xlink:href=\"#DejaVuSans-48\"/>\n       <use x=\"63.623047\" xlink:href=\"#DejaVuSans-46\"/>\n       <use x=\"95.410156\" xlink:href=\"#DejaVuSans-48\"/>\n       <use x=\"159.033203\" xlink:href=\"#DejaVuSans-48\"/>\n       <use x=\"222.65625\" xlink:href=\"#DejaVuSans-48\"/>\n      </g>\n     </g>\n    </g>\n    <g id=\"ytick_2\">\n     <g id=\"line2d_7\">\n      <g>\n       <use style=\"stroke:#000000;stroke-width:0.8;\" x=\"42.828125\" xlink:href=\"#mfe5c2b4c9a\" y=\"195.40349\"/>\n      </g>\n     </g>\n     <g id=\"text_7\">\n      <!-- 0.005 -->\n      <g transform=\"translate(7.2 199.202709)scale(0.1 -0.1)\">\n       <use xlink:href=\"#DejaVuSans-48\"/>\n       <use x=\"63.623047\" xlink:href=\"#DejaVuSans-46\"/>\n       <use x=\"95.410156\" xlink:href=\"#DejaVuSans-48\"/>\n       <use x=\"159.033203\" xlink:href=\"#DejaVuSans-48\"/>\n       <use x=\"222.65625\" xlink:href=\"#DejaVuSans-53\"/>\n      </g>\n     </g>\n    </g>\n    <g id=\"ytick_3\">\n     <g id=\"line2d_8\">\n      <g>\n       <use style=\"stroke:#000000;stroke-width:0.8;\" x=\"42.828125\" xlink:href=\"#mfe5c2b4c9a\" y=\"151.048855\"/>\n      </g>\n     </g>\n     <g id=\"text_8\">\n      <!-- 0.010 -->\n      <g transform=\"translate(7.2 154.848074)scale(0.1 -0.1)\">\n       <use xlink:href=\"#DejaVuSans-48\"/>\n       <use x=\"63.623047\" xlink:href=\"#DejaVuSans-46\"/>\n       <use x=\"95.410156\" xlink:href=\"#DejaVuSans-48\"/>\n       <use x=\"159.033203\" xlink:href=\"#DejaVuSans-49\"/>\n       <use x=\"222.65625\" xlink:href=\"#DejaVuSans-48\"/>\n      </g>\n     </g>\n    </g>\n    <g id=\"ytick_4\">\n     <g id=\"line2d_9\">\n      <g>\n       <use style=\"stroke:#000000;stroke-width:0.8;\" x=\"42.828125\" xlink:href=\"#mfe5c2b4c9a\" y=\"106.69422\"/>\n      </g>\n     </g>\n     <g id=\"text_9\">\n      <!-- 0.015 -->\n      <g transform=\"translate(7.2 110.493439)scale(0.1 -0.1)\">\n       <use xlink:href=\"#DejaVuSans-48\"/>\n       <use x=\"63.623047\" xlink:href=\"#DejaVuSans-46\"/>\n       <use x=\"95.410156\" xlink:href=\"#DejaVuSans-48\"/>\n       <use x=\"159.033203\" xlink:href=\"#DejaVuSans-49\"/>\n       <use x=\"222.65625\" xlink:href=\"#DejaVuSans-53\"/>\n      </g>\n     </g>\n    </g>\n    <g id=\"ytick_5\">\n     <g id=\"line2d_10\">\n      <g>\n       <use style=\"stroke:#000000;stroke-width:0.8;\" x=\"42.828125\" xlink:href=\"#mfe5c2b4c9a\" y=\"62.339585\"/>\n      </g>\n     </g>\n     <g id=\"text_10\">\n      <!-- 0.020 -->\n      <g transform=\"translate(7.2 66.138804)scale(0.1 -0.1)\">\n       <use xlink:href=\"#DejaVuSans-48\"/>\n       <use x=\"63.623047\" xlink:href=\"#DejaVuSans-46\"/>\n       <use x=\"95.410156\" xlink:href=\"#DejaVuSans-48\"/>\n       <use x=\"159.033203\" xlink:href=\"#DejaVuSans-50\"/>\n       <use x=\"222.65625\" xlink:href=\"#DejaVuSans-48\"/>\n      </g>\n     </g>\n    </g>\n   </g>\n   <g id=\"line2d_11\">\n    <path clip-path=\"url(#p124dcaff97)\" d=\"M 58.046307 239.742506 \nL 61.120687 239.695351 \nL 64.195067 239.544178 \nL 67.269447 239.13537 \nL 70.343827 238.195186 \nL 73.418208 236.332758 \nL 76.492588 233.093774 \nL 79.566968 228.016689 \nL 82.641348 220.619194 \nL 85.715728 210.326571 \nL 88.790108 196.490145 \nL 91.864489 178.672616 \nL 94.938869 157.183668 \nL 98.013249 133.516547 \nL 101.087629 110.198961 \nL 104.162009 89.947024 \nL 107.236389 74.646427 \nL 110.31077 64.84959 \nL 113.38515 60.000313 \nL 116.45953 59.098068 \nL 119.53391 61.29175 \nL 122.60829 65.891133 \nL 125.68267 71.851092 \nL 128.757051 77.615655 \nL 131.831431 81.933218 \nL 134.905811 84.909236 \nL 137.980191 88.087219 \nL 141.054571 93.3965 \nL 144.128951 101.862565 \nL 147.203332 112.993143 \nL 150.277712 125.158614 \nL 153.352092 136.659256 \nL 156.426472 146.740703 \nL 159.500852 155.810756 \nL 162.575232 164.675159 \nL 165.649613 173.515608 \nL 168.723993 181.72418 \nL 171.798373 188.782446 \nL 174.872753 195.018797 \nL 177.947133 201.240066 \nL 181.021513 207.782967 \nL 184.095894 214.190662 \nL 187.170274 219.727233 \nL 190.244654 223.973743 \nL 193.319034 226.953305 \nL 196.393414 228.905986 \nL 199.467794 230.072247 \nL 202.542175 230.652317 \nL 205.616555 230.875246 \nL 208.690935 231.031831 \nL 211.765315 231.401712 \nL 214.839695 232.137277 \nL 217.914075 233.21681 \nL 220.988456 234.499195 \nL 224.062836 235.81373 \nL 227.137216 237.017213 \nL 230.211596 238.01146 \nL 233.285976 238.744263 \nL 236.360356 239.20544 \nL 239.434737 239.417765 \nL 242.509117 239.427015 \nL 245.583497 239.301239 \nL 248.657877 239.134874 \nL 251.732257 239.031852 \nL 254.806637 239.058341 \nL 257.881018 239.204126 \nL 260.955398 239.398201 \nL 264.029778 239.566272 \nL 267.104158 239.674225 \nL 270.178538 239.728023 \nL 273.252918 239.749265 \nL 276.327299 239.755985 \nL 279.401679 239.757701 \nL 282.476059 239.758056 \nL 285.550439 239.758116 \nL 288.624819 239.758124 \nL 291.699199 239.758125 \nL 294.77358 239.758125 \nL 297.84796 239.758125 \nL 300.92234 239.758125 \nL 303.99672 239.758125 \nL 307.0711 239.758122 \nL 310.14548 239.758103 \nL 313.219861 239.757974 \nL 316.294241 239.757271 \nL 319.368621 239.754158 \nL 322.443001 239.743 \nL 325.517381 239.710817 \nL 328.591761 239.636727 \nL 331.666142 239.50255 \nL 334.740522 239.316701 \nL 337.814902 239.132627 \nL 340.889282 239.030969 \nL 343.963662 239.064602 \nL 347.038042 239.215467 \nL 350.112423 239.409769 \nL 353.186803 239.574661 \nL 356.261183 239.678854 \nL 359.335563 239.730025 \nL 362.409943 239.749953 \n\" style=\"fill:none;stroke:#1f77b4;stroke-linecap:square;stroke-width:1.5;\"/>\n   </g>\n   <g id=\"patch_41\">\n    <path d=\"M 42.828125 239.758125 \nL 42.828125 22.318125 \n\" style=\"fill:none;stroke:#000000;stroke-linecap:square;stroke-linejoin:miter;stroke-width:0.8;\"/>\n   </g>\n   <g id=\"patch_42\">\n    <path d=\"M 377.628125 239.758125 \nL 377.628125 22.318125 \n\" style=\"fill:none;stroke:#000000;stroke-linecap:square;stroke-linejoin:miter;stroke-width:0.8;\"/>\n   </g>\n   <g id=\"patch_43\">\n    <path d=\"M 42.828125 239.758125 \nL 377.628125 239.758125 \n\" style=\"fill:none;stroke:#000000;stroke-linecap:square;stroke-linejoin:miter;stroke-width:0.8;\"/>\n   </g>\n   <g id=\"patch_44\">\n    <path d=\"M 42.828125 22.318125 \nL 377.628125 22.318125 \n\" style=\"fill:none;stroke:#000000;stroke-linecap:square;stroke-linejoin:miter;stroke-width:0.8;\"/>\n   </g>\n   <g id=\"text_11\">\n    <!-- size -->\n    <defs>\n     <path d=\"M 44.28125 53.078125 \nL 44.28125 44.578125 \nQ 40.484375 46.53125 36.375 47.5 \nQ 32.28125 48.484375 27.875 48.484375 \nQ 21.1875 48.484375 17.84375 46.4375 \nQ 14.5 44.390625 14.5 40.28125 \nQ 14.5 37.15625 16.890625 35.375 \nQ 19.28125 33.59375 26.515625 31.984375 \nL 29.59375 31.296875 \nQ 39.15625 29.25 43.1875 25.515625 \nQ 47.21875 21.78125 47.21875 15.09375 \nQ 47.21875 7.46875 41.1875 3.015625 \nQ 35.15625 -1.421875 24.609375 -1.421875 \nQ 20.21875 -1.421875 15.453125 -0.5625 \nQ 10.6875 0.296875 5.421875 2 \nL 5.421875 11.28125 \nQ 10.40625 8.6875 15.234375 7.390625 \nQ 20.0625 6.109375 24.8125 6.109375 \nQ 31.15625 6.109375 34.5625 8.28125 \nQ 37.984375 10.453125 37.984375 14.40625 \nQ 37.984375 18.0625 35.515625 20.015625 \nQ 33.0625 21.96875 24.703125 23.78125 \nL 21.578125 24.515625 \nQ 13.234375 26.265625 9.515625 29.90625 \nQ 5.8125 33.546875 5.8125 39.890625 \nQ 5.8125 47.609375 11.28125 51.796875 \nQ 16.75 56 26.8125 56 \nQ 31.78125 56 36.171875 55.265625 \nQ 40.578125 54.546875 44.28125 53.078125 \nz\n\" id=\"DejaVuSans-115\"/>\n     <path d=\"M 9.421875 54.6875 \nL 18.40625 54.6875 \nL 18.40625 0 \nL 9.421875 0 \nz\nM 9.421875 75.984375 \nL 18.40625 75.984375 \nL 18.40625 64.59375 \nL 9.421875 64.59375 \nz\n\" id=\"DejaVuSans-105\"/>\n     <path d=\"M 5.515625 54.6875 \nL 48.1875 54.6875 \nL 48.1875 46.484375 \nL 14.40625 7.171875 \nL 48.1875 7.171875 \nL 48.1875 0 \nL 4.296875 0 \nL 4.296875 8.203125 \nL 38.09375 47.515625 \nL 5.515625 47.515625 \nz\n\" id=\"DejaVuSans-122\"/>\n     <path d=\"M 56.203125 29.59375 \nL 56.203125 25.203125 \nL 14.890625 25.203125 \nQ 15.484375 15.921875 20.484375 11.0625 \nQ 25.484375 6.203125 34.421875 6.203125 \nQ 39.59375 6.203125 44.453125 7.46875 \nQ 49.3125 8.734375 54.109375 11.28125 \nL 54.109375 2.78125 \nQ 49.265625 0.734375 44.1875 -0.34375 \nQ 39.109375 -1.421875 33.890625 -1.421875 \nQ 20.796875 -1.421875 13.15625 6.1875 \nQ 5.515625 13.8125 5.515625 26.8125 \nQ 5.515625 40.234375 12.765625 48.109375 \nQ 20.015625 56 32.328125 56 \nQ 43.359375 56 49.78125 48.890625 \nQ 56.203125 41.796875 56.203125 29.59375 \nz\nM 47.21875 32.234375 \nQ 47.125 39.59375 43.09375 43.984375 \nQ 39.0625 48.390625 32.421875 48.390625 \nQ 24.90625 48.390625 20.390625 44.140625 \nQ 15.875 39.890625 15.1875 32.171875 \nz\n\" id=\"DejaVuSans-101\"/>\n    </defs>\n    <g transform=\"translate(198.594688 16.318125)scale(0.12 -0.12)\">\n     <use xlink:href=\"#DejaVuSans-115\"/>\n     <use x=\"52.099609\" xlink:href=\"#DejaVuSans-105\"/>\n     <use x=\"79.882812\" xlink:href=\"#DejaVuSans-122\"/>\n     <use x=\"132.373047\" xlink:href=\"#DejaVuSans-101\"/>\n    </g>\n   </g>\n  </g>\n </g>\n <defs>\n  <clipPath id=\"p124dcaff97\">\n   <rect height=\"217.44\" width=\"334.8\" x=\"42.828125\" y=\"22.318125\"/>\n  </clipPath>\n </defs>\n</svg>\n",
      "image/png": "[encoded data removed]"
     },
     "metadata": {
      "needs_background": "light"
     }
    },
    {
     "output_type": "display_data",
     "data": {
      "text/plain": "<Figure size 432x288 with 1 Axes>",
      "image/svg+xml": "<?xml version=\"1.0\" encoding=\"utf-8\" standalone=\"no\"?>\n<!DOCTYPE svg PUBLIC \"-//W3C//DTD SVG 1.1//EN\"\n  \"http://www.w3.org/Graphics/SVG/1.1/DTD/svg11.dtd\">\n<!-- Created with matplotlib (https://matplotlib.org/) -->\n<svg height=\"263.63625pt\" version=\"1.1\" viewBox=\"0 0 379.80379 263.63625\" width=\"379.80379pt\" xmlns=\"http://www.w3.org/2000/svg\" xmlns:xlink=\"http://www.w3.org/1999/xlink\">\n <defs>\n  <style type=\"text/css\">\n*{stroke-linecap:butt;stroke-linejoin:round;}\n  </style>\n </defs>\n <g id=\"figure_1\">\n  <g id=\"patch_1\">\n   <path d=\"M 0 263.63625 \nL 379.80379 263.63625 \nL 379.80379 0 \nL 0 0 \nz\n\" style=\"fill:none;\"/>\n  </g>\n  <g id=\"axes_1\">\n   <g id=\"patch_2\">\n    <path d=\"M 36.465625 239.758125 \nL 371.265625 239.758125 \nL 371.265625 22.318125 \nL 36.465625 22.318125 \nz\n\" style=\"fill:#ffffff;\"/>\n   </g>\n   <g id=\"patch_3\">\n    <path clip-path=\"url(#p7ba20feb1e)\" d=\"M 90.166277 239.758125 \nL 106.409041 239.758125 \nL 106.409041 233.702987 \nL 90.166277 233.702987 \nz\n\" style=\"fill:#1f77b4;opacity:0.4;\"/>\n   </g>\n   <g id=\"patch_4\">\n    <path clip-path=\"url(#p7ba20feb1e)\" d=\"M 106.409041 239.758125 \nL 122.651805 239.758125 \nL 122.651805 233.702987 \nL 106.409041 233.702987 \nz\n\" style=\"fill:#1f77b4;opacity:0.4;\"/>\n   </g>\n   <g id=\"patch_5\">\n    <path clip-path=\"url(#p7ba20feb1e)\" d=\"M 122.651805 239.758125 \nL 138.894569 239.758125 \nL 138.894569 221.592711 \nL 122.651805 221.592711 \nz\n\" style=\"fill:#1f77b4;opacity:0.4;\"/>\n   </g>\n   <g id=\"patch_6\">\n    <path clip-path=\"url(#p7ba20feb1e)\" d=\"M 138.894569 239.758125 \nL 155.137333 239.758125 \nL 155.137333 219.170656 \nL 138.894569 219.170656 \nz\n\" style=\"fill:#1f77b4;opacity:0.4;\"/>\n   </g>\n   <g id=\"patch_7\">\n    <path clip-path=\"url(#p7ba20feb1e)\" d=\"M 155.137333 239.758125 \nL 171.380097 239.758125 \nL 171.380097 199.794215 \nL 155.137333 199.794215 \nz\n\" style=\"fill:#1f77b4;opacity:0.4;\"/>\n   </g>\n   <g id=\"patch_8\">\n    <path clip-path=\"url(#p7ba20feb1e)\" d=\"M 171.380097 239.758125 \nL 187.622861 239.758125 \nL 187.622861 204.638326 \nL 171.380097 204.638326 \nz\n\" style=\"fill:#1f77b4;opacity:0.4;\"/>\n   </g>\n   <g id=\"patch_9\">\n    <path clip-path=\"url(#p7ba20feb1e)\" d=\"M 187.622861 239.758125 \nL 203.865625 239.758125 \nL 203.865625 139.242837 \nL 187.622861 139.242837 \nz\n\" style=\"fill:#1f77b4;opacity:0.4;\"/>\n   </g>\n   <g id=\"patch_10\">\n    <path clip-path=\"url(#p7ba20feb1e)\" d=\"M 203.865625 239.758125 \nL 220.108389 239.758125 \nL 220.108389 153.775168 \nL 203.865625 153.775168 \nz\n\" style=\"fill:#1f77b4;opacity:0.4;\"/>\n   </g>\n   <g id=\"patch_11\">\n    <path clip-path=\"url(#p7ba20feb1e)\" d=\"M 220.108389 239.758125 \nL 236.351153 239.758125 \nL 236.351153 167.096471 \nL 220.108389 167.096471 \nz\n\" style=\"fill:#1f77b4;opacity:0.4;\"/>\n   </g>\n   <g id=\"patch_12\">\n    <path clip-path=\"url(#p7ba20feb1e)\" d=\"M 236.351153 239.758125 \nL 252.593917 239.758125 \nL 252.593917 133.187699 \nL 236.351153 133.187699 \nz\n\" style=\"fill:#1f77b4;opacity:0.4;\"/>\n   </g>\n   <g id=\"patch_13\">\n    <path clip-path=\"url(#p7ba20feb1e)\" d=\"M 252.593917 239.758125 \nL 268.836681 239.758125 \nL 268.836681 110.178175 \nL 252.593917 110.178175 \nz\n\" style=\"fill:#1f77b4;opacity:0.4;\"/>\n   </g>\n   <g id=\"patch_14\">\n    <path clip-path=\"url(#p7ba20feb1e)\" d=\"M 268.836681 239.758125 \nL 285.079445 239.758125 \nL 285.079445 96.856872 \nL 268.836681 96.856872 \nz\n\" style=\"fill:#1f77b4;opacity:0.4;\"/>\n   </g>\n   <g id=\"patch_15\">\n    <path clip-path=\"url(#p7ba20feb1e)\" d=\"M 285.079445 239.758125 \nL 301.322209 239.758125 \nL 301.322209 85.957624 \nL 285.079445 85.957624 \nz\n\" style=\"fill:#1f77b4;opacity:0.4;\"/>\n   </g>\n   <g id=\"patch_16\">\n    <path clip-path=\"url(#p7ba20feb1e)\" d=\"M 301.322209 239.758125 \nL 317.564973 239.758125 \nL 317.564973 32.672411 \nL 301.322209 32.672411 \nz\n\" style=\"fill:#1f77b4;opacity:0.4;\"/>\n   </g>\n   <g id=\"matplotlib.axis_1\">\n    <g id=\"xtick_1\">\n     <g id=\"line2d_1\">\n      <defs>\n       <path d=\"M 0 0 \nL 0 3.5 \n\" id=\"m15fc325b8b\" style=\"stroke:#000000;stroke-width:0.8;\"/>\n      </defs>\n      <g>\n       <use style=\"stroke:#000000;stroke-width:0.8;\" x=\"61.65452\" xlink:href=\"#m15fc325b8b\" y=\"239.758125\"/>\n      </g>\n     </g>\n     <g id=\"text_1\">\n      <!-- 11.4 -->\n      <defs>\n       <path d=\"M 12.40625 8.296875 \nL 28.515625 8.296875 \nL 28.515625 63.921875 \nL 10.984375 60.40625 \nL 10.984375 69.390625 \nL 28.421875 72.90625 \nL 38.28125 72.90625 \nL 38.28125 8.296875 \nL 54.390625 8.296875 \nL 54.390625 0 \nL 12.40625 0 \nz\n\" id=\"DejaVuSans-49\"/>\n       <path d=\"M 10.6875 12.40625 \nL 21 12.40625 \nL 21 0 \nL 10.6875 0 \nz\n\" id=\"DejaVuSans-46\"/>\n       <path d=\"M 37.796875 64.3125 \nL 12.890625 25.390625 \nL 37.796875 25.390625 \nz\nM 35.203125 72.90625 \nL 47.609375 72.90625 \nL 47.609375 25.390625 \nL 58.015625 25.390625 \nL 58.015625 17.1875 \nL 47.609375 17.1875 \nL 47.609375 0 \nL 37.796875 0 \nL 37.796875 17.1875 \nL 4.890625 17.1875 \nL 4.890625 26.703125 \nz\n\" id=\"DejaVuSans-52\"/>\n      </defs>\n      <g transform=\"translate(50.521707 254.356563)scale(0.1 -0.1)\">\n       <use xlink:href=\"#DejaVuSans-49\"/>\n       <use x=\"63.623047\" xlink:href=\"#DejaVuSans-49\"/>\n       <use x=\"127.246094\" xlink:href=\"#DejaVuSans-46\"/>\n       <use x=\"159.033203\" xlink:href=\"#DejaVuSans-52\"/>\n      </g>\n     </g>\n    </g>\n    <g id=\"xtick_2\">\n     <g id=\"line2d_2\">\n      <g>\n       <use style=\"stroke:#000000;stroke-width:0.8;\" x=\"99.131577\" xlink:href=\"#m15fc325b8b\" y=\"239.758125\"/>\n      </g>\n     </g>\n     <g id=\"text_2\">\n      <!-- 11.6 -->\n      <defs>\n       <path d=\"M 33.015625 40.375 \nQ 26.375 40.375 22.484375 35.828125 \nQ 18.609375 31.296875 18.609375 23.390625 \nQ 18.609375 15.53125 22.484375 10.953125 \nQ 26.375 6.390625 33.015625 6.390625 \nQ 39.65625 6.390625 43.53125 10.953125 \nQ 47.40625 15.53125 47.40625 23.390625 \nQ 47.40625 31.296875 43.53125 35.828125 \nQ 39.65625 40.375 33.015625 40.375 \nz\nM 52.59375 71.296875 \nL 52.59375 62.3125 \nQ 48.875 64.0625 45.09375 64.984375 \nQ 41.3125 65.921875 37.59375 65.921875 \nQ 27.828125 65.921875 22.671875 59.328125 \nQ 17.53125 52.734375 16.796875 39.40625 \nQ 19.671875 43.65625 24.015625 45.921875 \nQ 28.375 48.1875 33.59375 48.1875 \nQ 44.578125 48.1875 50.953125 41.515625 \nQ 57.328125 34.859375 57.328125 23.390625 \nQ 57.328125 12.15625 50.6875 5.359375 \nQ 44.046875 -1.421875 33.015625 -1.421875 \nQ 20.359375 -1.421875 13.671875 8.265625 \nQ 6.984375 17.96875 6.984375 36.375 \nQ 6.984375 53.65625 15.1875 63.9375 \nQ 23.390625 74.21875 37.203125 74.21875 \nQ 40.921875 74.21875 44.703125 73.484375 \nQ 48.484375 72.75 52.59375 71.296875 \nz\n\" id=\"DejaVuSans-54\"/>\n      </defs>\n      <g transform=\"translate(87.998765 254.356563)scale(0.1 -0.1)\">\n       <use xlink:href=\"#DejaVuSans-49\"/>\n       <use x=\"63.623047\" xlink:href=\"#DejaVuSans-49\"/>\n       <use x=\"127.246094\" xlink:href=\"#DejaVuSans-46\"/>\n       <use x=\"159.033203\" xlink:href=\"#DejaVuSans-54\"/>\n      </g>\n     </g>\n    </g>\n    <g id=\"xtick_3\">\n     <g id=\"line2d_3\">\n      <g>\n       <use style=\"stroke:#000000;stroke-width:0.8;\" x=\"136.608634\" xlink:href=\"#m15fc325b8b\" y=\"239.758125\"/>\n      </g>\n     </g>\n     <g id=\"text_3\">\n      <!-- 11.8 -->\n      <defs>\n       <path d=\"M 31.78125 34.625 \nQ 24.75 34.625 20.71875 30.859375 \nQ 16.703125 27.09375 16.703125 20.515625 \nQ 16.703125 13.921875 20.71875 10.15625 \nQ 24.75 6.390625 31.78125 6.390625 \nQ 38.8125 6.390625 42.859375 10.171875 \nQ 46.921875 13.96875 46.921875 20.515625 \nQ 46.921875 27.09375 42.890625 30.859375 \nQ 38.875 34.625 31.78125 34.625 \nz\nM 21.921875 38.8125 \nQ 15.578125 40.375 12.03125 44.71875 \nQ 8.5 49.078125 8.5 55.328125 \nQ 8.5 64.0625 14.71875 69.140625 \nQ 20.953125 74.21875 31.78125 74.21875 \nQ 42.671875 74.21875 48.875 69.140625 \nQ 55.078125 64.0625 55.078125 55.328125 \nQ 55.078125 49.078125 51.53125 44.71875 \nQ 48 40.375 41.703125 38.8125 \nQ 48.828125 37.15625 52.796875 32.3125 \nQ 56.78125 27.484375 56.78125 20.515625 \nQ 56.78125 9.90625 50.3125 4.234375 \nQ 43.84375 -1.421875 31.78125 -1.421875 \nQ 19.734375 -1.421875 13.25 4.234375 \nQ 6.78125 9.90625 6.78125 20.515625 \nQ 6.78125 27.484375 10.78125 32.3125 \nQ 14.796875 37.15625 21.921875 38.8125 \nz\nM 18.3125 54.390625 \nQ 18.3125 48.734375 21.84375 45.5625 \nQ 25.390625 42.390625 31.78125 42.390625 \nQ 38.140625 42.390625 41.71875 45.5625 \nQ 45.3125 48.734375 45.3125 54.390625 \nQ 45.3125 60.0625 41.71875 63.234375 \nQ 38.140625 66.40625 31.78125 66.40625 \nQ 25.390625 66.40625 21.84375 63.234375 \nQ 18.3125 60.0625 18.3125 54.390625 \nz\n\" id=\"DejaVuSans-56\"/>\n      </defs>\n      <g transform=\"translate(125.475822 254.356563)scale(0.1 -0.1)\">\n       <use xlink:href=\"#DejaVuSans-49\"/>\n       <use x=\"63.623047\" xlink:href=\"#DejaVuSans-49\"/>\n       <use x=\"127.246094\" xlink:href=\"#DejaVuSans-46\"/>\n       <use x=\"159.033203\" xlink:href=\"#DejaVuSans-56\"/>\n      </g>\n     </g>\n    </g>\n    <g id=\"xtick_4\">\n     <g id=\"line2d_4\">\n      <g>\n       <use style=\"stroke:#000000;stroke-width:0.8;\" x=\"174.085692\" xlink:href=\"#m15fc325b8b\" y=\"239.758125\"/>\n      </g>\n     </g>\n     <g id=\"text_4\">\n      <!-- 12.0 -->\n      <defs>\n       <path d=\"M 19.1875 8.296875 \nL 53.609375 8.296875 \nL 53.609375 0 \nL 7.328125 0 \nL 7.328125 8.296875 \nQ 12.9375 14.109375 22.625 23.890625 \nQ 32.328125 33.6875 34.8125 36.53125 \nQ 39.546875 41.84375 41.421875 45.53125 \nQ 43.3125 49.21875 43.3125 52.78125 \nQ 43.3125 58.59375 39.234375 62.25 \nQ 35.15625 65.921875 28.609375 65.921875 \nQ 23.96875 65.921875 18.8125 64.3125 \nQ 13.671875 62.703125 7.8125 59.421875 \nL 7.8125 69.390625 \nQ 13.765625 71.78125 18.9375 73 \nQ 24.125 74.21875 28.421875 74.21875 \nQ 39.75 74.21875 46.484375 68.546875 \nQ 53.21875 62.890625 53.21875 53.421875 \nQ 53.21875 48.921875 51.53125 44.890625 \nQ 49.859375 40.875 45.40625 35.40625 \nQ 44.1875 33.984375 37.640625 27.21875 \nQ 31.109375 20.453125 19.1875 8.296875 \nz\n\" id=\"DejaVuSans-50\"/>\n       <path d=\"M 31.78125 66.40625 \nQ 24.171875 66.40625 20.328125 58.90625 \nQ 16.5 51.421875 16.5 36.375 \nQ 16.5 21.390625 20.328125 13.890625 \nQ 24.171875 6.390625 31.78125 6.390625 \nQ 39.453125 6.390625 43.28125 13.890625 \nQ 47.125 21.390625 47.125 36.375 \nQ 47.125 51.421875 43.28125 58.90625 \nQ 39.453125 66.40625 31.78125 66.40625 \nz\nM 31.78125 74.21875 \nQ 44.046875 74.21875 50.515625 64.515625 \nQ 56.984375 54.828125 56.984375 36.375 \nQ 56.984375 17.96875 50.515625 8.265625 \nQ 44.046875 -1.421875 31.78125 -1.421875 \nQ 19.53125 -1.421875 13.0625 8.265625 \nQ 6.59375 17.96875 6.59375 36.375 \nQ 6.59375 54.828125 13.0625 64.515625 \nQ 19.53125 74.21875 31.78125 74.21875 \nz\n\" id=\"DejaVuSans-48\"/>\n      </defs>\n      <g transform=\"translate(162.952879 254.356563)scale(0.1 -0.1)\">\n       <use xlink:href=\"#DejaVuSans-49\"/>\n       <use x=\"63.623047\" xlink:href=\"#DejaVuSans-50\"/>\n       <use x=\"127.246094\" xlink:href=\"#DejaVuSans-46\"/>\n       <use x=\"159.033203\" xlink:href=\"#DejaVuSans-48\"/>\n      </g>\n     </g>\n    </g>\n    <g id=\"xtick_5\">\n     <g id=\"line2d_5\">\n      <g>\n       <use style=\"stroke:#000000;stroke-width:0.8;\" x=\"211.562749\" xlink:href=\"#m15fc325b8b\" y=\"239.758125\"/>\n      </g>\n     </g>\n     <g id=\"text_5\">\n      <!-- 12.2 -->\n      <g transform=\"translate(200.429936 254.356563)scale(0.1 -0.1)\">\n       <use xlink:href=\"#DejaVuSans-49\"/>\n       <use x=\"63.623047\" xlink:href=\"#DejaVuSans-50\"/>\n       <use x=\"127.246094\" xlink:href=\"#DejaVuSans-46\"/>\n       <use x=\"159.033203\" xlink:href=\"#DejaVuSans-50\"/>\n      </g>\n     </g>\n    </g>\n    <g id=\"xtick_6\">\n     <g id=\"line2d_6\">\n      <g>\n       <use style=\"stroke:#000000;stroke-width:0.8;\" x=\"249.039806\" xlink:href=\"#m15fc325b8b\" y=\"239.758125\"/>\n      </g>\n     </g>\n     <g id=\"text_6\">\n      <!-- 12.4 -->\n      <g transform=\"translate(237.906994 254.356563)scale(0.1 -0.1)\">\n       <use xlink:href=\"#DejaVuSans-49\"/>\n       <use x=\"63.623047\" xlink:href=\"#DejaVuSans-50\"/>\n       <use x=\"127.246094\" xlink:href=\"#DejaVuSans-46\"/>\n       <use x=\"159.033203\" xlink:href=\"#DejaVuSans-52\"/>\n      </g>\n     </g>\n    </g>\n    <g id=\"xtick_7\">\n     <g id=\"line2d_7\">\n      <g>\n       <use style=\"stroke:#000000;stroke-width:0.8;\" x=\"286.516863\" xlink:href=\"#m15fc325b8b\" y=\"239.758125\"/>\n      </g>\n     </g>\n     <g id=\"text_7\">\n      <!-- 12.6 -->\n      <g transform=\"translate(275.384051 254.356563)scale(0.1 -0.1)\">\n       <use xlink:href=\"#DejaVuSans-49\"/>\n       <use x=\"63.623047\" xlink:href=\"#DejaVuSans-50\"/>\n       <use x=\"127.246094\" xlink:href=\"#DejaVuSans-46\"/>\n       <use x=\"159.033203\" xlink:href=\"#DejaVuSans-54\"/>\n      </g>\n     </g>\n    </g>\n    <g id=\"xtick_8\">\n     <g id=\"line2d_8\">\n      <g>\n       <use style=\"stroke:#000000;stroke-width:0.8;\" x=\"323.993921\" xlink:href=\"#m15fc325b8b\" y=\"239.758125\"/>\n      </g>\n     </g>\n     <g id=\"text_8\">\n      <!-- 12.8 -->\n      <g transform=\"translate(312.861108 254.356563)scale(0.1 -0.1)\">\n       <use xlink:href=\"#DejaVuSans-49\"/>\n       <use x=\"63.623047\" xlink:href=\"#DejaVuSans-50\"/>\n       <use x=\"127.246094\" xlink:href=\"#DejaVuSans-46\"/>\n       <use x=\"159.033203\" xlink:href=\"#DejaVuSans-56\"/>\n      </g>\n     </g>\n    </g>\n    <g id=\"xtick_9\">\n     <g id=\"line2d_9\">\n      <g>\n       <use style=\"stroke:#000000;stroke-width:0.8;\" x=\"361.470978\" xlink:href=\"#m15fc325b8b\" y=\"239.758125\"/>\n      </g>\n     </g>\n     <g id=\"text_9\">\n      <!-- 13.0 -->\n      <defs>\n       <path d=\"M 40.578125 39.3125 \nQ 47.65625 37.796875 51.625 33 \nQ 55.609375 28.21875 55.609375 21.1875 \nQ 55.609375 10.40625 48.1875 4.484375 \nQ 40.765625 -1.421875 27.09375 -1.421875 \nQ 22.515625 -1.421875 17.65625 -0.515625 \nQ 12.796875 0.390625 7.625 2.203125 \nL 7.625 11.71875 \nQ 11.71875 9.328125 16.59375 8.109375 \nQ 21.484375 6.890625 26.8125 6.890625 \nQ 36.078125 6.890625 40.9375 10.546875 \nQ 45.796875 14.203125 45.796875 21.1875 \nQ 45.796875 27.640625 41.28125 31.265625 \nQ 36.765625 34.90625 28.71875 34.90625 \nL 20.21875 34.90625 \nL 20.21875 43.015625 \nL 29.109375 43.015625 \nQ 36.375 43.015625 40.234375 45.921875 \nQ 44.09375 48.828125 44.09375 54.296875 \nQ 44.09375 59.90625 40.109375 62.90625 \nQ 36.140625 65.921875 28.71875 65.921875 \nQ 24.65625 65.921875 20.015625 65.03125 \nQ 15.375 64.15625 9.8125 62.3125 \nL 9.8125 71.09375 \nQ 15.4375 72.65625 20.34375 73.4375 \nQ 25.25 74.21875 29.59375 74.21875 \nQ 40.828125 74.21875 47.359375 69.109375 \nQ 53.90625 64.015625 53.90625 55.328125 \nQ 53.90625 49.265625 50.4375 45.09375 \nQ 46.96875 40.921875 40.578125 39.3125 \nz\n\" id=\"DejaVuSans-51\"/>\n      </defs>\n      <g transform=\"translate(350.338165 254.356563)scale(0.1 -0.1)\">\n       <use xlink:href=\"#DejaVuSans-49\"/>\n       <use x=\"63.623047\" xlink:href=\"#DejaVuSans-51\"/>\n       <use x=\"127.246094\" xlink:href=\"#DejaVuSans-46\"/>\n       <use x=\"159.033203\" xlink:href=\"#DejaVuSans-48\"/>\n      </g>\n     </g>\n    </g>\n   </g>\n   <g id=\"matplotlib.axis_2\">\n    <g id=\"ytick_1\">\n     <g id=\"line2d_10\">\n      <defs>\n       <path d=\"M 0 0 \nL -3.5 0 \n\" id=\"m82ac1694cd\" style=\"stroke:#000000;stroke-width:0.8;\"/>\n      </defs>\n      <g>\n       <use style=\"stroke:#000000;stroke-width:0.8;\" x=\"36.465625\" xlink:href=\"#m82ac1694cd\" y=\"239.758125\"/>\n      </g>\n     </g>\n     <g id=\"text_10\">\n      <!-- 0.00 -->\n      <g transform=\"translate(7.2 243.557344)scale(0.1 -0.1)\">\n       <use xlink:href=\"#DejaVuSans-48\"/>\n       <use x=\"63.623047\" xlink:href=\"#DejaVuSans-46\"/>\n       <use x=\"95.410156\" xlink:href=\"#DejaVuSans-48\"/>\n       <use x=\"159.033203\" xlink:href=\"#DejaVuSans-48\"/>\n      </g>\n     </g>\n    </g>\n    <g id=\"ytick_2\">\n     <g id=\"line2d_11\">\n      <g>\n       <use style=\"stroke:#000000;stroke-width:0.8;\" x=\"36.465625\" xlink:href=\"#m82ac1694cd\" y=\"215.378097\"/>\n      </g>\n     </g>\n     <g id=\"text_11\">\n      <!-- 0.25 -->\n      <defs>\n       <path d=\"M 10.796875 72.90625 \nL 49.515625 72.90625 \nL 49.515625 64.59375 \nL 19.828125 64.59375 \nL 19.828125 46.734375 \nQ 21.96875 47.46875 24.109375 47.828125 \nQ 26.265625 48.1875 28.421875 48.1875 \nQ 40.625 48.1875 47.75 41.5 \nQ 54.890625 34.8125 54.890625 23.390625 \nQ 54.890625 11.625 47.5625 5.09375 \nQ 40.234375 -1.421875 26.90625 -1.421875 \nQ 22.3125 -1.421875 17.546875 -0.640625 \nQ 12.796875 0.140625 7.71875 1.703125 \nL 7.71875 11.625 \nQ 12.109375 9.234375 16.796875 8.0625 \nQ 21.484375 6.890625 26.703125 6.890625 \nQ 35.15625 6.890625 40.078125 11.328125 \nQ 45.015625 15.765625 45.015625 23.390625 \nQ 45.015625 31 40.078125 35.4375 \nQ 35.15625 39.890625 26.703125 39.890625 \nQ 22.75 39.890625 18.8125 39.015625 \nQ 14.890625 38.140625 10.796875 36.28125 \nz\n\" id=\"DejaVuSans-53\"/>\n      </defs>\n      <g transform=\"translate(7.2 219.177316)scale(0.1 -0.1)\">\n       <use xlink:href=\"#DejaVuSans-48\"/>\n       <use x=\"63.623047\" xlink:href=\"#DejaVuSans-46\"/>\n       <use x=\"95.410156\" xlink:href=\"#DejaVuSans-50\"/>\n       <use x=\"159.033203\" xlink:href=\"#DejaVuSans-53\"/>\n      </g>\n     </g>\n    </g>\n    <g id=\"ytick_3\">\n     <g id=\"line2d_12\">\n      <g>\n       <use style=\"stroke:#000000;stroke-width:0.8;\" x=\"36.465625\" xlink:href=\"#m82ac1694cd\" y=\"190.998069\"/>\n      </g>\n     </g>\n     <g id=\"text_12\">\n      <!-- 0.50 -->\n      <g transform=\"translate(7.2 194.797288)scale(0.1 -0.1)\">\n       <use xlink:href=\"#DejaVuSans-48\"/>\n       <use x=\"63.623047\" xlink:href=\"#DejaVuSans-46\"/>\n       <use x=\"95.410156\" xlink:href=\"#DejaVuSans-53\"/>\n       <use x=\"159.033203\" xlink:href=\"#DejaVuSans-48\"/>\n      </g>\n     </g>\n    </g>\n    <g id=\"ytick_4\">\n     <g id=\"line2d_13\">\n      <g>\n       <use style=\"stroke:#000000;stroke-width:0.8;\" x=\"36.465625\" xlink:href=\"#m82ac1694cd\" y=\"166.618041\"/>\n      </g>\n     </g>\n     <g id=\"text_13\">\n      <!-- 0.75 -->\n      <defs>\n       <path d=\"M 8.203125 72.90625 \nL 55.078125 72.90625 \nL 55.078125 68.703125 \nL 28.609375 0 \nL 18.3125 0 \nL 43.21875 64.59375 \nL 8.203125 64.59375 \nz\n\" id=\"DejaVuSans-55\"/>\n      </defs>\n      <g transform=\"translate(7.2 170.41726)scale(0.1 -0.1)\">\n       <use xlink:href=\"#DejaVuSans-48\"/>\n       <use x=\"63.623047\" xlink:href=\"#DejaVuSans-46\"/>\n       <use x=\"95.410156\" xlink:href=\"#DejaVuSans-55\"/>\n       <use x=\"159.033203\" xlink:href=\"#DejaVuSans-53\"/>\n      </g>\n     </g>\n    </g>\n    <g id=\"ytick_5\">\n     <g id=\"line2d_14\">\n      <g>\n       <use style=\"stroke:#000000;stroke-width:0.8;\" x=\"36.465625\" xlink:href=\"#m82ac1694cd\" y=\"142.238013\"/>\n      </g>\n     </g>\n     <g id=\"text_14\">\n      <!-- 1.00 -->\n      <g transform=\"translate(7.2 146.037231)scale(0.1 -0.1)\">\n       <use xlink:href=\"#DejaVuSans-49\"/>\n       <use x=\"63.623047\" xlink:href=\"#DejaVuSans-46\"/>\n       <use x=\"95.410156\" xlink:href=\"#DejaVuSans-48\"/>\n       <use x=\"159.033203\" xlink:href=\"#DejaVuSans-48\"/>\n      </g>\n     </g>\n    </g>\n    <g id=\"ytick_6\">\n     <g id=\"line2d_15\">\n      <g>\n       <use style=\"stroke:#000000;stroke-width:0.8;\" x=\"36.465625\" xlink:href=\"#m82ac1694cd\" y=\"117.857985\"/>\n      </g>\n     </g>\n     <g id=\"text_15\">\n      <!-- 1.25 -->\n      <g transform=\"translate(7.2 121.657203)scale(0.1 -0.1)\">\n       <use xlink:href=\"#DejaVuSans-49\"/>\n       <use x=\"63.623047\" xlink:href=\"#DejaVuSans-46\"/>\n       <use x=\"95.410156\" xlink:href=\"#DejaVuSans-50\"/>\n       <use x=\"159.033203\" xlink:href=\"#DejaVuSans-53\"/>\n      </g>\n     </g>\n    </g>\n    <g id=\"ytick_7\">\n     <g id=\"line2d_16\">\n      <g>\n       <use style=\"stroke:#000000;stroke-width:0.8;\" x=\"36.465625\" xlink:href=\"#m82ac1694cd\" y=\"93.477957\"/>\n      </g>\n     </g>\n     <g id=\"text_16\">\n      <!-- 1.50 -->\n      <g transform=\"translate(7.2 97.277175)scale(0.1 -0.1)\">\n       <use xlink:href=\"#DejaVuSans-49\"/>\n       <use x=\"63.623047\" xlink:href=\"#DejaVuSans-46\"/>\n       <use x=\"95.410156\" xlink:href=\"#DejaVuSans-53\"/>\n       <use x=\"159.033203\" xlink:href=\"#DejaVuSans-48\"/>\n      </g>\n     </g>\n    </g>\n    <g id=\"ytick_8\">\n     <g id=\"line2d_17\">\n      <g>\n       <use style=\"stroke:#000000;stroke-width:0.8;\" x=\"36.465625\" xlink:href=\"#m82ac1694cd\" y=\"69.097929\"/>\n      </g>\n     </g>\n     <g id=\"text_17\">\n      <!-- 1.75 -->\n      <g transform=\"translate(7.2 72.897147)scale(0.1 -0.1)\">\n       <use xlink:href=\"#DejaVuSans-49\"/>\n       <use x=\"63.623047\" xlink:href=\"#DejaVuSans-46\"/>\n       <use x=\"95.410156\" xlink:href=\"#DejaVuSans-55\"/>\n       <use x=\"159.033203\" xlink:href=\"#DejaVuSans-53\"/>\n      </g>\n     </g>\n    </g>\n    <g id=\"ytick_9\">\n     <g id=\"line2d_18\">\n      <g>\n       <use style=\"stroke:#000000;stroke-width:0.8;\" x=\"36.465625\" xlink:href=\"#m82ac1694cd\" y=\"44.7179\"/>\n      </g>\n     </g>\n     <g id=\"text_18\">\n      <!-- 2.00 -->\n      <g transform=\"translate(7.2 48.517119)scale(0.1 -0.1)\">\n       <use xlink:href=\"#DejaVuSans-50\"/>\n       <use x=\"63.623047\" xlink:href=\"#DejaVuSans-46\"/>\n       <use x=\"95.410156\" xlink:href=\"#DejaVuSans-48\"/>\n       <use x=\"159.033203\" xlink:href=\"#DejaVuSans-48\"/>\n      </g>\n     </g>\n    </g>\n   </g>\n   <g id=\"line2d_19\">\n    <path clip-path=\"url(#p7ba20feb1e)\" d=\"M 51.683807 239.744122 \nL 54.758187 239.729104 \nL 57.832567 239.701112 \nL 60.906947 239.651894 \nL 63.981327 239.570253 \nL 67.055708 239.442492 \nL 70.130088 239.253854 \nL 73.204468 238.99102 \nL 76.278848 238.645308 \nL 79.353228 238.215773 \nL 82.427608 237.711069 \nL 85.501989 237.149054 \nL 88.576369 236.553638 \nL 91.650749 235.949212 \nL 94.725129 235.35386 \nL 97.799509 234.773089 \nL 100.873889 234.195856 \nL 103.94827 233.594287 \nL 107.02265 232.927751 \nL 110.09703 232.151019 \nL 113.17141 231.225196 \nL 116.24579 230.129072 \nL 119.32017 228.867852 \nL 122.394551 227.476223 \nL 125.468931 226.013839 \nL 128.543311 224.553226 \nL 131.617691 223.162453 \nL 134.692071 221.886652 \nL 137.766451 220.733229 \nL 140.840832 219.664956 \nL 143.915212 218.603516 \nL 146.989592 217.443558 \nL 150.063972 216.074506 \nL 153.138352 214.404607 \nL 156.212732 212.380095 \nL 159.287113 209.992796 \nL 162.361493 207.272672 \nL 165.435873 204.2671 \nL 168.510253 201.014172 \nL 171.584633 197.520624 \nL 174.659013 193.754321 \nL 177.733394 189.656417 \nL 180.807774 185.171124 \nL 183.882154 180.284238 \nL 186.956534 175.057827 \nL 190.030914 169.649194 \nL 193.105294 164.306809 \nL 196.179675 159.342486 \nL 199.254055 155.085112 \nL 202.328435 151.825101 \nL 205.402815 149.759972 \nL 208.477195 148.950852 \nL 211.551575 149.298065 \nL 214.625956 150.541554 \nL 217.700336 152.28829 \nL 220.774716 154.064065 \nL 223.849096 155.381832 \nL 226.923476 155.814547 \nL 229.997856 155.058664 \nL 233.072237 152.975636 \nL 236.146617 149.602997 \nL 239.220997 145.133142 \nL 242.295377 139.865709 \nL 245.369757 134.14637 \nL 248.444137 128.308305 \nL 251.518518 122.630612 \nL 254.592898 117.320768 \nL 257.667278 112.518852 \nL 260.741658 108.313979 \nL 263.816038 104.761324 \nL 266.890418 101.891208 \nL 269.964799 99.707578 \nL 273.039179 98.178335 \nL 276.113559 97.223106 \nL 279.187939 96.705465 \nL 282.262319 96.437428 \nL 285.336699 96.204102 \nL 288.41108 95.813555 \nL 291.48546 95.169225 \nL 294.55984 94.35003 \nL 297.63422 93.671143 \nL 300.7086 93.693499 \nL 303.78298 95.158298 \nL 306.857361 98.844895 \nL 309.931741 105.379878 \nL 313.006121 115.049913 \nL 316.080501 127.678894 \nL 319.154881 142.614852 \nL 322.229261 158.837679 \nL 325.303642 175.158099 \nL 328.378022 190.448325 \nL 331.452402 203.837729 \nL 334.526782 214.824526 \nL 337.601162 223.287458 \nL 340.675542 229.414799 \nL 343.749923 233.588652 \nL 346.824303 236.265499 \nL 349.898683 237.882702 \nL 352.973063 238.803445 \nL 356.047443 239.297626 \n\" style=\"fill:none;stroke:#1f77b4;stroke-linecap:square;stroke-width:1.5;\"/>\n   </g>\n   <g id=\"patch_17\">\n    <path d=\"M 36.465625 239.758125 \nL 36.465625 22.318125 \n\" style=\"fill:none;stroke:#000000;stroke-linecap:square;stroke-linejoin:miter;stroke-width:0.8;\"/>\n   </g>\n   <g id=\"patch_18\">\n    <path d=\"M 371.265625 239.758125 \nL 371.265625 22.318125 \n\" style=\"fill:none;stroke:#000000;stroke-linecap:square;stroke-linejoin:miter;stroke-width:0.8;\"/>\n   </g>\n   <g id=\"patch_19\">\n    <path d=\"M 36.465625 239.758125 \nL 371.265625 239.758125 \n\" style=\"fill:none;stroke:#000000;stroke-linecap:square;stroke-linejoin:miter;stroke-width:0.8;\"/>\n   </g>\n   <g id=\"patch_20\">\n    <path d=\"M 36.465625 22.318125 \nL 371.265625 22.318125 \n\" style=\"fill:none;stroke:#000000;stroke-linecap:square;stroke-linejoin:miter;stroke-width:0.8;\"/>\n   </g>\n   <g id=\"text_19\">\n    <!-- price -->\n    <defs>\n     <path d=\"M 18.109375 8.203125 \nL 18.109375 -20.796875 \nL 9.078125 -20.796875 \nL 9.078125 54.6875 \nL 18.109375 54.6875 \nL 18.109375 46.390625 \nQ 20.953125 51.265625 25.265625 53.625 \nQ 29.59375 56 35.59375 56 \nQ 45.5625 56 51.78125 48.09375 \nQ 58.015625 40.1875 58.015625 27.296875 \nQ 58.015625 14.40625 51.78125 6.484375 \nQ 45.5625 -1.421875 35.59375 -1.421875 \nQ 29.59375 -1.421875 25.265625 0.953125 \nQ 20.953125 3.328125 18.109375 8.203125 \nz\nM 48.6875 27.296875 \nQ 48.6875 37.203125 44.609375 42.84375 \nQ 40.53125 48.484375 33.40625 48.484375 \nQ 26.265625 48.484375 22.1875 42.84375 \nQ 18.109375 37.203125 18.109375 27.296875 \nQ 18.109375 17.390625 22.1875 11.75 \nQ 26.265625 6.109375 33.40625 6.109375 \nQ 40.53125 6.109375 44.609375 11.75 \nQ 48.6875 17.390625 48.6875 27.296875 \nz\n\" id=\"DejaVuSans-112\"/>\n     <path d=\"M 41.109375 46.296875 \nQ 39.59375 47.171875 37.8125 47.578125 \nQ 36.03125 48 33.890625 48 \nQ 26.265625 48 22.1875 43.046875 \nQ 18.109375 38.09375 18.109375 28.8125 \nL 18.109375 0 \nL 9.078125 0 \nL 9.078125 54.6875 \nL 18.109375 54.6875 \nL 18.109375 46.1875 \nQ 20.953125 51.171875 25.484375 53.578125 \nQ 30.03125 56 36.53125 56 \nQ 37.453125 56 38.578125 55.875 \nQ 39.703125 55.765625 41.0625 55.515625 \nz\n\" id=\"DejaVuSans-114\"/>\n     <path d=\"M 9.421875 54.6875 \nL 18.40625 54.6875 \nL 18.40625 0 \nL 9.421875 0 \nz\nM 9.421875 75.984375 \nL 18.40625 75.984375 \nL 18.40625 64.59375 \nL 9.421875 64.59375 \nz\n\" id=\"DejaVuSans-105\"/>\n     <path d=\"M 48.78125 52.59375 \nL 48.78125 44.1875 \nQ 44.96875 46.296875 41.140625 47.34375 \nQ 37.3125 48.390625 33.40625 48.390625 \nQ 24.65625 48.390625 19.8125 42.84375 \nQ 14.984375 37.3125 14.984375 27.296875 \nQ 14.984375 17.28125 19.8125 11.734375 \nQ 24.65625 6.203125 33.40625 6.203125 \nQ 37.3125 6.203125 41.140625 7.25 \nQ 44.96875 8.296875 48.78125 10.40625 \nL 48.78125 2.09375 \nQ 45.015625 0.34375 40.984375 -0.53125 \nQ 36.96875 -1.421875 32.421875 -1.421875 \nQ 20.0625 -1.421875 12.78125 6.34375 \nQ 5.515625 14.109375 5.515625 27.296875 \nQ 5.515625 40.671875 12.859375 48.328125 \nQ 20.21875 56 33.015625 56 \nQ 37.15625 56 41.109375 55.140625 \nQ 45.0625 54.296875 48.78125 52.59375 \nz\n\" id=\"DejaVuSans-99\"/>\n     <path d=\"M 56.203125 29.59375 \nL 56.203125 25.203125 \nL 14.890625 25.203125 \nQ 15.484375 15.921875 20.484375 11.0625 \nQ 25.484375 6.203125 34.421875 6.203125 \nQ 39.59375 6.203125 44.453125 7.46875 \nQ 49.3125 8.734375 54.109375 11.28125 \nL 54.109375 2.78125 \nQ 49.265625 0.734375 44.1875 -0.34375 \nQ 39.109375 -1.421875 33.890625 -1.421875 \nQ 20.796875 -1.421875 13.15625 6.1875 \nQ 5.515625 13.8125 5.515625 26.8125 \nQ 5.515625 40.234375 12.765625 48.109375 \nQ 20.015625 56 32.328125 56 \nQ 43.359375 56 49.78125 48.890625 \nQ 56.203125 41.796875 56.203125 29.59375 \nz\nM 47.21875 32.234375 \nQ 47.125 39.59375 43.09375 43.984375 \nQ 39.0625 48.390625 32.421875 48.390625 \nQ 24.90625 48.390625 20.390625 44.140625 \nQ 15.875 39.890625 15.1875 32.171875 \nz\n\" id=\"DejaVuSans-101\"/>\n    </defs>\n    <g transform=\"translate(188.932188 16.318125)scale(0.12 -0.12)\">\n     <use xlink:href=\"#DejaVuSans-112\"/>\n     <use x=\"63.476562\" xlink:href=\"#DejaVuSans-114\"/>\n     <use x=\"104.589844\" xlink:href=\"#DejaVuSans-105\"/>\n     <use x=\"132.373047\" xlink:href=\"#DejaVuSans-99\"/>\n     <use x=\"187.353516\" xlink:href=\"#DejaVuSans-101\"/>\n    </g>\n   </g>\n  </g>\n </g>\n <defs>\n  <clipPath id=\"p7ba20feb1e\">\n   <rect height=\"217.44\" width=\"334.8\" x=\"36.465625\" y=\"22.318125\"/>\n  </clipPath>\n </defs>\n</svg>\n",
      "image/png": "[encoded data removed]"
     },
     "metadata": {
      "needs_background": "light"
     }
    },
    {
     "output_type": "display_data",
     "data": {
      "text/plain": "<Figure size 432x288 with 1 Axes>",
      "image/svg+xml": "<?xml version=\"1.0\" encoding=\"utf-8\" standalone=\"no\"?>\n<!DOCTYPE svg PUBLIC \"-//W3C//DTD SVG 1.1//EN\"\n  \"http://www.w3.org/Graphics/SVG/1.1/DTD/svg11.dtd\">\n<!-- Created with matplotlib (https://matplotlib.org/) -->\n<svg height=\"263.63625pt\" version=\"1.1\" viewBox=\"0 0 372.103125 263.63625\" width=\"372.103125pt\" xmlns=\"http://www.w3.org/2000/svg\" xmlns:xlink=\"http://www.w3.org/1999/xlink\">\n <defs>\n  <style type=\"text/css\">\n*{stroke-linecap:butt;stroke-linejoin:round;}\n  </style>\n </defs>\n <g id=\"figure_1\">\n  <g id=\"patch_1\">\n   <path d=\"M 0 263.63625 \nL 372.103125 263.63625 \nL 372.103125 0 \nL 0 0 \nz\n\" style=\"fill:none;\"/>\n  </g>\n  <g id=\"axes_1\">\n   <g id=\"patch_2\">\n    <path d=\"M 30.103125 239.758125 \nL 364.903125 239.758125 \nL 364.903125 22.318125 \nL 30.103125 22.318125 \nz\n\" style=\"fill:#ffffff;\"/>\n   </g>\n   <g id=\"patch_3\">\n    <path clip-path=\"url(#pa8507b0836)\" d=\"M 71.315289 239.758125 \nL 80.017898 239.758125 \nL 80.017898 237.909145 \nL 71.315289 237.909145 \nz\n\" style=\"fill:#1f77b4;opacity:0.4;\"/>\n   </g>\n   <g id=\"patch_4\">\n    <path clip-path=\"url(#pa8507b0836)\" d=\"M 80.017898 239.758125 \nL 88.720508 239.758125 \nL 88.720508 239.758125 \nL 80.017898 239.758125 \nz\n\" style=\"fill:#1f77b4;opacity:0.4;\"/>\n   </g>\n   <g id=\"patch_5\">\n    <path clip-path=\"url(#pa8507b0836)\" d=\"M 88.720508 239.758125 \nL 97.423117 239.758125 \nL 97.423117 239.758125 \nL 88.720508 239.758125 \nz\n\" style=\"fill:#1f77b4;opacity:0.4;\"/>\n   </g>\n   <g id=\"patch_6\">\n    <path clip-path=\"url(#pa8507b0836)\" d=\"M 97.423117 239.758125 \nL 106.125726 239.758125 \nL 106.125726 237.909145 \nL 97.423117 237.909145 \nz\n\" style=\"fill:#1f77b4;opacity:0.4;\"/>\n   </g>\n   <g id=\"patch_7\">\n    <path clip-path=\"url(#pa8507b0836)\" d=\"M 106.125726 239.758125 \nL 114.828336 239.758125 \nL 114.828336 234.211186 \nL 106.125726 234.211186 \nz\n\" style=\"fill:#1f77b4;opacity:0.4;\"/>\n   </g>\n   <g id=\"patch_8\">\n    <path clip-path=\"url(#pa8507b0836)\" d=\"M 114.828336 239.758125 \nL 123.530945 239.758125 \nL 123.530945 239.758125 \nL 114.828336 239.758125 \nz\n\" style=\"fill:#1f77b4;opacity:0.4;\"/>\n   </g>\n   <g id=\"patch_9\">\n    <path clip-path=\"url(#pa8507b0836)\" d=\"M 123.530945 239.758125 \nL 132.233555 239.758125 \nL 132.233555 239.758125 \nL 123.530945 239.758125 \nz\n\" style=\"fill:#1f77b4;opacity:0.4;\"/>\n   </g>\n   <g id=\"patch_10\">\n    <path clip-path=\"url(#pa8507b0836)\" d=\"M 132.233555 239.758125 \nL 140.936164 239.758125 \nL 140.936164 234.211186 \nL 132.233555 234.211186 \nz\n\" style=\"fill:#1f77b4;opacity:0.4;\"/>\n   </g>\n   <g id=\"patch_11\">\n    <path clip-path=\"url(#pa8507b0836)\" d=\"M 140.936164 239.758125 \nL 149.638773 239.758125 \nL 149.638773 215.72139 \nL 140.936164 215.72139 \nz\n\" style=\"fill:#1f77b4;opacity:0.4;\"/>\n   </g>\n   <g id=\"patch_12\">\n    <path clip-path=\"url(#pa8507b0836)\" d=\"M 149.638773 239.758125 \nL 158.341383 239.758125 \nL 158.341383 221.268329 \nL 149.638773 221.268329 \nz\n\" style=\"fill:#1f77b4;opacity:0.4;\"/>\n   </g>\n   <g id=\"patch_13\">\n    <path clip-path=\"url(#pa8507b0836)\" d=\"M 158.341383 239.758125 \nL 167.043992 239.758125 \nL 167.043992 219.419349 \nL 158.341383 219.419349 \nz\n\" style=\"fill:#1f77b4;opacity:0.4;\"/>\n   </g>\n   <g id=\"patch_14\">\n    <path clip-path=\"url(#pa8507b0836)\" d=\"M 167.043992 239.758125 \nL 175.746602 239.758125 \nL 175.746602 189.835676 \nL 167.043992 189.835676 \nz\n\" style=\"fill:#1f77b4;opacity:0.4;\"/>\n   </g>\n   <g id=\"patch_15\">\n    <path clip-path=\"url(#pa8507b0836)\" d=\"M 175.746602 239.758125 \nL 184.449211 239.758125 \nL 184.449211 180.590778 \nL 175.746602 180.590778 \nz\n\" style=\"fill:#1f77b4;opacity:0.4;\"/>\n   </g>\n   <g id=\"patch_16\">\n    <path clip-path=\"url(#pa8507b0836)\" d=\"M 184.449211 239.758125 \nL 193.15182 239.758125 \nL 193.15182 154.705064 \nL 184.449211 154.705064 \nz\n\" style=\"fill:#1f77b4;opacity:0.4;\"/>\n   </g>\n   <g id=\"patch_17\">\n    <path clip-path=\"url(#pa8507b0836)\" d=\"M 193.15182 239.758125 \nL 201.85443 239.758125 \nL 201.85443 106.631594 \nL 193.15182 106.631594 \nz\n\" style=\"fill:#1f77b4;opacity:0.4;\"/>\n   </g>\n   <g id=\"patch_18\">\n    <path clip-path=\"url(#pa8507b0836)\" d=\"M 201.85443 239.758125 \nL 210.557039 239.758125 \nL 210.557039 95.537717 \nL 201.85443 95.537717 \nz\n\" style=\"fill:#1f77b4;opacity:0.4;\"/>\n   </g>\n   <g id=\"patch_19\">\n    <path clip-path=\"url(#pa8507b0836)\" d=\"M 210.557039 239.758125 \nL 219.259648 239.758125 \nL 219.259648 101.084656 \nL 210.557039 101.084656 \nz\n\" style=\"fill:#1f77b4;opacity:0.4;\"/>\n   </g>\n   <g id=\"patch_20\">\n    <path clip-path=\"url(#pa8507b0836)\" d=\"M 219.259648 239.758125 \nL 227.962258 239.758125 \nL 227.962258 62.256084 \nL 219.259648 62.256084 \nz\n\" style=\"fill:#1f77b4;opacity:0.4;\"/>\n   </g>\n   <g id=\"patch_21\">\n    <path clip-path=\"url(#pa8507b0836)\" d=\"M 227.962258 239.758125 \nL 236.664867 239.758125 \nL 236.664867 32.672411 \nL 227.962258 32.672411 \nz\n\" style=\"fill:#1f77b4;opacity:0.4;\"/>\n   </g>\n   <g id=\"patch_22\">\n    <path clip-path=\"url(#pa8507b0836)\" d=\"M 236.664867 239.758125 \nL 245.367477 239.758125 \nL 245.367477 60.407105 \nL 236.664867 60.407105 \nz\n\" style=\"fill:#1f77b4;opacity:0.4;\"/>\n   </g>\n   <g id=\"patch_23\">\n    <path clip-path=\"url(#pa8507b0836)\" d=\"M 245.367477 239.758125 \nL 254.070086 239.758125 \nL 254.070086 119.574452 \nL 245.367477 119.574452 \nz\n\" style=\"fill:#1f77b4;opacity:0.4;\"/>\n   </g>\n   <g id=\"patch_24\">\n    <path clip-path=\"url(#pa8507b0836)\" d=\"M 254.070086 239.758125 \nL 262.772695 239.758125 \nL 262.772695 115.876492 \nL 254.070086 115.876492 \nz\n\" style=\"fill:#1f77b4;opacity:0.4;\"/>\n   </g>\n   <g id=\"patch_25\">\n    <path clip-path=\"url(#pa8507b0836)\" d=\"M 262.772695 239.758125 \nL 271.475305 239.758125 \nL 271.475305 152.856084 \nL 262.772695 152.856084 \nz\n\" style=\"fill:#1f77b4;opacity:0.4;\"/>\n   </g>\n   <g id=\"patch_26\">\n    <path clip-path=\"url(#pa8507b0836)\" d=\"M 271.475305 239.758125 \nL 280.177914 239.758125 \nL 280.177914 186.137717 \nL 271.475305 186.137717 \nz\n\" style=\"fill:#1f77b4;opacity:0.4;\"/>\n   </g>\n   <g id=\"patch_27\">\n    <path clip-path=\"url(#pa8507b0836)\" d=\"M 280.177914 239.758125 \nL 288.880524 239.758125 \nL 288.880524 200.929554 \nL 280.177914 200.929554 \nz\n\" style=\"fill:#1f77b4;opacity:0.4;\"/>\n   </g>\n   <g id=\"patch_28\">\n    <path clip-path=\"url(#pa8507b0836)\" d=\"M 288.880524 239.758125 \nL 297.583133 239.758125 \nL 297.583133 213.872411 \nL 288.880524 213.872411 \nz\n\" style=\"fill:#1f77b4;opacity:0.4;\"/>\n   </g>\n   <g id=\"patch_29\">\n    <path clip-path=\"url(#pa8507b0836)\" d=\"M 297.583133 239.758125 \nL 306.285742 239.758125 \nL 306.285742 230.513227 \nL 297.583133 230.513227 \nz\n\" style=\"fill:#1f77b4;opacity:0.4;\"/>\n   </g>\n   <g id=\"patch_30\">\n    <path clip-path=\"url(#pa8507b0836)\" d=\"M 306.285742 239.758125 \nL 314.988352 239.758125 \nL 314.988352 234.211186 \nL 306.285742 234.211186 \nz\n\" style=\"fill:#1f77b4;opacity:0.4;\"/>\n   </g>\n   <g id=\"patch_31\">\n    <path clip-path=\"url(#pa8507b0836)\" d=\"M 314.988352 239.758125 \nL 323.690961 239.758125 \nL 323.690961 237.909145 \nL 314.988352 237.909145 \nz\n\" style=\"fill:#1f77b4;opacity:0.4;\"/>\n   </g>\n   <g id=\"matplotlib.axis_1\">\n    <g id=\"xtick_1\">\n     <g id=\"line2d_1\">\n      <defs>\n       <path d=\"M 0 0 \nL 0 3.5 \n\" id=\"m1909dbd20b\" style=\"stroke:#000000;stroke-width:0.8;\"/>\n      </defs>\n      <g>\n       <use style=\"stroke:#000000;stroke-width:0.8;\" x=\"49.166711\" xlink:href=\"#m1909dbd20b\" y=\"239.758125\"/>\n      </g>\n     </g>\n     <g id=\"text_1\">\n      <!-- 7.0 -->\n      <defs>\n       <path d=\"M 8.203125 72.90625 \nL 55.078125 72.90625 \nL 55.078125 68.703125 \nL 28.609375 0 \nL 18.3125 0 \nL 43.21875 64.59375 \nL 8.203125 64.59375 \nz\n\" id=\"DejaVuSans-55\"/>\n       <path d=\"M 10.6875 12.40625 \nL 21 12.40625 \nL 21 0 \nL 10.6875 0 \nz\n\" id=\"DejaVuSans-46\"/>\n       <path d=\"M 31.78125 66.40625 \nQ 24.171875 66.40625 20.328125 58.90625 \nQ 16.5 51.421875 16.5 36.375 \nQ 16.5 21.390625 20.328125 13.890625 \nQ 24.171875 6.390625 31.78125 6.390625 \nQ 39.453125 6.390625 43.28125 13.890625 \nQ 47.125 21.390625 47.125 36.375 \nQ 47.125 51.421875 43.28125 58.90625 \nQ 39.453125 66.40625 31.78125 66.40625 \nz\nM 31.78125 74.21875 \nQ 44.046875 74.21875 50.515625 64.515625 \nQ 56.984375 54.828125 56.984375 36.375 \nQ 56.984375 17.96875 50.515625 8.265625 \nQ 44.046875 -1.421875 31.78125 -1.421875 \nQ 19.53125 -1.421875 13.0625 8.265625 \nQ 6.59375 17.96875 6.59375 36.375 \nQ 6.59375 54.828125 13.0625 64.515625 \nQ 19.53125 74.21875 31.78125 74.21875 \nz\n\" id=\"DejaVuSans-48\"/>\n      </defs>\n      <g transform=\"translate(41.215148 254.356563)scale(0.1 -0.1)\">\n       <use xlink:href=\"#DejaVuSans-55\"/>\n       <use x=\"63.623047\" xlink:href=\"#DejaVuSans-46\"/>\n       <use x=\"95.410156\" xlink:href=\"#DejaVuSans-48\"/>\n      </g>\n     </g>\n    </g>\n    <g id=\"xtick_2\">\n     <g id=\"line2d_2\">\n      <g>\n       <use style=\"stroke:#000000;stroke-width:0.8;\" x=\"110.666665\" xlink:href=\"#m1909dbd20b\" y=\"239.758125\"/>\n      </g>\n     </g>\n     <g id=\"text_2\">\n      <!-- 7.5 -->\n      <defs>\n       <path d=\"M 10.796875 72.90625 \nL 49.515625 72.90625 \nL 49.515625 64.59375 \nL 19.828125 64.59375 \nL 19.828125 46.734375 \nQ 21.96875 47.46875 24.109375 47.828125 \nQ 26.265625 48.1875 28.421875 48.1875 \nQ 40.625 48.1875 47.75 41.5 \nQ 54.890625 34.8125 54.890625 23.390625 \nQ 54.890625 11.625 47.5625 5.09375 \nQ 40.234375 -1.421875 26.90625 -1.421875 \nQ 22.3125 -1.421875 17.546875 -0.640625 \nQ 12.796875 0.140625 7.71875 1.703125 \nL 7.71875 11.625 \nQ 12.109375 9.234375 16.796875 8.0625 \nQ 21.484375 6.890625 26.703125 6.890625 \nQ 35.15625 6.890625 40.078125 11.328125 \nQ 45.015625 15.765625 45.015625 23.390625 \nQ 45.015625 31 40.078125 35.4375 \nQ 35.15625 39.890625 26.703125 39.890625 \nQ 22.75 39.890625 18.8125 39.015625 \nQ 14.890625 38.140625 10.796875 36.28125 \nz\n\" id=\"DejaVuSans-53\"/>\n      </defs>\n      <g transform=\"translate(102.715102 254.356563)scale(0.1 -0.1)\">\n       <use xlink:href=\"#DejaVuSans-55\"/>\n       <use x=\"63.623047\" xlink:href=\"#DejaVuSans-46\"/>\n       <use x=\"95.410156\" xlink:href=\"#DejaVuSans-53\"/>\n      </g>\n     </g>\n    </g>\n    <g id=\"xtick_3\">\n     <g id=\"line2d_3\">\n      <g>\n       <use style=\"stroke:#000000;stroke-width:0.8;\" x=\"172.166619\" xlink:href=\"#m1909dbd20b\" y=\"239.758125\"/>\n      </g>\n     </g>\n     <g id=\"text_3\">\n      <!-- 8.0 -->\n      <defs>\n       <path d=\"M 31.78125 34.625 \nQ 24.75 34.625 20.71875 30.859375 \nQ 16.703125 27.09375 16.703125 20.515625 \nQ 16.703125 13.921875 20.71875 10.15625 \nQ 24.75 6.390625 31.78125 6.390625 \nQ 38.8125 6.390625 42.859375 10.171875 \nQ 46.921875 13.96875 46.921875 20.515625 \nQ 46.921875 27.09375 42.890625 30.859375 \nQ 38.875 34.625 31.78125 34.625 \nz\nM 21.921875 38.8125 \nQ 15.578125 40.375 12.03125 44.71875 \nQ 8.5 49.078125 8.5 55.328125 \nQ 8.5 64.0625 14.71875 69.140625 \nQ 20.953125 74.21875 31.78125 74.21875 \nQ 42.671875 74.21875 48.875 69.140625 \nQ 55.078125 64.0625 55.078125 55.328125 \nQ 55.078125 49.078125 51.53125 44.71875 \nQ 48 40.375 41.703125 38.8125 \nQ 48.828125 37.15625 52.796875 32.3125 \nQ 56.78125 27.484375 56.78125 20.515625 \nQ 56.78125 9.90625 50.3125 4.234375 \nQ 43.84375 -1.421875 31.78125 -1.421875 \nQ 19.734375 -1.421875 13.25 4.234375 \nQ 6.78125 9.90625 6.78125 20.515625 \nQ 6.78125 27.484375 10.78125 32.3125 \nQ 14.796875 37.15625 21.921875 38.8125 \nz\nM 18.3125 54.390625 \nQ 18.3125 48.734375 21.84375 45.5625 \nQ 25.390625 42.390625 31.78125 42.390625 \nQ 38.140625 42.390625 41.71875 45.5625 \nQ 45.3125 48.734375 45.3125 54.390625 \nQ 45.3125 60.0625 41.71875 63.234375 \nQ 38.140625 66.40625 31.78125 66.40625 \nQ 25.390625 66.40625 21.84375 63.234375 \nQ 18.3125 60.0625 18.3125 54.390625 \nz\n\" id=\"DejaVuSans-56\"/>\n      </defs>\n      <g transform=\"translate(164.215056 254.356563)scale(0.1 -0.1)\">\n       <use xlink:href=\"#DejaVuSans-56\"/>\n       <use x=\"63.623047\" xlink:href=\"#DejaVuSans-46\"/>\n       <use x=\"95.410156\" xlink:href=\"#DejaVuSans-48\"/>\n      </g>\n     </g>\n    </g>\n    <g id=\"xtick_4\">\n     <g id=\"line2d_4\">\n      <g>\n       <use style=\"stroke:#000000;stroke-width:0.8;\" x=\"233.666572\" xlink:href=\"#m1909dbd20b\" y=\"239.758125\"/>\n      </g>\n     </g>\n     <g id=\"text_4\">\n      <!-- 8.5 -->\n      <g transform=\"translate(225.71501 254.356563)scale(0.1 -0.1)\">\n       <use xlink:href=\"#DejaVuSans-56\"/>\n       <use x=\"63.623047\" xlink:href=\"#DejaVuSans-46\"/>\n       <use x=\"95.410156\" xlink:href=\"#DejaVuSans-53\"/>\n      </g>\n     </g>\n    </g>\n    <g id=\"xtick_5\">\n     <g id=\"line2d_5\">\n      <g>\n       <use style=\"stroke:#000000;stroke-width:0.8;\" x=\"295.166526\" xlink:href=\"#m1909dbd20b\" y=\"239.758125\"/>\n      </g>\n     </g>\n     <g id=\"text_5\">\n      <!-- 9.0 -->\n      <defs>\n       <path d=\"M 10.984375 1.515625 \nL 10.984375 10.5 \nQ 14.703125 8.734375 18.5 7.8125 \nQ 22.3125 6.890625 25.984375 6.890625 \nQ 35.75 6.890625 40.890625 13.453125 \nQ 46.046875 20.015625 46.78125 33.40625 \nQ 43.953125 29.203125 39.59375 26.953125 \nQ 35.25 24.703125 29.984375 24.703125 \nQ 19.046875 24.703125 12.671875 31.3125 \nQ 6.296875 37.9375 6.296875 49.421875 \nQ 6.296875 60.640625 12.9375 67.421875 \nQ 19.578125 74.21875 30.609375 74.21875 \nQ 43.265625 74.21875 49.921875 64.515625 \nQ 56.59375 54.828125 56.59375 36.375 \nQ 56.59375 19.140625 48.40625 8.859375 \nQ 40.234375 -1.421875 26.421875 -1.421875 \nQ 22.703125 -1.421875 18.890625 -0.6875 \nQ 15.09375 0.046875 10.984375 1.515625 \nz\nM 30.609375 32.421875 \nQ 37.25 32.421875 41.125 36.953125 \nQ 45.015625 41.5 45.015625 49.421875 \nQ 45.015625 57.28125 41.125 61.84375 \nQ 37.25 66.40625 30.609375 66.40625 \nQ 23.96875 66.40625 20.09375 61.84375 \nQ 16.21875 57.28125 16.21875 49.421875 \nQ 16.21875 41.5 20.09375 36.953125 \nQ 23.96875 32.421875 30.609375 32.421875 \nz\n\" id=\"DejaVuSans-57\"/>\n      </defs>\n      <g transform=\"translate(287.214964 254.356563)scale(0.1 -0.1)\">\n       <use xlink:href=\"#DejaVuSans-57\"/>\n       <use x=\"63.623047\" xlink:href=\"#DejaVuSans-46\"/>\n       <use x=\"95.410156\" xlink:href=\"#DejaVuSans-48\"/>\n      </g>\n     </g>\n    </g>\n    <g id=\"xtick_6\">\n     <g id=\"line2d_6\">\n      <g>\n       <use style=\"stroke:#000000;stroke-width:0.8;\" x=\"356.66648\" xlink:href=\"#m1909dbd20b\" y=\"239.758125\"/>\n      </g>\n     </g>\n     <g id=\"text_6\">\n      <!-- 9.5 -->\n      <g transform=\"translate(348.714918 254.356563)scale(0.1 -0.1)\">\n       <use xlink:href=\"#DejaVuSans-57\"/>\n       <use x=\"63.623047\" xlink:href=\"#DejaVuSans-46\"/>\n       <use x=\"95.410156\" xlink:href=\"#DejaVuSans-53\"/>\n      </g>\n     </g>\n    </g>\n   </g>\n   <g id=\"matplotlib.axis_2\">\n    <g id=\"ytick_1\">\n     <g id=\"line2d_7\">\n      <defs>\n       <path d=\"M 0 0 \nL -3.5 0 \n\" id=\"me217c6553d\" style=\"stroke:#000000;stroke-width:0.8;\"/>\n      </defs>\n      <g>\n       <use style=\"stroke:#000000;stroke-width:0.8;\" x=\"30.103125\" xlink:href=\"#me217c6553d\" y=\"239.758125\"/>\n      </g>\n     </g>\n     <g id=\"text_7\">\n      <!-- 0.0 -->\n      <g transform=\"translate(7.2 243.557344)scale(0.1 -0.1)\">\n       <use xlink:href=\"#DejaVuSans-48\"/>\n       <use x=\"63.623047\" xlink:href=\"#DejaVuSans-46\"/>\n       <use x=\"95.410156\" xlink:href=\"#DejaVuSans-48\"/>\n      </g>\n     </g>\n    </g>\n    <g id=\"ytick_2\">\n     <g id=\"line2d_8\">\n      <g>\n       <use style=\"stroke:#000000;stroke-width:0.8;\" x=\"30.103125\" xlink:href=\"#me217c6553d\" y=\"215.451619\"/>\n      </g>\n     </g>\n     <g id=\"text_8\">\n      <!-- 0.2 -->\n      <defs>\n       <path d=\"M 19.1875 8.296875 \nL 53.609375 8.296875 \nL 53.609375 0 \nL 7.328125 0 \nL 7.328125 8.296875 \nQ 12.9375 14.109375 22.625 23.890625 \nQ 32.328125 33.6875 34.8125 36.53125 \nQ 39.546875 41.84375 41.421875 45.53125 \nQ 43.3125 49.21875 43.3125 52.78125 \nQ 43.3125 58.59375 39.234375 62.25 \nQ 35.15625 65.921875 28.609375 65.921875 \nQ 23.96875 65.921875 18.8125 64.3125 \nQ 13.671875 62.703125 7.8125 59.421875 \nL 7.8125 69.390625 \nQ 13.765625 71.78125 18.9375 73 \nQ 24.125 74.21875 28.421875 74.21875 \nQ 39.75 74.21875 46.484375 68.546875 \nQ 53.21875 62.890625 53.21875 53.421875 \nQ 53.21875 48.921875 51.53125 44.890625 \nQ 49.859375 40.875 45.40625 35.40625 \nQ 44.1875 33.984375 37.640625 27.21875 \nQ 31.109375 20.453125 19.1875 8.296875 \nz\n\" id=\"DejaVuSans-50\"/>\n      </defs>\n      <g transform=\"translate(7.2 219.250838)scale(0.1 -0.1)\">\n       <use xlink:href=\"#DejaVuSans-48\"/>\n       <use x=\"63.623047\" xlink:href=\"#DejaVuSans-46\"/>\n       <use x=\"95.410156\" xlink:href=\"#DejaVuSans-50\"/>\n      </g>\n     </g>\n    </g>\n    <g id=\"ytick_3\">\n     <g id=\"line2d_9\">\n      <g>\n       <use style=\"stroke:#000000;stroke-width:0.8;\" x=\"30.103125\" xlink:href=\"#me217c6553d\" y=\"191.145113\"/>\n      </g>\n     </g>\n     <g id=\"text_9\">\n      <!-- 0.4 -->\n      <defs>\n       <path d=\"M 37.796875 64.3125 \nL 12.890625 25.390625 \nL 37.796875 25.390625 \nz\nM 35.203125 72.90625 \nL 47.609375 72.90625 \nL 47.609375 25.390625 \nL 58.015625 25.390625 \nL 58.015625 17.1875 \nL 47.609375 17.1875 \nL 47.609375 0 \nL 37.796875 0 \nL 37.796875 17.1875 \nL 4.890625 17.1875 \nL 4.890625 26.703125 \nz\n\" id=\"DejaVuSans-52\"/>\n      </defs>\n      <g transform=\"translate(7.2 194.944332)scale(0.1 -0.1)\">\n       <use xlink:href=\"#DejaVuSans-48\"/>\n       <use x=\"63.623047\" xlink:href=\"#DejaVuSans-46\"/>\n       <use x=\"95.410156\" xlink:href=\"#DejaVuSans-52\"/>\n      </g>\n     </g>\n    </g>\n    <g id=\"ytick_4\">\n     <g id=\"line2d_10\">\n      <g>\n       <use style=\"stroke:#000000;stroke-width:0.8;\" x=\"30.103125\" xlink:href=\"#me217c6553d\" y=\"166.838607\"/>\n      </g>\n     </g>\n     <g id=\"text_10\">\n      <!-- 0.6 -->\n      <defs>\n       <path d=\"M 33.015625 40.375 \nQ 26.375 40.375 22.484375 35.828125 \nQ 18.609375 31.296875 18.609375 23.390625 \nQ 18.609375 15.53125 22.484375 10.953125 \nQ 26.375 6.390625 33.015625 6.390625 \nQ 39.65625 6.390625 43.53125 10.953125 \nQ 47.40625 15.53125 47.40625 23.390625 \nQ 47.40625 31.296875 43.53125 35.828125 \nQ 39.65625 40.375 33.015625 40.375 \nz\nM 52.59375 71.296875 \nL 52.59375 62.3125 \nQ 48.875 64.0625 45.09375 64.984375 \nQ 41.3125 65.921875 37.59375 65.921875 \nQ 27.828125 65.921875 22.671875 59.328125 \nQ 17.53125 52.734375 16.796875 39.40625 \nQ 19.671875 43.65625 24.015625 45.921875 \nQ 28.375 48.1875 33.59375 48.1875 \nQ 44.578125 48.1875 50.953125 41.515625 \nQ 57.328125 34.859375 57.328125 23.390625 \nQ 57.328125 12.15625 50.6875 5.359375 \nQ 44.046875 -1.421875 33.015625 -1.421875 \nQ 20.359375 -1.421875 13.671875 8.265625 \nQ 6.984375 17.96875 6.984375 36.375 \nQ 6.984375 53.65625 15.1875 63.9375 \nQ 23.390625 74.21875 37.203125 74.21875 \nQ 40.921875 74.21875 44.703125 73.484375 \nQ 48.484375 72.75 52.59375 71.296875 \nz\n\" id=\"DejaVuSans-54\"/>\n      </defs>\n      <g transform=\"translate(7.2 170.637826)scale(0.1 -0.1)\">\n       <use xlink:href=\"#DejaVuSans-48\"/>\n       <use x=\"63.623047\" xlink:href=\"#DejaVuSans-46\"/>\n       <use x=\"95.410156\" xlink:href=\"#DejaVuSans-54\"/>\n      </g>\n     </g>\n    </g>\n    <g id=\"ytick_5\">\n     <g id=\"line2d_11\">\n      <g>\n       <use style=\"stroke:#000000;stroke-width:0.8;\" x=\"30.103125\" xlink:href=\"#me217c6553d\" y=\"142.532101\"/>\n      </g>\n     </g>\n     <g id=\"text_11\">\n      <!-- 0.8 -->\n      <g transform=\"translate(7.2 146.33132)scale(0.1 -0.1)\">\n       <use xlink:href=\"#DejaVuSans-48\"/>\n       <use x=\"63.623047\" xlink:href=\"#DejaVuSans-46\"/>\n       <use x=\"95.410156\" xlink:href=\"#DejaVuSans-56\"/>\n      </g>\n     </g>\n    </g>\n    <g id=\"ytick_6\">\n     <g id=\"line2d_12\">\n      <g>\n       <use style=\"stroke:#000000;stroke-width:0.8;\" x=\"30.103125\" xlink:href=\"#me217c6553d\" y=\"118.225595\"/>\n      </g>\n     </g>\n     <g id=\"text_12\">\n      <!-- 1.0 -->\n      <defs>\n       <path d=\"M 12.40625 8.296875 \nL 28.515625 8.296875 \nL 28.515625 63.921875 \nL 10.984375 60.40625 \nL 10.984375 69.390625 \nL 28.421875 72.90625 \nL 38.28125 72.90625 \nL 38.28125 8.296875 \nL 54.390625 8.296875 \nL 54.390625 0 \nL 12.40625 0 \nz\n\" id=\"DejaVuSans-49\"/>\n      </defs>\n      <g transform=\"translate(7.2 122.024814)scale(0.1 -0.1)\">\n       <use xlink:href=\"#DejaVuSans-49\"/>\n       <use x=\"63.623047\" xlink:href=\"#DejaVuSans-46\"/>\n       <use x=\"95.410156\" xlink:href=\"#DejaVuSans-48\"/>\n      </g>\n     </g>\n    </g>\n    <g id=\"ytick_7\">\n     <g id=\"line2d_13\">\n      <g>\n       <use style=\"stroke:#000000;stroke-width:0.8;\" x=\"30.103125\" xlink:href=\"#me217c6553d\" y=\"93.919089\"/>\n      </g>\n     </g>\n     <g id=\"text_13\">\n      <!-- 1.2 -->\n      <g transform=\"translate(7.2 97.718308)scale(0.1 -0.1)\">\n       <use xlink:href=\"#DejaVuSans-49\"/>\n       <use x=\"63.623047\" xlink:href=\"#DejaVuSans-46\"/>\n       <use x=\"95.410156\" xlink:href=\"#DejaVuSans-50\"/>\n      </g>\n     </g>\n    </g>\n    <g id=\"ytick_8\">\n     <g id=\"line2d_14\">\n      <g>\n       <use style=\"stroke:#000000;stroke-width:0.8;\" x=\"30.103125\" xlink:href=\"#me217c6553d\" y=\"69.612584\"/>\n      </g>\n     </g>\n     <g id=\"text_14\">\n      <!-- 1.4 -->\n      <g transform=\"translate(7.2 73.411802)scale(0.1 -0.1)\">\n       <use xlink:href=\"#DejaVuSans-49\"/>\n       <use x=\"63.623047\" xlink:href=\"#DejaVuSans-46\"/>\n       <use x=\"95.410156\" xlink:href=\"#DejaVuSans-52\"/>\n      </g>\n     </g>\n    </g>\n    <g id=\"ytick_9\">\n     <g id=\"line2d_15\">\n      <g>\n       <use style=\"stroke:#000000;stroke-width:0.8;\" x=\"30.103125\" xlink:href=\"#me217c6553d\" y=\"45.306078\"/>\n      </g>\n     </g>\n     <g id=\"text_15\">\n      <!-- 1.6 -->\n      <g transform=\"translate(7.2 49.105296)scale(0.1 -0.1)\">\n       <use xlink:href=\"#DejaVuSans-49\"/>\n       <use x=\"63.623047\" xlink:href=\"#DejaVuSans-46\"/>\n       <use x=\"95.410156\" xlink:href=\"#DejaVuSans-54\"/>\n      </g>\n     </g>\n    </g>\n   </g>\n   <g id=\"line2d_16\">\n    <path clip-path=\"url(#pa8507b0836)\" d=\"M 45.321307 239.749859 \nL 48.395687 239.735647 \nL 51.470067 239.70422 \nL 54.544447 239.644133 \nL 57.618827 239.545552 \nL 60.693208 239.408562 \nL 63.767588 239.251202 \nL 66.841968 239.109792 \nL 69.916348 239.026566 \nL 72.990728 239.028878 \nL 76.065108 239.112699 \nL 79.139489 239.241457 \nL 82.213869 239.359594 \nL 85.288249 239.409851 \nL 88.362629 239.344658 \nL 91.437009 239.132229 \nL 94.511389 238.764981 \nL 97.58577 238.273442 \nL 100.66015 237.736901 \nL 103.73453 237.27472 \nL 106.80891 237.009327 \nL 109.88329 237.011552 \nL 112.95767 237.256518 \nL 116.032051 237.616628 \nL 119.106431 237.895446 \nL 122.180811 237.881072 \nL 125.255191 237.392356 \nL 128.329571 236.308693 \nL 131.403951 234.593449 \nL 134.478332 232.319902 \nL 137.552712 229.686246 \nL 140.627092 226.988007 \nL 143.701472 224.529946 \nL 146.775852 222.503325 \nL 149.850232 220.889542 \nL 152.924613 219.441496 \nL 155.998993 217.749387 \nL 159.073373 215.361396 \nL 162.147753 211.921896 \nL 165.222133 207.288451 \nL 168.296513 201.576706 \nL 171.370894 195.086119 \nL 174.445274 188.116093 \nL 177.519654 180.770245 \nL 180.594034 172.886037 \nL 183.668414 164.161753 \nL 186.742794 154.422214 \nL 189.817175 143.868039 \nL 192.891555 133.152078 \nL 195.965935 123.208189 \nL 199.040315 114.87986 \nL 202.114695 108.516888 \nL 205.189075 103.764513 \nL 208.263456 99.694792 \nL 211.337836 95.233406 \nL 214.412216 89.642848 \nL 217.486596 82.794061 \nL 220.560976 75.130176 \nL 223.635356 67.448887 \nL 226.709737 60.701454 \nL 229.784117 55.884256 \nL 232.858497 53.944609 \nL 235.932877 55.605199 \nL 239.007257 61.122876 \nL 242.081637 70.103953 \nL 245.156018 81.512531 \nL 248.230398 93.936848 \nL 251.304778 106.050535 \nL 254.379158 117.064282 \nL 257.453538 126.912252 \nL 260.527918 136.05355 \nL 263.602299 145.029022 \nL 266.676679 154.079657 \nL 269.751059 163.053637 \nL 272.825439 171.589406 \nL 275.899819 179.383128 \nL 278.974199 186.35437 \nL 282.04858 192.649427 \nL 285.12296 198.530991 \nL 288.19734 204.234223 \nL 291.27172 209.853568 \nL 294.3461 215.30304 \nL 297.42048 220.364585 \nL 300.494861 224.796173 \nL 303.569241 228.43762 \nL 306.643621 231.26084 \nL 309.718001 233.35512 \nL 312.792381 234.875825 \nL 315.866761 235.990684 \nL 318.941142 236.842183 \nL 322.015522 237.529536 \nL 325.089902 238.107024 \nL 328.164282 238.593717 \nL 331.238662 238.989114 \nL 334.313042 239.289088 \nL 337.387423 239.496939 \nL 340.461803 239.626544 \nL 343.536183 239.698576 \nL 346.610563 239.734043 \nL 349.684943 239.749456 \n\" style=\"fill:none;stroke:#1f77b4;stroke-linecap:square;stroke-width:1.5;\"/>\n   </g>\n   <g id=\"patch_32\">\n    <path d=\"M 30.103125 239.758125 \nL 30.103125 22.318125 \n\" style=\"fill:none;stroke:#000000;stroke-linecap:square;stroke-linejoin:miter;stroke-width:0.8;\"/>\n   </g>\n   <g id=\"patch_33\">\n    <path d=\"M 364.903125 239.758125 \nL 364.903125 22.318125 \n\" style=\"fill:none;stroke:#000000;stroke-linecap:square;stroke-linejoin:miter;stroke-width:0.8;\"/>\n   </g>\n   <g id=\"patch_34\">\n    <path d=\"M 30.103125 239.758125 \nL 364.903125 239.758125 \n\" style=\"fill:none;stroke:#000000;stroke-linecap:square;stroke-linejoin:miter;stroke-width:0.8;\"/>\n   </g>\n   <g id=\"patch_35\">\n    <path d=\"M 30.103125 22.318125 \nL 364.903125 22.318125 \n\" style=\"fill:none;stroke:#000000;stroke-linecap:square;stroke-linejoin:miter;stroke-width:0.8;\"/>\n   </g>\n   <g id=\"text_16\">\n    <!-- priceByArea -->\n    <defs>\n     <path d=\"M 18.109375 8.203125 \nL 18.109375 -20.796875 \nL 9.078125 -20.796875 \nL 9.078125 54.6875 \nL 18.109375 54.6875 \nL 18.109375 46.390625 \nQ 20.953125 51.265625 25.265625 53.625 \nQ 29.59375 56 35.59375 56 \nQ 45.5625 56 51.78125 48.09375 \nQ 58.015625 40.1875 58.015625 27.296875 \nQ 58.015625 14.40625 51.78125 6.484375 \nQ 45.5625 -1.421875 35.59375 -1.421875 \nQ 29.59375 -1.421875 25.265625 0.953125 \nQ 20.953125 3.328125 18.109375 8.203125 \nz\nM 48.6875 27.296875 \nQ 48.6875 37.203125 44.609375 42.84375 \nQ 40.53125 48.484375 33.40625 48.484375 \nQ 26.265625 48.484375 22.1875 42.84375 \nQ 18.109375 37.203125 18.109375 27.296875 \nQ 18.109375 17.390625 22.1875 11.75 \nQ 26.265625 6.109375 33.40625 6.109375 \nQ 40.53125 6.109375 44.609375 11.75 \nQ 48.6875 17.390625 48.6875 27.296875 \nz\n\" id=\"DejaVuSans-112\"/>\n     <path d=\"M 41.109375 46.296875 \nQ 39.59375 47.171875 37.8125 47.578125 \nQ 36.03125 48 33.890625 48 \nQ 26.265625 48 22.1875 43.046875 \nQ 18.109375 38.09375 18.109375 28.8125 \nL 18.109375 0 \nL 9.078125 0 \nL 9.078125 54.6875 \nL 18.109375 54.6875 \nL 18.109375 46.1875 \nQ 20.953125 51.171875 25.484375 53.578125 \nQ 30.03125 56 36.53125 56 \nQ 37.453125 56 38.578125 55.875 \nQ 39.703125 55.765625 41.0625 55.515625 \nz\n\" id=\"DejaVuSans-114\"/>\n     <path d=\"M 9.421875 54.6875 \nL 18.40625 54.6875 \nL 18.40625 0 \nL 9.421875 0 \nz\nM 9.421875 75.984375 \nL 18.40625 75.984375 \nL 18.40625 64.59375 \nL 9.421875 64.59375 \nz\n\" id=\"DejaVuSans-105\"/>\n     <path d=\"M 48.78125 52.59375 \nL 48.78125 44.1875 \nQ 44.96875 46.296875 41.140625 47.34375 \nQ 37.3125 48.390625 33.40625 48.390625 \nQ 24.65625 48.390625 19.8125 42.84375 \nQ 14.984375 37.3125 14.984375 27.296875 \nQ 14.984375 17.28125 19.8125 11.734375 \nQ 24.65625 6.203125 33.40625 6.203125 \nQ 37.3125 6.203125 41.140625 7.25 \nQ 44.96875 8.296875 48.78125 10.40625 \nL 48.78125 2.09375 \nQ 45.015625 0.34375 40.984375 -0.53125 \nQ 36.96875 -1.421875 32.421875 -1.421875 \nQ 20.0625 -1.421875 12.78125 6.34375 \nQ 5.515625 14.109375 5.515625 27.296875 \nQ 5.515625 40.671875 12.859375 48.328125 \nQ 20.21875 56 33.015625 56 \nQ 37.15625 56 41.109375 55.140625 \nQ 45.0625 54.296875 48.78125 52.59375 \nz\n\" id=\"DejaVuSans-99\"/>\n     <path d=\"M 56.203125 29.59375 \nL 56.203125 25.203125 \nL 14.890625 25.203125 \nQ 15.484375 15.921875 20.484375 11.0625 \nQ 25.484375 6.203125 34.421875 6.203125 \nQ 39.59375 6.203125 44.453125 7.46875 \nQ 49.3125 8.734375 54.109375 11.28125 \nL 54.109375 2.78125 \nQ 49.265625 0.734375 44.1875 -0.34375 \nQ 39.109375 -1.421875 33.890625 -1.421875 \nQ 20.796875 -1.421875 13.15625 6.1875 \nQ 5.515625 13.8125 5.515625 26.8125 \nQ 5.515625 40.234375 12.765625 48.109375 \nQ 20.015625 56 32.328125 56 \nQ 43.359375 56 49.78125 48.890625 \nQ 56.203125 41.796875 56.203125 29.59375 \nz\nM 47.21875 32.234375 \nQ 47.125 39.59375 43.09375 43.984375 \nQ 39.0625 48.390625 32.421875 48.390625 \nQ 24.90625 48.390625 20.390625 44.140625 \nQ 15.875 39.890625 15.1875 32.171875 \nz\n\" id=\"DejaVuSans-101\"/>\n     <path d=\"M 19.671875 34.8125 \nL 19.671875 8.109375 \nL 35.5 8.109375 \nQ 43.453125 8.109375 47.28125 11.40625 \nQ 51.125 14.703125 51.125 21.484375 \nQ 51.125 28.328125 47.28125 31.5625 \nQ 43.453125 34.8125 35.5 34.8125 \nz\nM 19.671875 64.796875 \nL 19.671875 42.828125 \nL 34.28125 42.828125 \nQ 41.5 42.828125 45.03125 45.53125 \nQ 48.578125 48.25 48.578125 53.8125 \nQ 48.578125 59.328125 45.03125 62.0625 \nQ 41.5 64.796875 34.28125 64.796875 \nz\nM 9.8125 72.90625 \nL 35.015625 72.90625 \nQ 46.296875 72.90625 52.390625 68.21875 \nQ 58.5 63.53125 58.5 54.890625 \nQ 58.5 48.1875 55.375 44.234375 \nQ 52.25 40.28125 46.1875 39.3125 \nQ 53.46875 37.75 57.5 32.78125 \nQ 61.53125 27.828125 61.53125 20.40625 \nQ 61.53125 10.640625 54.890625 5.3125 \nQ 48.25 0 35.984375 0 \nL 9.8125 0 \nz\n\" id=\"DejaVuSans-66\"/>\n     <path d=\"M 32.171875 -5.078125 \nQ 28.375 -14.84375 24.75 -17.8125 \nQ 21.140625 -20.796875 15.09375 -20.796875 \nL 7.90625 -20.796875 \nL 7.90625 -13.28125 \nL 13.1875 -13.28125 \nQ 16.890625 -13.28125 18.9375 -11.515625 \nQ 21 -9.765625 23.484375 -3.21875 \nL 25.09375 0.875 \nL 2.984375 54.6875 \nL 12.5 54.6875 \nL 29.59375 11.921875 \nL 46.6875 54.6875 \nL 56.203125 54.6875 \nz\n\" id=\"DejaVuSans-121\"/>\n     <path d=\"M 34.1875 63.1875 \nL 20.796875 26.90625 \nL 47.609375 26.90625 \nz\nM 28.609375 72.90625 \nL 39.796875 72.90625 \nL 67.578125 0 \nL 57.328125 0 \nL 50.6875 18.703125 \nL 17.828125 18.703125 \nL 11.1875 0 \nL 0.78125 0 \nz\n\" id=\"DejaVuSans-65\"/>\n     <path d=\"M 34.28125 27.484375 \nQ 23.390625 27.484375 19.1875 25 \nQ 14.984375 22.515625 14.984375 16.5 \nQ 14.984375 11.71875 18.140625 8.90625 \nQ 21.296875 6.109375 26.703125 6.109375 \nQ 34.1875 6.109375 38.703125 11.40625 \nQ 43.21875 16.703125 43.21875 25.484375 \nL 43.21875 27.484375 \nz\nM 52.203125 31.203125 \nL 52.203125 0 \nL 43.21875 0 \nL 43.21875 8.296875 \nQ 40.140625 3.328125 35.546875 0.953125 \nQ 30.953125 -1.421875 24.3125 -1.421875 \nQ 15.921875 -1.421875 10.953125 3.296875 \nQ 6 8.015625 6 15.921875 \nQ 6 25.140625 12.171875 29.828125 \nQ 18.359375 34.515625 30.609375 34.515625 \nL 43.21875 34.515625 \nL 43.21875 35.40625 \nQ 43.21875 41.609375 39.140625 45 \nQ 35.0625 48.390625 27.6875 48.390625 \nQ 23 48.390625 18.546875 47.265625 \nQ 14.109375 46.140625 10.015625 43.890625 \nL 10.015625 52.203125 \nQ 14.9375 54.109375 19.578125 55.046875 \nQ 24.21875 56 28.609375 56 \nQ 40.484375 56 46.34375 49.84375 \nQ 52.203125 43.703125 52.203125 31.203125 \nz\n\" id=\"DejaVuSans-97\"/>\n    </defs>\n    <g transform=\"translate(160.964063 16.318125)scale(0.12 -0.12)\">\n     <use xlink:href=\"#DejaVuSans-112\"/>\n     <use x=\"63.476562\" xlink:href=\"#DejaVuSans-114\"/>\n     <use x=\"104.589844\" xlink:href=\"#DejaVuSans-105\"/>\n     <use x=\"132.373047\" xlink:href=\"#DejaVuSans-99\"/>\n     <use x=\"187.353516\" xlink:href=\"#DejaVuSans-101\"/>\n     <use x=\"248.876953\" xlink:href=\"#DejaVuSans-66\"/>\n     <use x=\"317.480469\" xlink:href=\"#DejaVuSans-121\"/>\n     <use x=\"376.660156\" xlink:href=\"#DejaVuSans-65\"/>\n     <use x=\"445.068359\" xlink:href=\"#DejaVuSans-114\"/>\n     <use x=\"486.150391\" xlink:href=\"#DejaVuSans-101\"/>\n     <use x=\"547.673828\" xlink:href=\"#DejaVuSans-97\"/>\n    </g>\n   </g>\n  </g>\n </g>\n <defs>\n  <clipPath id=\"pa8507b0836\">\n   <rect height=\"217.44\" width=\"334.8\" x=\"30.103125\" y=\"22.318125\"/>\n  </clipPath>\n </defs>\n</svg>\n",
      "image/png": "[encoded data removed]"
     },
     "metadata": {
      "needs_background": "light"
     }
    },
    {
     "output_type": "display_data",
     "data": {
      "text/plain": "<Figure size 432x288 with 1 Axes>",
      "image/svg+xml": "<?xml version=\"1.0\" encoding=\"utf-8\" standalone=\"no\"?>\n<!DOCTYPE svg PUBLIC \"-//W3C//DTD SVG 1.1//EN\"\n  \"http://www.w3.org/Graphics/SVG/1.1/DTD/svg11.dtd\">\n<!-- Created with matplotlib (https://matplotlib.org/) -->\n<svg height=\"263.63625pt\" version=\"1.1\" viewBox=\"0 0 372.103125 263.63625\" width=\"372.103125pt\" xmlns=\"http://www.w3.org/2000/svg\" xmlns:xlink=\"http://www.w3.org/1999/xlink\">\n <defs>\n  <style type=\"text/css\">\n*{stroke-linecap:butt;stroke-linejoin:round;}\n  </style>\n </defs>\n <g id=\"figure_1\">\n  <g id=\"patch_1\">\n   <path d=\"M 0 263.63625 \nL 372.103125 263.63625 \nL 372.103125 0 \nL 0 0 \nz\n\" style=\"fill:none;\"/>\n  </g>\n  <g id=\"axes_1\">\n   <g id=\"patch_2\">\n    <path d=\"M 30.103125 239.758125 \nL 364.903125 239.758125 \nL 364.903125 22.318125 \nL 30.103125 22.318125 \nz\n\" style=\"fill:#ffffff;\"/>\n   </g>\n   <g id=\"patch_3\">\n    <path clip-path=\"url(#pf24aea1130)\" d=\"M 71.914316 239.758125 \nL 81.574994 239.758125 \nL 81.574994 237.858256 \nL 71.914316 237.858256 \nz\n\" style=\"fill:#1f77b4;opacity:0.4;\"/>\n   </g>\n   <g id=\"patch_4\">\n    <path clip-path=\"url(#pf24aea1130)\" d=\"M 81.574994 239.758125 \nL 91.235671 239.758125 \nL 91.235671 230.25878 \nL 81.574994 230.25878 \nz\n\" style=\"fill:#1f77b4;opacity:0.4;\"/>\n   </g>\n   <g id=\"patch_5\">\n    <path clip-path=\"url(#pf24aea1130)\" d=\"M 91.235671 239.758125 \nL 100.896349 239.758125 \nL 100.896349 237.858256 \nL 91.235671 237.858256 \nz\n\" style=\"fill:#1f77b4;opacity:0.4;\"/>\n   </g>\n   <g id=\"patch_6\">\n    <path clip-path=\"url(#pf24aea1130)\" d=\"M 100.896349 239.758125 \nL 110.557027 239.758125 \nL 110.557027 215.059829 \nL 100.896349 215.059829 \nz\n\" style=\"fill:#1f77b4;opacity:0.4;\"/>\n   </g>\n   <g id=\"patch_7\">\n    <path clip-path=\"url(#pf24aea1130)\" d=\"M 110.557027 239.758125 \nL 120.217704 239.758125 \nL 120.217704 220.759436 \nL 110.557027 220.759436 \nz\n\" style=\"fill:#1f77b4;opacity:0.4;\"/>\n   </g>\n   <g id=\"patch_8\">\n    <path clip-path=\"url(#pf24aea1130)\" d=\"M 120.217704 239.758125 \nL 129.878382 239.758125 \nL 129.878382 197.961008 \nL 120.217704 197.961008 \nz\n\" style=\"fill:#1f77b4;opacity:0.4;\"/>\n   </g>\n   <g id=\"patch_9\">\n    <path clip-path=\"url(#pf24aea1130)\" d=\"M 129.878382 239.758125 \nL 139.539059 239.758125 \nL 139.539059 167.563105 \nL 129.878382 167.563105 \nz\n\" style=\"fill:#1f77b4;opacity:0.4;\"/>\n   </g>\n   <g id=\"patch_10\">\n    <path clip-path=\"url(#pf24aea1130)\" d=\"M 139.539059 239.758125 \nL 149.199737 239.758125 \nL 149.199737 108.667168 \nL 139.539059 108.667168 \nz\n\" style=\"fill:#1f77b4;opacity:0.4;\"/>\n   </g>\n   <g id=\"patch_11\">\n    <path clip-path=\"url(#pf24aea1130)\" d=\"M 149.199737 239.758125 \nL 158.860415 239.758125 \nL 158.860415 112.466906 \nL 149.199737 112.466906 \nz\n\" style=\"fill:#1f77b4;opacity:0.4;\"/>\n   </g>\n   <g id=\"patch_12\">\n    <path clip-path=\"url(#pf24aea1130)\" d=\"M 158.860415 239.758125 \nL 168.521092 239.758125 \nL 168.521092 82.069003 \nL 158.860415 82.069003 \nz\n\" style=\"fill:#1f77b4;opacity:0.4;\"/>\n   </g>\n   <g id=\"patch_13\">\n    <path clip-path=\"url(#pf24aea1130)\" d=\"M 168.521092 239.758125 \nL 178.18177 239.758125 \nL 178.18177 32.672411 \nL 168.521092 32.672411 \nz\n\" style=\"fill:#1f77b4;opacity:0.4;\"/>\n   </g>\n   <g id=\"patch_14\">\n    <path clip-path=\"url(#pf24aea1130)\" d=\"M 178.18177 239.758125 \nL 187.842447 239.758125 \nL 187.842447 95.368086 \nL 178.18177 95.368086 \nz\n\" style=\"fill:#1f77b4;opacity:0.4;\"/>\n   </g>\n   <g id=\"patch_15\">\n    <path clip-path=\"url(#pf24aea1130)\" d=\"M 187.842447 239.758125 \nL 197.503125 239.758125 \nL 197.503125 59.270576 \nL 187.842447 59.270576 \nz\n\" style=\"fill:#1f77b4;opacity:0.4;\"/>\n   </g>\n   <g id=\"patch_16\">\n    <path clip-path=\"url(#pf24aea1130)\" d=\"M 197.503125 239.758125 \nL 207.163803 239.758125 \nL 207.163803 55.470838 \nL 197.503125 55.470838 \nz\n\" style=\"fill:#1f77b4;opacity:0.4;\"/>\n   </g>\n   <g id=\"patch_17\">\n    <path clip-path=\"url(#pf24aea1130)\" d=\"M 207.163803 239.758125 \nL 216.82448 239.758125 \nL 216.82448 93.468217 \nL 207.163803 93.468217 \nz\n\" style=\"fill:#1f77b4;opacity:0.4;\"/>\n   </g>\n   <g id=\"patch_18\">\n    <path clip-path=\"url(#pf24aea1130)\" d=\"M 216.82448 239.758125 \nL 226.485158 239.758125 \nL 226.485158 93.468217 \nL 216.82448 93.468217 \nz\n\" style=\"fill:#1f77b4;opacity:0.4;\"/>\n   </g>\n   <g id=\"patch_19\">\n    <path clip-path=\"url(#pf24aea1130)\" d=\"M 226.485158 239.758125 \nL 236.145835 239.758125 \nL 236.145835 163.763367 \nL 226.485158 163.763367 \nz\n\" style=\"fill:#1f77b4;opacity:0.4;\"/>\n   </g>\n   <g id=\"patch_20\">\n    <path clip-path=\"url(#pf24aea1130)\" d=\"M 236.145835 239.758125 \nL 245.806513 239.758125 \nL 245.806513 201.760746 \nL 236.145835 201.760746 \nz\n\" style=\"fill:#1f77b4;opacity:0.4;\"/>\n   </g>\n   <g id=\"patch_21\">\n    <path clip-path=\"url(#pf24aea1130)\" d=\"M 245.806513 239.758125 \nL 255.467191 239.758125 \nL 255.467191 218.859567 \nL 245.806513 218.859567 \nz\n\" style=\"fill:#1f77b4;opacity:0.4;\"/>\n   </g>\n   <g id=\"patch_22\">\n    <path clip-path=\"url(#pf24aea1130)\" d=\"M 255.467191 239.758125 \nL 265.127868 239.758125 \nL 265.127868 218.859567 \nL 255.467191 218.859567 \nz\n\" style=\"fill:#1f77b4;opacity:0.4;\"/>\n   </g>\n   <g id=\"patch_23\">\n    <path clip-path=\"url(#pf24aea1130)\" d=\"M 265.127868 239.758125 \nL 274.788546 239.758125 \nL 274.788546 230.25878 \nL 265.127868 230.25878 \nz\n\" style=\"fill:#1f77b4;opacity:0.4;\"/>\n   </g>\n   <g id=\"patch_24\">\n    <path clip-path=\"url(#pf24aea1130)\" d=\"M 274.788546 239.758125 \nL 284.449223 239.758125 \nL 284.449223 239.758125 \nL 274.788546 239.758125 \nz\n\" style=\"fill:#1f77b4;opacity:0.4;\"/>\n   </g>\n   <g id=\"patch_25\">\n    <path clip-path=\"url(#pf24aea1130)\" d=\"M 284.449223 239.758125 \nL 294.109901 239.758125 \nL 294.109901 237.858256 \nL 284.449223 237.858256 \nz\n\" style=\"fill:#1f77b4;opacity:0.4;\"/>\n   </g>\n   <g id=\"patch_26\">\n    <path clip-path=\"url(#pf24aea1130)\" d=\"M 294.109901 239.758125 \nL 303.770579 239.758125 \nL 303.770579 239.758125 \nL 294.109901 239.758125 \nz\n\" style=\"fill:#1f77b4;opacity:0.4;\"/>\n   </g>\n   <g id=\"patch_27\">\n    <path clip-path=\"url(#pf24aea1130)\" d=\"M 303.770579 239.758125 \nL 313.431256 239.758125 \nL 313.431256 239.758125 \nL 303.770579 239.758125 \nz\n\" style=\"fill:#1f77b4;opacity:0.4;\"/>\n   </g>\n   <g id=\"patch_28\">\n    <path clip-path=\"url(#pf24aea1130)\" d=\"M 313.431256 239.758125 \nL 323.091934 239.758125 \nL 323.091934 237.858256 \nL 313.431256 237.858256 \nz\n\" style=\"fill:#1f77b4;opacity:0.4;\"/>\n   </g>\n   <g id=\"matplotlib.axis_1\">\n    <g id=\"xtick_1\">\n     <g id=\"line2d_1\">\n      <defs>\n       <path d=\"M 0 0 \nL 0 3.5 \n\" id=\"m445c169cfc\" style=\"stroke:#000000;stroke-width:0.8;\"/>\n      </defs>\n      <g>\n       <use style=\"stroke:#000000;stroke-width:0.8;\" x=\"32.455028\" xlink:href=\"#m445c169cfc\" y=\"239.758125\"/>\n      </g>\n     </g>\n     <g id=\"text_1\">\n      <!-- 2.5 -->\n      <defs>\n       <path d=\"M 19.1875 8.296875 \nL 53.609375 8.296875 \nL 53.609375 0 \nL 7.328125 0 \nL 7.328125 8.296875 \nQ 12.9375 14.109375 22.625 23.890625 \nQ 32.328125 33.6875 34.8125 36.53125 \nQ 39.546875 41.84375 41.421875 45.53125 \nQ 43.3125 49.21875 43.3125 52.78125 \nQ 43.3125 58.59375 39.234375 62.25 \nQ 35.15625 65.921875 28.609375 65.921875 \nQ 23.96875 65.921875 18.8125 64.3125 \nQ 13.671875 62.703125 7.8125 59.421875 \nL 7.8125 69.390625 \nQ 13.765625 71.78125 18.9375 73 \nQ 24.125 74.21875 28.421875 74.21875 \nQ 39.75 74.21875 46.484375 68.546875 \nQ 53.21875 62.890625 53.21875 53.421875 \nQ 53.21875 48.921875 51.53125 44.890625 \nQ 49.859375 40.875 45.40625 35.40625 \nQ 44.1875 33.984375 37.640625 27.21875 \nQ 31.109375 20.453125 19.1875 8.296875 \nz\n\" id=\"DejaVuSans-50\"/>\n       <path d=\"M 10.6875 12.40625 \nL 21 12.40625 \nL 21 0 \nL 10.6875 0 \nz\n\" id=\"DejaVuSans-46\"/>\n       <path d=\"M 10.796875 72.90625 \nL 49.515625 72.90625 \nL 49.515625 64.59375 \nL 19.828125 64.59375 \nL 19.828125 46.734375 \nQ 21.96875 47.46875 24.109375 47.828125 \nQ 26.265625 48.1875 28.421875 48.1875 \nQ 40.625 48.1875 47.75 41.5 \nQ 54.890625 34.8125 54.890625 23.390625 \nQ 54.890625 11.625 47.5625 5.09375 \nQ 40.234375 -1.421875 26.90625 -1.421875 \nQ 22.3125 -1.421875 17.546875 -0.640625 \nQ 12.796875 0.140625 7.71875 1.703125 \nL 7.71875 11.625 \nQ 12.109375 9.234375 16.796875 8.0625 \nQ 21.484375 6.890625 26.703125 6.890625 \nQ 35.15625 6.890625 40.078125 11.328125 \nQ 45.015625 15.765625 45.015625 23.390625 \nQ 45.015625 31 40.078125 35.4375 \nQ 35.15625 39.890625 26.703125 39.890625 \nQ 22.75 39.890625 18.8125 39.015625 \nQ 14.890625 38.140625 10.796875 36.28125 \nz\n\" id=\"DejaVuSans-53\"/>\n      </defs>\n      <g transform=\"translate(24.503465 254.356563)scale(0.1 -0.1)\">\n       <use xlink:href=\"#DejaVuSans-50\"/>\n       <use x=\"63.623047\" xlink:href=\"#DejaVuSans-46\"/>\n       <use x=\"95.410156\" xlink:href=\"#DejaVuSans-53\"/>\n      </g>\n     </g>\n    </g>\n    <g id=\"xtick_2\">\n     <g id=\"line2d_2\">\n      <g>\n       <use style=\"stroke:#000000;stroke-width:0.8;\" x=\"82.995682\" xlink:href=\"#m445c169cfc\" y=\"239.758125\"/>\n      </g>\n     </g>\n     <g id=\"text_2\">\n      <!-- 3.0 -->\n      <defs>\n       <path d=\"M 40.578125 39.3125 \nQ 47.65625 37.796875 51.625 33 \nQ 55.609375 28.21875 55.609375 21.1875 \nQ 55.609375 10.40625 48.1875 4.484375 \nQ 40.765625 -1.421875 27.09375 -1.421875 \nQ 22.515625 -1.421875 17.65625 -0.515625 \nQ 12.796875 0.390625 7.625 2.203125 \nL 7.625 11.71875 \nQ 11.71875 9.328125 16.59375 8.109375 \nQ 21.484375 6.890625 26.8125 6.890625 \nQ 36.078125 6.890625 40.9375 10.546875 \nQ 45.796875 14.203125 45.796875 21.1875 \nQ 45.796875 27.640625 41.28125 31.265625 \nQ 36.765625 34.90625 28.71875 34.90625 \nL 20.21875 34.90625 \nL 20.21875 43.015625 \nL 29.109375 43.015625 \nQ 36.375 43.015625 40.234375 45.921875 \nQ 44.09375 48.828125 44.09375 54.296875 \nQ 44.09375 59.90625 40.109375 62.90625 \nQ 36.140625 65.921875 28.71875 65.921875 \nQ 24.65625 65.921875 20.015625 65.03125 \nQ 15.375 64.15625 9.8125 62.3125 \nL 9.8125 71.09375 \nQ 15.4375 72.65625 20.34375 73.4375 \nQ 25.25 74.21875 29.59375 74.21875 \nQ 40.828125 74.21875 47.359375 69.109375 \nQ 53.90625 64.015625 53.90625 55.328125 \nQ 53.90625 49.265625 50.4375 45.09375 \nQ 46.96875 40.921875 40.578125 39.3125 \nz\n\" id=\"DejaVuSans-51\"/>\n       <path d=\"M 31.78125 66.40625 \nQ 24.171875 66.40625 20.328125 58.90625 \nQ 16.5 51.421875 16.5 36.375 \nQ 16.5 21.390625 20.328125 13.890625 \nQ 24.171875 6.390625 31.78125 6.390625 \nQ 39.453125 6.390625 43.28125 13.890625 \nQ 47.125 21.390625 47.125 36.375 \nQ 47.125 51.421875 43.28125 58.90625 \nQ 39.453125 66.40625 31.78125 66.40625 \nz\nM 31.78125 74.21875 \nQ 44.046875 74.21875 50.515625 64.515625 \nQ 56.984375 54.828125 56.984375 36.375 \nQ 56.984375 17.96875 50.515625 8.265625 \nQ 44.046875 -1.421875 31.78125 -1.421875 \nQ 19.53125 -1.421875 13.0625 8.265625 \nQ 6.59375 17.96875 6.59375 36.375 \nQ 6.59375 54.828125 13.0625 64.515625 \nQ 19.53125 74.21875 31.78125 74.21875 \nz\n\" id=\"DejaVuSans-48\"/>\n      </defs>\n      <g transform=\"translate(75.04412 254.356563)scale(0.1 -0.1)\">\n       <use xlink:href=\"#DejaVuSans-51\"/>\n       <use x=\"63.623047\" xlink:href=\"#DejaVuSans-46\"/>\n       <use x=\"95.410156\" xlink:href=\"#DejaVuSans-48\"/>\n      </g>\n     </g>\n    </g>\n    <g id=\"xtick_3\">\n     <g id=\"line2d_3\">\n      <g>\n       <use style=\"stroke:#000000;stroke-width:0.8;\" x=\"133.536337\" xlink:href=\"#m445c169cfc\" y=\"239.758125\"/>\n      </g>\n     </g>\n     <g id=\"text_3\">\n      <!-- 3.5 -->\n      <g transform=\"translate(125.584775 254.356563)scale(0.1 -0.1)\">\n       <use xlink:href=\"#DejaVuSans-51\"/>\n       <use x=\"63.623047\" xlink:href=\"#DejaVuSans-46\"/>\n       <use x=\"95.410156\" xlink:href=\"#DejaVuSans-53\"/>\n      </g>\n     </g>\n    </g>\n    <g id=\"xtick_4\">\n     <g id=\"line2d_4\">\n      <g>\n       <use style=\"stroke:#000000;stroke-width:0.8;\" x=\"184.076992\" xlink:href=\"#m445c169cfc\" y=\"239.758125\"/>\n      </g>\n     </g>\n     <g id=\"text_4\">\n      <!-- 4.0 -->\n      <defs>\n       <path d=\"M 37.796875 64.3125 \nL 12.890625 25.390625 \nL 37.796875 25.390625 \nz\nM 35.203125 72.90625 \nL 47.609375 72.90625 \nL 47.609375 25.390625 \nL 58.015625 25.390625 \nL 58.015625 17.1875 \nL 47.609375 17.1875 \nL 47.609375 0 \nL 37.796875 0 \nL 37.796875 17.1875 \nL 4.890625 17.1875 \nL 4.890625 26.703125 \nz\n\" id=\"DejaVuSans-52\"/>\n      </defs>\n      <g transform=\"translate(176.125429 254.356563)scale(0.1 -0.1)\">\n       <use xlink:href=\"#DejaVuSans-52\"/>\n       <use x=\"63.623047\" xlink:href=\"#DejaVuSans-46\"/>\n       <use x=\"95.410156\" xlink:href=\"#DejaVuSans-48\"/>\n      </g>\n     </g>\n    </g>\n    <g id=\"xtick_5\">\n     <g id=\"line2d_5\">\n      <g>\n       <use style=\"stroke:#000000;stroke-width:0.8;\" x=\"234.617646\" xlink:href=\"#m445c169cfc\" y=\"239.758125\"/>\n      </g>\n     </g>\n     <g id=\"text_5\">\n      <!-- 4.5 -->\n      <g transform=\"translate(226.666084 254.356563)scale(0.1 -0.1)\">\n       <use xlink:href=\"#DejaVuSans-52\"/>\n       <use x=\"63.623047\" xlink:href=\"#DejaVuSans-46\"/>\n       <use x=\"95.410156\" xlink:href=\"#DejaVuSans-53\"/>\n      </g>\n     </g>\n    </g>\n    <g id=\"xtick_6\">\n     <g id=\"line2d_6\">\n      <g>\n       <use style=\"stroke:#000000;stroke-width:0.8;\" x=\"285.158301\" xlink:href=\"#m445c169cfc\" y=\"239.758125\"/>\n      </g>\n     </g>\n     <g id=\"text_6\">\n      <!-- 5.0 -->\n      <g transform=\"translate(277.206739 254.356563)scale(0.1 -0.1)\">\n       <use xlink:href=\"#DejaVuSans-53\"/>\n       <use x=\"63.623047\" xlink:href=\"#DejaVuSans-46\"/>\n       <use x=\"95.410156\" xlink:href=\"#DejaVuSans-48\"/>\n      </g>\n     </g>\n    </g>\n    <g id=\"xtick_7\">\n     <g id=\"line2d_7\">\n      <g>\n       <use style=\"stroke:#000000;stroke-width:0.8;\" x=\"335.698956\" xlink:href=\"#m445c169cfc\" y=\"239.758125\"/>\n      </g>\n     </g>\n     <g id=\"text_7\">\n      <!-- 5.5 -->\n      <g transform=\"translate(327.747393 254.356563)scale(0.1 -0.1)\">\n       <use xlink:href=\"#DejaVuSans-53\"/>\n       <use x=\"63.623047\" xlink:href=\"#DejaVuSans-46\"/>\n       <use x=\"95.410156\" xlink:href=\"#DejaVuSans-53\"/>\n      </g>\n     </g>\n    </g>\n   </g>\n   <g id=\"matplotlib.axis_2\">\n    <g id=\"ytick_1\">\n     <g id=\"line2d_8\">\n      <defs>\n       <path d=\"M 0 0 \nL -3.5 0 \n\" id=\"mc0a7ec4d0f\" style=\"stroke:#000000;stroke-width:0.8;\"/>\n      </defs>\n      <g>\n       <use style=\"stroke:#000000;stroke-width:0.8;\" x=\"30.103125\" xlink:href=\"#mc0a7ec4d0f\" y=\"239.758125\"/>\n      </g>\n     </g>\n     <g id=\"text_8\">\n      <!-- 0.0 -->\n      <g transform=\"translate(7.2 243.557344)scale(0.1 -0.1)\">\n       <use xlink:href=\"#DejaVuSans-48\"/>\n       <use x=\"63.623047\" xlink:href=\"#DejaVuSans-46\"/>\n       <use x=\"95.410156\" xlink:href=\"#DejaVuSans-48\"/>\n      </g>\n     </g>\n    </g>\n    <g id=\"ytick_2\">\n     <g id=\"line2d_9\">\n      <g>\n       <use style=\"stroke:#000000;stroke-width:0.8;\" x=\"30.103125\" xlink:href=\"#mc0a7ec4d0f\" y=\"206.021154\"/>\n      </g>\n     </g>\n     <g id=\"text_9\">\n      <!-- 0.2 -->\n      <g transform=\"translate(7.2 209.820373)scale(0.1 -0.1)\">\n       <use xlink:href=\"#DejaVuSans-48\"/>\n       <use x=\"63.623047\" xlink:href=\"#DejaVuSans-46\"/>\n       <use x=\"95.410156\" xlink:href=\"#DejaVuSans-50\"/>\n      </g>\n     </g>\n    </g>\n    <g id=\"ytick_3\">\n     <g id=\"line2d_10\">\n      <g>\n       <use style=\"stroke:#000000;stroke-width:0.8;\" x=\"30.103125\" xlink:href=\"#mc0a7ec4d0f\" y=\"172.284184\"/>\n      </g>\n     </g>\n     <g id=\"text_10\">\n      <!-- 0.4 -->\n      <g transform=\"translate(7.2 176.083403)scale(0.1 -0.1)\">\n       <use xlink:href=\"#DejaVuSans-48\"/>\n       <use x=\"63.623047\" xlink:href=\"#DejaVuSans-46\"/>\n       <use x=\"95.410156\" xlink:href=\"#DejaVuSans-52\"/>\n      </g>\n     </g>\n    </g>\n    <g id=\"ytick_4\">\n     <g id=\"line2d_11\">\n      <g>\n       <use style=\"stroke:#000000;stroke-width:0.8;\" x=\"30.103125\" xlink:href=\"#mc0a7ec4d0f\" y=\"138.547213\"/>\n      </g>\n     </g>\n     <g id=\"text_11\">\n      <!-- 0.6 -->\n      <defs>\n       <path d=\"M 33.015625 40.375 \nQ 26.375 40.375 22.484375 35.828125 \nQ 18.609375 31.296875 18.609375 23.390625 \nQ 18.609375 15.53125 22.484375 10.953125 \nQ 26.375 6.390625 33.015625 6.390625 \nQ 39.65625 6.390625 43.53125 10.953125 \nQ 47.40625 15.53125 47.40625 23.390625 \nQ 47.40625 31.296875 43.53125 35.828125 \nQ 39.65625 40.375 33.015625 40.375 \nz\nM 52.59375 71.296875 \nL 52.59375 62.3125 \nQ 48.875 64.0625 45.09375 64.984375 \nQ 41.3125 65.921875 37.59375 65.921875 \nQ 27.828125 65.921875 22.671875 59.328125 \nQ 17.53125 52.734375 16.796875 39.40625 \nQ 19.671875 43.65625 24.015625 45.921875 \nQ 28.375 48.1875 33.59375 48.1875 \nQ 44.578125 48.1875 50.953125 41.515625 \nQ 57.328125 34.859375 57.328125 23.390625 \nQ 57.328125 12.15625 50.6875 5.359375 \nQ 44.046875 -1.421875 33.015625 -1.421875 \nQ 20.359375 -1.421875 13.671875 8.265625 \nQ 6.984375 17.96875 6.984375 36.375 \nQ 6.984375 53.65625 15.1875 63.9375 \nQ 23.390625 74.21875 37.203125 74.21875 \nQ 40.921875 74.21875 44.703125 73.484375 \nQ 48.484375 72.75 52.59375 71.296875 \nz\n\" id=\"DejaVuSans-54\"/>\n      </defs>\n      <g transform=\"translate(7.2 142.346432)scale(0.1 -0.1)\">\n       <use xlink:href=\"#DejaVuSans-48\"/>\n       <use x=\"63.623047\" xlink:href=\"#DejaVuSans-46\"/>\n       <use x=\"95.410156\" xlink:href=\"#DejaVuSans-54\"/>\n      </g>\n     </g>\n    </g>\n    <g id=\"ytick_5\">\n     <g id=\"line2d_12\">\n      <g>\n       <use style=\"stroke:#000000;stroke-width:0.8;\" x=\"30.103125\" xlink:href=\"#mc0a7ec4d0f\" y=\"104.810243\"/>\n      </g>\n     </g>\n     <g id=\"text_12\">\n      <!-- 0.8 -->\n      <defs>\n       <path d=\"M 31.78125 34.625 \nQ 24.75 34.625 20.71875 30.859375 \nQ 16.703125 27.09375 16.703125 20.515625 \nQ 16.703125 13.921875 20.71875 10.15625 \nQ 24.75 6.390625 31.78125 6.390625 \nQ 38.8125 6.390625 42.859375 10.171875 \nQ 46.921875 13.96875 46.921875 20.515625 \nQ 46.921875 27.09375 42.890625 30.859375 \nQ 38.875 34.625 31.78125 34.625 \nz\nM 21.921875 38.8125 \nQ 15.578125 40.375 12.03125 44.71875 \nQ 8.5 49.078125 8.5 55.328125 \nQ 8.5 64.0625 14.71875 69.140625 \nQ 20.953125 74.21875 31.78125 74.21875 \nQ 42.671875 74.21875 48.875 69.140625 \nQ 55.078125 64.0625 55.078125 55.328125 \nQ 55.078125 49.078125 51.53125 44.71875 \nQ 48 40.375 41.703125 38.8125 \nQ 48.828125 37.15625 52.796875 32.3125 \nQ 56.78125 27.484375 56.78125 20.515625 \nQ 56.78125 9.90625 50.3125 4.234375 \nQ 43.84375 -1.421875 31.78125 -1.421875 \nQ 19.734375 -1.421875 13.25 4.234375 \nQ 6.78125 9.90625 6.78125 20.515625 \nQ 6.78125 27.484375 10.78125 32.3125 \nQ 14.796875 37.15625 21.921875 38.8125 \nz\nM 18.3125 54.390625 \nQ 18.3125 48.734375 21.84375 45.5625 \nQ 25.390625 42.390625 31.78125 42.390625 \nQ 38.140625 42.390625 41.71875 45.5625 \nQ 45.3125 48.734375 45.3125 54.390625 \nQ 45.3125 60.0625 41.71875 63.234375 \nQ 38.140625 66.40625 31.78125 66.40625 \nQ 25.390625 66.40625 21.84375 63.234375 \nQ 18.3125 60.0625 18.3125 54.390625 \nz\n\" id=\"DejaVuSans-56\"/>\n      </defs>\n      <g transform=\"translate(7.2 108.609461)scale(0.1 -0.1)\">\n       <use xlink:href=\"#DejaVuSans-48\"/>\n       <use x=\"63.623047\" xlink:href=\"#DejaVuSans-46\"/>\n       <use x=\"95.410156\" xlink:href=\"#DejaVuSans-56\"/>\n      </g>\n     </g>\n    </g>\n    <g id=\"ytick_6\">\n     <g id=\"line2d_13\">\n      <g>\n       <use style=\"stroke:#000000;stroke-width:0.8;\" x=\"30.103125\" xlink:href=\"#mc0a7ec4d0f\" y=\"71.073272\"/>\n      </g>\n     </g>\n     <g id=\"text_13\">\n      <!-- 1.0 -->\n      <defs>\n       <path d=\"M 12.40625 8.296875 \nL 28.515625 8.296875 \nL 28.515625 63.921875 \nL 10.984375 60.40625 \nL 10.984375 69.390625 \nL 28.421875 72.90625 \nL 38.28125 72.90625 \nL 38.28125 8.296875 \nL 54.390625 8.296875 \nL 54.390625 0 \nL 12.40625 0 \nz\n\" id=\"DejaVuSans-49\"/>\n      </defs>\n      <g transform=\"translate(7.2 74.872491)scale(0.1 -0.1)\">\n       <use xlink:href=\"#DejaVuSans-49\"/>\n       <use x=\"63.623047\" xlink:href=\"#DejaVuSans-46\"/>\n       <use x=\"95.410156\" xlink:href=\"#DejaVuSans-48\"/>\n      </g>\n     </g>\n    </g>\n    <g id=\"ytick_7\">\n     <g id=\"line2d_14\">\n      <g>\n       <use style=\"stroke:#000000;stroke-width:0.8;\" x=\"30.103125\" xlink:href=\"#mc0a7ec4d0f\" y=\"37.336302\"/>\n      </g>\n     </g>\n     <g id=\"text_14\">\n      <!-- 1.2 -->\n      <g transform=\"translate(7.2 41.13552)scale(0.1 -0.1)\">\n       <use xlink:href=\"#DejaVuSans-49\"/>\n       <use x=\"63.623047\" xlink:href=\"#DejaVuSans-46\"/>\n       <use x=\"95.410156\" xlink:href=\"#DejaVuSans-50\"/>\n      </g>\n     </g>\n    </g>\n   </g>\n   <g id=\"line2d_15\">\n    <path clip-path=\"url(#pf24aea1130)\" d=\"M 45.321307 239.748858 \nL 48.395687 239.733335 \nL 51.470067 239.699089 \nL 54.544447 239.632567 \nL 57.618827 239.5183 \nL 60.693208 239.342818 \nL 63.767588 239.09634 \nL 66.841968 238.767706 \nL 69.916348 238.334257 \nL 72.990728 237.759208 \nL 76.065108 237.011017 \nL 79.139489 236.100643 \nL 82.213869 235.103481 \nL 85.288249 234.12718 \nL 88.362629 233.226622 \nL 91.437009 232.326662 \nL 94.511389 231.229138 \nL 97.58577 229.720879 \nL 100.66015 227.70716 \nL 103.73453 225.256444 \nL 106.80891 222.503465 \nL 109.88329 219.47611 \nL 112.95767 215.986817 \nL 116.032051 211.686655 \nL 119.106431 206.244435 \nL 122.180811 199.502444 \nL 125.255191 191.488045 \nL 128.329571 182.311635 \nL 131.403951 172.102057 \nL 134.478332 161.07711 \nL 137.552712 149.662167 \nL 140.627092 138.467614 \nL 143.701472 128.062873 \nL 146.775852 118.721661 \nL 149.850232 110.381899 \nL 152.924613 102.857913 \nL 155.998993 96.081095 \nL 159.073373 90.128776 \nL 162.147753 85.052689 \nL 165.222133 80.748461 \nL 168.296513 77.049884 \nL 171.370894 73.949141 \nL 174.445274 71.660677 \nL 177.519654 70.386113 \nL 180.594034 69.967674 \nL 183.668414 69.78264 \nL 186.742794 69.043736 \nL 189.817175 67.315504 \nL 192.891555 64.876489 \nL 195.965935 62.686151 \nL 199.040315 61.993014 \nL 202.114695 63.815341 \nL 205.189075 68.551227 \nL 208.263456 75.883003 \nL 211.337836 84.998162 \nL 214.412216 94.996798 \nL 217.486596 105.255824 \nL 220.560976 115.554659 \nL 223.635356 125.941792 \nL 226.709737 136.506364 \nL 229.784117 147.246598 \nL 232.858497 158.078786 \nL 235.932877 168.876941 \nL 239.007257 179.442839 \nL 242.081637 189.443044 \nL 245.156018 198.428772 \nL 248.230398 205.981774 \nL 251.304778 211.901584 \nL 254.379158 216.307296 \nL 257.453538 219.592881 \nL 260.527918 222.268254 \nL 263.602299 224.769985 \nL 266.676679 227.325893 \nL 269.751059 229.924293 \nL 272.825439 232.387805 \nL 275.899819 234.503151 \nL 278.974199 236.136744 \nL 282.04858 237.283631 \nL 285.12296 238.041843 \nL 288.19734 238.54565 \nL 291.27172 238.904675 \nL 294.3461 239.178179 \nL 297.42048 239.383504 \nL 300.494861 239.518332 \nL 303.569241 239.577722 \nL 306.643621 239.560788 \nL 309.718001 239.472947 \nL 312.792381 239.330051 \nL 315.866761 239.163267 \nL 318.941142 239.017487 \nL 322.015522 238.938422 \nL 325.089902 238.953186 \nL 328.164282 239.057088 \nL 331.238662 239.216688 \nL 334.313042 239.387297 \nL 337.387423 239.532901 \nL 340.461803 239.636822 \nL 343.536183 239.700189 \nL 346.610563 239.733587 \nL 349.684943 239.748909 \n\" style=\"fill:none;stroke:#1f77b4;stroke-linecap:square;stroke-width:1.5;\"/>\n   </g>\n   <g id=\"patch_29\">\n    <path d=\"M 30.103125 239.758125 \nL 30.103125 22.318125 \n\" style=\"fill:none;stroke:#000000;stroke-linecap:square;stroke-linejoin:miter;stroke-width:0.8;\"/>\n   </g>\n   <g id=\"patch_30\">\n    <path d=\"M 364.903125 239.758125 \nL 364.903125 22.318125 \n\" style=\"fill:none;stroke:#000000;stroke-linecap:square;stroke-linejoin:miter;stroke-width:0.8;\"/>\n   </g>\n   <g id=\"patch_31\">\n    <path d=\"M 30.103125 239.758125 \nL 364.903125 239.758125 \n\" style=\"fill:none;stroke:#000000;stroke-linecap:square;stroke-linejoin:miter;stroke-width:0.8;\"/>\n   </g>\n   <g id=\"patch_32\">\n    <path d=\"M 30.103125 22.318125 \nL 364.903125 22.318125 \n\" style=\"fill:none;stroke:#000000;stroke-linecap:square;stroke-linejoin:miter;stroke-width:0.8;\"/>\n   </g>\n   <g id=\"text_15\">\n    <!-- size -->\n    <defs>\n     <path d=\"M 44.28125 53.078125 \nL 44.28125 44.578125 \nQ 40.484375 46.53125 36.375 47.5 \nQ 32.28125 48.484375 27.875 48.484375 \nQ 21.1875 48.484375 17.84375 46.4375 \nQ 14.5 44.390625 14.5 40.28125 \nQ 14.5 37.15625 16.890625 35.375 \nQ 19.28125 33.59375 26.515625 31.984375 \nL 29.59375 31.296875 \nQ 39.15625 29.25 43.1875 25.515625 \nQ 47.21875 21.78125 47.21875 15.09375 \nQ 47.21875 7.46875 41.1875 3.015625 \nQ 35.15625 -1.421875 24.609375 -1.421875 \nQ 20.21875 -1.421875 15.453125 -0.5625 \nQ 10.6875 0.296875 5.421875 2 \nL 5.421875 11.28125 \nQ 10.40625 8.6875 15.234375 7.390625 \nQ 20.0625 6.109375 24.8125 6.109375 \nQ 31.15625 6.109375 34.5625 8.28125 \nQ 37.984375 10.453125 37.984375 14.40625 \nQ 37.984375 18.0625 35.515625 20.015625 \nQ 33.0625 21.96875 24.703125 23.78125 \nL 21.578125 24.515625 \nQ 13.234375 26.265625 9.515625 29.90625 \nQ 5.8125 33.546875 5.8125 39.890625 \nQ 5.8125 47.609375 11.28125 51.796875 \nQ 16.75 56 26.8125 56 \nQ 31.78125 56 36.171875 55.265625 \nQ 40.578125 54.546875 44.28125 53.078125 \nz\n\" id=\"DejaVuSans-115\"/>\n     <path d=\"M 9.421875 54.6875 \nL 18.40625 54.6875 \nL 18.40625 0 \nL 9.421875 0 \nz\nM 9.421875 75.984375 \nL 18.40625 75.984375 \nL 18.40625 64.59375 \nL 9.421875 64.59375 \nz\n\" id=\"DejaVuSans-105\"/>\n     <path d=\"M 5.515625 54.6875 \nL 48.1875 54.6875 \nL 48.1875 46.484375 \nL 14.40625 7.171875 \nL 48.1875 7.171875 \nL 48.1875 0 \nL 4.296875 0 \nL 4.296875 8.203125 \nL 38.09375 47.515625 \nL 5.515625 47.515625 \nz\n\" id=\"DejaVuSans-122\"/>\n     <path d=\"M 56.203125 29.59375 \nL 56.203125 25.203125 \nL 14.890625 25.203125 \nQ 15.484375 15.921875 20.484375 11.0625 \nQ 25.484375 6.203125 34.421875 6.203125 \nQ 39.59375 6.203125 44.453125 7.46875 \nQ 49.3125 8.734375 54.109375 11.28125 \nL 54.109375 2.78125 \nQ 49.265625 0.734375 44.1875 -0.34375 \nQ 39.109375 -1.421875 33.890625 -1.421875 \nQ 20.796875 -1.421875 13.15625 6.1875 \nQ 5.515625 13.8125 5.515625 26.8125 \nQ 5.515625 40.234375 12.765625 48.109375 \nQ 20.015625 56 32.328125 56 \nQ 43.359375 56 49.78125 48.890625 \nQ 56.203125 41.796875 56.203125 29.59375 \nz\nM 47.21875 32.234375 \nQ 47.125 39.59375 43.09375 43.984375 \nQ 39.0625 48.390625 32.421875 48.390625 \nQ 24.90625 48.390625 20.390625 44.140625 \nQ 15.875 39.890625 15.1875 32.171875 \nz\n\" id=\"DejaVuSans-101\"/>\n    </defs>\n    <g transform=\"translate(185.869688 16.318125)scale(0.12 -0.12)\">\n     <use xlink:href=\"#DejaVuSans-115\"/>\n     <use x=\"52.099609\" xlink:href=\"#DejaVuSans-105\"/>\n     <use x=\"79.882812\" xlink:href=\"#DejaVuSans-122\"/>\n     <use x=\"132.373047\" xlink:href=\"#DejaVuSans-101\"/>\n    </g>\n   </g>\n  </g>\n </g>\n <defs>\n  <clipPath id=\"pf24aea1130\">\n   <rect height=\"217.44\" width=\"334.8\" x=\"30.103125\" y=\"22.318125\"/>\n  </clipPath>\n </defs>\n</svg>\n",
      "image/png": "[encoded data removed]"
     },
     "metadata": {
      "needs_background": "light"
     }
    },
    {
     "output_type": "display_data",
     "data": {
      "text/plain": "<Figure size 432x288 with 1 Axes>",
      "image/svg+xml": "<?xml version=\"1.0\" encoding=\"utf-8\" standalone=\"no\"?>\n<!DOCTYPE svg PUBLIC \"-//W3C//DTD SVG 1.1//EN\"\n  \"http://www.w3.org/Graphics/SVG/1.1/DTD/svg11.dtd\">\n<!-- Created with matplotlib (https://matplotlib.org/) -->\n<svg height=\"263.63625pt\" version=\"1.1\" viewBox=\"0 0 361.887639 263.63625\" width=\"361.887639pt\" xmlns=\"http://www.w3.org/2000/svg\" xmlns:xlink=\"http://www.w3.org/1999/xlink\">\n <defs>\n  <style type=\"text/css\">\n*{stroke-linecap:butt;stroke-linejoin:round;}\n  </style>\n </defs>\n <g id=\"figure_1\">\n  <g id=\"patch_1\">\n   <path d=\"M 0 263.63625 \nL 361.887639 263.63625 \nL 361.887639 0 \nL 0 0 \nz\n\" style=\"fill:none;\"/>\n  </g>\n  <g id=\"axes_1\">\n   <g id=\"patch_2\">\n    <path d=\"M 16.01832 239.758125 \nL 350.81832 239.758125 \nL 350.81832 22.318125 \nL 16.01832 22.318125 \nz\n\" style=\"fill:#ffffff;\"/>\n   </g>\n   <g id=\"patch_3\">\n    <path clip-path=\"url(#pd776cacf1c)\" d=\"M 149.765105 44.062125 \nL 149.765105 218.014125 \nL 281.161114 218.014125 \nL 281.161114 44.062125 \nL 149.765105 44.062125 \nz\n\" style=\"fill:#3274a1;stroke:#3f3f3f;stroke-linejoin:miter;stroke-width:1.5;\"/>\n   </g>\n   <g id=\"matplotlib.axis_1\">\n    <g id=\"xtick_1\">\n     <g id=\"line2d_1\">\n      <defs>\n       <path d=\"M 0 0 \nL 0 3.5 \n\" id=\"m29616757df\" style=\"stroke:#000000;stroke-width:0.8;\"/>\n      </defs>\n      <g>\n       <use style=\"stroke:#000000;stroke-width:0.8;\" x=\"26.2875\" xlink:href=\"#m29616757df\" y=\"239.758125\"/>\n      </g>\n     </g>\n     <g id=\"text_1\">\n      <!-- 100000 -->\n      <defs>\n       <path d=\"M 12.40625 8.296875 \nL 28.515625 8.296875 \nL 28.515625 63.921875 \nL 10.984375 60.40625 \nL 10.984375 69.390625 \nL 28.421875 72.90625 \nL 38.28125 72.90625 \nL 38.28125 8.296875 \nL 54.390625 8.296875 \nL 54.390625 0 \nL 12.40625 0 \nz\n\" id=\"DejaVuSans-49\"/>\n       <path d=\"M 31.78125 66.40625 \nQ 24.171875 66.40625 20.328125 58.90625 \nQ 16.5 51.421875 16.5 36.375 \nQ 16.5 21.390625 20.328125 13.890625 \nQ 24.171875 6.390625 31.78125 6.390625 \nQ 39.453125 6.390625 43.28125 13.890625 \nQ 47.125 21.390625 47.125 36.375 \nQ 47.125 51.421875 43.28125 58.90625 \nQ 39.453125 66.40625 31.78125 66.40625 \nz\nM 31.78125 74.21875 \nQ 44.046875 74.21875 50.515625 64.515625 \nQ 56.984375 54.828125 56.984375 36.375 \nQ 56.984375 17.96875 50.515625 8.265625 \nQ 44.046875 -1.421875 31.78125 -1.421875 \nQ 19.53125 -1.421875 13.0625 8.265625 \nQ 6.59375 17.96875 6.59375 36.375 \nQ 6.59375 54.828125 13.0625 64.515625 \nQ 19.53125 74.21875 31.78125 74.21875 \nz\n\" id=\"DejaVuSans-48\"/>\n      </defs>\n      <g transform=\"translate(7.2 254.356563)scale(0.1 -0.1)\">\n       <use xlink:href=\"#DejaVuSans-49\"/>\n       <use x=\"63.623047\" xlink:href=\"#DejaVuSans-48\"/>\n       <use x=\"127.246094\" xlink:href=\"#DejaVuSans-48\"/>\n       <use x=\"190.869141\" xlink:href=\"#DejaVuSans-48\"/>\n       <use x=\"254.492188\" xlink:href=\"#DejaVuSans-48\"/>\n       <use x=\"318.115234\" xlink:href=\"#DejaVuSans-48\"/>\n      </g>\n     </g>\n    </g>\n    <g id=\"xtick_2\">\n     <g id=\"line2d_2\">\n      <g>\n       <use style=\"stroke:#000000;stroke-width:0.8;\" x=\"88.150028\" xlink:href=\"#m29616757df\" y=\"239.758125\"/>\n      </g>\n     </g>\n     <g id=\"text_2\">\n      <!-- 150000 -->\n      <defs>\n       <path d=\"M 10.796875 72.90625 \nL 49.515625 72.90625 \nL 49.515625 64.59375 \nL 19.828125 64.59375 \nL 19.828125 46.734375 \nQ 21.96875 47.46875 24.109375 47.828125 \nQ 26.265625 48.1875 28.421875 48.1875 \nQ 40.625 48.1875 47.75 41.5 \nQ 54.890625 34.8125 54.890625 23.390625 \nQ 54.890625 11.625 47.5625 5.09375 \nQ 40.234375 -1.421875 26.90625 -1.421875 \nQ 22.3125 -1.421875 17.546875 -0.640625 \nQ 12.796875 0.140625 7.71875 1.703125 \nL 7.71875 11.625 \nQ 12.109375 9.234375 16.796875 8.0625 \nQ 21.484375 6.890625 26.703125 6.890625 \nQ 35.15625 6.890625 40.078125 11.328125 \nQ 45.015625 15.765625 45.015625 23.390625 \nQ 45.015625 31 40.078125 35.4375 \nQ 35.15625 39.890625 26.703125 39.890625 \nQ 22.75 39.890625 18.8125 39.015625 \nQ 14.890625 38.140625 10.796875 36.28125 \nz\n\" id=\"DejaVuSans-53\"/>\n      </defs>\n      <g transform=\"translate(69.062528 254.356563)scale(0.1 -0.1)\">\n       <use xlink:href=\"#DejaVuSans-49\"/>\n       <use x=\"63.623047\" xlink:href=\"#DejaVuSans-53\"/>\n       <use x=\"127.246094\" xlink:href=\"#DejaVuSans-48\"/>\n       <use x=\"190.869141\" xlink:href=\"#DejaVuSans-48\"/>\n       <use x=\"254.492188\" xlink:href=\"#DejaVuSans-48\"/>\n       <use x=\"318.115234\" xlink:href=\"#DejaVuSans-48\"/>\n      </g>\n     </g>\n    </g>\n    <g id=\"xtick_3\">\n     <g id=\"line2d_3\">\n      <g>\n       <use style=\"stroke:#000000;stroke-width:0.8;\" x=\"150.012555\" xlink:href=\"#m29616757df\" y=\"239.758125\"/>\n      </g>\n     </g>\n     <g id=\"text_3\">\n      <!-- 200000 -->\n      <defs>\n       <path d=\"M 19.1875 8.296875 \nL 53.609375 8.296875 \nL 53.609375 0 \nL 7.328125 0 \nL 7.328125 8.296875 \nQ 12.9375 14.109375 22.625 23.890625 \nQ 32.328125 33.6875 34.8125 36.53125 \nQ 39.546875 41.84375 41.421875 45.53125 \nQ 43.3125 49.21875 43.3125 52.78125 \nQ 43.3125 58.59375 39.234375 62.25 \nQ 35.15625 65.921875 28.609375 65.921875 \nQ 23.96875 65.921875 18.8125 64.3125 \nQ 13.671875 62.703125 7.8125 59.421875 \nL 7.8125 69.390625 \nQ 13.765625 71.78125 18.9375 73 \nQ 24.125 74.21875 28.421875 74.21875 \nQ 39.75 74.21875 46.484375 68.546875 \nQ 53.21875 62.890625 53.21875 53.421875 \nQ 53.21875 48.921875 51.53125 44.890625 \nQ 49.859375 40.875 45.40625 35.40625 \nQ 44.1875 33.984375 37.640625 27.21875 \nQ 31.109375 20.453125 19.1875 8.296875 \nz\n\" id=\"DejaVuSans-50\"/>\n      </defs>\n      <g transform=\"translate(130.925055 254.356563)scale(0.1 -0.1)\">\n       <use xlink:href=\"#DejaVuSans-50\"/>\n       <use x=\"63.623047\" xlink:href=\"#DejaVuSans-48\"/>\n       <use x=\"127.246094\" xlink:href=\"#DejaVuSans-48\"/>\n       <use x=\"190.869141\" xlink:href=\"#DejaVuSans-48\"/>\n       <use x=\"254.492188\" xlink:href=\"#DejaVuSans-48\"/>\n       <use x=\"318.115234\" xlink:href=\"#DejaVuSans-48\"/>\n      </g>\n     </g>\n    </g>\n    <g id=\"xtick_4\">\n     <g id=\"line2d_4\">\n      <g>\n       <use style=\"stroke:#000000;stroke-width:0.8;\" x=\"211.875083\" xlink:href=\"#m29616757df\" y=\"239.758125\"/>\n      </g>\n     </g>\n     <g id=\"text_4\">\n      <!-- 250000 -->\n      <g transform=\"translate(192.787583 254.356563)scale(0.1 -0.1)\">\n       <use xlink:href=\"#DejaVuSans-50\"/>\n       <use x=\"63.623047\" xlink:href=\"#DejaVuSans-53\"/>\n       <use x=\"127.246094\" xlink:href=\"#DejaVuSans-48\"/>\n       <use x=\"190.869141\" xlink:href=\"#DejaVuSans-48\"/>\n       <use x=\"254.492188\" xlink:href=\"#DejaVuSans-48\"/>\n       <use x=\"318.115234\" xlink:href=\"#DejaVuSans-48\"/>\n      </g>\n     </g>\n    </g>\n    <g id=\"xtick_5\">\n     <g id=\"line2d_5\">\n      <g>\n       <use style=\"stroke:#000000;stroke-width:0.8;\" x=\"273.737611\" xlink:href=\"#m29616757df\" y=\"239.758125\"/>\n      </g>\n     </g>\n     <g id=\"text_5\">\n      <!-- 300000 -->\n      <defs>\n       <path d=\"M 40.578125 39.3125 \nQ 47.65625 37.796875 51.625 33 \nQ 55.609375 28.21875 55.609375 21.1875 \nQ 55.609375 10.40625 48.1875 4.484375 \nQ 40.765625 -1.421875 27.09375 -1.421875 \nQ 22.515625 -1.421875 17.65625 -0.515625 \nQ 12.796875 0.390625 7.625 2.203125 \nL 7.625 11.71875 \nQ 11.71875 9.328125 16.59375 8.109375 \nQ 21.484375 6.890625 26.8125 6.890625 \nQ 36.078125 6.890625 40.9375 10.546875 \nQ 45.796875 14.203125 45.796875 21.1875 \nQ 45.796875 27.640625 41.28125 31.265625 \nQ 36.765625 34.90625 28.71875 34.90625 \nL 20.21875 34.90625 \nL 20.21875 43.015625 \nL 29.109375 43.015625 \nQ 36.375 43.015625 40.234375 45.921875 \nQ 44.09375 48.828125 44.09375 54.296875 \nQ 44.09375 59.90625 40.109375 62.90625 \nQ 36.140625 65.921875 28.71875 65.921875 \nQ 24.65625 65.921875 20.015625 65.03125 \nQ 15.375 64.15625 9.8125 62.3125 \nL 9.8125 71.09375 \nQ 15.4375 72.65625 20.34375 73.4375 \nQ 25.25 74.21875 29.59375 74.21875 \nQ 40.828125 74.21875 47.359375 69.109375 \nQ 53.90625 64.015625 53.90625 55.328125 \nQ 53.90625 49.265625 50.4375 45.09375 \nQ 46.96875 40.921875 40.578125 39.3125 \nz\n\" id=\"DejaVuSans-51\"/>\n      </defs>\n      <g transform=\"translate(254.650111 254.356563)scale(0.1 -0.1)\">\n       <use xlink:href=\"#DejaVuSans-51\"/>\n       <use x=\"63.623047\" xlink:href=\"#DejaVuSans-48\"/>\n       <use x=\"127.246094\" xlink:href=\"#DejaVuSans-48\"/>\n       <use x=\"190.869141\" xlink:href=\"#DejaVuSans-48\"/>\n       <use x=\"254.492188\" xlink:href=\"#DejaVuSans-48\"/>\n       <use x=\"318.115234\" xlink:href=\"#DejaVuSans-48\"/>\n      </g>\n     </g>\n    </g>\n    <g id=\"xtick_6\">\n     <g id=\"line2d_6\">\n      <g>\n       <use style=\"stroke:#000000;stroke-width:0.8;\" x=\"335.600139\" xlink:href=\"#m29616757df\" y=\"239.758125\"/>\n      </g>\n     </g>\n     <g id=\"text_6\">\n      <!-- 350000 -->\n      <g transform=\"translate(316.512639 254.356563)scale(0.1 -0.1)\">\n       <use xlink:href=\"#DejaVuSans-51\"/>\n       <use x=\"63.623047\" xlink:href=\"#DejaVuSans-53\"/>\n       <use x=\"127.246094\" xlink:href=\"#DejaVuSans-48\"/>\n       <use x=\"190.869141\" xlink:href=\"#DejaVuSans-48\"/>\n       <use x=\"254.492188\" xlink:href=\"#DejaVuSans-48\"/>\n       <use x=\"318.115234\" xlink:href=\"#DejaVuSans-48\"/>\n      </g>\n     </g>\n    </g>\n   </g>\n   <g id=\"matplotlib.axis_2\">\n    <g id=\"ytick_1\">\n     <g id=\"line2d_7\">\n      <defs>\n       <path d=\"M 0 0 \nL -3.5 0 \n\" id=\"m0bd22b534e\" style=\"stroke:#000000;stroke-width:0.8;\"/>\n      </defs>\n      <g>\n       <use style=\"stroke:#000000;stroke-width:0.8;\" x=\"16.01832\" xlink:href=\"#m0bd22b534e\" y=\"131.038125\"/>\n      </g>\n     </g>\n    </g>\n   </g>\n   <g id=\"line2d_8\">\n    <path clip-path=\"url(#pd776cacf1c)\" d=\"M 149.765105 131.038125 \nL 31.236502 131.038125 \n\" style=\"fill:none;stroke:#3f3f3f;stroke-linecap:square;stroke-width:1.5;\"/>\n   </g>\n   <g id=\"line2d_9\">\n    <path clip-path=\"url(#pd776cacf1c)\" d=\"M 281.161114 131.038125 \nL 335.600139 131.038125 \n\" style=\"fill:none;stroke:#3f3f3f;stroke-linecap:square;stroke-width:1.5;\"/>\n   </g>\n   <g id=\"line2d_10\">\n    <path clip-path=\"url(#pd776cacf1c)\" d=\"M 31.236502 87.550125 \nL 31.236502 174.526125 \n\" style=\"fill:none;stroke:#3f3f3f;stroke-linecap:square;stroke-width:1.5;\"/>\n   </g>\n   <g id=\"line2d_11\">\n    <path clip-path=\"url(#pd776cacf1c)\" d=\"M 335.600139 87.550125 \nL 335.600139 174.526125 \n\" style=\"fill:none;stroke:#3f3f3f;stroke-linecap:square;stroke-width:1.5;\"/>\n   </g>\n   <g id=\"line2d_12\"/>\n   <g id=\"line2d_13\">\n    <path clip-path=\"url(#pd776cacf1c)\" d=\"M 224.247589 44.062125 \nL 224.247589 218.014125 \n\" style=\"fill:none;stroke:#3f3f3f;stroke-linecap:square;stroke-width:1.5;\"/>\n   </g>\n   <g id=\"patch_4\">\n    <path d=\"M 16.01832 239.758125 \nL 16.01832 22.318125 \n\" style=\"fill:none;stroke:#000000;stroke-linecap:square;stroke-linejoin:miter;stroke-width:0.8;\"/>\n   </g>\n   <g id=\"patch_5\">\n    <path d=\"M 350.81832 239.758125 \nL 350.81832 22.318125 \n\" style=\"fill:none;stroke:#000000;stroke-linecap:square;stroke-linejoin:miter;stroke-width:0.8;\"/>\n   </g>\n   <g id=\"patch_6\">\n    <path d=\"M 16.01832 239.758125 \nL 350.81832 239.758125 \n\" style=\"fill:none;stroke:#000000;stroke-linecap:square;stroke-linejoin:miter;stroke-width:0.8;\"/>\n   </g>\n   <g id=\"patch_7\">\n    <path d=\"M 16.01832 22.318125 \nL 350.81832 22.318125 \n\" style=\"fill:none;stroke:#000000;stroke-linecap:square;stroke-linejoin:miter;stroke-width:0.8;\"/>\n   </g>\n   <g id=\"text_7\">\n    <!-- price -->\n    <defs>\n     <path d=\"M 18.109375 8.203125 \nL 18.109375 -20.796875 \nL 9.078125 -20.796875 \nL 9.078125 54.6875 \nL 18.109375 54.6875 \nL 18.109375 46.390625 \nQ 20.953125 51.265625 25.265625 53.625 \nQ 29.59375 56 35.59375 56 \nQ 45.5625 56 51.78125 48.09375 \nQ 58.015625 40.1875 58.015625 27.296875 \nQ 58.015625 14.40625 51.78125 6.484375 \nQ 45.5625 -1.421875 35.59375 -1.421875 \nQ 29.59375 -1.421875 25.265625 0.953125 \nQ 20.953125 3.328125 18.109375 8.203125 \nz\nM 48.6875 27.296875 \nQ 48.6875 37.203125 44.609375 42.84375 \nQ 40.53125 48.484375 33.40625 48.484375 \nQ 26.265625 48.484375 22.1875 42.84375 \nQ 18.109375 37.203125 18.109375 27.296875 \nQ 18.109375 17.390625 22.1875 11.75 \nQ 26.265625 6.109375 33.40625 6.109375 \nQ 40.53125 6.109375 44.609375 11.75 \nQ 48.6875 17.390625 48.6875 27.296875 \nz\n\" id=\"DejaVuSans-112\"/>\n     <path d=\"M 41.109375 46.296875 \nQ 39.59375 47.171875 37.8125 47.578125 \nQ 36.03125 48 33.890625 48 \nQ 26.265625 48 22.1875 43.046875 \nQ 18.109375 38.09375 18.109375 28.8125 \nL 18.109375 0 \nL 9.078125 0 \nL 9.078125 54.6875 \nL 18.109375 54.6875 \nL 18.109375 46.1875 \nQ 20.953125 51.171875 25.484375 53.578125 \nQ 30.03125 56 36.53125 56 \nQ 37.453125 56 38.578125 55.875 \nQ 39.703125 55.765625 41.0625 55.515625 \nz\n\" id=\"DejaVuSans-114\"/>\n     <path d=\"M 9.421875 54.6875 \nL 18.40625 54.6875 \nL 18.40625 0 \nL 9.421875 0 \nz\nM 9.421875 75.984375 \nL 18.40625 75.984375 \nL 18.40625 64.59375 \nL 9.421875 64.59375 \nz\n\" id=\"DejaVuSans-105\"/>\n     <path d=\"M 48.78125 52.59375 \nL 48.78125 44.1875 \nQ 44.96875 46.296875 41.140625 47.34375 \nQ 37.3125 48.390625 33.40625 48.390625 \nQ 24.65625 48.390625 19.8125 42.84375 \nQ 14.984375 37.3125 14.984375 27.296875 \nQ 14.984375 17.28125 19.8125 11.734375 \nQ 24.65625 6.203125 33.40625 6.203125 \nQ 37.3125 6.203125 41.140625 7.25 \nQ 44.96875 8.296875 48.78125 10.40625 \nL 48.78125 2.09375 \nQ 45.015625 0.34375 40.984375 -0.53125 \nQ 36.96875 -1.421875 32.421875 -1.421875 \nQ 20.0625 -1.421875 12.78125 6.34375 \nQ 5.515625 14.109375 5.515625 27.296875 \nQ 5.515625 40.671875 12.859375 48.328125 \nQ 20.21875 56 33.015625 56 \nQ 37.15625 56 41.109375 55.140625 \nQ 45.0625 54.296875 48.78125 52.59375 \nz\n\" id=\"DejaVuSans-99\"/>\n     <path d=\"M 56.203125 29.59375 \nL 56.203125 25.203125 \nL 14.890625 25.203125 \nQ 15.484375 15.921875 20.484375 11.0625 \nQ 25.484375 6.203125 34.421875 6.203125 \nQ 39.59375 6.203125 44.453125 7.46875 \nQ 49.3125 8.734375 54.109375 11.28125 \nL 54.109375 2.78125 \nQ 49.265625 0.734375 44.1875 -0.34375 \nQ 39.109375 -1.421875 33.890625 -1.421875 \nQ 20.796875 -1.421875 13.15625 6.1875 \nQ 5.515625 13.8125 5.515625 26.8125 \nQ 5.515625 40.234375 12.765625 48.109375 \nQ 20.015625 56 32.328125 56 \nQ 43.359375 56 49.78125 48.890625 \nQ 56.203125 41.796875 56.203125 29.59375 \nz\nM 47.21875 32.234375 \nQ 47.125 39.59375 43.09375 43.984375 \nQ 39.0625 48.390625 32.421875 48.390625 \nQ 24.90625 48.390625 20.390625 44.140625 \nQ 15.875 39.890625 15.1875 32.171875 \nz\n\" id=\"DejaVuSans-101\"/>\n    </defs>\n    <g transform=\"translate(168.484883 16.318125)scale(0.12 -0.12)\">\n     <use xlink:href=\"#DejaVuSans-112\"/>\n     <use x=\"63.476562\" xlink:href=\"#DejaVuSans-114\"/>\n     <use x=\"104.589844\" xlink:href=\"#DejaVuSans-105\"/>\n     <use x=\"132.373047\" xlink:href=\"#DejaVuSans-99\"/>\n     <use x=\"187.353516\" xlink:href=\"#DejaVuSans-101\"/>\n    </g>\n   </g>\n  </g>\n </g>\n <defs>\n  <clipPath id=\"pd776cacf1c\">\n   <rect height=\"217.44\" width=\"334.8\" x=\"16.01832\" y=\"22.318125\"/>\n  </clipPath>\n </defs>\n</svg>\n",
      "image/png": "[encoded data removed]"
     },
     "metadata": {
      "needs_background": "light"
     }
    },
    {
     "output_type": "display_data",
     "data": {
      "text/plain": "<Figure size 432x288 with 1 Axes>",
      "image/svg+xml": "<?xml version=\"1.0\" encoding=\"utf-8\" standalone=\"no\"?>\n<!DOCTYPE svg PUBLIC \"-//W3C//DTD SVG 1.1//EN\"\n  \"http://www.w3.org/Graphics/SVG/1.1/DTD/svg11.dtd\">\n<!-- Created with matplotlib (https://matplotlib.org/) -->\n<svg height=\"263.63625pt\" version=\"1.1\" viewBox=\"0 0 352.7 263.63625\" width=\"352.7pt\" xmlns=\"http://www.w3.org/2000/svg\" xmlns:xlink=\"http://www.w3.org/1999/xlink\">\n <defs>\n  <style type=\"text/css\">\n*{stroke-linecap:butt;stroke-linejoin:round;}\n  </style>\n </defs>\n <g id=\"figure_1\">\n  <g id=\"patch_1\">\n   <path d=\"M 0 263.63625 \nL 352.7 263.63625 \nL 352.7 0 \nL 0 0 \nz\n\" style=\"fill:none;\"/>\n  </g>\n  <g id=\"axes_1\">\n   <g id=\"patch_2\">\n    <path d=\"M 10.7 239.758125 \nL 345.5 239.758125 \nL 345.5 22.318125 \nL 10.7 22.318125 \nz\n\" style=\"fill:#ffffff;\"/>\n   </g>\n   <g id=\"patch_3\">\n    <path clip-path=\"url(#pf8a4477e71)\" d=\"M 112.185876 44.062125 \nL 112.185876 218.014125 \nL 168.478623 218.014125 \nL 168.478623 44.062125 \nL 112.185876 44.062125 \nz\n\" style=\"fill:#3274a1;stroke:#3f3f3f;stroke-linejoin:miter;stroke-width:1.5;\"/>\n   </g>\n   <g id=\"matplotlib.axis_1\">\n    <g id=\"xtick_1\">\n     <g id=\"line2d_1\">\n      <defs>\n       <path d=\"M 0 0 \nL 0 3.5 \n\" id=\"m27c214e62b\" style=\"stroke:#000000;stroke-width:0.8;\"/>\n      </defs>\n      <g>\n       <use style=\"stroke:#000000;stroke-width:0.8;\" x=\"49.433306\" xlink:href=\"#m27c214e62b\" y=\"239.758125\"/>\n      </g>\n     </g>\n     <g id=\"text_1\">\n      <!-- 2000 -->\n      <defs>\n       <path d=\"M 19.1875 8.296875 \nL 53.609375 8.296875 \nL 53.609375 0 \nL 7.328125 0 \nL 7.328125 8.296875 \nQ 12.9375 14.109375 22.625 23.890625 \nQ 32.328125 33.6875 34.8125 36.53125 \nQ 39.546875 41.84375 41.421875 45.53125 \nQ 43.3125 49.21875 43.3125 52.78125 \nQ 43.3125 58.59375 39.234375 62.25 \nQ 35.15625 65.921875 28.609375 65.921875 \nQ 23.96875 65.921875 18.8125 64.3125 \nQ 13.671875 62.703125 7.8125 59.421875 \nL 7.8125 69.390625 \nQ 13.765625 71.78125 18.9375 73 \nQ 24.125 74.21875 28.421875 74.21875 \nQ 39.75 74.21875 46.484375 68.546875 \nQ 53.21875 62.890625 53.21875 53.421875 \nQ 53.21875 48.921875 51.53125 44.890625 \nQ 49.859375 40.875 45.40625 35.40625 \nQ 44.1875 33.984375 37.640625 27.21875 \nQ 31.109375 20.453125 19.1875 8.296875 \nz\n\" id=\"DejaVuSans-50\"/>\n       <path d=\"M 31.78125 66.40625 \nQ 24.171875 66.40625 20.328125 58.90625 \nQ 16.5 51.421875 16.5 36.375 \nQ 16.5 21.390625 20.328125 13.890625 \nQ 24.171875 6.390625 31.78125 6.390625 \nQ 39.453125 6.390625 43.28125 13.890625 \nQ 47.125 21.390625 47.125 36.375 \nQ 47.125 51.421875 43.28125 58.90625 \nQ 39.453125 66.40625 31.78125 66.40625 \nz\nM 31.78125 74.21875 \nQ 44.046875 74.21875 50.515625 64.515625 \nQ 56.984375 54.828125 56.984375 36.375 \nQ 56.984375 17.96875 50.515625 8.265625 \nQ 44.046875 -1.421875 31.78125 -1.421875 \nQ 19.53125 -1.421875 13.0625 8.265625 \nQ 6.59375 17.96875 6.59375 36.375 \nQ 6.59375 54.828125 13.0625 64.515625 \nQ 19.53125 74.21875 31.78125 74.21875 \nz\n\" id=\"DejaVuSans-48\"/>\n      </defs>\n      <g transform=\"translate(36.708306 254.356563)scale(0.1 -0.1)\">\n       <use xlink:href=\"#DejaVuSans-50\"/>\n       <use x=\"63.623047\" xlink:href=\"#DejaVuSans-48\"/>\n       <use x=\"127.246094\" xlink:href=\"#DejaVuSans-48\"/>\n       <use x=\"190.869141\" xlink:href=\"#DejaVuSans-48\"/>\n      </g>\n     </g>\n    </g>\n    <g id=\"xtick_2\">\n     <g id=\"line2d_2\">\n      <g>\n       <use style=\"stroke:#000000;stroke-width:0.8;\" x=\"117.791226\" xlink:href=\"#m27c214e62b\" y=\"239.758125\"/>\n      </g>\n     </g>\n     <g id=\"text_2\">\n      <!-- 4000 -->\n      <defs>\n       <path d=\"M 37.796875 64.3125 \nL 12.890625 25.390625 \nL 37.796875 25.390625 \nz\nM 35.203125 72.90625 \nL 47.609375 72.90625 \nL 47.609375 25.390625 \nL 58.015625 25.390625 \nL 58.015625 17.1875 \nL 47.609375 17.1875 \nL 47.609375 0 \nL 37.796875 0 \nL 37.796875 17.1875 \nL 4.890625 17.1875 \nL 4.890625 26.703125 \nz\n\" id=\"DejaVuSans-52\"/>\n      </defs>\n      <g transform=\"translate(105.066226 254.356563)scale(0.1 -0.1)\">\n       <use xlink:href=\"#DejaVuSans-52\"/>\n       <use x=\"63.623047\" xlink:href=\"#DejaVuSans-48\"/>\n       <use x=\"127.246094\" xlink:href=\"#DejaVuSans-48\"/>\n       <use x=\"190.869141\" xlink:href=\"#DejaVuSans-48\"/>\n      </g>\n     </g>\n    </g>\n    <g id=\"xtick_3\">\n     <g id=\"line2d_3\">\n      <g>\n       <use style=\"stroke:#000000;stroke-width:0.8;\" x=\"186.149145\" xlink:href=\"#m27c214e62b\" y=\"239.758125\"/>\n      </g>\n     </g>\n     <g id=\"text_3\">\n      <!-- 6000 -->\n      <defs>\n       <path d=\"M 33.015625 40.375 \nQ 26.375 40.375 22.484375 35.828125 \nQ 18.609375 31.296875 18.609375 23.390625 \nQ 18.609375 15.53125 22.484375 10.953125 \nQ 26.375 6.390625 33.015625 6.390625 \nQ 39.65625 6.390625 43.53125 10.953125 \nQ 47.40625 15.53125 47.40625 23.390625 \nQ 47.40625 31.296875 43.53125 35.828125 \nQ 39.65625 40.375 33.015625 40.375 \nz\nM 52.59375 71.296875 \nL 52.59375 62.3125 \nQ 48.875 64.0625 45.09375 64.984375 \nQ 41.3125 65.921875 37.59375 65.921875 \nQ 27.828125 65.921875 22.671875 59.328125 \nQ 17.53125 52.734375 16.796875 39.40625 \nQ 19.671875 43.65625 24.015625 45.921875 \nQ 28.375 48.1875 33.59375 48.1875 \nQ 44.578125 48.1875 50.953125 41.515625 \nQ 57.328125 34.859375 57.328125 23.390625 \nQ 57.328125 12.15625 50.6875 5.359375 \nQ 44.046875 -1.421875 33.015625 -1.421875 \nQ 20.359375 -1.421875 13.671875 8.265625 \nQ 6.984375 17.96875 6.984375 36.375 \nQ 6.984375 53.65625 15.1875 63.9375 \nQ 23.390625 74.21875 37.203125 74.21875 \nQ 40.921875 74.21875 44.703125 73.484375 \nQ 48.484375 72.75 52.59375 71.296875 \nz\n\" id=\"DejaVuSans-54\"/>\n      </defs>\n      <g transform=\"translate(173.424145 254.356563)scale(0.1 -0.1)\">\n       <use xlink:href=\"#DejaVuSans-54\"/>\n       <use x=\"63.623047\" xlink:href=\"#DejaVuSans-48\"/>\n       <use x=\"127.246094\" xlink:href=\"#DejaVuSans-48\"/>\n       <use x=\"190.869141\" xlink:href=\"#DejaVuSans-48\"/>\n      </g>\n     </g>\n    </g>\n    <g id=\"xtick_4\">\n     <g id=\"line2d_4\">\n      <g>\n       <use style=\"stroke:#000000;stroke-width:0.8;\" x=\"254.507064\" xlink:href=\"#m27c214e62b\" y=\"239.758125\"/>\n      </g>\n     </g>\n     <g id=\"text_4\">\n      <!-- 8000 -->\n      <defs>\n       <path d=\"M 31.78125 34.625 \nQ 24.75 34.625 20.71875 30.859375 \nQ 16.703125 27.09375 16.703125 20.515625 \nQ 16.703125 13.921875 20.71875 10.15625 \nQ 24.75 6.390625 31.78125 6.390625 \nQ 38.8125 6.390625 42.859375 10.171875 \nQ 46.921875 13.96875 46.921875 20.515625 \nQ 46.921875 27.09375 42.890625 30.859375 \nQ 38.875 34.625 31.78125 34.625 \nz\nM 21.921875 38.8125 \nQ 15.578125 40.375 12.03125 44.71875 \nQ 8.5 49.078125 8.5 55.328125 \nQ 8.5 64.0625 14.71875 69.140625 \nQ 20.953125 74.21875 31.78125 74.21875 \nQ 42.671875 74.21875 48.875 69.140625 \nQ 55.078125 64.0625 55.078125 55.328125 \nQ 55.078125 49.078125 51.53125 44.71875 \nQ 48 40.375 41.703125 38.8125 \nQ 48.828125 37.15625 52.796875 32.3125 \nQ 56.78125 27.484375 56.78125 20.515625 \nQ 56.78125 9.90625 50.3125 4.234375 \nQ 43.84375 -1.421875 31.78125 -1.421875 \nQ 19.734375 -1.421875 13.25 4.234375 \nQ 6.78125 9.90625 6.78125 20.515625 \nQ 6.78125 27.484375 10.78125 32.3125 \nQ 14.796875 37.15625 21.921875 38.8125 \nz\nM 18.3125 54.390625 \nQ 18.3125 48.734375 21.84375 45.5625 \nQ 25.390625 42.390625 31.78125 42.390625 \nQ 38.140625 42.390625 41.71875 45.5625 \nQ 45.3125 48.734375 45.3125 54.390625 \nQ 45.3125 60.0625 41.71875 63.234375 \nQ 38.140625 66.40625 31.78125 66.40625 \nQ 25.390625 66.40625 21.84375 63.234375 \nQ 18.3125 60.0625 18.3125 54.390625 \nz\n\" id=\"DejaVuSans-56\"/>\n      </defs>\n      <g transform=\"translate(241.782064 254.356563)scale(0.1 -0.1)\">\n       <use xlink:href=\"#DejaVuSans-56\"/>\n       <use x=\"63.623047\" xlink:href=\"#DejaVuSans-48\"/>\n       <use x=\"127.246094\" xlink:href=\"#DejaVuSans-48\"/>\n       <use x=\"190.869141\" xlink:href=\"#DejaVuSans-48\"/>\n      </g>\n     </g>\n    </g>\n    <g id=\"xtick_5\">\n     <g id=\"line2d_5\">\n      <g>\n       <use style=\"stroke:#000000;stroke-width:0.8;\" x=\"322.864984\" xlink:href=\"#m27c214e62b\" y=\"239.758125\"/>\n      </g>\n     </g>\n     <g id=\"text_5\">\n      <!-- 10000 -->\n      <defs>\n       <path d=\"M 12.40625 8.296875 \nL 28.515625 8.296875 \nL 28.515625 63.921875 \nL 10.984375 60.40625 \nL 10.984375 69.390625 \nL 28.421875 72.90625 \nL 38.28125 72.90625 \nL 38.28125 8.296875 \nL 54.390625 8.296875 \nL 54.390625 0 \nL 12.40625 0 \nz\n\" id=\"DejaVuSans-49\"/>\n      </defs>\n      <g transform=\"translate(306.958734 254.356563)scale(0.1 -0.1)\">\n       <use xlink:href=\"#DejaVuSans-49\"/>\n       <use x=\"63.623047\" xlink:href=\"#DejaVuSans-48\"/>\n       <use x=\"127.246094\" xlink:href=\"#DejaVuSans-48\"/>\n       <use x=\"190.869141\" xlink:href=\"#DejaVuSans-48\"/>\n       <use x=\"254.492188\" xlink:href=\"#DejaVuSans-48\"/>\n      </g>\n     </g>\n    </g>\n   </g>\n   <g id=\"matplotlib.axis_2\">\n    <g id=\"ytick_1\">\n     <g id=\"line2d_6\">\n      <defs>\n       <path d=\"M 0 0 \nL -3.5 0 \n\" id=\"m662643311d\" style=\"stroke:#000000;stroke-width:0.8;\"/>\n      </defs>\n      <g>\n       <use style=\"stroke:#000000;stroke-width:0.8;\" x=\"10.7\" xlink:href=\"#m662643311d\" y=\"131.038125\"/>\n      </g>\n     </g>\n    </g>\n   </g>\n   <g id=\"line2d_7\">\n    <path clip-path=\"url(#pf8a4477e71)\" d=\"M 112.185876 131.038125 \nL 38.940365 131.038125 \n\" style=\"fill:none;stroke:#3f3f3f;stroke-linecap:square;stroke-width:1.5;\"/>\n   </g>\n   <g id=\"line2d_8\">\n    <path clip-path=\"url(#pf8a4477e71)\" d=\"M 168.478623 131.038125 \nL 251.670211 131.038125 \n\" style=\"fill:none;stroke:#3f3f3f;stroke-linecap:square;stroke-width:1.5;\"/>\n   </g>\n   <g id=\"line2d_9\">\n    <path clip-path=\"url(#pf8a4477e71)\" d=\"M 38.940365 87.550125 \nL 38.940365 174.526125 \n\" style=\"fill:none;stroke:#3f3f3f;stroke-linecap:square;stroke-width:1.5;\"/>\n   </g>\n   <g id=\"line2d_10\">\n    <path clip-path=\"url(#pf8a4477e71)\" d=\"M 251.670211 87.550125 \nL 251.670211 174.526125 \n\" style=\"fill:none;stroke:#3f3f3f;stroke-linecap:square;stroke-width:1.5;\"/>\n   </g>\n   <g id=\"line2d_11\">\n    <defs>\n     <path d=\"M -0 3.535534 \nL 2.12132 0 \nL -0 -3.535534 \nL -2.12132 -0 \nz\n\" id=\"m6ba8fca12f\" style=\"stroke:#3f3f3f;stroke-linejoin:miter;\"/>\n    </defs>\n    <g clip-path=\"url(#pf8a4477e71)\">\n     <use style=\"fill:#3f3f3f;stroke:#3f3f3f;stroke-linejoin:miter;\" x=\"25.918182\" xlink:href=\"#m6ba8fca12f\" y=\"131.038125\"/>\n     <use style=\"fill:#3f3f3f;stroke:#3f3f3f;stroke-linejoin:miter;\" x=\"304.545062\" xlink:href=\"#m6ba8fca12f\" y=\"131.038125\"/>\n     <use style=\"fill:#3f3f3f;stroke:#3f3f3f;stroke-linejoin:miter;\" x=\"273.408029\" xlink:href=\"#m6ba8fca12f\" y=\"131.038125\"/>\n     <use style=\"fill:#3f3f3f;stroke:#3f3f3f;stroke-linejoin:miter;\" x=\"257.514813\" xlink:href=\"#m6ba8fca12f\" y=\"131.038125\"/>\n     <use style=\"fill:#3f3f3f;stroke:#3f3f3f;stroke-linejoin:miter;\" x=\"261.54793\" xlink:href=\"#m6ba8fca12f\" y=\"131.038125\"/>\n     <use style=\"fill:#3f3f3f;stroke:#3f3f3f;stroke-linejoin:miter;\" x=\"330.281818\" xlink:href=\"#m6ba8fca12f\" y=\"131.038125\"/>\n     <use style=\"fill:#3f3f3f;stroke:#3f3f3f;stroke-linejoin:miter;\" x=\"280.141284\" xlink:href=\"#m6ba8fca12f\" y=\"131.038125\"/>\n     <use style=\"fill:#3f3f3f;stroke:#3f3f3f;stroke-linejoin:miter;\" x=\"286.84036\" xlink:href=\"#m6ba8fca12f\" y=\"131.038125\"/>\n     <use style=\"fill:#3f3f3f;stroke:#3f3f3f;stroke-linejoin:miter;\" x=\"265.888658\" xlink:href=\"#m6ba8fca12f\" y=\"131.038125\"/>\n     <use style=\"fill:#3f3f3f;stroke:#3f3f3f;stroke-linejoin:miter;\" x=\"275.868914\" xlink:href=\"#m6ba8fca12f\" y=\"131.038125\"/>\n     <use style=\"fill:#3f3f3f;stroke:#3f3f3f;stroke-linejoin:miter;\" x=\"305.775504\" xlink:href=\"#m6ba8fca12f\" y=\"131.038125\"/>\n     <use style=\"fill:#3f3f3f;stroke:#3f3f3f;stroke-linejoin:miter;\" x=\"269.887596\" xlink:href=\"#m6ba8fca12f\" y=\"131.038125\"/>\n     <use style=\"fill:#3f3f3f;stroke:#3f3f3f;stroke-linejoin:miter;\" x=\"253.139906\" xlink:href=\"#m6ba8fca12f\" y=\"131.038125\"/>\n     <use style=\"fill:#3f3f3f;stroke:#3f3f3f;stroke-linejoin:miter;\" x=\"254.507064\" xlink:href=\"#m6ba8fca12f\" y=\"131.038125\"/>\n     <use style=\"fill:#3f3f3f;stroke:#3f3f3f;stroke-linejoin:miter;\" x=\"257.27556\" xlink:href=\"#m6ba8fca12f\" y=\"131.038125\"/>\n    </g>\n   </g>\n   <g id=\"line2d_12\">\n    <path clip-path=\"url(#pf8a4477e71)\" d=\"M 140.759486 44.062125 \nL 140.759486 218.014125 \n\" style=\"fill:none;stroke:#3f3f3f;stroke-linecap:square;stroke-width:1.5;\"/>\n   </g>\n   <g id=\"patch_4\">\n    <path d=\"M 10.7 239.758125 \nL 10.7 22.318125 \n\" style=\"fill:none;stroke:#000000;stroke-linecap:square;stroke-linejoin:miter;stroke-width:0.8;\"/>\n   </g>\n   <g id=\"patch_5\">\n    <path d=\"M 345.5 239.758125 \nL 345.5 22.318125 \n\" style=\"fill:none;stroke:#000000;stroke-linecap:square;stroke-linejoin:miter;stroke-width:0.8;\"/>\n   </g>\n   <g id=\"patch_6\">\n    <path d=\"M 10.7 239.758125 \nL 345.5 239.758125 \n\" style=\"fill:none;stroke:#000000;stroke-linecap:square;stroke-linejoin:miter;stroke-width:0.8;\"/>\n   </g>\n   <g id=\"patch_7\">\n    <path d=\"M 10.7 22.318125 \nL 345.5 22.318125 \n\" style=\"fill:none;stroke:#000000;stroke-linecap:square;stroke-linejoin:miter;stroke-width:0.8;\"/>\n   </g>\n   <g id=\"text_6\">\n    <!-- priceByArea -->\n    <defs>\n     <path d=\"M 18.109375 8.203125 \nL 18.109375 -20.796875 \nL 9.078125 -20.796875 \nL 9.078125 54.6875 \nL 18.109375 54.6875 \nL 18.109375 46.390625 \nQ 20.953125 51.265625 25.265625 53.625 \nQ 29.59375 56 35.59375 56 \nQ 45.5625 56 51.78125 48.09375 \nQ 58.015625 40.1875 58.015625 27.296875 \nQ 58.015625 14.40625 51.78125 6.484375 \nQ 45.5625 -1.421875 35.59375 -1.421875 \nQ 29.59375 -1.421875 25.265625 0.953125 \nQ 20.953125 3.328125 18.109375 8.203125 \nz\nM 48.6875 27.296875 \nQ 48.6875 37.203125 44.609375 42.84375 \nQ 40.53125 48.484375 33.40625 48.484375 \nQ 26.265625 48.484375 22.1875 42.84375 \nQ 18.109375 37.203125 18.109375 27.296875 \nQ 18.109375 17.390625 22.1875 11.75 \nQ 26.265625 6.109375 33.40625 6.109375 \nQ 40.53125 6.109375 44.609375 11.75 \nQ 48.6875 17.390625 48.6875 27.296875 \nz\n\" id=\"DejaVuSans-112\"/>\n     <path d=\"M 41.109375 46.296875 \nQ 39.59375 47.171875 37.8125 47.578125 \nQ 36.03125 48 33.890625 48 \nQ 26.265625 48 22.1875 43.046875 \nQ 18.109375 38.09375 18.109375 28.8125 \nL 18.109375 0 \nL 9.078125 0 \nL 9.078125 54.6875 \nL 18.109375 54.6875 \nL 18.109375 46.1875 \nQ 20.953125 51.171875 25.484375 53.578125 \nQ 30.03125 56 36.53125 56 \nQ 37.453125 56 38.578125 55.875 \nQ 39.703125 55.765625 41.0625 55.515625 \nz\n\" id=\"DejaVuSans-114\"/>\n     <path d=\"M 9.421875 54.6875 \nL 18.40625 54.6875 \nL 18.40625 0 \nL 9.421875 0 \nz\nM 9.421875 75.984375 \nL 18.40625 75.984375 \nL 18.40625 64.59375 \nL 9.421875 64.59375 \nz\n\" id=\"DejaVuSans-105\"/>\n     <path d=\"M 48.78125 52.59375 \nL 48.78125 44.1875 \nQ 44.96875 46.296875 41.140625 47.34375 \nQ 37.3125 48.390625 33.40625 48.390625 \nQ 24.65625 48.390625 19.8125 42.84375 \nQ 14.984375 37.3125 14.984375 27.296875 \nQ 14.984375 17.28125 19.8125 11.734375 \nQ 24.65625 6.203125 33.40625 6.203125 \nQ 37.3125 6.203125 41.140625 7.25 \nQ 44.96875 8.296875 48.78125 10.40625 \nL 48.78125 2.09375 \nQ 45.015625 0.34375 40.984375 -0.53125 \nQ 36.96875 -1.421875 32.421875 -1.421875 \nQ 20.0625 -1.421875 12.78125 6.34375 \nQ 5.515625 14.109375 5.515625 27.296875 \nQ 5.515625 40.671875 12.859375 48.328125 \nQ 20.21875 56 33.015625 56 \nQ 37.15625 56 41.109375 55.140625 \nQ 45.0625 54.296875 48.78125 52.59375 \nz\n\" id=\"DejaVuSans-99\"/>\n     <path d=\"M 56.203125 29.59375 \nL 56.203125 25.203125 \nL 14.890625 25.203125 \nQ 15.484375 15.921875 20.484375 11.0625 \nQ 25.484375 6.203125 34.421875 6.203125 \nQ 39.59375 6.203125 44.453125 7.46875 \nQ 49.3125 8.734375 54.109375 11.28125 \nL 54.109375 2.78125 \nQ 49.265625 0.734375 44.1875 -0.34375 \nQ 39.109375 -1.421875 33.890625 -1.421875 \nQ 20.796875 -1.421875 13.15625 6.1875 \nQ 5.515625 13.8125 5.515625 26.8125 \nQ 5.515625 40.234375 12.765625 48.109375 \nQ 20.015625 56 32.328125 56 \nQ 43.359375 56 49.78125 48.890625 \nQ 56.203125 41.796875 56.203125 29.59375 \nz\nM 47.21875 32.234375 \nQ 47.125 39.59375 43.09375 43.984375 \nQ 39.0625 48.390625 32.421875 48.390625 \nQ 24.90625 48.390625 20.390625 44.140625 \nQ 15.875 39.890625 15.1875 32.171875 \nz\n\" id=\"DejaVuSans-101\"/>\n     <path d=\"M 19.671875 34.8125 \nL 19.671875 8.109375 \nL 35.5 8.109375 \nQ 43.453125 8.109375 47.28125 11.40625 \nQ 51.125 14.703125 51.125 21.484375 \nQ 51.125 28.328125 47.28125 31.5625 \nQ 43.453125 34.8125 35.5 34.8125 \nz\nM 19.671875 64.796875 \nL 19.671875 42.828125 \nL 34.28125 42.828125 \nQ 41.5 42.828125 45.03125 45.53125 \nQ 48.578125 48.25 48.578125 53.8125 \nQ 48.578125 59.328125 45.03125 62.0625 \nQ 41.5 64.796875 34.28125 64.796875 \nz\nM 9.8125 72.90625 \nL 35.015625 72.90625 \nQ 46.296875 72.90625 52.390625 68.21875 \nQ 58.5 63.53125 58.5 54.890625 \nQ 58.5 48.1875 55.375 44.234375 \nQ 52.25 40.28125 46.1875 39.3125 \nQ 53.46875 37.75 57.5 32.78125 \nQ 61.53125 27.828125 61.53125 20.40625 \nQ 61.53125 10.640625 54.890625 5.3125 \nQ 48.25 0 35.984375 0 \nL 9.8125 0 \nz\n\" id=\"DejaVuSans-66\"/>\n     <path d=\"M 32.171875 -5.078125 \nQ 28.375 -14.84375 24.75 -17.8125 \nQ 21.140625 -20.796875 15.09375 -20.796875 \nL 7.90625 -20.796875 \nL 7.90625 -13.28125 \nL 13.1875 -13.28125 \nQ 16.890625 -13.28125 18.9375 -11.515625 \nQ 21 -9.765625 23.484375 -3.21875 \nL 25.09375 0.875 \nL 2.984375 54.6875 \nL 12.5 54.6875 \nL 29.59375 11.921875 \nL 46.6875 54.6875 \nL 56.203125 54.6875 \nz\n\" id=\"DejaVuSans-121\"/>\n     <path d=\"M 34.1875 63.1875 \nL 20.796875 26.90625 \nL 47.609375 26.90625 \nz\nM 28.609375 72.90625 \nL 39.796875 72.90625 \nL 67.578125 0 \nL 57.328125 0 \nL 50.6875 18.703125 \nL 17.828125 18.703125 \nL 11.1875 0 \nL 0.78125 0 \nz\n\" id=\"DejaVuSans-65\"/>\n     <path d=\"M 34.28125 27.484375 \nQ 23.390625 27.484375 19.1875 25 \nQ 14.984375 22.515625 14.984375 16.5 \nQ 14.984375 11.71875 18.140625 8.90625 \nQ 21.296875 6.109375 26.703125 6.109375 \nQ 34.1875 6.109375 38.703125 11.40625 \nQ 43.21875 16.703125 43.21875 25.484375 \nL 43.21875 27.484375 \nz\nM 52.203125 31.203125 \nL 52.203125 0 \nL 43.21875 0 \nL 43.21875 8.296875 \nQ 40.140625 3.328125 35.546875 0.953125 \nQ 30.953125 -1.421875 24.3125 -1.421875 \nQ 15.921875 -1.421875 10.953125 3.296875 \nQ 6 8.015625 6 15.921875 \nQ 6 25.140625 12.171875 29.828125 \nQ 18.359375 34.515625 30.609375 34.515625 \nL 43.21875 34.515625 \nL 43.21875 35.40625 \nQ 43.21875 41.609375 39.140625 45 \nQ 35.0625 48.390625 27.6875 48.390625 \nQ 23 48.390625 18.546875 47.265625 \nQ 14.109375 46.140625 10.015625 43.890625 \nL 10.015625 52.203125 \nQ 14.9375 54.109375 19.578125 55.046875 \nQ 24.21875 56 28.609375 56 \nQ 40.484375 56 46.34375 49.84375 \nQ 52.203125 43.703125 52.203125 31.203125 \nz\n\" id=\"DejaVuSans-97\"/>\n    </defs>\n    <g transform=\"translate(141.560938 16.318125)scale(0.12 -0.12)\">\n     <use xlink:href=\"#DejaVuSans-112\"/>\n     <use x=\"63.476562\" xlink:href=\"#DejaVuSans-114\"/>\n     <use x=\"104.589844\" xlink:href=\"#DejaVuSans-105\"/>\n     <use x=\"132.373047\" xlink:href=\"#DejaVuSans-99\"/>\n     <use x=\"187.353516\" xlink:href=\"#DejaVuSans-101\"/>\n     <use x=\"248.876953\" xlink:href=\"#DejaVuSans-66\"/>\n     <use x=\"317.480469\" xlink:href=\"#DejaVuSans-121\"/>\n     <use x=\"376.660156\" xlink:href=\"#DejaVuSans-65\"/>\n     <use x=\"445.068359\" xlink:href=\"#DejaVuSans-114\"/>\n     <use x=\"486.150391\" xlink:href=\"#DejaVuSans-101\"/>\n     <use x=\"547.673828\" xlink:href=\"#DejaVuSans-97\"/>\n    </g>\n   </g>\n  </g>\n </g>\n <defs>\n  <clipPath id=\"pf8a4477e71\">\n   <rect height=\"217.44\" width=\"334.8\" x=\"10.7\" y=\"22.318125\"/>\n  </clipPath>\n </defs>\n</svg>\n",
      "image/png": "[encoded data removed]"
     },
     "metadata": {
      "needs_background": "light"
     }
    },
    {
     "output_type": "display_data",
     "data": {
      "text/plain": "<Figure size 432x288 with 1 Axes>",
      "image/svg+xml": "<?xml version=\"1.0\" encoding=\"utf-8\" standalone=\"no\"?>\n<!DOCTYPE svg PUBLIC \"-//W3C//DTD SVG 1.1//EN\"\n  \"http://www.w3.org/Graphics/SVG/1.1/DTD/svg11.dtd\">\n<!-- Created with matplotlib (https://matplotlib.org/) -->\n<svg height=\"263.63625pt\" version=\"1.1\" viewBox=\"0 0 352.7 263.63625\" width=\"352.7pt\" xmlns=\"http://www.w3.org/2000/svg\" xmlns:xlink=\"http://www.w3.org/1999/xlink\">\n <defs>\n  <style type=\"text/css\">\n*{stroke-linecap:butt;stroke-linejoin:round;}\n  </style>\n </defs>\n <g id=\"figure_1\">\n  <g id=\"patch_1\">\n   <path d=\"M 0 263.63625 \nL 352.7 263.63625 \nL 352.7 0 \nL 0 0 \nz\n\" style=\"fill:none;\"/>\n  </g>\n  <g id=\"axes_1\">\n   <g id=\"patch_2\">\n    <path d=\"M 10.7 239.758125 \nL 345.5 239.758125 \nL 345.5 22.318125 \nL 10.7 22.318125 \nz\n\" style=\"fill:#ffffff;\"/>\n   </g>\n   <g id=\"patch_3\">\n    <path clip-path=\"url(#p1597bc3142)\" d=\"M 64.347934 44.062125 \nL 64.347934 218.014125 \nL 104.314876 218.014125 \nL 104.314876 44.062125 \nL 64.347934 44.062125 \nz\n\" style=\"fill:#3274a1;stroke:#3f3f3f;stroke-linejoin:miter;stroke-width:1.5;\"/>\n   </g>\n   <g id=\"matplotlib.axis_1\">\n    <g id=\"xtick_1\">\n     <g id=\"line2d_1\">\n      <defs>\n       <path d=\"M 0 0 \nL 0 3.5 \n\" id=\"m2015030427\" style=\"stroke:#000000;stroke-width:0.8;\"/>\n      </defs>\n      <g>\n       <use style=\"stroke:#000000;stroke-width:0.8;\" x=\"38.215702\" xlink:href=\"#m2015030427\" y=\"239.758125\"/>\n      </g>\n     </g>\n     <g id=\"text_1\">\n      <!-- 25 -->\n      <defs>\n       <path d=\"M 19.1875 8.296875 \nL 53.609375 8.296875 \nL 53.609375 0 \nL 7.328125 0 \nL 7.328125 8.296875 \nQ 12.9375 14.109375 22.625 23.890625 \nQ 32.328125 33.6875 34.8125 36.53125 \nQ 39.546875 41.84375 41.421875 45.53125 \nQ 43.3125 49.21875 43.3125 52.78125 \nQ 43.3125 58.59375 39.234375 62.25 \nQ 35.15625 65.921875 28.609375 65.921875 \nQ 23.96875 65.921875 18.8125 64.3125 \nQ 13.671875 62.703125 7.8125 59.421875 \nL 7.8125 69.390625 \nQ 13.765625 71.78125 18.9375 73 \nQ 24.125 74.21875 28.421875 74.21875 \nQ 39.75 74.21875 46.484375 68.546875 \nQ 53.21875 62.890625 53.21875 53.421875 \nQ 53.21875 48.921875 51.53125 44.890625 \nQ 49.859375 40.875 45.40625 35.40625 \nQ 44.1875 33.984375 37.640625 27.21875 \nQ 31.109375 20.453125 19.1875 8.296875 \nz\n\" id=\"DejaVuSans-50\"/>\n       <path d=\"M 10.796875 72.90625 \nL 49.515625 72.90625 \nL 49.515625 64.59375 \nL 19.828125 64.59375 \nL 19.828125 46.734375 \nQ 21.96875 47.46875 24.109375 47.828125 \nQ 26.265625 48.1875 28.421875 48.1875 \nQ 40.625 48.1875 47.75 41.5 \nQ 54.890625 34.8125 54.890625 23.390625 \nQ 54.890625 11.625 47.5625 5.09375 \nQ 40.234375 -1.421875 26.90625 -1.421875 \nQ 22.3125 -1.421875 17.546875 -0.640625 \nQ 12.796875 0.140625 7.71875 1.703125 \nL 7.71875 11.625 \nQ 12.109375 9.234375 16.796875 8.0625 \nQ 21.484375 6.890625 26.703125 6.890625 \nQ 35.15625 6.890625 40.078125 11.328125 \nQ 45.015625 15.765625 45.015625 23.390625 \nQ 45.015625 31 40.078125 35.4375 \nQ 35.15625 39.890625 26.703125 39.890625 \nQ 22.75 39.890625 18.8125 39.015625 \nQ 14.890625 38.140625 10.796875 36.28125 \nz\n\" id=\"DejaVuSans-53\"/>\n      </defs>\n      <g transform=\"translate(31.853202 254.356563)scale(0.1 -0.1)\">\n       <use xlink:href=\"#DejaVuSans-50\"/>\n       <use x=\"63.623047\" xlink:href=\"#DejaVuSans-53\"/>\n      </g>\n     </g>\n    </g>\n    <g id=\"xtick_2\">\n     <g id=\"line2d_2\">\n      <g>\n       <use style=\"stroke:#000000;stroke-width:0.8;\" x=\"76.645455\" xlink:href=\"#m2015030427\" y=\"239.758125\"/>\n      </g>\n     </g>\n     <g id=\"text_2\">\n      <!-- 50 -->\n      <defs>\n       <path d=\"M 31.78125 66.40625 \nQ 24.171875 66.40625 20.328125 58.90625 \nQ 16.5 51.421875 16.5 36.375 \nQ 16.5 21.390625 20.328125 13.890625 \nQ 24.171875 6.390625 31.78125 6.390625 \nQ 39.453125 6.390625 43.28125 13.890625 \nQ 47.125 21.390625 47.125 36.375 \nQ 47.125 51.421875 43.28125 58.90625 \nQ 39.453125 66.40625 31.78125 66.40625 \nz\nM 31.78125 74.21875 \nQ 44.046875 74.21875 50.515625 64.515625 \nQ 56.984375 54.828125 56.984375 36.375 \nQ 56.984375 17.96875 50.515625 8.265625 \nQ 44.046875 -1.421875 31.78125 -1.421875 \nQ 19.53125 -1.421875 13.0625 8.265625 \nQ 6.59375 17.96875 6.59375 36.375 \nQ 6.59375 54.828125 13.0625 64.515625 \nQ 19.53125 74.21875 31.78125 74.21875 \nz\n\" id=\"DejaVuSans-48\"/>\n      </defs>\n      <g transform=\"translate(70.282955 254.356563)scale(0.1 -0.1)\">\n       <use xlink:href=\"#DejaVuSans-53\"/>\n       <use x=\"63.623047\" xlink:href=\"#DejaVuSans-48\"/>\n      </g>\n     </g>\n    </g>\n    <g id=\"xtick_3\">\n     <g id=\"line2d_3\">\n      <g>\n       <use style=\"stroke:#000000;stroke-width:0.8;\" x=\"115.075207\" xlink:href=\"#m2015030427\" y=\"239.758125\"/>\n      </g>\n     </g>\n     <g id=\"text_3\">\n      <!-- 75 -->\n      <defs>\n       <path d=\"M 8.203125 72.90625 \nL 55.078125 72.90625 \nL 55.078125 68.703125 \nL 28.609375 0 \nL 18.3125 0 \nL 43.21875 64.59375 \nL 8.203125 64.59375 \nz\n\" id=\"DejaVuSans-55\"/>\n      </defs>\n      <g transform=\"translate(108.712707 254.356563)scale(0.1 -0.1)\">\n       <use xlink:href=\"#DejaVuSans-55\"/>\n       <use x=\"63.623047\" xlink:href=\"#DejaVuSans-53\"/>\n      </g>\n     </g>\n    </g>\n    <g id=\"xtick_4\">\n     <g id=\"line2d_4\">\n      <g>\n       <use style=\"stroke:#000000;stroke-width:0.8;\" x=\"153.504959\" xlink:href=\"#m2015030427\" y=\"239.758125\"/>\n      </g>\n     </g>\n     <g id=\"text_4\">\n      <!-- 100 -->\n      <defs>\n       <path d=\"M 12.40625 8.296875 \nL 28.515625 8.296875 \nL 28.515625 63.921875 \nL 10.984375 60.40625 \nL 10.984375 69.390625 \nL 28.421875 72.90625 \nL 38.28125 72.90625 \nL 38.28125 8.296875 \nL 54.390625 8.296875 \nL 54.390625 0 \nL 12.40625 0 \nz\n\" id=\"DejaVuSans-49\"/>\n      </defs>\n      <g transform=\"translate(143.961209 254.356563)scale(0.1 -0.1)\">\n       <use xlink:href=\"#DejaVuSans-49\"/>\n       <use x=\"63.623047\" xlink:href=\"#DejaVuSans-48\"/>\n       <use x=\"127.246094\" xlink:href=\"#DejaVuSans-48\"/>\n      </g>\n     </g>\n    </g>\n    <g id=\"xtick_5\">\n     <g id=\"line2d_5\">\n      <g>\n       <use style=\"stroke:#000000;stroke-width:0.8;\" x=\"191.934711\" xlink:href=\"#m2015030427\" y=\"239.758125\"/>\n      </g>\n     </g>\n     <g id=\"text_5\">\n      <!-- 125 -->\n      <g transform=\"translate(182.390961 254.356563)scale(0.1 -0.1)\">\n       <use xlink:href=\"#DejaVuSans-49\"/>\n       <use x=\"63.623047\" xlink:href=\"#DejaVuSans-50\"/>\n       <use x=\"127.246094\" xlink:href=\"#DejaVuSans-53\"/>\n      </g>\n     </g>\n    </g>\n    <g id=\"xtick_6\">\n     <g id=\"line2d_6\">\n      <g>\n       <use style=\"stroke:#000000;stroke-width:0.8;\" x=\"230.364463\" xlink:href=\"#m2015030427\" y=\"239.758125\"/>\n      </g>\n     </g>\n     <g id=\"text_6\">\n      <!-- 150 -->\n      <g transform=\"translate(220.820713 254.356563)scale(0.1 -0.1)\">\n       <use xlink:href=\"#DejaVuSans-49\"/>\n       <use x=\"63.623047\" xlink:href=\"#DejaVuSans-53\"/>\n       <use x=\"127.246094\" xlink:href=\"#DejaVuSans-48\"/>\n      </g>\n     </g>\n    </g>\n    <g id=\"xtick_7\">\n     <g id=\"line2d_7\">\n      <g>\n       <use style=\"stroke:#000000;stroke-width:0.8;\" x=\"268.794215\" xlink:href=\"#m2015030427\" y=\"239.758125\"/>\n      </g>\n     </g>\n     <g id=\"text_7\">\n      <!-- 175 -->\n      <g transform=\"translate(259.250465 254.356563)scale(0.1 -0.1)\">\n       <use xlink:href=\"#DejaVuSans-49\"/>\n       <use x=\"63.623047\" xlink:href=\"#DejaVuSans-55\"/>\n       <use x=\"127.246094\" xlink:href=\"#DejaVuSans-53\"/>\n      </g>\n     </g>\n    </g>\n    <g id=\"xtick_8\">\n     <g id=\"line2d_8\">\n      <g>\n       <use style=\"stroke:#000000;stroke-width:0.8;\" x=\"307.223967\" xlink:href=\"#m2015030427\" y=\"239.758125\"/>\n      </g>\n     </g>\n     <g id=\"text_8\">\n      <!-- 200 -->\n      <g transform=\"translate(297.680217 254.356563)scale(0.1 -0.1)\">\n       <use xlink:href=\"#DejaVuSans-50\"/>\n       <use x=\"63.623047\" xlink:href=\"#DejaVuSans-48\"/>\n       <use x=\"127.246094\" xlink:href=\"#DejaVuSans-48\"/>\n      </g>\n     </g>\n    </g>\n   </g>\n   <g id=\"matplotlib.axis_2\">\n    <g id=\"ytick_1\">\n     <g id=\"line2d_9\">\n      <defs>\n       <path d=\"M 0 0 \nL -3.5 0 \n\" id=\"m5c34541d1f\" style=\"stroke:#000000;stroke-width:0.8;\"/>\n      </defs>\n      <g>\n       <use style=\"stroke:#000000;stroke-width:0.8;\" x=\"10.7\" xlink:href=\"#m5c34541d1f\" y=\"131.038125\"/>\n      </g>\n     </g>\n    </g>\n   </g>\n   <g id=\"line2d_10\">\n    <path clip-path=\"url(#p1597bc3142)\" d=\"M 64.347934 131.038125 \nL 25.918182 131.038125 \n\" style=\"fill:none;stroke:#3f3f3f;stroke-linecap:square;stroke-width:1.5;\"/>\n   </g>\n   <g id=\"line2d_11\">\n    <path clip-path=\"url(#p1597bc3142)\" d=\"M 104.314876 131.038125 \nL 164.265289 131.038125 \n\" style=\"fill:none;stroke:#3f3f3f;stroke-linecap:square;stroke-width:1.5;\"/>\n   </g>\n   <g id=\"line2d_12\">\n    <path clip-path=\"url(#p1597bc3142)\" d=\"M 25.918182 87.550125 \nL 25.918182 174.526125 \n\" style=\"fill:none;stroke:#3f3f3f;stroke-linecap:square;stroke-width:1.5;\"/>\n   </g>\n   <g id=\"line2d_13\">\n    <path clip-path=\"url(#p1597bc3142)\" d=\"M 164.265289 87.550125 \nL 164.265289 174.526125 \n\" style=\"fill:none;stroke:#3f3f3f;stroke-linecap:square;stroke-width:1.5;\"/>\n   </g>\n   <g id=\"line2d_14\">\n    <defs>\n     <path d=\"M -0 3.535534 \nL 2.12132 0 \nL -0 -3.535534 \nL -2.12132 -0 \nz\n\" id=\"m25700c2321\" style=\"stroke:#3f3f3f;stroke-linejoin:miter;\"/>\n    </defs>\n    <g clip-path=\"url(#p1597bc3142)\">\n     <use style=\"fill:#3f3f3f;stroke:#3f3f3f;stroke-linejoin:miter;\" x=\"330.281818\" xlink:href=\"#m25700c2321\" y=\"131.038125\"/>\n     <use style=\"fill:#3f3f3f;stroke:#3f3f3f;stroke-linejoin:miter;\" x=\"176.56281\" xlink:href=\"#m25700c2321\" y=\"131.038125\"/>\n     <use style=\"fill:#3f3f3f;stroke:#3f3f3f;stroke-linejoin:miter;\" x=\"171.95124\" xlink:href=\"#m25700c2321\" y=\"131.038125\"/>\n     <use style=\"fill:#3f3f3f;stroke:#3f3f3f;stroke-linejoin:miter;\" x=\"185.78595\" xlink:href=\"#m25700c2321\" y=\"131.038125\"/>\n     <use style=\"fill:#3f3f3f;stroke:#3f3f3f;stroke-linejoin:miter;\" x=\"188.860331\" xlink:href=\"#m25700c2321\" y=\"131.038125\"/>\n     <use style=\"fill:#3f3f3f;stroke:#3f3f3f;stroke-linejoin:miter;\" x=\"198.083471\" xlink:href=\"#m25700c2321\" y=\"131.038125\"/>\n     <use style=\"fill:#3f3f3f;stroke:#3f3f3f;stroke-linejoin:miter;\" x=\"178.1\" xlink:href=\"#m25700c2321\" y=\"131.038125\"/>\n     <use style=\"fill:#3f3f3f;stroke:#3f3f3f;stroke-linejoin:miter;\" x=\"227.290083\" xlink:href=\"#m25700c2321\" y=\"131.038125\"/>\n     <use style=\"fill:#3f3f3f;stroke:#3f3f3f;stroke-linejoin:miter;\" x=\"168.87686\" xlink:href=\"#m25700c2321\" y=\"131.038125\"/>\n     <use style=\"fill:#3f3f3f;stroke:#3f3f3f;stroke-linejoin:miter;\" x=\"179.63719\" xlink:href=\"#m25700c2321\" y=\"131.038125\"/>\n     <use style=\"fill:#3f3f3f;stroke:#3f3f3f;stroke-linejoin:miter;\" x=\"181.17438\" xlink:href=\"#m25700c2321\" y=\"131.038125\"/>\n     <use style=\"fill:#3f3f3f;stroke:#3f3f3f;stroke-linejoin:miter;\" x=\"175.02562\" xlink:href=\"#m25700c2321\" y=\"131.038125\"/>\n     <use style=\"fill:#3f3f3f;stroke:#3f3f3f;stroke-linejoin:miter;\" x=\"191.934711\" xlink:href=\"#m25700c2321\" y=\"131.038125\"/>\n     <use style=\"fill:#3f3f3f;stroke:#3f3f3f;stroke-linejoin:miter;\" x=\"188.860331\" xlink:href=\"#m25700c2321\" y=\"131.038125\"/>\n     <use style=\"fill:#3f3f3f;stroke:#3f3f3f;stroke-linejoin:miter;\" x=\"168.87686\" xlink:href=\"#m25700c2321\" y=\"131.038125\"/>\n     <use style=\"fill:#3f3f3f;stroke:#3f3f3f;stroke-linejoin:miter;\" x=\"181.17438\" xlink:href=\"#m25700c2321\" y=\"131.038125\"/>\n     <use style=\"fill:#3f3f3f;stroke:#3f3f3f;stroke-linejoin:miter;\" x=\"171.95124\" xlink:href=\"#m25700c2321\" y=\"131.038125\"/>\n     <use style=\"fill:#3f3f3f;stroke:#3f3f3f;stroke-linejoin:miter;\" x=\"181.17438\" xlink:href=\"#m25700c2321\" y=\"131.038125\"/>\n    </g>\n   </g>\n   <g id=\"line2d_15\">\n    <path clip-path=\"url(#p1597bc3142)\" d=\"M 82.794215 44.062125 \nL 82.794215 218.014125 \n\" style=\"fill:none;stroke:#3f3f3f;stroke-linecap:square;stroke-width:1.5;\"/>\n   </g>\n   <g id=\"patch_4\">\n    <path d=\"M 10.7 239.758125 \nL 10.7 22.318125 \n\" style=\"fill:none;stroke:#000000;stroke-linecap:square;stroke-linejoin:miter;stroke-width:0.8;\"/>\n   </g>\n   <g id=\"patch_5\">\n    <path d=\"M 345.5 239.758125 \nL 345.5 22.318125 \n\" style=\"fill:none;stroke:#000000;stroke-linecap:square;stroke-linejoin:miter;stroke-width:0.8;\"/>\n   </g>\n   <g id=\"patch_6\">\n    <path d=\"M 10.7 239.758125 \nL 345.5 239.758125 \n\" style=\"fill:none;stroke:#000000;stroke-linecap:square;stroke-linejoin:miter;stroke-width:0.8;\"/>\n   </g>\n   <g id=\"patch_7\">\n    <path d=\"M 10.7 22.318125 \nL 345.5 22.318125 \n\" style=\"fill:none;stroke:#000000;stroke-linecap:square;stroke-linejoin:miter;stroke-width:0.8;\"/>\n   </g>\n   <g id=\"text_9\">\n    <!-- size -->\n    <defs>\n     <path d=\"M 44.28125 53.078125 \nL 44.28125 44.578125 \nQ 40.484375 46.53125 36.375 47.5 \nQ 32.28125 48.484375 27.875 48.484375 \nQ 21.1875 48.484375 17.84375 46.4375 \nQ 14.5 44.390625 14.5 40.28125 \nQ 14.5 37.15625 16.890625 35.375 \nQ 19.28125 33.59375 26.515625 31.984375 \nL 29.59375 31.296875 \nQ 39.15625 29.25 43.1875 25.515625 \nQ 47.21875 21.78125 47.21875 15.09375 \nQ 47.21875 7.46875 41.1875 3.015625 \nQ 35.15625 -1.421875 24.609375 -1.421875 \nQ 20.21875 -1.421875 15.453125 -0.5625 \nQ 10.6875 0.296875 5.421875 2 \nL 5.421875 11.28125 \nQ 10.40625 8.6875 15.234375 7.390625 \nQ 20.0625 6.109375 24.8125 6.109375 \nQ 31.15625 6.109375 34.5625 8.28125 \nQ 37.984375 10.453125 37.984375 14.40625 \nQ 37.984375 18.0625 35.515625 20.015625 \nQ 33.0625 21.96875 24.703125 23.78125 \nL 21.578125 24.515625 \nQ 13.234375 26.265625 9.515625 29.90625 \nQ 5.8125 33.546875 5.8125 39.890625 \nQ 5.8125 47.609375 11.28125 51.796875 \nQ 16.75 56 26.8125 56 \nQ 31.78125 56 36.171875 55.265625 \nQ 40.578125 54.546875 44.28125 53.078125 \nz\n\" id=\"DejaVuSans-115\"/>\n     <path d=\"M 9.421875 54.6875 \nL 18.40625 54.6875 \nL 18.40625 0 \nL 9.421875 0 \nz\nM 9.421875 75.984375 \nL 18.40625 75.984375 \nL 18.40625 64.59375 \nL 9.421875 64.59375 \nz\n\" id=\"DejaVuSans-105\"/>\n     <path d=\"M 5.515625 54.6875 \nL 48.1875 54.6875 \nL 48.1875 46.484375 \nL 14.40625 7.171875 \nL 48.1875 7.171875 \nL 48.1875 0 \nL 4.296875 0 \nL 4.296875 8.203125 \nL 38.09375 47.515625 \nL 5.515625 47.515625 \nz\n\" id=\"DejaVuSans-122\"/>\n     <path d=\"M 56.203125 29.59375 \nL 56.203125 25.203125 \nL 14.890625 25.203125 \nQ 15.484375 15.921875 20.484375 11.0625 \nQ 25.484375 6.203125 34.421875 6.203125 \nQ 39.59375 6.203125 44.453125 7.46875 \nQ 49.3125 8.734375 54.109375 11.28125 \nL 54.109375 2.78125 \nQ 49.265625 0.734375 44.1875 -0.34375 \nQ 39.109375 -1.421875 33.890625 -1.421875 \nQ 20.796875 -1.421875 13.15625 6.1875 \nQ 5.515625 13.8125 5.515625 26.8125 \nQ 5.515625 40.234375 12.765625 48.109375 \nQ 20.015625 56 32.328125 56 \nQ 43.359375 56 49.78125 48.890625 \nQ 56.203125 41.796875 56.203125 29.59375 \nz\nM 47.21875 32.234375 \nQ 47.125 39.59375 43.09375 43.984375 \nQ 39.0625 48.390625 32.421875 48.390625 \nQ 24.90625 48.390625 20.390625 44.140625 \nQ 15.875 39.890625 15.1875 32.171875 \nz\n\" id=\"DejaVuSans-101\"/>\n    </defs>\n    <g transform=\"translate(166.466563 16.318125)scale(0.12 -0.12)\">\n     <use xlink:href=\"#DejaVuSans-115\"/>\n     <use x=\"52.099609\" xlink:href=\"#DejaVuSans-105\"/>\n     <use x=\"79.882812\" xlink:href=\"#DejaVuSans-122\"/>\n     <use x=\"132.373047\" xlink:href=\"#DejaVuSans-101\"/>\n    </g>\n   </g>\n  </g>\n </g>\n <defs>\n  <clipPath id=\"p1597bc3142\">\n   <rect height=\"217.44\" width=\"334.8\" x=\"10.7\" y=\"22.318125\"/>\n  </clipPath>\n </defs>\n</svg>\n",
      "image/png": "[encoded data removed]"
     },
     "metadata": {
      "needs_background": "light"
     }
    }
   ],
   "source": [
    "for c in df.columns[df.dtypes == 'float']:\n",
    "    plt.title(c)\n",
    "    sns.distplot(df[c].values)\n",
    "    plt.show()\n",
    "\n",
    "for c in df.columns[df.dtypes == 'float']:\n",
    "    plt.title(c)\n",
    "    sns.distplot(np.log(df[c].values + 1))\n",
    "    plt.show()\n",
    "\n",
    "for c in df.columns[df.dtypes == 'float']:\n",
    "    plt.title(c)\n",
    "    sns.boxplot(df[c].values)\n",
    "    plt.show()\n"
   ]
  },
  {
   "cell_type": "code",
   "execution_count": null,
   "metadata": {},
   "outputs": [],
   "source": []
  }
 ],
 "metadata": {
  "kernelspec": {
   "display_name": "Python 3",
   "language": "python",
   "name": "python3"
  },
  "language_info": {
   "codemirror_mode": {
    "name": "ipython",
    "version": 3
   },
   "file_extension": ".py",
   "mimetype": "text/x-python",
   "name": "python",
   "nbconvert_exporter": "python",
   "pygments_lexer": "ipython3",
   "version": "3.7.4-final"
  }
 },
 "nbformat": 4,
 "nbformat_minor": 2
}