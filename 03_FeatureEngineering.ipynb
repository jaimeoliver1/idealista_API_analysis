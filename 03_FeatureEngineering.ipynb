{
 "cells": [
  {
   "cell_type": "code",
   "execution_count": 1,
   "metadata": {},
   "outputs": [],
   "source": [
    "import pandas as pd \n",
    "import numpy as np\n",
    "import ast\n",
    "from datetime import date\n",
    "\n",
    "from sklearn.neighbors import KNeighborsRegressor\n",
    "\n",
    "# Extraction date\n",
    "date=str(date.today())\n",
    "date = '2020-11-03'"
   ]
  },
  {
   "cell_type": "code",
   "execution_count": 2,
   "metadata": {},
   "outputs": [],
   "source": [
    "#####################################\n",
    "# Load data \n",
    "#####################################\n",
    "# Read\n",
    "df = pd.read_csv(f'extractions/extraction_{date}.csv', dtype={'propertyCode':str})\n",
    "\n",
    "#####################################\n",
    "# Transform data \n",
    "#####################################\n",
    "# Filter outliers\n",
    "df = df[df['size'] < 50000]\n",
    "df['floor'] = df['floor'].map(lambda x: '7' if x==x and x.isdigit() and int(x)>7 else x)\n",
    "df['floor'] = df['floor'].map(lambda x: 'st' if x=='-1' else x)\n",
    "df['floor'] = df['floor'].map(lambda x: 'st' if x=='ss' else x)\n",
    "df['floor'] = df['floor'].map(lambda x: 'bj' if x=='en' else x)\n",
    "df = df[~df.propertyType.isin(['studio','chalet'])]\n",
    "df['status'] = df['status'].map(lambda x: 'good' if x=='newdevelopment' else x)\n",
    "\n",
    "# Normalise numeric regressors\n",
    "for c in ['price','size','priceByArea']:\n",
    "    df[c] = np.log(df[c].values + 1)\n",
    "\n",
    "# Create desired variables \n",
    "df['type'] = df['detailedType'].map(lambda x: dict(ast.literal_eval(x))['typology'])\n",
    "\n",
    "df['parkingSpace'] = df['parkingSpace'].fillna('''{'hasParkingSpace': False, 'isParkingSpaceIncludedInPrice': False}''')\n",
    "df['hasParkingSpace'] = df['parkingSpace'].map(lambda x: dict(ast.literal_eval(x))['hasParkingSpace'])\n",
    "df['isParkingSpaceIncludedInPrice'] = df['parkingSpace'].map(lambda x: dict(ast.literal_eval(x))['isParkingSpaceIncludedInPrice'])\n",
    "\n",
    "df['status'] = df['status'].fillna('missing')\n",
    "df['floor'] = df['floor'].fillna(df['floor'].mode()[0])\n",
    "df['hasLift'] = df['hasLift'].fillna(df['hasLift'].mode()[0])\n",
    "\n",
    "# Distance in feature space from nearest neighbours from longitude and latitude\n",
    "neigh = KNeighborsRegressor(n_neighbors=5)\n",
    "neigh.fit(df[['latitude','longitude']].values, df['priceByArea'])\n",
    "df['neighbourhood_estimated_priceByArea'] = neigh.predict(df[['latitude','longitude']].values)\n",
    "\n",
    "# Booleans to categorical\n",
    "df.dtypes\n",
    "cat_cols = df.columns[df.dtypes.isin(['bool','object'])]\n",
    "for c in cat_cols:\n",
    "    df[c] = df[c].astype(str)\n",
    "\n",
    "# Drop unneeded variables\n",
    "drop_cols = ['Unnamed: 0', 'index', 'address', 'country','detailedType','distance','externalReference','latitude','longitude','municipality','province','suggestedTexts','thumbnail','url','operation','parkingSpace','type','district','neighborhood','newDevelopmentFinished', 'newDevelopment', 'hasStaging']\n",
    "drop_cols.append('priceByArea')\n",
    "df.drop(columns=drop_cols, inplace=True, errors='ignore')\n",
    "\n",
    "# Drop duplicate index and keep propertycode as index\n",
    "df.drop_duplicates(inplace=True)\n",
    "df = df.set_index('propertyCode')\n",
    "\n",
    "df.to_parquet(f'transformed/extraction_{date}.parquet')"
   ]
  },
  {
   "cell_type": "code",
   "execution_count": 3,
   "metadata": {},
   "outputs": [
    {
     "output_type": "execute_result",
     "data": {
      "text/plain": [
       "                                    count unique    top freq     mean  \\\n",
       "bathrooms                             842    NaN    NaN  NaN  1.09145   \n",
       "exterior                              842      2   True  438      NaN   \n",
       "floor                                 842      9     bj  228      NaN   \n",
       "has360                                842      2  False  734      NaN   \n",
       "has3DTour                             842      2  False  775      NaN   \n",
       "hasLift                               842      2   True  573      NaN   \n",
       "hasPlan                               842      2   True  527      NaN   \n",
       "hasVideo                              842      2  False  626      NaN   \n",
       "numPhotos                             842    NaN    NaN  NaN  24.1793   \n",
       "price                                 842    NaN    NaN  NaN  12.4321   \n",
       "propertyType                          842      3   flat  791      NaN   \n",
       "rooms                                 842    NaN    NaN  NaN  1.67696   \n",
       "showAddress                           842      2  False  646      NaN   \n",
       "size                                  842    NaN    NaN  NaN  4.03705   \n",
       "status                                842      3   good  636      NaN   \n",
       "topNewDevelopment                     842      1  False  842      NaN   \n",
       "hasParkingSpace                       842      2  False  792      NaN   \n",
       "isParkingSpaceIncludedInPrice         842      2  False  807      NaN   \n",
       "neighbourhood_estimated_priceByArea   842    NaN    NaN  NaN  8.41776   \n",
       "\n",
       "                                          std      min      25%      50%  \\\n",
       "bathrooms                            0.296549        1        1        1   \n",
       "exterior                                  NaN      NaN      NaN      NaN   \n",
       "floor                                     NaN      NaN      NaN      NaN   \n",
       "has360                                    NaN      NaN      NaN      NaN   \n",
       "has3DTour                                 NaN      NaN      NaN      NaN   \n",
       "hasLift                                   NaN      NaN      NaN      NaN   \n",
       "hasPlan                                   NaN      NaN      NaN      NaN   \n",
       "hasVideo                                  NaN      NaN      NaN      NaN   \n",
       "numPhotos                             10.7442        0       17       24   \n",
       "price                                0.264132  11.5522  12.2368  12.4875   \n",
       "propertyType                              NaN      NaN      NaN      NaN   \n",
       "rooms                                0.777304        0        1        2   \n",
       "showAddress                               NaN      NaN      NaN      NaN   \n",
       "size                                 0.326122  3.04452  3.80666  4.04305   \n",
       "status                                    NaN      NaN      NaN      NaN   \n",
       "topNewDevelopment                         NaN      NaN      NaN      NaN   \n",
       "hasParkingSpace                           NaN      NaN      NaN      NaN   \n",
       "isParkingSpaceIncludedInPrice             NaN      NaN      NaN      NaN   \n",
       "neighbourhood_estimated_priceByArea  0.179394  7.81351  8.30263  8.42282   \n",
       "\n",
       "                                         75%      max  \n",
       "bathrooms                                  1        3  \n",
       "exterior                                 NaN      NaN  \n",
       "floor                                    NaN      NaN  \n",
       "has360                                   NaN      NaN  \n",
       "has3DTour                                NaN      NaN  \n",
       "hasLift                                  NaN      NaN  \n",
       "hasPlan                                  NaN      NaN  \n",
       "hasVideo                                 NaN      NaN  \n",
       "numPhotos                                 30       91  \n",
       "price                                12.6519  12.7657  \n",
       "propertyType                             NaN      NaN  \n",
       "rooms                                      2        5  \n",
       "showAddress                              NaN      NaN  \n",
       "size                                 4.26268  5.37528  \n",
       "status                                   NaN      NaN  \n",
       "topNewDevelopment                        NaN      NaN  \n",
       "hasParkingSpace                          NaN      NaN  \n",
       "isParkingSpaceIncludedInPrice            NaN      NaN  \n",
       "neighbourhood_estimated_priceByArea  8.53004  8.94512  "
      ],
      "text/html": "<div>\n<style scoped>\n    .dataframe tbody tr th:only-of-type {\n        vertical-align: middle;\n    }\n\n    .dataframe tbody tr th {\n        vertical-align: top;\n    }\n\n    .dataframe thead th {\n        text-align: right;\n    }\n</style>\n<table border=\"1\" class=\"dataframe\">\n  <thead>\n    <tr style=\"text-align: right;\">\n      <th></th>\n      <th>count</th>\n      <th>unique</th>\n      <th>top</th>\n      <th>freq</th>\n      <th>mean</th>\n      <th>std</th>\n      <th>min</th>\n      <th>25%</th>\n      <th>50%</th>\n      <th>75%</th>\n      <th>max</th>\n    </tr>\n  </thead>\n  <tbody>\n    <tr>\n      <td>bathrooms</td>\n      <td>842</td>\n      <td>NaN</td>\n      <td>NaN</td>\n      <td>NaN</td>\n      <td>1.09145</td>\n      <td>0.296549</td>\n      <td>1</td>\n      <td>1</td>\n      <td>1</td>\n      <td>1</td>\n      <td>3</td>\n    </tr>\n    <tr>\n      <td>exterior</td>\n      <td>842</td>\n      <td>2</td>\n      <td>True</td>\n      <td>438</td>\n      <td>NaN</td>\n      <td>NaN</td>\n      <td>NaN</td>\n      <td>NaN</td>\n      <td>NaN</td>\n      <td>NaN</td>\n      <td>NaN</td>\n    </tr>\n    <tr>\n      <td>floor</td>\n      <td>842</td>\n      <td>9</td>\n      <td>bj</td>\n      <td>228</td>\n      <td>NaN</td>\n      <td>NaN</td>\n      <td>NaN</td>\n      <td>NaN</td>\n      <td>NaN</td>\n      <td>NaN</td>\n      <td>NaN</td>\n    </tr>\n    <tr>\n      <td>has360</td>\n      <td>842</td>\n      <td>2</td>\n      <td>False</td>\n      <td>734</td>\n      <td>NaN</td>\n      <td>NaN</td>\n      <td>NaN</td>\n      <td>NaN</td>\n      <td>NaN</td>\n      <td>NaN</td>\n      <td>NaN</td>\n    </tr>\n    <tr>\n      <td>has3DTour</td>\n      <td>842</td>\n      <td>2</td>\n      <td>False</td>\n      <td>775</td>\n      <td>NaN</td>\n      <td>NaN</td>\n      <td>NaN</td>\n      <td>NaN</td>\n      <td>NaN</td>\n      <td>NaN</td>\n      <td>NaN</td>\n    </tr>\n    <tr>\n      <td>hasLift</td>\n      <td>842</td>\n      <td>2</td>\n      <td>True</td>\n      <td>573</td>\n      <td>NaN</td>\n      <td>NaN</td>\n      <td>NaN</td>\n      <td>NaN</td>\n      <td>NaN</td>\n      <td>NaN</td>\n      <td>NaN</td>\n    </tr>\n    <tr>\n      <td>hasPlan</td>\n      <td>842</td>\n      <td>2</td>\n      <td>True</td>\n      <td>527</td>\n      <td>NaN</td>\n      <td>NaN</td>\n      <td>NaN</td>\n      <td>NaN</td>\n      <td>NaN</td>\n      <td>NaN</td>\n      <td>NaN</td>\n    </tr>\n    <tr>\n      <td>hasVideo</td>\n      <td>842</td>\n      <td>2</td>\n      <td>False</td>\n      <td>626</td>\n      <td>NaN</td>\n      <td>NaN</td>\n      <td>NaN</td>\n      <td>NaN</td>\n      <td>NaN</td>\n      <td>NaN</td>\n      <td>NaN</td>\n    </tr>\n    <tr>\n      <td>numPhotos</td>\n      <td>842</td>\n      <td>NaN</td>\n      <td>NaN</td>\n      <td>NaN</td>\n      <td>24.1793</td>\n      <td>10.7442</td>\n      <td>0</td>\n      <td>17</td>\n      <td>24</td>\n      <td>30</td>\n      <td>91</td>\n    </tr>\n    <tr>\n      <td>price</td>\n      <td>842</td>\n      <td>NaN</td>\n      <td>NaN</td>\n      <td>NaN</td>\n      <td>12.4321</td>\n      <td>0.264132</td>\n      <td>11.5522</td>\n      <td>12.2368</td>\n      <td>12.4875</td>\n      <td>12.6519</td>\n      <td>12.7657</td>\n    </tr>\n    <tr>\n      <td>propertyType</td>\n      <td>842</td>\n      <td>3</td>\n      <td>flat</td>\n      <td>791</td>\n      <td>NaN</td>\n      <td>NaN</td>\n      <td>NaN</td>\n      <td>NaN</td>\n      <td>NaN</td>\n      <td>NaN</td>\n      <td>NaN</td>\n    </tr>\n    <tr>\n      <td>rooms</td>\n      <td>842</td>\n      <td>NaN</td>\n      <td>NaN</td>\n      <td>NaN</td>\n      <td>1.67696</td>\n      <td>0.777304</td>\n      <td>0</td>\n      <td>1</td>\n      <td>2</td>\n      <td>2</td>\n      <td>5</td>\n    </tr>\n    <tr>\n      <td>showAddress</td>\n      <td>842</td>\n      <td>2</td>\n      <td>False</td>\n      <td>646</td>\n      <td>NaN</td>\n      <td>NaN</td>\n      <td>NaN</td>\n      <td>NaN</td>\n      <td>NaN</td>\n      <td>NaN</td>\n      <td>NaN</td>\n    </tr>\n    <tr>\n      <td>size</td>\n      <td>842</td>\n      <td>NaN</td>\n      <td>NaN</td>\n      <td>NaN</td>\n      <td>4.03705</td>\n      <td>0.326122</td>\n      <td>3.04452</td>\n      <td>3.80666</td>\n      <td>4.04305</td>\n      <td>4.26268</td>\n      <td>5.37528</td>\n    </tr>\n    <tr>\n      <td>status</td>\n      <td>842</td>\n      <td>3</td>\n      <td>good</td>\n      <td>636</td>\n      <td>NaN</td>\n      <td>NaN</td>\n      <td>NaN</td>\n      <td>NaN</td>\n      <td>NaN</td>\n      <td>NaN</td>\n      <td>NaN</td>\n    </tr>\n    <tr>\n      <td>topNewDevelopment</td>\n      <td>842</td>\n      <td>1</td>\n      <td>False</td>\n      <td>842</td>\n      <td>NaN</td>\n      <td>NaN</td>\n      <td>NaN</td>\n      <td>NaN</td>\n      <td>NaN</td>\n      <td>NaN</td>\n      <td>NaN</td>\n    </tr>\n    <tr>\n      <td>hasParkingSpace</td>\n      <td>842</td>\n      <td>2</td>\n      <td>False</td>\n      <td>792</td>\n      <td>NaN</td>\n      <td>NaN</td>\n      <td>NaN</td>\n      <td>NaN</td>\n      <td>NaN</td>\n      <td>NaN</td>\n      <td>NaN</td>\n    </tr>\n    <tr>\n      <td>isParkingSpaceIncludedInPrice</td>\n      <td>842</td>\n      <td>2</td>\n      <td>False</td>\n      <td>807</td>\n      <td>NaN</td>\n      <td>NaN</td>\n      <td>NaN</td>\n      <td>NaN</td>\n      <td>NaN</td>\n      <td>NaN</td>\n      <td>NaN</td>\n    </tr>\n    <tr>\n      <td>neighbourhood_estimated_priceByArea</td>\n      <td>842</td>\n      <td>NaN</td>\n      <td>NaN</td>\n      <td>NaN</td>\n      <td>8.41776</td>\n      <td>0.179394</td>\n      <td>7.81351</td>\n      <td>8.30263</td>\n      <td>8.42282</td>\n      <td>8.53004</td>\n      <td>8.94512</td>\n    </tr>\n  </tbody>\n</table>\n</div>"
     },
     "metadata": {},
     "execution_count": 3
    }
   ],
   "source": [
    "df.describe(include='all').T"
   ]
  },
  {
   "cell_type": "code",
   "execution_count": 4,
   "metadata": {},
   "outputs": [
    {
     "output_type": "execute_result",
     "data": {
      "text/plain": [
       "bathrooms                              0\n",
       "exterior                               0\n",
       "floor                                  0\n",
       "has360                                 0\n",
       "has3DTour                              0\n",
       "hasLift                                0\n",
       "hasPlan                                0\n",
       "hasVideo                               0\n",
       "numPhotos                              0\n",
       "price                                  0\n",
       "propertyType                           0\n",
       "rooms                                  0\n",
       "showAddress                            0\n",
       "size                                   0\n",
       "status                                 0\n",
       "topNewDevelopment                      0\n",
       "hasParkingSpace                        0\n",
       "isParkingSpaceIncludedInPrice          0\n",
       "neighbourhood_estimated_priceByArea    0\n",
       "dtype: int64"
      ]
     },
     "metadata": {},
     "execution_count": 4
    }
   ],
   "source": [
    "(df == 'True').sum()"
   ]
  }
 ],
 "metadata": {
  "kernelspec": {
   "display_name": "Python 3",
   "language": "python",
   "name": "python3"
  },
  "language_info": {
   "codemirror_mode": {
    "name": "ipython",
    "version": 3
   },
   "file_extension": ".py",
   "mimetype": "text/x-python",
   "name": "python",
   "nbconvert_exporter": "python",
   "pygments_lexer": "ipython3",
   "version": "3.7.4-final"
  }
 },
 "nbformat": 4,
 "nbformat_minor": 4
}